{
 "cells": [
  {
   "cell_type": "markdown",
   "id": "8996b15a",
   "metadata": {},
   "source": [
    "<h1 align=\"center\">Mobile Money Financial Inclusion Analyzer</h1>\n"
   ]
  },
  {
   "cell_type": "markdown",
   "id": "ceed5096",
   "metadata": {},
   "source": [
    "### 1. Importing Libraries"
   ]
  },
  {
   "cell_type": "code",
   "execution_count": 24,
   "id": "703f3518",
   "metadata": {},
   "outputs": [],
   "source": [
    "import pandas as pd\n",
    "import matplotlib.pyplot as plt\n",
    "from sklearn.ensemble import RandomForestRegressor\n",
    "from xgboost import XGBRegressor\n",
    "from sklearn.model_selection import train_test_split\n",
    "import numpy as np\n",
    "from sklearn.metrics import mean_squared_error, r2_score"
   ]
  },
  {
   "cell_type": "markdown",
   "id": "f49ddae2",
   "metadata": {},
   "source": [
    "### 2. Reading the Mobile Money Financial Inclusion Dataset"
   ]
  },
  {
   "cell_type": "code",
   "execution_count": 25,
   "id": "3b98a4a6",
   "metadata": {},
   "outputs": [
    {
     "data": {
      "application/vnd.microsoft.datawrangler.viewer.v0+json": {
       "columns": [
        {
         "name": "index",
         "rawType": "int64",
         "type": "integer"
        },
        {
         "name": "Measure",
         "rawType": "object",
         "type": "string"
        },
        {
         "name": "Geo_view",
         "rawType": "object",
         "type": "string"
        },
        {
         "name": "Geo_name",
         "rawType": "object",
         "type": "string"
        },
        {
         "name": "Attribute",
         "rawType": "object",
         "type": "string"
        },
        {
         "name": "Unit",
         "rawType": "object",
         "type": "string"
        },
        {
         "name": "Metric",
         "rawType": "object",
         "type": "string"
        },
        {
         "name": "01/03/2001",
         "rawType": "object",
         "type": "unknown"
        },
        {
         "name": "01/06/2001",
         "rawType": "object",
         "type": "unknown"
        },
        {
         "name": "01/09/2001",
         "rawType": "object",
         "type": "unknown"
        },
        {
         "name": "01/12/2001",
         "rawType": "object",
         "type": "string"
        },
        {
         "name": "01/03/2002",
         "rawType": "object",
         "type": "unknown"
        },
        {
         "name": "01/06/2002",
         "rawType": "object",
         "type": "unknown"
        },
        {
         "name": "01/09/2002",
         "rawType": "object",
         "type": "unknown"
        },
        {
         "name": "01/12/2002",
         "rawType": "object",
         "type": "string"
        },
        {
         "name": "01/03/2003",
         "rawType": "object",
         "type": "unknown"
        },
        {
         "name": "01/06/2003",
         "rawType": "object",
         "type": "unknown"
        },
        {
         "name": "01/09/2003",
         "rawType": "object",
         "type": "unknown"
        },
        {
         "name": "01/12/2003",
         "rawType": "object",
         "type": "string"
        },
        {
         "name": "01/03/2004",
         "rawType": "object",
         "type": "unknown"
        },
        {
         "name": "01/06/2004",
         "rawType": "object",
         "type": "unknown"
        },
        {
         "name": "01/09/2004",
         "rawType": "object",
         "type": "unknown"
        },
        {
         "name": "01/12/2004",
         "rawType": "object",
         "type": "string"
        },
        {
         "name": "01/03/2005",
         "rawType": "object",
         "type": "unknown"
        },
        {
         "name": "01/06/2005",
         "rawType": "object",
         "type": "unknown"
        },
        {
         "name": "01/09/2005",
         "rawType": "object",
         "type": "unknown"
        },
        {
         "name": "01/12/2005",
         "rawType": "object",
         "type": "string"
        },
        {
         "name": "01/03/2006",
         "rawType": "object",
         "type": "unknown"
        },
        {
         "name": "01/06/2006",
         "rawType": "object",
         "type": "unknown"
        },
        {
         "name": "01/09/2006",
         "rawType": "object",
         "type": "unknown"
        },
        {
         "name": "01/12/2006",
         "rawType": "object",
         "type": "string"
        },
        {
         "name": "01/03/2007",
         "rawType": "object",
         "type": "unknown"
        },
        {
         "name": "01/06/2007",
         "rawType": "object",
         "type": "unknown"
        },
        {
         "name": "01/09/2007",
         "rawType": "object",
         "type": "unknown"
        },
        {
         "name": "01/12/2007",
         "rawType": "object",
         "type": "string"
        },
        {
         "name": "01/03/2008",
         "rawType": "object",
         "type": "unknown"
        },
        {
         "name": "01/06/2008",
         "rawType": "object",
         "type": "unknown"
        },
        {
         "name": "01/09/2008",
         "rawType": "object",
         "type": "unknown"
        },
        {
         "name": "01/12/2008",
         "rawType": "object",
         "type": "string"
        },
        {
         "name": "01/03/2009",
         "rawType": "object",
         "type": "unknown"
        },
        {
         "name": "01/06/2009",
         "rawType": "object",
         "type": "unknown"
        },
        {
         "name": "01/09/2009",
         "rawType": "object",
         "type": "unknown"
        },
        {
         "name": "01/12/2009",
         "rawType": "object",
         "type": "string"
        },
        {
         "name": "01/03/2010",
         "rawType": "object",
         "type": "unknown"
        },
        {
         "name": "01/06/2010",
         "rawType": "object",
         "type": "unknown"
        },
        {
         "name": "01/09/2010",
         "rawType": "object",
         "type": "unknown"
        },
        {
         "name": "01/12/2010",
         "rawType": "object",
         "type": "string"
        },
        {
         "name": "01/03/2011",
         "rawType": "object",
         "type": "unknown"
        },
        {
         "name": "01/06/2011",
         "rawType": "object",
         "type": "unknown"
        },
        {
         "name": "01/09/2011",
         "rawType": "object",
         "type": "unknown"
        },
        {
         "name": "01/12/2011",
         "rawType": "object",
         "type": "string"
        },
        {
         "name": "01/03/2012",
         "rawType": "object",
         "type": "unknown"
        },
        {
         "name": "01/06/2012",
         "rawType": "object",
         "type": "unknown"
        },
        {
         "name": "01/09/2012",
         "rawType": "object",
         "type": "unknown"
        },
        {
         "name": "01/12/2012",
         "rawType": "object",
         "type": "string"
        },
        {
         "name": "01/03/2013",
         "rawType": "object",
         "type": "unknown"
        },
        {
         "name": "01/06/2013",
         "rawType": "object",
         "type": "unknown"
        },
        {
         "name": "01/09/2013",
         "rawType": "object",
         "type": "unknown"
        },
        {
         "name": "01/12/2013",
         "rawType": "object",
         "type": "string"
        },
        {
         "name": "01/03/2014",
         "rawType": "object",
         "type": "unknown"
        },
        {
         "name": "01/06/2014",
         "rawType": "object",
         "type": "unknown"
        },
        {
         "name": "01/09/2014",
         "rawType": "object",
         "type": "unknown"
        },
        {
         "name": "01/12/2014",
         "rawType": "object",
         "type": "string"
        },
        {
         "name": "01/03/2015",
         "rawType": "object",
         "type": "unknown"
        },
        {
         "name": "01/06/2015",
         "rawType": "object",
         "type": "unknown"
        },
        {
         "name": "01/09/2015",
         "rawType": "object",
         "type": "unknown"
        },
        {
         "name": "01/12/2015",
         "rawType": "object",
         "type": "string"
        },
        {
         "name": "01/03/2016",
         "rawType": "object",
         "type": "unknown"
        },
        {
         "name": "01/06/2016",
         "rawType": "object",
         "type": "unknown"
        },
        {
         "name": "01/09/2016",
         "rawType": "object",
         "type": "unknown"
        },
        {
         "name": "01/12/2016",
         "rawType": "object",
         "type": "string"
        },
        {
         "name": "01/03/2017",
         "rawType": "object",
         "type": "unknown"
        },
        {
         "name": "01/06/2017",
         "rawType": "object",
         "type": "unknown"
        },
        {
         "name": "01/09/2017",
         "rawType": "object",
         "type": "unknown"
        },
        {
         "name": "01/12/2017",
         "rawType": "object",
         "type": "string"
        },
        {
         "name": "01/03/2018",
         "rawType": "object",
         "type": "unknown"
        },
        {
         "name": "01/06/2018",
         "rawType": "object",
         "type": "unknown"
        },
        {
         "name": "01/09/2018",
         "rawType": "object",
         "type": "unknown"
        },
        {
         "name": "01/12/2018",
         "rawType": "object",
         "type": "string"
        },
        {
         "name": "01/03/2019",
         "rawType": "object",
         "type": "unknown"
        },
        {
         "name": "01/06/2019",
         "rawType": "object",
         "type": "unknown"
        },
        {
         "name": "01/09/2019",
         "rawType": "object",
         "type": "unknown"
        },
        {
         "name": "01/12/2019",
         "rawType": "object",
         "type": "string"
        },
        {
         "name": "01/03/2020",
         "rawType": "object",
         "type": "unknown"
        },
        {
         "name": "01/06/2020",
         "rawType": "object",
         "type": "unknown"
        },
        {
         "name": "01/09/2020",
         "rawType": "object",
         "type": "unknown"
        },
        {
         "name": "01/12/2020",
         "rawType": "object",
         "type": "string"
        },
        {
         "name": "01/03/2021",
         "rawType": "object",
         "type": "unknown"
        },
        {
         "name": "01/06/2021",
         "rawType": "object",
         "type": "unknown"
        },
        {
         "name": "01/09/2021",
         "rawType": "object",
         "type": "unknown"
        },
        {
         "name": "01/12/2021",
         "rawType": "object",
         "type": "string"
        },
        {
         "name": "01/03/2022",
         "rawType": "object",
         "type": "unknown"
        },
        {
         "name": "01/06/2022",
         "rawType": "object",
         "type": "unknown"
        },
        {
         "name": "01/09/2022",
         "rawType": "object",
         "type": "unknown"
        },
        {
         "name": "01/12/2022",
         "rawType": "object",
         "type": "string"
        },
        {
         "name": "01/03/2023",
         "rawType": "object",
         "type": "unknown"
        },
        {
         "name": "01/06/2023",
         "rawType": "object",
         "type": "unknown"
        },
        {
         "name": "01/09/2023",
         "rawType": "object",
         "type": "unknown"
        },
        {
         "name": "01/12/2023",
         "rawType": "object",
         "type": "string"
        },
        {
         "name": "01/03/2024",
         "rawType": "object",
         "type": "unknown"
        },
        {
         "name": "01/06/2024",
         "rawType": "object",
         "type": "unknown"
        },
        {
         "name": "01/09/2024",
         "rawType": "object",
         "type": "unknown"
        },
        {
         "name": "01/12/2024",
         "rawType": "object",
         "type": "string"
        },
        {
         "name": "Unnamed: 102",
         "rawType": "float64",
         "type": "float"
        }
       ],
       "ref": "fa73b3e7-f799-45d3-84cb-bb4388000950",
       "rows": [
        [
         "0",
         "Active Services",
         "Region",
         "East Asia and Pacific",
         "Active Services",
         "Services",
         "Mobile Money Services",
         null,
         null,
         null,
         "1",
         null,
         null,
         null,
         "1",
         null,
         null,
         null,
         "1",
         null,
         null,
         null,
         "3",
         null,
         null,
         null,
         "4",
         null,
         null,
         null,
         "4",
         null,
         null,
         null,
         "6",
         null,
         null,
         null,
         "6",
         null,
         null,
         null,
         "8",
         null,
         null,
         null,
         "13",
         null,
         null,
         null,
         "17",
         null,
         null,
         null,
         "20",
         null,
         null,
         null,
         "28",
         null,
         null,
         null,
         "30",
         null,
         null,
         null,
         "38",
         null,
         null,
         null,
         "42",
         null,
         null,
         null,
         "45",
         null,
         null,
         null,
         "52",
         null,
         null,
         null,
         "53",
         null,
         null,
         null,
         "49",
         null,
         null,
         null,
         "51",
         null,
         null,
         null,
         "51",
         null,
         null,
         null,
         "52",
         null,
         null,
         null,
         "64",
         null
        ],
        [
         "1",
         "Active Services",
         "Region",
         "Europe and Central Asia",
         "Active Services",
         "Services",
         "Mobile Money Services",
         null,
         null,
         null,
         "0",
         null,
         null,
         null,
         "1",
         null,
         null,
         null,
         "1",
         null,
         null,
         null,
         "1",
         null,
         null,
         null,
         "1",
         null,
         null,
         null,
         "1",
         null,
         null,
         null,
         "1",
         null,
         null,
         null,
         "1",
         null,
         null,
         null,
         "1",
         null,
         null,
         null,
         "2",
         null,
         null,
         null,
         "3",
         null,
         null,
         null,
         "3",
         null,
         null,
         null,
         "5",
         null,
         null,
         null,
         "7",
         null,
         null,
         null,
         "9",
         null,
         null,
         null,
         "9",
         null,
         null,
         null,
         "7",
         null,
         null,
         null,
         "7",
         null,
         null,
         null,
         "7",
         null,
         null,
         null,
         "7",
         null,
         null,
         null,
         "7",
         null,
         null,
         null,
         "7",
         null,
         null,
         null,
         "7",
         null,
         null,
         null,
         "7",
         null
        ],
        [
         "2",
         "Active Services",
         "Region",
         "Latin America and the Caribbean",
         "Active Services",
         "Services",
         "Mobile Money Services",
         null,
         null,
         null,
         "0",
         null,
         null,
         null,
         "0",
         null,
         null,
         null,
         "0",
         null,
         null,
         null,
         "0",
         null,
         null,
         null,
         "0",
         null,
         null,
         null,
         "0",
         null,
         null,
         null,
         "0",
         null,
         null,
         null,
         "0",
         null,
         null,
         null,
         "0",
         null,
         null,
         null,
         "4",
         null,
         null,
         null,
         "11",
         null,
         null,
         null,
         "16",
         null,
         null,
         null,
         "28",
         null,
         null,
         null,
         "32",
         null,
         null,
         null,
         "30",
         null,
         null,
         null,
         "32",
         null,
         null,
         null,
         "32",
         null,
         null,
         null,
         "29",
         null,
         null,
         null,
         "28",
         null,
         null,
         null,
         "29",
         null,
         null,
         null,
         "30",
         null,
         null,
         null,
         "30",
         null,
         null,
         null,
         "29",
         null,
         null,
         null,
         "31",
         null
        ],
        [
         "3",
         "Active Services",
         "Region",
         "Middle East and North Africa",
         "Active Services",
         "Services",
         "Mobile Money Services",
         null,
         null,
         null,
         "0",
         null,
         null,
         null,
         "0",
         null,
         null,
         null,
         "0",
         null,
         null,
         null,
         "0",
         null,
         null,
         null,
         "0",
         null,
         null,
         null,
         "1",
         null,
         null,
         null,
         "1",
         null,
         null,
         null,
         "1",
         null,
         null,
         null,
         "2",
         null,
         null,
         null,
         "4",
         null,
         null,
         null,
         "6",
         null,
         null,
         null,
         "9",
         null,
         null,
         null,
         "14",
         null,
         null,
         null,
         "15",
         null,
         null,
         null,
         "17",
         null,
         null,
         null,
         "19",
         null,
         null,
         null,
         "19",
         null,
         null,
         null,
         "21",
         null,
         null,
         null,
         "23",
         null,
         null,
         null,
         "31",
         null,
         null,
         null,
         "30",
         null,
         null,
         null,
         "31",
         null,
         null,
         null,
         "30",
         null,
         null,
         null,
         "32",
         null
        ],
        [
         "4",
         "Active Services",
         "Region",
         "South Asia",
         "Active Services",
         "Services",
         "Mobile Money Services",
         null,
         null,
         null,
         "0",
         null,
         null,
         null,
         "0",
         null,
         null,
         null,
         "0",
         null,
         null,
         null,
         "0",
         null,
         null,
         null,
         "0",
         null,
         null,
         null,
         "1",
         null,
         null,
         null,
         "2",
         null,
         null,
         null,
         "3",
         null,
         null,
         null,
         "6",
         null,
         null,
         null,
         "10",
         null,
         null,
         null,
         "15",
         null,
         null,
         null,
         "29",
         null,
         null,
         null,
         "38",
         null,
         null,
         null,
         "40",
         null,
         null,
         null,
         "41",
         null,
         null,
         null,
         "40",
         null,
         null,
         null,
         "36",
         null,
         null,
         null,
         "38",
         null,
         null,
         null,
         "33",
         null,
         null,
         null,
         "35",
         null,
         null,
         null,
         "35",
         null,
         null,
         null,
         "35",
         null,
         null,
         null,
         "36",
         null,
         null,
         null,
         "37",
         null
        ]
       ],
       "shape": {
        "columns": 103,
        "rows": 5
       }
      },
      "text/html": [
       "<div>\n",
       "<style scoped>\n",
       "    .dataframe tbody tr th:only-of-type {\n",
       "        vertical-align: middle;\n",
       "    }\n",
       "\n",
       "    .dataframe tbody tr th {\n",
       "        vertical-align: top;\n",
       "    }\n",
       "\n",
       "    .dataframe thead th {\n",
       "        text-align: right;\n",
       "    }\n",
       "</style>\n",
       "<table border=\"1\" class=\"dataframe\">\n",
       "  <thead>\n",
       "    <tr style=\"text-align: right;\">\n",
       "      <th></th>\n",
       "      <th>Measure</th>\n",
       "      <th>Geo_view</th>\n",
       "      <th>Geo_name</th>\n",
       "      <th>Attribute</th>\n",
       "      <th>Unit</th>\n",
       "      <th>Metric</th>\n",
       "      <th>01/03/2001</th>\n",
       "      <th>01/06/2001</th>\n",
       "      <th>01/09/2001</th>\n",
       "      <th>01/12/2001</th>\n",
       "      <th>...</th>\n",
       "      <th>01/12/2022</th>\n",
       "      <th>01/03/2023</th>\n",
       "      <th>01/06/2023</th>\n",
       "      <th>01/09/2023</th>\n",
       "      <th>01/12/2023</th>\n",
       "      <th>01/03/2024</th>\n",
       "      <th>01/06/2024</th>\n",
       "      <th>01/09/2024</th>\n",
       "      <th>01/12/2024</th>\n",
       "      <th>Unnamed: 102</th>\n",
       "    </tr>\n",
       "  </thead>\n",
       "  <tbody>\n",
       "    <tr>\n",
       "      <th>0</th>\n",
       "      <td>Active Services</td>\n",
       "      <td>Region</td>\n",
       "      <td>East Asia and Pacific</td>\n",
       "      <td>Active Services</td>\n",
       "      <td>Services</td>\n",
       "      <td>Mobile Money Services</td>\n",
       "      <td>NaN</td>\n",
       "      <td>NaN</td>\n",
       "      <td>NaN</td>\n",
       "      <td>1</td>\n",
       "      <td>...</td>\n",
       "      <td>51</td>\n",
       "      <td>NaN</td>\n",
       "      <td>NaN</td>\n",
       "      <td>NaN</td>\n",
       "      <td>52</td>\n",
       "      <td>NaN</td>\n",
       "      <td>NaN</td>\n",
       "      <td>NaN</td>\n",
       "      <td>64</td>\n",
       "      <td>NaN</td>\n",
       "    </tr>\n",
       "    <tr>\n",
       "      <th>1</th>\n",
       "      <td>Active Services</td>\n",
       "      <td>Region</td>\n",
       "      <td>Europe and Central Asia</td>\n",
       "      <td>Active Services</td>\n",
       "      <td>Services</td>\n",
       "      <td>Mobile Money Services</td>\n",
       "      <td>NaN</td>\n",
       "      <td>NaN</td>\n",
       "      <td>NaN</td>\n",
       "      <td>0</td>\n",
       "      <td>...</td>\n",
       "      <td>7</td>\n",
       "      <td>NaN</td>\n",
       "      <td>NaN</td>\n",
       "      <td>NaN</td>\n",
       "      <td>7</td>\n",
       "      <td>NaN</td>\n",
       "      <td>NaN</td>\n",
       "      <td>NaN</td>\n",
       "      <td>7</td>\n",
       "      <td>NaN</td>\n",
       "    </tr>\n",
       "    <tr>\n",
       "      <th>2</th>\n",
       "      <td>Active Services</td>\n",
       "      <td>Region</td>\n",
       "      <td>Latin America and the Caribbean</td>\n",
       "      <td>Active Services</td>\n",
       "      <td>Services</td>\n",
       "      <td>Mobile Money Services</td>\n",
       "      <td>NaN</td>\n",
       "      <td>NaN</td>\n",
       "      <td>NaN</td>\n",
       "      <td>0</td>\n",
       "      <td>...</td>\n",
       "      <td>30</td>\n",
       "      <td>NaN</td>\n",
       "      <td>NaN</td>\n",
       "      <td>NaN</td>\n",
       "      <td>29</td>\n",
       "      <td>NaN</td>\n",
       "      <td>NaN</td>\n",
       "      <td>NaN</td>\n",
       "      <td>31</td>\n",
       "      <td>NaN</td>\n",
       "    </tr>\n",
       "    <tr>\n",
       "      <th>3</th>\n",
       "      <td>Active Services</td>\n",
       "      <td>Region</td>\n",
       "      <td>Middle East and North Africa</td>\n",
       "      <td>Active Services</td>\n",
       "      <td>Services</td>\n",
       "      <td>Mobile Money Services</td>\n",
       "      <td>NaN</td>\n",
       "      <td>NaN</td>\n",
       "      <td>NaN</td>\n",
       "      <td>0</td>\n",
       "      <td>...</td>\n",
       "      <td>31</td>\n",
       "      <td>NaN</td>\n",
       "      <td>NaN</td>\n",
       "      <td>NaN</td>\n",
       "      <td>30</td>\n",
       "      <td>NaN</td>\n",
       "      <td>NaN</td>\n",
       "      <td>NaN</td>\n",
       "      <td>32</td>\n",
       "      <td>NaN</td>\n",
       "    </tr>\n",
       "    <tr>\n",
       "      <th>4</th>\n",
       "      <td>Active Services</td>\n",
       "      <td>Region</td>\n",
       "      <td>South Asia</td>\n",
       "      <td>Active Services</td>\n",
       "      <td>Services</td>\n",
       "      <td>Mobile Money Services</td>\n",
       "      <td>NaN</td>\n",
       "      <td>NaN</td>\n",
       "      <td>NaN</td>\n",
       "      <td>0</td>\n",
       "      <td>...</td>\n",
       "      <td>35</td>\n",
       "      <td>NaN</td>\n",
       "      <td>NaN</td>\n",
       "      <td>NaN</td>\n",
       "      <td>36</td>\n",
       "      <td>NaN</td>\n",
       "      <td>NaN</td>\n",
       "      <td>NaN</td>\n",
       "      <td>37</td>\n",
       "      <td>NaN</td>\n",
       "    </tr>\n",
       "  </tbody>\n",
       "</table>\n",
       "<p>5 rows × 103 columns</p>\n",
       "</div>"
      ],
      "text/plain": [
       "           Measure Geo_view                         Geo_name        Attribute  \\\n",
       "0  Active Services   Region            East Asia and Pacific  Active Services   \n",
       "1  Active Services   Region          Europe and Central Asia  Active Services   \n",
       "2  Active Services   Region  Latin America and the Caribbean  Active Services   \n",
       "3  Active Services   Region     Middle East and North Africa  Active Services   \n",
       "4  Active Services   Region                       South Asia  Active Services   \n",
       "\n",
       "       Unit                 Metric 01/03/2001 01/06/2001 01/09/2001  \\\n",
       "0  Services  Mobile Money Services        NaN        NaN        NaN   \n",
       "1  Services  Mobile Money Services        NaN        NaN        NaN   \n",
       "2  Services  Mobile Money Services        NaN        NaN        NaN   \n",
       "3  Services  Mobile Money Services        NaN        NaN        NaN   \n",
       "4  Services  Mobile Money Services        NaN        NaN        NaN   \n",
       "\n",
       "  01/12/2001  ... 01/12/2022 01/03/2023 01/06/2023 01/09/2023 01/12/2023  \\\n",
       "0          1  ...         51        NaN        NaN        NaN         52   \n",
       "1          0  ...          7        NaN        NaN        NaN          7   \n",
       "2          0  ...         30        NaN        NaN        NaN         29   \n",
       "3          0  ...         31        NaN        NaN        NaN         30   \n",
       "4          0  ...         35        NaN        NaN        NaN         36   \n",
       "\n",
       "  01/03/2024 01/06/2024 01/09/2024 01/12/2024 Unnamed: 102  \n",
       "0        NaN        NaN        NaN         64          NaN  \n",
       "1        NaN        NaN        NaN          7          NaN  \n",
       "2        NaN        NaN        NaN         31          NaN  \n",
       "3        NaN        NaN        NaN         32          NaN  \n",
       "4        NaN        NaN        NaN         37          NaN  \n",
       "\n",
       "[5 rows x 103 columns]"
      ]
     },
     "metadata": {},
     "output_type": "display_data"
    }
   ],
   "source": [
    "df = pd.read_csv('C:/Users/USER/Group-10-Mobile-Money-Financial-Inclusion-Analyzer/data/GLOBAL MOBILE MONEY DATASET.csv')\n",
    "display(df.head())"
   ]
  },
  {
   "cell_type": "markdown",
   "id": "80f8f6b8",
   "metadata": {},
   "source": [
    "### 3. Visualizing Mobile Money Transactional Value Trends in Eastern Africa (2001–2024)"
   ]
  },
  {
   "cell_type": "markdown",
   "id": "6c9a85b2",
   "metadata": {},
   "source": [
    "#### 3.1 Loading Transactional Value Data for Analysis"
   ]
  },
  {
   "cell_type": "code",
   "execution_count": 26,
   "id": "914a64d4",
   "metadata": {},
   "outputs": [],
   "source": [
    "# Load the transactional value data\n",
    "df_transactional_value = pd.read_csv('C:/Users/USER/Group-10-Mobile-Money-Financial-Inclusion-Analyzer/data/GLOBAL MOBILE MONEY DATASET.csv')"
   ]
  },
  {
   "cell_type": "markdown",
   "id": "cc1b700d",
   "metadata": {},
   "source": [
    "\n",
    "#### 3.2 Extracting Transactional Value Data for Eastern Africa"
   ]
  },
  {
   "cell_type": "code",
   "execution_count": 27,
   "id": "046de26a",
   "metadata": {},
   "outputs": [],
   "source": [
    "# Extract the row for Eastern Africa from df_transactional_value\n",
    "eastern_africa_row = df_transactional_value[\n",
    "    (df_transactional_value['Geo_name'] == 'Eastern Africa') &\n",
    "    (df_transactional_value['Metric'] == 'Mobile Money transactional value')\n",
    "]"
   ]
  },
  {
   "cell_type": "markdown",
   "id": "9f20110b",
   "metadata": {},
   "source": [
    "#### 3.3 Cleaning and Converting Transactional Value Data for Time Series Analysis"
   ]
  },
  {
   "cell_type": "code",
   "execution_count": 28,
   "id": "76527e42",
   "metadata": {},
   "outputs": [],
   "source": [
    "# Select only the columns that are dates\n",
    "date_columns = [col for col in eastern_africa_row.columns if '/' in col]\n",
    "\n",
    "# Get the values and convert to numeric with improved cleaning\n",
    "values_raw = eastern_africa_row[date_columns].iloc[0]\n",
    "values_cleaned = (\n",
    "    values_raw.astype(str)  # Convert to string first\n",
    "    .str.strip()  # Remove leading/trailing whitespace\n",
    "    .replace('', None)  # Replace empty strings with None\n",
    "    .replace('-', None)  # Replace dash with None\n",
    "    .replace('nan', None)  # Replace 'nan' strings with None\n",
    "    .str.replace(',', '', regex=False)  # Remove commas from numbers\n",
    ")\n",
    "\n",
    "# Convert to numeric, handling any remaining non-numeric values\n",
    "values = pd.to_numeric(values_cleaned, errors='coerce')"
   ]
  },
  {
   "cell_type": "markdown",
   "id": "6e69df83",
   "metadata": {},
   "source": [
    "#### 3.4 Removing NaN Values and Corresponding Date Columns for Plotting"
   ]
  },
  {
   "cell_type": "code",
   "execution_count": 29,
   "id": "8194b122",
   "metadata": {},
   "outputs": [],
   "source": [
    "# Remove any NaN values and corresponding date columns for plotting\n",
    "valid_mask = ~values.isna()\n",
    "values_plot = values[valid_mask]\n",
    "dates_plot = [date_columns[i] for i in range(len(date_columns)) if valid_mask.iloc[i]]"
   ]
  },
  {
   "cell_type": "markdown",
   "id": "1e28f693",
   "metadata": {},
   "source": [
    "#### 3.5 Plotting Mobile Money Transactional Value Trends in Eastern Africa (2001–2024)"
   ]
  },
  {
   "cell_type": "code",
   "execution_count": 30,
   "id": "fc3cc16a",
   "metadata": {},
   "outputs": [
    {
     "data": {
      "image/png": "[encoded data removed]",
      "text/plain": [
       "<Figure size 1400x600 with 1 Axes>"
      ]
     },
     "metadata": {},
     "output_type": "display_data"
    }
   ],
   "source": [
    "# Plot\n",
    "plt.figure(figsize=(14, 6))\n",
    "plt.plot(dates_plot, values_plot, marker='o')\n",
    "plt.title('Mobile Money Transactional Value in Eastern Africa From 2001 to 2024')\n",
    "plt.xlabel('Year')\n",
    "plt.ylabel('Transactional Value (USD)')\n",
    "plt.xticks(rotation=45)\n",
    "plt.tight_layout()\n",
    "plt.show()"
   ]
  },
  {
   "cell_type": "markdown",
   "id": "357a402a",
   "metadata": {},
   "source": [
    "#### 3.6 Preparing Data and Building Time Series Prediction Models (Random Forest & XGBoost)"
   ]
  },
  {
   "cell_type": "code",
   "execution_count": 31,
   "id": "818c5a01",
   "metadata": {},
   "outputs": [
    {
     "name": "stdout",
     "output_type": "stream",
     "text": [
      "Random Forest Predictions for next 5 years:\n",
      "2: 118738846.48\n",
      "\n",
      "XGBoost Predictions for next 5 years:\n",
      "2: 119044552.00\n"
     ]
    }
   ],
   "source": [
    "\n",
    "# Prepare the data for time series prediction\n",
    "# Convert date columns to years (as integers)\n",
    "years = np.array([int(date.split('/')[0]) for date in dates_plot]).reshape(-1, 1)\n",
    "values_arr = values_plot.values\n",
    "\n",
    "# Predict for the next 5 years\n",
    "future_years = np.arange(years[-1][0] + 1, years[-1][0] + 6).reshape(-1, 1)\n",
    "\n",
    "# Split data for training\n",
    "X_train, X_test, y_train, y_test = train_test_split(years, values_arr, test_size=0.2, random_state=42)\n",
    "\n",
    "# Random Forest\n",
    "rf = RandomForestRegressor(n_estimators=100, random_state=42)\n",
    "rf.fit(X_train, y_train)\n",
    "rf_pred = rf.predict(np.vstack([years, future_years]))\n",
    "# Print predictions for the next 5 years\n",
    "print(\"Random Forest Predictions for next 5 years:\")\n",
    "for year, pred in zip(future_years.flatten(), rf_pred[-1:]):\n",
    "    print(f\"{year}: {pred:.2f}\")\n",
    "\n",
    "# XGBoost\n",
    "xgb = XGBRegressor(n_estimators=100, random_state=42)\n",
    "xgb.fit(X_train, y_train)\n",
    "xgb_pred = xgb.predict(np.vstack([years, future_years]))\n",
    "# Print predictions for the next 5 years\n",
    "print(\"\\nXGBoost Predictions for next 5 years:\")\n",
    "for year, pred in zip(future_years.flatten(), xgb_pred[-1:]):\n",
    "    print(f\"{year}: {pred:.2f}\")"
   ]
  },
  {
   "cell_type": "markdown",
   "id": "fcf5549c",
   "metadata": {},
   "source": [
    "#### 3.6 Evaluating Model Performance: Random Forest vs XGBoost on Test Set"
   ]
  },
  {
   "cell_type": "code",
   "execution_count": 32,
   "id": "689c3cb8",
   "metadata": {},
   "outputs": [
    {
     "name": "stdout",
     "output_type": "stream",
     "text": [
      "Random Forest - MSE: 13615454010651622.00, R2: -0.0643\n",
      "XGBoost      - MSE: 13633079200993462.00, R2: -0.0656\n",
      "Random Forest is more accurate on the test set.\n"
     ]
    }
   ],
   "source": [
    "# Predict on test set\n",
    "rf_test_pred = rf.predict(X_test)\n",
    "xgb_test_pred = xgb.predict(X_test)\n",
    "\n",
    "# Calculate metrics\n",
    "rf_mse = mean_squared_error(y_test, rf_test_pred)\n",
    "xgb_mse = mean_squared_error(y_test, xgb_test_pred)\n",
    "\n",
    "rf_r2 = r2_score(y_test, rf_test_pred)\n",
    "xgb_r2 = r2_score(y_test, xgb_test_pred)\n",
    "\n",
    "print(f\"Random Forest - MSE: {rf_mse:.2f}, R2: {rf_r2:.4f}\")\n",
    "print(f\"XGBoost      - MSE: {xgb_mse:.2f}, R2: {xgb_r2:.4f}\")\n",
    "\n",
    "if rf_mse < xgb_mse:\n",
    "    print(\"Random Forest is more accurate on the test set.\")\n",
    "else:\n",
    "    print(\"XGBoost is more accurate on the test set.\")\n",
    "    \n",
    "    "
   ]
  }
 ],
 "metadata": {
  "kernelspec": {
   "display_name": "base",
   "language": "python",
   "name": "python3"
  },
  "language_info": {
   "codemirror_mode": {
    "name": "ipython",
    "version": 3
   },
   "file_extension": ".py",
   "mimetype": "text/x-python",
   "name": "python",
   "nbconvert_exporter": "python",
   "pygments_lexer": "ipython3",
   "version": "3.12.3"
  }
 },
 "nbformat": 4,
 "nbformat_minor": 5
}
