{
 "cells": [
  {
   "cell_type": "markdown",
   "id": "8996b15a",
   "metadata": {},
   "source": [
    "<h1 align=\"center\">Mobile Money Financial Inclusion Analyzer</h1>\n"
   ]
  },
  {
   "cell_type": "markdown",
   "id": "ceed5096",
   "metadata": {},
   "source": [
    "### 1. Importing Libraries"
   ]
  },
  {
   "cell_type": "code",
   "execution_count": 3,
   "id": "703f3518",
   "metadata": {},
   "outputs": [],
   "source": [
    "import pandas as pd\n",
    "import matplotlib.pyplot as plt\n",
    "from sklearn.ensemble import RandomForestRegressor\n",
    "from xgboost import XGBRegressor\n",
    "from sklearn.model_selection import train_test_split\n",
    "import numpy as np\n",
    "from sklearn.metrics import mean_squared_error, r2_score"
   ]
  },
  {
   "cell_type": "markdown",
   "id": "f49ddae2",
   "metadata": {},
   "source": [
    "### 2. Reading the Mobile Money Financial Inclusion Dataset"
   ]
  },
  {
   "cell_type": "code",
   "execution_count": 5,
   "id": "3b98a4a6",
   "metadata": {},
   "outputs": [
    {
     "name": "stderr",
     "output_type": "stream",
     "text": [
      "C:\\Users\\Pc\\AppData\\Local\\Temp\\ipykernel_5704\\324061656.py:1: DtypeWarning: Columns (30,32,59,62,86,96,110,132,147,162,177,237,252,277,279,386,393,395,420,422,461,480,482,484,536,554,567,578,582,584,586,588,597,599,601,614,630,638,640,649,657,659,661,663,672,674,676,678,687,689,700,702,704,715,717,719,721,732,736,745,747,749,758,760,762,771,773,775,784,786,790,798,800,802,810,818,820,822,832,859,902,904,921,922,923,924,925,926,927,928,929,930,949,950,951,952,954,955,966,978,980,982,984,986,992,994,996,998,1002,1004,1006,1008,1010,1012,1014,1016,1018,1020,1022,1024,1026,1028,1030,1032,1034,1038,1040,1042,1044,1046,1048,1050,1052,1065,1077,1086,1088,1090,1094,1096,1108,1119,1127,1128,1129,1130,1131,1132,1133,1134,1135,1136,1137,1138,1139,1140,1141,1142,1144,1145,1146,1147,1148,1149,1150,1151,1152,1153,1154,1155,1156,1157,1158,1159,1160,1162,1163,1164,1165,1166,1167,1168,1169,1170,1171,1172,1173,1174,1175,1176,1177,1178,1180,1181,1182,1183,1184,1185,1186,1187,1188,1189,1190,1191,1192,1193,1194,1195,1196,1198,1199,1200,1201,1202,1203,1204,1205,1206,1207,1208,1209,1210,1211,1212,1213,1214,1215,1217,1218,1219,1220,1221,1222,1223,1224,1225,1226,1227,1228,1229,1230,1231,1232,1233,1234,1236,1237,1238,1239,1240,1241,1242,1243,1244,1245,1246,1247,1248,1249,1250,1251,1252,1253,1255,1256,1257,1258,1259,1260,1261,1262,1263,1264,1265,1266,1267,1268,1269,1270,1271,1272,1274,1275,1276,1277,1278,1279,1280,1281,1282,1283,1284,1285,1286,1287,1288,1289,1290,1291,1293,1494,1695,1709,1766,1768,1952,1966,2110,2123,2125,2326,2341,2347,2358,2366,2367,2380,2390,2399,2419,2430,2450,2466,2481,2483,2498,2533,2550,2551,2552,2562,2564,2566,2568,2588,2631,2633,2656,2660,2661,2662,2680,2685,2718,2728,2730,2732,2745,2747,2749,2752,2762,2808,2828,2847,3032,3034,3036,3038,3040,3042,3044,3065,3074,3104,3127,3149,3151,3160,3163,3165,3169,3173,3195,3198,3200,3201,3203,3204,3205,3206,3207,3208,3209,3210,3211,3212,3213,3214,3215,3216,3217,3235,3237,3239,3241,3243,3245,3247,3248,3249,3252,3267,3269,3271,3273,3275,3278,3279,3280,3287,3301,3302,3304,3306,3310,3313,3317,3318,3326,3333,3339,3340,3341,3342,3343,3344,3345,3346,3347,3348,3349,3350,3351,3352,3353,3354,3355,3356,3357,3387,3388,3389,3414,3415,3416,3417,3418,3419,3433,3504,3505,3506,3669,3670,3671,3672,3673,3674,3675,3676,3677,3678,3679,3680,3681,3682,3683,3684,3685,3686,3687,3688,3689,3690,3691,3692,3693,3694,3695,3696,3697,3698,3699,3700,3701,3702,3703,3704,3705,3706,3707,3708,3709,3710,3711,3712,3713) have mixed types. Specify dtype option on import or set low_memory=False.\n",
      "  df = pd.read_csv('C:/Users/Pc/Desktop/CSA2025/2024_Finaccess_Publicdata.csv')\n"
     ]
    },
    {
     "data": {
      "text/html": [
       "<div>\n",
       "<style scoped>\n",
       "    .dataframe tbody tr th:only-of-type {\n",
       "        vertical-align: middle;\n",
       "    }\n",
       "\n",
       "    .dataframe tbody tr th {\n",
       "        vertical-align: top;\n",
       "    }\n",
       "\n",
       "    .dataframe thead th {\n",
       "        text-align: right;\n",
       "    }\n",
       "</style>\n",
       "<table border=\"1\" class=\"dataframe\">\n",
       "  <thead>\n",
       "    <tr style=\"text-align: right;\">\n",
       "      <th></th>\n",
       "      <th>interview__key</th>\n",
       "      <th>interview__id</th>\n",
       "      <th>county</th>\n",
       "      <th>A07</th>\n",
       "      <th>A08</th>\n",
       "      <th>A10</th>\n",
       "      <th>Interview_Status</th>\n",
       "      <th>A9i</th>\n",
       "      <th>Z1</th>\n",
       "      <th>A13</th>\n",
       "      <th>...</th>\n",
       "      <th>sacco_redress</th>\n",
       "      <th>mobilemoney_redress</th>\n",
       "      <th>mobilebank_redress</th>\n",
       "      <th>not_registered_mmoney_24</th>\n",
       "      <th>using_someone_acc</th>\n",
       "      <th>insurance_including_NHIF_use</th>\n",
       "      <th>All_Insurance_excluding_NHIF_use</th>\n",
       "      <th>PWD</th>\n",
       "      <th>Latitude</th>\n",
       "      <th>Longitude</th>\n",
       "    </tr>\n",
       "  </thead>\n",
       "  <tbody>\n",
       "    <tr>\n",
       "      <th>0</th>\n",
       "      <td>21-61-43-44</td>\n",
       "      <td>00005e63e7424aa19e63adb071955233</td>\n",
       "      <td>Garissa</td>\n",
       "      <td>225</td>\n",
       "      <td>Urban</td>\n",
       "      <td>1</td>\n",
       "      <td>Household found with competent respondent</td>\n",
       "      <td>Access granted</td>\n",
       "      <td>completed</td>\n",
       "      <td>Male</td>\n",
       "      <td>...</td>\n",
       "      <td>#NULL!</td>\n",
       "      <td>#NULL!</td>\n",
       "      <td>#NULL!</td>\n",
       "      <td>No</td>\n",
       "      <td>#NULL!</td>\n",
       "      <td>Never used</td>\n",
       "      <td>Never used</td>\n",
       "      <td>Without Disability</td>\n",
       "      <td>-0.435423</td>\n",
       "      <td>39.636586</td>\n",
       "    </tr>\n",
       "    <tr>\n",
       "      <th>1</th>\n",
       "      <td>87-78-54-60</td>\n",
       "      <td>000718d26f5942998522033a66594b4c</td>\n",
       "      <td>Garissa</td>\n",
       "      <td>223</td>\n",
       "      <td>Urban</td>\n",
       "      <td>3</td>\n",
       "      <td>Household found with competent respondent</td>\n",
       "      <td>Access granted</td>\n",
       "      <td>completed</td>\n",
       "      <td>Male</td>\n",
       "      <td>...</td>\n",
       "      <td>#NULL!</td>\n",
       "      <td>#NULL!</td>\n",
       "      <td>#NULL!</td>\n",
       "      <td>No</td>\n",
       "      <td>#NULL!</td>\n",
       "      <td>Never used</td>\n",
       "      <td>Never used</td>\n",
       "      <td>Without Disability</td>\n",
       "      <td>0.058794</td>\n",
       "      <td>40.305006</td>\n",
       "    </tr>\n",
       "    <tr>\n",
       "      <th>2</th>\n",
       "      <td>32-71-19-84</td>\n",
       "      <td>0008721681d2468aa1ef456bba4475dc</td>\n",
       "      <td>Busia</td>\n",
       "      <td>1514</td>\n",
       "      <td>Urban</td>\n",
       "      <td>3</td>\n",
       "      <td>Household found with competent respondent</td>\n",
       "      <td>Access granted</td>\n",
       "      <td>completed</td>\n",
       "      <td>Female</td>\n",
       "      <td>...</td>\n",
       "      <td>#NULL!</td>\n",
       "      <td>#NULL!</td>\n",
       "      <td>#NULL!</td>\n",
       "      <td>No</td>\n",
       "      <td>#NULL!</td>\n",
       "      <td>Never used</td>\n",
       "      <td>Never used</td>\n",
       "      <td>Without Disability</td>\n",
       "      <td>0.636836</td>\n",
       "      <td>34.277390</td>\n",
       "    </tr>\n",
       "    <tr>\n",
       "      <th>3</th>\n",
       "      <td>48-18-78-99</td>\n",
       "      <td>00099e961d49470585c1a7f49fa3b7fb</td>\n",
       "      <td>Kiambu</td>\n",
       "      <td>796</td>\n",
       "      <td>Urban</td>\n",
       "      <td>3</td>\n",
       "      <td>Household found with competent respondent</td>\n",
       "      <td>Access granted</td>\n",
       "      <td>completed</td>\n",
       "      <td>Male</td>\n",
       "      <td>...</td>\n",
       "      <td>#NULL!</td>\n",
       "      <td>#NULL!</td>\n",
       "      <td>#NULL!</td>\n",
       "      <td>No</td>\n",
       "      <td>#NULL!</td>\n",
       "      <td>Never used</td>\n",
       "      <td>Never used</td>\n",
       "      <td>Without Disability</td>\n",
       "      <td>-1.251917</td>\n",
       "      <td>36.719076</td>\n",
       "    </tr>\n",
       "    <tr>\n",
       "      <th>4</th>\n",
       "      <td>50-82-98-89</td>\n",
       "      <td>000bb72e959b4dd48443da902c01e920</td>\n",
       "      <td>Murang'a</td>\n",
       "      <td>763</td>\n",
       "      <td>Urban</td>\n",
       "      <td>16</td>\n",
       "      <td>Household found with competent respondent</td>\n",
       "      <td>Access granted</td>\n",
       "      <td>completed</td>\n",
       "      <td>Female</td>\n",
       "      <td>...</td>\n",
       "      <td>#NULL!</td>\n",
       "      <td>#NULL!</td>\n",
       "      <td>#NULL!</td>\n",
       "      <td>No</td>\n",
       "      <td>Yes</td>\n",
       "      <td>Never used</td>\n",
       "      <td>Never used</td>\n",
       "      <td>Without Disability</td>\n",
       "      <td>-0.795820</td>\n",
       "      <td>37.131085</td>\n",
       "    </tr>\n",
       "  </tbody>\n",
       "</table>\n",
       "<p>5 rows × 3816 columns</p>\n",
       "</div>"
      ],
      "text/plain": [
       "  interview__key                     interview__id    county   A07    A08  \\\n",
       "0    21-61-43-44  00005e63e7424aa19e63adb071955233   Garissa   225  Urban   \n",
       "1    87-78-54-60  000718d26f5942998522033a66594b4c   Garissa   223  Urban   \n",
       "2    32-71-19-84  0008721681d2468aa1ef456bba4475dc     Busia  1514  Urban   \n",
       "3    48-18-78-99  00099e961d49470585c1a7f49fa3b7fb    Kiambu   796  Urban   \n",
       "4    50-82-98-89  000bb72e959b4dd48443da902c01e920  Murang'a   763  Urban   \n",
       "\n",
       "   A10                           Interview_Status             A9i         Z1  \\\n",
       "0    1  Household found with competent respondent  Access granted  completed   \n",
       "1    3  Household found with competent respondent  Access granted  completed   \n",
       "2    3  Household found with competent respondent  Access granted  completed   \n",
       "3    3  Household found with competent respondent  Access granted  completed   \n",
       "4   16  Household found with competent respondent  Access granted  completed   \n",
       "\n",
       "      A13  ...  sacco_redress  mobilemoney_redress  mobilebank_redress  \\\n",
       "0    Male  ...         #NULL!               #NULL!              #NULL!   \n",
       "1    Male  ...         #NULL!               #NULL!              #NULL!   \n",
       "2  Female  ...         #NULL!               #NULL!              #NULL!   \n",
       "3    Male  ...         #NULL!               #NULL!              #NULL!   \n",
       "4  Female  ...         #NULL!               #NULL!              #NULL!   \n",
       "\n",
       "   not_registered_mmoney_24 using_someone_acc insurance_including_NHIF_use  \\\n",
       "0                        No            #NULL!                   Never used   \n",
       "1                        No            #NULL!                   Never used   \n",
       "2                        No            #NULL!                   Never used   \n",
       "3                        No            #NULL!                   Never used   \n",
       "4                        No               Yes                   Never used   \n",
       "\n",
       "   All_Insurance_excluding_NHIF_use                 PWD  Latitude  Longitude  \n",
       "0                        Never used  Without Disability -0.435423  39.636586  \n",
       "1                        Never used  Without Disability  0.058794  40.305006  \n",
       "2                        Never used  Without Disability  0.636836  34.277390  \n",
       "3                        Never used  Without Disability -1.251917  36.719076  \n",
       "4                        Never used  Without Disability -0.795820  37.131085  \n",
       "\n",
       "[5 rows x 3816 columns]"
      ]
     },
     "metadata": {},
     "output_type": "display_data"
    }
   ],
   "source": [
    "df = pd.read_csv('C:/Users/Pc/Desktop/CSA2025/2024_Finaccess_Publicdata.csv')\n",
    "display(df.head())"
   ]
  },
  {
   "cell_type": "markdown",
   "id": "80f8f6b8",
   "metadata": {},
   "source": [
    "### 3. Visualizing Mobile Money Transactional Value Trends in Eastern Africa (2001–2024)"
   ]
  },
  {
   "cell_type": "markdown",
   "id": "6c9a85b2",
   "metadata": {},
   "source": [
    "#### 3.1 Loading Transactional Value Data for Analysis"
   ]
  },
  {
   "cell_type": "code",
   "execution_count": 7,
   "id": "914a64d4",
   "metadata": {},
   "outputs": [],
   "source": [
    "# Load the transactional value data\n",
    "df_transactional_value = pd.read_csv('C:/Users/Pc/Desktop/CSA2025/Group-10-Mobile-Money-Financial-Inclusion-Analyzer/data/GLOBAL MOBILE MONEY DATASET.csv')"
   ]
  },
  {
   "cell_type": "markdown",
   "id": "cc1b700d",
   "metadata": {},
   "source": [
    "\n",
    "#### 3.2 Extracting Transactional Value Data for Eastern Africa"
   ]
  },
  {
   "cell_type": "code",
   "execution_count": 8,
   "id": "046de26a",
   "metadata": {},
   "outputs": [],
   "source": [
    "# Extract the row for Eastern Africa from df_transactional_value\n",
    "eastern_africa_row = df_transactional_value[\n",
    "    (df_transactional_value['Geo_name'] == 'Eastern Africa') &\n",
    "    (df_transactional_value['Metric'] == 'Mobile Money transactional value')\n",
    "]"
   ]
  },
  {
   "cell_type": "markdown",
   "id": "9f20110b",
   "metadata": {},
   "source": [
    "#### 3.3 Cleaning and Converting Transactional Value Data for Time Series Analysis"
   ]
  },
  {
   "cell_type": "code",
   "execution_count": 10,
   "id": "76527e42",
   "metadata": {},
   "outputs": [],
   "source": [
    "# Select only the columns that are dates\n",
    "date_columns = [col for col in eastern_africa_row.columns if '/' in col]\n",
    "\n",
    "# Get the values and convert to numeric with improved cleaning\n",
    "values_raw = eastern_africa_row[date_columns].iloc[0]\n",
    "values_cleaned = (\n",
    "    values_raw.astype(str)  # Convert to string first\n",
    "    .str.strip()  # Remove leading/trailing whitespace\n",
    "    .replace('', None)  # Replace empty strings with None\n",
    "    .replace('-', None)  # Replace dash with None\n",
    "    .replace('nan', None)  # Replace 'nan' strings with None\n",
    "    .str.replace(',', '', regex=False)  # Remove commas from numbers\n",
    ")\n",
    "\n",
    "# Convert to numeric, handling any remaining non-numeric values\n",
    "values = pd.to_numeric(values_cleaned, errors='coerce')"
   ]
  },
  {
   "cell_type": "markdown",
   "id": "6e69df83",
   "metadata": {},
   "source": [
    "#### 3.4 Removing NaN Values and Corresponding Date Columns for Plotting"
   ]
  },
  {
   "cell_type": "code",
   "execution_count": 11,
   "id": "8194b122",
   "metadata": {},
   "outputs": [],
   "source": [
    "# Remove any NaN values and corresponding date columns for plotting\n",
    "valid_mask = ~values.isna()\n",
    "values_plot = values[valid_mask]\n",
    "dates_plot = [date_columns[i] for i in range(len(date_columns)) if valid_mask.iloc[i]]"
   ]
  },
  {
   "cell_type": "markdown",
   "id": "1e28f693",
   "metadata": {},
   "source": [
    "#### 3.5 Plotting Mobile Money Transactional Value Trends in Eastern Africa (2001–2024)"
   ]
  },
  {
   "cell_type": "code",
   "execution_count": 12,
   "id": "fc3cc16a",
   "metadata": {},
   "outputs": [
    {
     "data": {
      "image/png": "[encoded data removed]",
      "text/plain": [
       "<Figure size 1400x600 with 1 Axes>"
      ]
     },
     "metadata": {},
     "output_type": "display_data"
    }
   ],
   "source": [
    "# Plot\n",
    "plt.figure(figsize=(14, 6))\n",
    "plt.plot(dates_plot, values_plot, marker='o')\n",
    "plt.title('Mobile Money Transactional Value in Eastern Africa From 2001 to 2024')\n",
    "plt.xlabel('Year')\n",
    "plt.ylabel('Transactional Value (USD)')\n",
    "plt.xticks(rotation=45)\n",
    "plt.tight_layout()\n",
    "plt.show()"
   ]
  },
  {
   "cell_type": "markdown",
   "id": "357a402a",
   "metadata": {},
   "source": [
    "#### 3.6 Preparing Data and Building Time Series Prediction Models (Random Forest & XGBoost)"
   ]
  },
  {
   "cell_type": "code",
   "execution_count": null,
   "id": "818c5a01",
   "metadata": {},
   "outputs": [
    {
     "name": "stdout",
     "output_type": "stream",
     "text": [
      "Random Forest Predictions for the next year (2025):\n",
      "2: 118738846.48\n",
      "\n",
      "XGBoost Predictions for the next year (2025):\n",
      "2: 119044552.00\n"
     ]
    }
   ],
   "source": [
    "\n",
    "# Prepare the data for time series prediction\n",
    "# Convert date columns to years (as integers)\n",
    "years = np.array([int(date.split('/')[0]) for date in dates_plot]).reshape(-1, 1)\n",
    "values_arr = values_plot.values\n",
    "\n",
    "# Predict for the next year that is (2025)\n",
    "future_years = np.arange(years[-1][0] + 1, years[-1][0] + 6).reshape(-1, 1)\n",
    "\n",
    "# Split data for training\n",
    "X_train, X_test, y_train, y_test = train_test_split(years, values_arr, test_size=0.2, random_state=42)\n",
    "\n",
    "# Random Forest\n",
    "rf = RandomForestRegressor(n_estimators=100, random_state=42)\n",
    "rf.fit(X_train, y_train)\n",
    "rf_pred = rf.predict(np.vstack([years, future_years]))\n",
    "# Print predictions for the next year that is (2025)\n",
    "print(\"Random Forest Predictions for the next year (2025):\")\n",
    "for year, pred in zip(future_years.flatten(), rf_pred[-1:]):\n",
    "    print(f\"{year}: {pred:.2f}\")\n",
    "\n",
    "# XGBoost\n",
    "xgb = XGBRegressor(n_estimators=100, random_state=42)\n",
    "xgb.fit(X_train, y_train)\n",
    "xgb_pred = xgb.predict(np.vstack([years, future_years]))\n",
    "# Print predictions for the next year that is (2025)\n",
    "print(\"\\nXGBoost Predictions for the next year (2025):\")\n",
    "for year, pred in zip(future_years.flatten(), xgb_pred[-1:]):\n",
    "    print(f\"{year}: {pred:.2f}\")"
   ]
  },
  {
   "cell_type": "markdown",
   "id": "fcf5549c",
   "metadata": {},
   "source": [
    "#### 3.7 Evaluating Model Performance: Random Forest vs XGBoost on Test Set"
   ]
  },
  {
   "cell_type": "code",
   "execution_count": null,
   "id": "689c3cb8",
   "metadata": {},
   "outputs": [
    {
     "name": "stdout",
     "output_type": "stream",
     "text": [
      "Random Forest - MSE: 13615454010651622.00, R2: -0.0643\n",
      "XGBoost      - MSE: 13633079200993462.00, R2: -0.0656\n",
      "Random Forest is more accurate on the test set.\n"
     ]
    }
   ],
   "source": [
    "# Predict on test set data\n",
    "rf_test_pred = rf.predict(X_test)\n",
    "xgb_test_pred = xgb.predict(X_test)\n",
    "\n",
    "# Calculate metrics\n",
    "rf_mse = mean_squared_error(y_test, rf_test_pred)\n",
    "xgb_mse = mean_squared_error(y_test, xgb_test_pred)\n",
    "\n",
    "rf_r2 = r2_score(y_test, rf_test_pred)\n",
    "xgb_r2 = r2_score(y_test, xgb_test_pred)\n",
    "\n",
    "print(f\"Random Forest - MSE: {rf_mse:.2f}, R2: {rf_r2:.4f}\")\n",
    "print(f\"XGBoost      - MSE: {xgb_mse:.2f}, R2: {xgb_r2:.4f}\")\n",
    "\n",
    "if rf_mse < xgb_mse:\n",
    "    print(\"Random Forest is more accurate on the test set.\")\n",
    "else:\n",
    "    print(\"XGBoost is more accurate on the test set.\")\n",
    "    \n",
    "    "
   ]
  }
 ],
 "metadata": {
  "kernelspec": {
   "display_name": "base",
   "language": "python",
   "name": "python3"
  },
  "language_info": {
   "codemirror_mode": {
    "name": "ipython",
    "version": 3
   },
   "file_extension": ".py",
   "mimetype": "text/x-python",
   "name": "python",
   "nbconvert_exporter": "python",
   "pygments_lexer": "ipython3",
   "version": "3.13.5"
  }
 },
 "nbformat": 4,
 "nbformat_minor": 5
}
