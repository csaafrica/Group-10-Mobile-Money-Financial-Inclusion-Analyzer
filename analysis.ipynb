{
 "cells": [
  {
   "cell_type": "markdown",
   "id": "8996b15a",
   "metadata": {},
   "source": [
    "<h1 align=\"center\">Mobile Money Financial Inclusion Analyzer</h1>\n"
   ]
  },
  {
   "cell_type": "code",
   "execution_count": 40,
   "id": "703f3518",
   "metadata": {},
   "outputs": [],
   "source": [
    "import pandas as pd\n",
    "import matplotlib.pyplot as plt\n",
    "from sklearn.ensemble import RandomForestRegressor\n",
    "from xgboost import XGBRegressor\n",
    "from sklearn.model_selection import train_test_split\n",
    "import numpy as np\n",
    "from sklearn.metrics import mean_squared_error, r2_score"
   ]
  },
  {
   "cell_type": "code",
   "execution_count": 17,
   "id": "3b98a4a6",
   "metadata": {},
   "outputs": [
    {
     "name": "stderr",
     "output_type": "stream",
     "text": [
      "C:\\Users\\USER\\AppData\\Local\\Temp\\ipykernel_25404\\2124929324.py:1: DtypeWarning: Columns (30,32,59,62,86,96,110,132,147,162,177,237,252,277,279,386,393,395,420,422,461,480,482,484,536,554,567,578,582,584,586,588,597,599,601,614,630,638,640,649,657,659,661,663,672,674,676,678,687,689,700,702,704,715,717,719,721,732,736,745,747,749,758,760,762,771,773,775,784,786,790,798,800,802,810,818,820,822,832,859,902,904,921,922,923,924,925,926,927,928,929,930,949,950,951,952,954,955,966,978,980,982,984,986,992,994,996,998,1002,1004,1006,1008,1010,1012,1014,1016,1018,1020,1022,1024,1026,1028,1030,1032,1034,1038,1040,1042,1044,1046,1048,1050,1052,1065,1077,1086,1088,1090,1094,1096,1108,1119,1127,1128,1129,1130,1131,1132,1133,1134,1135,1136,1137,1138,1139,1140,1141,1142,1144,1145,1146,1147,1148,1149,1150,1151,1152,1153,1154,1155,1156,1157,1158,1159,1160,1162,1163,1164,1165,1166,1167,1168,1169,1170,1171,1172,1173,1174,1175,1176,1177,1178,1180,1181,1182,1183,1184,1185,1186,1187,1188,1189,1190,1191,1192,1193,1194,1195,1196,1198,1199,1200,1201,1202,1203,1204,1205,1206,1207,1208,1209,1210,1211,1212,1213,1214,1215,1217,1218,1219,1220,1221,1222,1223,1224,1225,1226,1227,1228,1229,1230,1231,1232,1233,1234,1236,1237,1238,1239,1240,1241,1242,1243,1244,1245,1246,1247,1248,1249,1250,1251,1252,1253,1255,1256,1257,1258,1259,1260,1261,1262,1263,1264,1265,1266,1267,1268,1269,1270,1271,1272,1274,1275,1276,1277,1278,1279,1280,1281,1282,1283,1284,1285,1286,1287,1288,1289,1290,1291,1293,1494,1695,1709,1766,1768,1952,1966,2110,2123,2125,2326,2341,2347,2358,2366,2367,2380,2390,2399,2419,2430,2450,2466,2481,2483,2498,2533,2550,2551,2552,2562,2564,2566,2568,2588,2631,2633,2656,2660,2661,2662,2680,2685,2718,2728,2730,2732,2745,2747,2749,2752,2762,2808,2828,2847,3032,3034,3036,3038,3040,3042,3044,3065,3074,3104,3127,3149,3151,3160,3163,3165,3169,3173,3195,3198,3200,3201,3203,3204,3205,3206,3207,3208,3209,3210,3211,3212,3213,3214,3215,3216,3217,3235,3237,3239,3241,3243,3245,3247,3248,3249,3252,3267,3269,3271,3273,3275,3278,3279,3280,3287,3301,3302,3304,3306,3310,3313,3317,3318,3326,3333,3339,3340,3341,3342,3343,3344,3345,3346,3347,3348,3349,3350,3351,3352,3353,3354,3355,3356,3357,3387,3388,3389,3414,3415,3416,3417,3418,3419,3433,3504,3505,3506,3669,3670,3671,3672,3673,3674,3675,3676,3677,3678,3679,3680,3681,3682,3683,3684,3685,3686,3687,3688,3689,3690,3691,3692,3693,3694,3695,3696,3697,3698,3699,3700,3701,3702,3703,3704,3705,3706,3707,3708,3709,3710,3711,3712,3713) have mixed types. Specify dtype option on import or set low_memory=False.\n",
      "  df = pd.read_csv('C:/Users/USER/Group-10-Mobile-Money-Financial-Inclusion-Analyzer/data/2024_Finaccess_Publicdata.csv',)\n"
     ]
    }
   ],
   "source": [
    "df = pd.read_csv('C:/Users/USER/Group-10-Mobile-Money-Financial-Inclusion-Analyzer/data/2024_Finaccess_Publicdata.csv',)"
   ]
  },
  {
   "cell_type": "code",
   "execution_count": 18,
   "id": "000999e9",
   "metadata": {},
   "outputs": [
    {
     "name": "stdout",
     "output_type": "stream",
     "text": [
      "<class 'pandas.core.frame.DataFrame'>\n",
      "RangeIndex: 20871 entries, 0 to 20870\n",
      "Columns: 3816 entries, interview__key to Longitude\n",
      "dtypes: float64(44), int64(191), object(3581)\n",
      "memory usage: 607.6+ MB\n"
     ]
    },
    {
     "data": {
      "application/vnd.microsoft.datawrangler.viewer.v0+json": {
       "columns": [
        {
         "name": "index",
         "rawType": "int64",
         "type": "integer"
        },
        {
         "name": "interview__key",
         "rawType": "object",
         "type": "string"
        },
        {
         "name": "interview__id",
         "rawType": "object",
         "type": "string"
        },
        {
         "name": "county",
         "rawType": "object",
         "type": "string"
        },
        {
         "name": "A07",
         "rawType": "int64",
         "type": "integer"
        },
        {
         "name": "A08",
         "rawType": "object",
         "type": "string"
        },
        {
         "name": "A10",
         "rawType": "int64",
         "type": "integer"
        },
        {
         "name": "Interview_Status",
         "rawType": "object",
         "type": "string"
        },
        {
         "name": "A9i",
         "rawType": "object",
         "type": "string"
        },
        {
         "name": "Z1",
         "rawType": "object",
         "type": "string"
        },
        {
         "name": "A13",
         "rawType": "object",
         "type": "string"
        },
        {
         "name": "A12ii_length",
         "rawType": "int64",
         "type": "integer"
        },
        {
         "name": "A14iv",
         "rawType": "int64",
         "type": "integer"
        },
        {
         "name": "A14vi",
         "rawType": "int64",
         "type": "integer"
        },
        {
         "name": "FHH_Spouse",
         "rawType": "int64",
         "type": "integer"
        },
        {
         "name": "A15a",
         "rawType": "object",
         "type": "string"
        },
        {
         "name": "A15i",
         "rawType": "object",
         "type": "unknown"
        },
        {
         "name": "A18",
         "rawType": "int64",
         "type": "integer"
        },
        {
         "name": "A19",
         "rawType": "object",
         "type": "string"
        },
        {
         "name": "A14i",
         "rawType": "int64",
         "type": "integer"
        },
        {
         "name": "A14ii",
         "rawType": "object",
         "type": "string"
        },
        {
         "name": "A14iii",
         "rawType": "object",
         "type": "string"
        },
        {
         "name": "A14iv_e",
         "rawType": "object",
         "type": "unknown"
        },
        {
         "name": "A14vii",
         "rawType": "object",
         "type": "string"
        },
        {
         "name": "A14_slept",
         "rawType": "object",
         "type": "string"
        },
        {
         "name": "RESPONDENT",
         "rawType": "object",
         "type": "string"
        },
        {
         "name": "Sex",
         "rawType": "object",
         "type": "string"
        },
        {
         "name": "Age",
         "rawType": "object",
         "type": "string"
        },
        {
         "name": "A16",
         "rawType": "object",
         "type": "string"
        },
        {
         "name": "NHM",
         "rawType": "int64",
         "type": "integer"
        },
        {
         "name": "A20",
         "rawType": "object",
         "type": "string"
        },
        {
         "name": "A20i",
         "rawType": "object",
         "type": "unknown"
        },
        {
         "name": "A21",
         "rawType": "object",
         "type": "string"
        },
        {
         "name": "A22i",
         "rawType": "object",
         "type": "unknown"
        },
        {
         "name": "A22ii",
         "rawType": "object",
         "type": "unknown"
        },
        {
         "name": "A22iii",
         "rawType": "object",
         "type": "string"
        },
        {
         "name": "A23",
         "rawType": "object",
         "type": "string"
        },
        {
         "name": "A24i",
         "rawType": "object",
         "type": "string"
        },
        {
         "name": "A24ii",
         "rawType": "object",
         "type": "string"
        },
        {
         "name": "A24iii",
         "rawType": "object",
         "type": "string"
        },
        {
         "name": "A24iv",
         "rawType": "object",
         "type": "string"
        },
        {
         "name": "A24v",
         "rawType": "object",
         "type": "string"
        },
        {
         "name": "A24vi",
         "rawType": "object",
         "type": "string"
        },
        {
         "name": "B1A",
         "rawType": "object",
         "type": "string"
        },
        {
         "name": "B1Bi",
         "rawType": "object",
         "type": "string"
        },
        {
         "name": "B1Bii",
         "rawType": "object",
         "type": "string"
        },
        {
         "name": "B1C1",
         "rawType": "object",
         "type": "string"
        },
        {
         "name": "B1C2",
         "rawType": "object",
         "type": "string"
        },
        {
         "name": "B1C3",
         "rawType": "object",
         "type": "string"
        },
        {
         "name": "B1C4",
         "rawType": "object",
         "type": "string"
        },
        {
         "name": "B1Di",
         "rawType": "object",
         "type": "string"
        },
        {
         "name": "B1Dii",
         "rawType": "object",
         "type": "string"
        },
        {
         "name": "B1Diii",
         "rawType": "object",
         "type": "string"
        },
        {
         "name": "B1E1",
         "rawType": "object",
         "type": "string"
        },
        {
         "name": "B1E2",
         "rawType": "object",
         "type": "string"
        },
        {
         "name": "B1E3",
         "rawType": "object",
         "type": "string"
        },
        {
         "name": "B1E4",
         "rawType": "object",
         "type": "string"
        },
        {
         "name": "B1F2",
         "rawType": "object",
         "type": "string"
        },
        {
         "name": "B1F1",
         "rawType": "object",
         "type": "string"
        },
        {
         "name": "B1FI",
         "rawType": "object",
         "type": "string"
        },
        {
         "name": "B1FIOTHER",
         "rawType": "object",
         "type": "unknown"
        },
        {
         "name": "B1G",
         "rawType": "object",
         "type": "string"
        },
        {
         "name": "B1H",
         "rawType": "object",
         "type": "string"
        },
        {
         "name": "B1Ha",
         "rawType": "object",
         "type": "unknown"
        },
        {
         "name": "B1Hi",
         "rawType": "object",
         "type": "string"
        },
        {
         "name": "B1Hii",
         "rawType": "object",
         "type": "string"
        },
        {
         "name": "B1Ii",
         "rawType": "object",
         "type": "string"
        },
        {
         "name": "B1Iii",
         "rawType": "object",
         "type": "string"
        },
        {
         "name": "B1J",
         "rawType": "object",
         "type": "string"
        },
        {
         "name": "B1K",
         "rawType": "object",
         "type": "string"
        },
        {
         "name": "B1L__1",
         "rawType": "object",
         "type": "string"
        },
        {
         "name": "B1L__2",
         "rawType": "object",
         "type": "string"
        },
        {
         "name": "B1L__3",
         "rawType": "object",
         "type": "string"
        },
        {
         "name": "B1L__4",
         "rawType": "object",
         "type": "string"
        },
        {
         "name": "B1L__5",
         "rawType": "object",
         "type": "string"
        },
        {
         "name": "B1L__6",
         "rawType": "object",
         "type": "string"
        },
        {
         "name": "B1M__1",
         "rawType": "object",
         "type": "string"
        },
        {
         "name": "B1M__2",
         "rawType": "object",
         "type": "string"
        },
        {
         "name": "B1M__3",
         "rawType": "object",
         "type": "string"
        },
        {
         "name": "B1M__4",
         "rawType": "object",
         "type": "string"
        },
        {
         "name": "B1N1",
         "rawType": "object",
         "type": "string"
        },
        {
         "name": "B1N2",
         "rawType": "object",
         "type": "string"
        },
        {
         "name": "B1O",
         "rawType": "object",
         "type": "string"
        },
        {
         "name": "B1P",
         "rawType": "object",
         "type": "string"
        },
        {
         "name": "secB1",
         "rawType": "int64",
         "type": "integer"
        },
        {
         "name": "CountFINANCIAL_HEALTH",
         "rawType": "int64",
         "type": "integer"
        },
        {
         "name": "B2A",
         "rawType": "object",
         "type": "string"
        },
        {
         "name": "B2Ai",
         "rawType": "object",
         "type": "unknown"
        },
        {
         "name": "B2B",
         "rawType": "object",
         "type": "string"
        },
        {
         "name": "B2Ci",
         "rawType": "object",
         "type": "string"
        },
        {
         "name": "B2Cii",
         "rawType": "object",
         "type": "string"
        },
        {
         "name": "B2Cii_Other",
         "rawType": "float64",
         "type": "float"
        },
        {
         "name": "B2D",
         "rawType": "object",
         "type": "string"
        },
        {
         "name": "B2Ei",
         "rawType": "object",
         "type": "string"
        },
        {
         "name": "B2Eii",
         "rawType": "object",
         "type": "string"
        },
        {
         "name": "B2Eiii",
         "rawType": "object",
         "type": "string"
        },
        {
         "name": "B2F",
         "rawType": "object",
         "type": "string"
        },
        {
         "name": "secFinancial_Awareness",
         "rawType": "object",
         "type": "unknown"
        },
        {
         "name": "B3A__1",
         "rawType": "int64",
         "type": "integer"
        },
        {
         "name": "B3A__2",
         "rawType": "int64",
         "type": "integer"
        },
        {
         "name": "B3A__3",
         "rawType": "int64",
         "type": "integer"
        },
        {
         "name": "B3A__4",
         "rawType": "int64",
         "type": "integer"
        },
        {
         "name": "B3A__5",
         "rawType": "int64",
         "type": "integer"
        },
        {
         "name": "B3A__6",
         "rawType": "int64",
         "type": "integer"
        },
        {
         "name": "B3A__7",
         "rawType": "int64",
         "type": "integer"
        },
        {
         "name": "B3A__8",
         "rawType": "int64",
         "type": "integer"
        },
        {
         "name": "B3A__9",
         "rawType": "int64",
         "type": "integer"
        },
        {
         "name": "B3A__10",
         "rawType": "int64",
         "type": "integer"
        },
        {
         "name": "B3A__11",
         "rawType": "int64",
         "type": "integer"
        },
        {
         "name": "B3A__98",
         "rawType": "int64",
         "type": "integer"
        },
        {
         "name": "B3A__99",
         "rawType": "int64",
         "type": "integer"
        },
        {
         "name": "B3Ai",
         "rawType": "object",
         "type": "unknown"
        },
        {
         "name": "B3B",
         "rawType": "object",
         "type": "string"
        },
        {
         "name": "B3Bi",
         "rawType": "object",
         "type": "string"
        },
        {
         "name": "B3C",
         "rawType": "object",
         "type": "string"
        },
        {
         "name": "B3Ci",
         "rawType": "object",
         "type": "string"
        },
        {
         "name": "B3Cii_1",
         "rawType": "object",
         "type": "string"
        },
        {
         "name": "B3Cii_2",
         "rawType": "object",
         "type": "string"
        },
        {
         "name": "B3Cii_3",
         "rawType": "object",
         "type": "string"
        },
        {
         "name": "B3Cii_4",
         "rawType": "object",
         "type": "string"
        },
        {
         "name": "B3D__1_1",
         "rawType": "object",
         "type": "string"
        },
        {
         "name": "B3D__2_1",
         "rawType": "object",
         "type": "string"
        },
        {
         "name": "B3D__3_1",
         "rawType": "object",
         "type": "string"
        },
        {
         "name": "B3D__4_1",
         "rawType": "object",
         "type": "string"
        },
        {
         "name": "B3D__5_1",
         "rawType": "object",
         "type": "string"
        },
        {
         "name": "B3D__6_1",
         "rawType": "object",
         "type": "string"
        },
        {
         "name": "B3D__7_1",
         "rawType": "object",
         "type": "string"
        },
        {
         "name": "B3D__8_1",
         "rawType": "object",
         "type": "string"
        },
        {
         "name": "B3D__9_1",
         "rawType": "object",
         "type": "string"
        },
        {
         "name": "B3D__10_1",
         "rawType": "object",
         "type": "string"
        },
        {
         "name": "B3D__11_1",
         "rawType": "object",
         "type": "string"
        },
        {
         "name": "B3D__98_1",
         "rawType": "object",
         "type": "string"
        },
        {
         "name": "B3D__99_1",
         "rawType": "object",
         "type": "string"
        },
        {
         "name": "B3Di_1",
         "rawType": "object",
         "type": "unknown"
        },
        {
         "name": "B3E_1",
         "rawType": "object",
         "type": "string"
        },
        {
         "name": "B3D__1_2",
         "rawType": "object",
         "type": "string"
        },
        {
         "name": "B3D__2_2",
         "rawType": "object",
         "type": "string"
        },
        {
         "name": "B3D__3_2",
         "rawType": "object",
         "type": "string"
        },
        {
         "name": "B3D__4_2",
         "rawType": "object",
         "type": "string"
        },
        {
         "name": "B3D__5_2",
         "rawType": "object",
         "type": "string"
        },
        {
         "name": "B3D__6_2",
         "rawType": "object",
         "type": "string"
        },
        {
         "name": "B3D__7_2",
         "rawType": "object",
         "type": "string"
        },
        {
         "name": "B3D__8_2",
         "rawType": "object",
         "type": "string"
        },
        {
         "name": "B3D__9_2",
         "rawType": "object",
         "type": "string"
        },
        {
         "name": "B3D__10_2",
         "rawType": "object",
         "type": "string"
        },
        {
         "name": "B3D__11_2",
         "rawType": "object",
         "type": "string"
        },
        {
         "name": "B3D__98_2",
         "rawType": "object",
         "type": "string"
        },
        {
         "name": "B3D__99_2",
         "rawType": "object",
         "type": "string"
        },
        {
         "name": "B3Di_2",
         "rawType": "object",
         "type": "unknown"
        },
        {
         "name": "B3E_2",
         "rawType": "object",
         "type": "string"
        },
        {
         "name": "B3D__1_3",
         "rawType": "object",
         "type": "string"
        },
        {
         "name": "B3D__2_3",
         "rawType": "object",
         "type": "string"
        },
        {
         "name": "B3D__3_3",
         "rawType": "object",
         "type": "string"
        },
        {
         "name": "B3D__4_3",
         "rawType": "object",
         "type": "string"
        },
        {
         "name": "B3D__5_3",
         "rawType": "object",
         "type": "string"
        },
        {
         "name": "B3D__6_3",
         "rawType": "object",
         "type": "string"
        },
        {
         "name": "B3D__7_3",
         "rawType": "object",
         "type": "string"
        },
        {
         "name": "B3D__8_3",
         "rawType": "object",
         "type": "string"
        },
        {
         "name": "B3D__9_3",
         "rawType": "object",
         "type": "string"
        },
        {
         "name": "B3D__10_3",
         "rawType": "object",
         "type": "string"
        },
        {
         "name": "B3D__11_3",
         "rawType": "object",
         "type": "string"
        },
        {
         "name": "B3D__98_3",
         "rawType": "object",
         "type": "string"
        },
        {
         "name": "B3D__99_3",
         "rawType": "object",
         "type": "string"
        },
        {
         "name": "B3Di_3",
         "rawType": "object",
         "type": "unknown"
        },
        {
         "name": "B3E_3",
         "rawType": "object",
         "type": "string"
        },
        {
         "name": "B3D__1_4",
         "rawType": "object",
         "type": "string"
        },
        {
         "name": "B3D__2_4",
         "rawType": "object",
         "type": "string"
        },
        {
         "name": "B3D__3_4",
         "rawType": "object",
         "type": "string"
        },
        {
         "name": "B3D__4_4",
         "rawType": "object",
         "type": "string"
        },
        {
         "name": "B3D__5_4",
         "rawType": "object",
         "type": "string"
        },
        {
         "name": "B3D__6_4",
         "rawType": "object",
         "type": "string"
        },
        {
         "name": "B3D__7_4",
         "rawType": "object",
         "type": "string"
        },
        {
         "name": "B3D__8_4",
         "rawType": "object",
         "type": "string"
        },
        {
         "name": "B3D__9_4",
         "rawType": "object",
         "type": "string"
        },
        {
         "name": "B3D__10_4",
         "rawType": "object",
         "type": "string"
        },
        {
         "name": "B3D__11_4",
         "rawType": "object",
         "type": "string"
        },
        {
         "name": "B3D__98_4",
         "rawType": "object",
         "type": "string"
        },
        {
         "name": "B3D__99_4",
         "rawType": "object",
         "type": "string"
        },
        {
         "name": "B3Di_4",
         "rawType": "object",
         "type": "unknown"
        },
        {
         "name": "B3E_4",
         "rawType": "object",
         "type": "string"
        },
        {
         "name": "B3D__1_5",
         "rawType": "object",
         "type": "string"
        },
        {
         "name": "B3D__2_5",
         "rawType": "object",
         "type": "string"
        },
        {
         "name": "B3D__3_5",
         "rawType": "object",
         "type": "string"
        },
        {
         "name": "B3D__4_5",
         "rawType": "object",
         "type": "string"
        },
        {
         "name": "B3D__5_5",
         "rawType": "object",
         "type": "string"
        },
        {
         "name": "B3D__6_5",
         "rawType": "object",
         "type": "string"
        },
        {
         "name": "B3D__7_5",
         "rawType": "object",
         "type": "string"
        },
        {
         "name": "B3D__8_5",
         "rawType": "object",
         "type": "string"
        },
        {
         "name": "B3D__9_5",
         "rawType": "object",
         "type": "string"
        },
        {
         "name": "B3D__10_5",
         "rawType": "object",
         "type": "string"
        },
        {
         "name": "B3D__11_5",
         "rawType": "object",
         "type": "string"
        },
        {
         "name": "B3D__98_5",
         "rawType": "object",
         "type": "string"
        },
        {
         "name": "B3D__99_5",
         "rawType": "object",
         "type": "string"
        },
        {
         "name": "B3Di_5",
         "rawType": "float64",
         "type": "float"
        },
        {
         "name": "B3E_5",
         "rawType": "object",
         "type": "string"
        },
        {
         "name": "B3D__1_6",
         "rawType": "object",
         "type": "string"
        },
        {
         "name": "B3D__2_6",
         "rawType": "object",
         "type": "string"
        },
        {
         "name": "B3D__3_6",
         "rawType": "object",
         "type": "string"
        },
        {
         "name": "B3D__4_6",
         "rawType": "object",
         "type": "string"
        },
        {
         "name": "B3D__5_6",
         "rawType": "object",
         "type": "string"
        },
        {
         "name": "B3D__6_6",
         "rawType": "object",
         "type": "string"
        },
        {
         "name": "B3D__7_6",
         "rawType": "object",
         "type": "string"
        },
        {
         "name": "B3D__8_6",
         "rawType": "object",
         "type": "string"
        },
        {
         "name": "B3D__9_6",
         "rawType": "object",
         "type": "string"
        },
        {
         "name": "B3D__10_6",
         "rawType": "object",
         "type": "string"
        },
        {
         "name": "B3D__11_6",
         "rawType": "object",
         "type": "string"
        },
        {
         "name": "B3D__98_6",
         "rawType": "object",
         "type": "string"
        },
        {
         "name": "B3D__99_6",
         "rawType": "object",
         "type": "string"
        },
        {
         "name": "B3Di_6",
         "rawType": "float64",
         "type": "float"
        },
        {
         "name": "B3E_6",
         "rawType": "object",
         "type": "string"
        },
        {
         "name": "B3D__1_7",
         "rawType": "object",
         "type": "string"
        },
        {
         "name": "B3D__2_7",
         "rawType": "object",
         "type": "string"
        },
        {
         "name": "B3D__3_7",
         "rawType": "object",
         "type": "string"
        },
        {
         "name": "B3D__4_7",
         "rawType": "object",
         "type": "string"
        },
        {
         "name": "B3D__5_7",
         "rawType": "object",
         "type": "string"
        },
        {
         "name": "B3D__6_7",
         "rawType": "object",
         "type": "string"
        },
        {
         "name": "B3D__7_7",
         "rawType": "object",
         "type": "string"
        },
        {
         "name": "B3D__8_7",
         "rawType": "object",
         "type": "string"
        },
        {
         "name": "B3D__9_7",
         "rawType": "object",
         "type": "string"
        },
        {
         "name": "B3D__10_7",
         "rawType": "object",
         "type": "string"
        },
        {
         "name": "B3D__11_7",
         "rawType": "object",
         "type": "string"
        },
        {
         "name": "B3D__98_7",
         "rawType": "object",
         "type": "string"
        },
        {
         "name": "B3D__99_7",
         "rawType": "object",
         "type": "string"
        },
        {
         "name": "B3Di_7",
         "rawType": "float64",
         "type": "float"
        },
        {
         "name": "B3E_7",
         "rawType": "object",
         "type": "string"
        },
        {
         "name": "B3D__1_8",
         "rawType": "object",
         "type": "string"
        },
        {
         "name": "B3D__2_8",
         "rawType": "object",
         "type": "string"
        },
        {
         "name": "B3D__3_8",
         "rawType": "object",
         "type": "string"
        },
        {
         "name": "B3D__4_8",
         "rawType": "object",
         "type": "string"
        },
        {
         "name": "B3D__5_8",
         "rawType": "object",
         "type": "string"
        },
        {
         "name": "B3D__6_8",
         "rawType": "object",
         "type": "string"
        },
        {
         "name": "B3D__7_8",
         "rawType": "object",
         "type": "string"
        },
        {
         "name": "B3D__8_8",
         "rawType": "object",
         "type": "string"
        },
        {
         "name": "B3D__9_8",
         "rawType": "object",
         "type": "string"
        },
        {
         "name": "B3D__10_8",
         "rawType": "object",
         "type": "string"
        },
        {
         "name": "B3D__11_8",
         "rawType": "object",
         "type": "string"
        },
        {
         "name": "B3D__98_8",
         "rawType": "object",
         "type": "string"
        },
        {
         "name": "B3D__99_8",
         "rawType": "object",
         "type": "string"
        },
        {
         "name": "B3Di_8",
         "rawType": "object",
         "type": "unknown"
        },
        {
         "name": "B3E_8",
         "rawType": "object",
         "type": "string"
        },
        {
         "name": "B3D__1_9",
         "rawType": "object",
         "type": "string"
        },
        {
         "name": "B3D__2_9",
         "rawType": "object",
         "type": "string"
        },
        {
         "name": "B3D__3_9",
         "rawType": "object",
         "type": "string"
        },
        {
         "name": "B3D__4_9",
         "rawType": "object",
         "type": "string"
        },
        {
         "name": "B3D__5_9",
         "rawType": "object",
         "type": "string"
        },
        {
         "name": "B3D__6_9",
         "rawType": "object",
         "type": "string"
        },
        {
         "name": "B3D__7_9",
         "rawType": "object",
         "type": "string"
        },
        {
         "name": "B3D__8_9",
         "rawType": "object",
         "type": "string"
        },
        {
         "name": "B3D__9_9",
         "rawType": "object",
         "type": "string"
        },
        {
         "name": "B3D__10_9",
         "rawType": "object",
         "type": "string"
        },
        {
         "name": "B3D__11_9",
         "rawType": "object",
         "type": "string"
        },
        {
         "name": "B3D__98_9",
         "rawType": "object",
         "type": "string"
        },
        {
         "name": "B3D__99_9",
         "rawType": "object",
         "type": "string"
        },
        {
         "name": "B3Di_9",
         "rawType": "object",
         "type": "unknown"
        },
        {
         "name": "B3E_9",
         "rawType": "object",
         "type": "string"
        },
        {
         "name": "B3D__1_10",
         "rawType": "object",
         "type": "string"
        },
        {
         "name": "B3D__2_10",
         "rawType": "object",
         "type": "string"
        },
        {
         "name": "B3D__3_10",
         "rawType": "object",
         "type": "string"
        },
        {
         "name": "B3D__4_10",
         "rawType": "object",
         "type": "string"
        },
        {
         "name": "B3D__5_10",
         "rawType": "object",
         "type": "string"
        },
        {
         "name": "B3D__6_10",
         "rawType": "object",
         "type": "string"
        },
        {
         "name": "B3D__7_10",
         "rawType": "object",
         "type": "string"
        },
        {
         "name": "B3D__8_10",
         "rawType": "object",
         "type": "string"
        },
        {
         "name": "B3D__9_10",
         "rawType": "object",
         "type": "string"
        },
        {
         "name": "B3D__10_10",
         "rawType": "object",
         "type": "string"
        },
        {
         "name": "B3D__11_10",
         "rawType": "object",
         "type": "string"
        },
        {
         "name": "B3D__98_10",
         "rawType": "object",
         "type": "string"
        },
        {
         "name": "B3D__99_10",
         "rawType": "object",
         "type": "string"
        },
        {
         "name": "B3Di_10",
         "rawType": "float64",
         "type": "float"
        },
        {
         "name": "B3E_10",
         "rawType": "object",
         "type": "string"
        },
        {
         "name": "B3F1",
         "rawType": "object",
         "type": "unknown"
        },
        {
         "name": "B3F2",
         "rawType": "object",
         "type": "string"
        },
        {
         "name": "B3G",
         "rawType": "object",
         "type": "string"
        },
        {
         "name": "B3H1",
         "rawType": "object",
         "type": "string"
        },
        {
         "name": "B3H2",
         "rawType": "object",
         "type": "string"
        },
        {
         "name": "B3H3",
         "rawType": "object",
         "type": "string"
        },
        {
         "name": "B3H4",
         "rawType": "object",
         "type": "string"
        },
        {
         "name": "B3H5",
         "rawType": "object",
         "type": "string"
        },
        {
         "name": "B3H5i",
         "rawType": "object",
         "type": "unknown"
        },
        {
         "name": "B3H6",
         "rawType": "object",
         "type": "string"
        },
        {
         "name": "B3H6i",
         "rawType": "object",
         "type": "unknown"
        },
        {
         "name": "B3Ii",
         "rawType": "object",
         "type": "string"
        },
        {
         "name": "B3Iii",
         "rawType": "object",
         "type": "string"
        },
        {
         "name": "B3Iiii",
         "rawType": "object",
         "type": "string"
        },
        {
         "name": "IsSectionAnsweredLivelihood",
         "rawType": "int64",
         "type": "integer"
        },
        {
         "name": "CountLivelihood",
         "rawType": "int64",
         "type": "integer"
        },
        {
         "name": "C1_10",
         "rawType": "object",
         "type": "string"
        },
        {
         "name": "C1_11",
         "rawType": "object",
         "type": "string"
        },
        {
         "name": "C1_12",
         "rawType": "object",
         "type": "string"
        },
        {
         "name": "C1_12ai_CHK__0",
         "rawType": "object",
         "type": "string"
        },
        {
         "name": "C1_12ai_CHK__1",
         "rawType": "object",
         "type": "string"
        },
        {
         "name": "C1_12ai_CHK__2",
         "rawType": "object",
         "type": "string"
        },
        {
         "name": "C1_12ai_CHK__3",
         "rawType": "object",
         "type": "string"
        },
        {
         "name": "C1_12ai_CHK__4",
         "rawType": "object",
         "type": "string"
        },
        {
         "name": "C1_12ai_CHK__5",
         "rawType": "object",
         "type": "string"
        },
        {
         "name": "C1_12ai_CHK__6",
         "rawType": "object",
         "type": "string"
        },
        {
         "name": "C1_12ai_CHK__7",
         "rawType": "object",
         "type": "string"
        },
        {
         "name": "C1_12ai_CHK__8",
         "rawType": "object",
         "type": "string"
        },
        {
         "name": "C1_12ai_CHK__9",
         "rawType": "object",
         "type": "string"
        },
        {
         "name": "C1_12ai_CHK__10",
         "rawType": "object",
         "type": "string"
        },
        {
         "name": "C1_12ai_CHK__11",
         "rawType": "object",
         "type": "string"
        },
        {
         "name": "C1_12ai_CHK__12",
         "rawType": "object",
         "type": "string"
        },
        {
         "name": "C1_12ai_CHK__13",
         "rawType": "object",
         "type": "string"
        },
        {
         "name": "C1_12ai_CHK__14",
         "rawType": "object",
         "type": "string"
        },
        {
         "name": "C1_12ai_CHK__15",
         "rawType": "object",
         "type": "string"
        },
        {
         "name": "C1_12ai_CHK__16",
         "rawType": "object",
         "type": "string"
        },
        {
         "name": "C1_12ai_CHK__17",
         "rawType": "object",
         "type": "string"
        },
        {
         "name": "C1_12ai_CHK__18",
         "rawType": "object",
         "type": "string"
        },
        {
         "name": "C1_12ai_CHK__19",
         "rawType": "object",
         "type": "string"
        },
        {
         "name": "C1_12ai_CHK__20",
         "rawType": "object",
         "type": "string"
        },
        {
         "name": "C1_12ai_CHK__21",
         "rawType": "object",
         "type": "string"
        },
        {
         "name": "C1_12ai_CHK__22",
         "rawType": "object",
         "type": "string"
        },
        {
         "name": "C1_12ai_CHK__23",
         "rawType": "object",
         "type": "string"
        },
        {
         "name": "C1_12ai_CHK__24",
         "rawType": "object",
         "type": "string"
        },
        {
         "name": "C1_12ai_CHK__25",
         "rawType": "object",
         "type": "string"
        },
        {
         "name": "C1_12ai_CHK__26",
         "rawType": "object",
         "type": "string"
        },
        {
         "name": "C1_12ai_CHK__27",
         "rawType": "object",
         "type": "string"
        },
        {
         "name": "C1_12ai_CHK__28",
         "rawType": "object",
         "type": "string"
        },
        {
         "name": "C1_12ai_CHK__29",
         "rawType": "object",
         "type": "string"
        },
        {
         "name": "C1_12ai_CHK__30",
         "rawType": "object",
         "type": "string"
        },
        {
         "name": "C1_12ai_CHK__31",
         "rawType": "object",
         "type": "string"
        },
        {
         "name": "C1_12ai_CHK__32",
         "rawType": "object",
         "type": "string"
        },
        {
         "name": "C1_12ai_CHK__33",
         "rawType": "object",
         "type": "string"
        },
        {
         "name": "C1_12ai_CHK__34",
         "rawType": "object",
         "type": "string"
        },
        {
         "name": "C1_12ai_CHK__35",
         "rawType": "object",
         "type": "string"
        },
        {
         "name": "C1_12ai_CHK__36",
         "rawType": "object",
         "type": "string"
        },
        {
         "name": "C1_12ai_CHK__37",
         "rawType": "object",
         "type": "string"
        },
        {
         "name": "C1_12ai_CHK__38",
         "rawType": "object",
         "type": "string"
        },
        {
         "name": "C1_12ai_CHK__39",
         "rawType": "object",
         "type": "string"
        },
        {
         "name": "C1_12ai_CHK__40",
         "rawType": "object",
         "type": "string"
        },
        {
         "name": "C1_12ai_CHK__41",
         "rawType": "object",
         "type": "string"
        },
        {
         "name": "C1_12ai_CHK__42",
         "rawType": "object",
         "type": "string"
        },
        {
         "name": "C1_12ai_CHK__43",
         "rawType": "object",
         "type": "string"
        },
        {
         "name": "C1_12ai_CHK__44",
         "rawType": "object",
         "type": "string"
        },
        {
         "name": "C1_12ai_CHK__45",
         "rawType": "object",
         "type": "string"
        },
        {
         "name": "C1_12ai_CHK__46",
         "rawType": "object",
         "type": "string"
        },
        {
         "name": "C1_12ai_CHK__47",
         "rawType": "object",
         "type": "string"
        },
        {
         "name": "C1_12ai_CHK__48",
         "rawType": "object",
         "type": "string"
        },
        {
         "name": "C1_12ai_CHK__49",
         "rawType": "object",
         "type": "string"
        },
        {
         "name": "C1_12ai_CHK__50",
         "rawType": "object",
         "type": "string"
        },
        {
         "name": "C1_12ai_CHK__51",
         "rawType": "object",
         "type": "string"
        },
        {
         "name": "C1_12ai_CHK__52",
         "rawType": "object",
         "type": "string"
        },
        {
         "name": "C1_12ai_CHK__53",
         "rawType": "object",
         "type": "string"
        },
        {
         "name": "C1_12a",
         "rawType": "object",
         "type": "string"
        },
        {
         "name": "C1_12b",
         "rawType": "object",
         "type": "string"
        },
        {
         "name": "C1_1a",
         "rawType": "object",
         "type": "string"
        },
        {
         "name": "C1_1b",
         "rawType": "object",
         "type": "string"
        },
        {
         "name": "C1_2",
         "rawType": "object",
         "type": "string"
        },
        {
         "name": "C1_3",
         "rawType": "object",
         "type": "string"
        },
        {
         "name": "C1_4",
         "rawType": "object",
         "type": "string"
        },
        {
         "name": "C1_5",
         "rawType": "object",
         "type": "string"
        },
        {
         "name": "C1_6",
         "rawType": "object",
         "type": "string"
        },
        {
         "name": "C1_7",
         "rawType": "object",
         "type": "string"
        },
        {
         "name": "C1_8",
         "rawType": "object",
         "type": "string"
        },
        {
         "name": "C1_9",
         "rawType": "object",
         "type": "string"
        },
        {
         "name": "C1_13a",
         "rawType": "object",
         "type": "string"
        },
        {
         "name": "C1_13b",
         "rawType": "object",
         "type": "string"
        },
        {
         "name": "C1_13c",
         "rawType": "object",
         "type": "string"
        },
        {
         "name": "C1_14",
         "rawType": "object",
         "type": "string"
        },
        {
         "name": "C1_15",
         "rawType": "object",
         "type": "string"
        },
        {
         "name": "C1_16",
         "rawType": "object",
         "type": "string"
        },
        {
         "name": "C1_17",
         "rawType": "object",
         "type": "string"
        },
        {
         "name": "C1_18",
         "rawType": "object",
         "type": "string"
        },
        {
         "name": "C1_19",
         "rawType": "object",
         "type": "string"
        },
        {
         "name": "C1_20",
         "rawType": "object",
         "type": "string"
        },
        {
         "name": "C1_21",
         "rawType": "object",
         "type": "string"
        },
        {
         "name": "C1_22",
         "rawType": "object",
         "type": "string"
        },
        {
         "name": "C1_23",
         "rawType": "object",
         "type": "string"
        },
        {
         "name": "C1_24",
         "rawType": "object",
         "type": "string"
        },
        {
         "name": "C1_25",
         "rawType": "object",
         "type": "string"
        },
        {
         "name": "C1_26",
         "rawType": "object",
         "type": "string"
        },
        {
         "name": "C1_27",
         "rawType": "object",
         "type": "string"
        },
        {
         "name": "C1_28",
         "rawType": "object",
         "type": "string"
        },
        {
         "name": "C1_29",
         "rawType": "object",
         "type": "string"
        },
        {
         "name": "C1_30",
         "rawType": "object",
         "type": "string"
        },
        {
         "name": "C1_31",
         "rawType": "object",
         "type": "string"
        },
        {
         "name": "C1_32",
         "rawType": "object",
         "type": "string"
        },
        {
         "name": "C1_33",
         "rawType": "object",
         "type": "string"
        },
        {
         "name": "C1_34",
         "rawType": "object",
         "type": "string"
        },
        {
         "name": "C1_35",
         "rawType": "object",
         "type": "string"
        },
        {
         "name": "C1_36",
         "rawType": "object",
         "type": "string"
        },
        {
         "name": "C1_37",
         "rawType": "object",
         "type": "string"
        },
        {
         "name": "C1_38",
         "rawType": "object",
         "type": "string"
        },
        {
         "name": "C1_39",
         "rawType": "object",
         "type": "string"
        },
        {
         "name": "C1_40",
         "rawType": "object",
         "type": "string"
        },
        {
         "name": "C1_41",
         "rawType": "object",
         "type": "string"
        },
        {
         "name": "C1_42",
         "rawType": "object",
         "type": "string"
        },
        {
         "name": "CountSECC7",
         "rawType": "object",
         "type": "unknown"
        },
        {
         "name": "C1_43",
         "rawType": "object",
         "type": "string"
        },
        {
         "name": "C2_15",
         "rawType": "object",
         "type": "string"
        },
        {
         "name": "C2_16",
         "rawType": "object",
         "type": "string"
        },
        {
         "name": "C2_19",
         "rawType": "object",
         "type": "string"
        },
        {
         "name": "C2_23",
         "rawType": "object",
         "type": "string"
        },
        {
         "name": "C3",
         "rawType": "object",
         "type": "string"
        },
        {
         "name": "C3i",
         "rawType": "object",
         "type": "unknown"
        },
        {
         "name": "C4",
         "rawType": "object",
         "type": "string"
        },
        {
         "name": "C4i",
         "rawType": "object",
         "type": "unknown"
        },
        {
         "name": "D1A__1",
         "rawType": "object",
         "type": "string"
        },
        {
         "name": "D1A__2",
         "rawType": "object",
         "type": "string"
        },
        {
         "name": "D1A__99",
         "rawType": "object",
         "type": "string"
        },
        {
         "name": "D1Ai__1",
         "rawType": "object",
         "type": "string"
        },
        {
         "name": "D1Ai__2",
         "rawType": "object",
         "type": "string"
        },
        {
         "name": "D1Ai__3",
         "rawType": "object",
         "type": "string"
        },
        {
         "name": "D1Ai__4",
         "rawType": "object",
         "type": "string"
        },
        {
         "name": "D1Ai__5",
         "rawType": "object",
         "type": "string"
        },
        {
         "name": "D1Ai__6",
         "rawType": "object",
         "type": "string"
        },
        {
         "name": "D1Ai__7",
         "rawType": "object",
         "type": "string"
        },
        {
         "name": "D1Ai__8",
         "rawType": "object",
         "type": "string"
        },
        {
         "name": "D1Ai__98",
         "rawType": "object",
         "type": "string"
        },
        {
         "name": "D1Ai__99",
         "rawType": "object",
         "type": "string"
        },
        {
         "name": "D1B__1",
         "rawType": "object",
         "type": "string"
        },
        {
         "name": "D1B__2",
         "rawType": "object",
         "type": "string"
        },
        {
         "name": "D1B__3",
         "rawType": "object",
         "type": "string"
        },
        {
         "name": "D1B__4",
         "rawType": "object",
         "type": "string"
        },
        {
         "name": "D1B__5",
         "rawType": "object",
         "type": "string"
        },
        {
         "name": "D1B__6",
         "rawType": "object",
         "type": "string"
        },
        {
         "name": "D1B__7",
         "rawType": "object",
         "type": "string"
        },
        {
         "name": "D1B__8",
         "rawType": "int64",
         "type": "integer"
        },
        {
         "name": "D1B__9",
         "rawType": "int64",
         "type": "integer"
        },
        {
         "name": "D1B__98",
         "rawType": "object",
         "type": "string"
        },
        {
         "name": "D1B__99",
         "rawType": "object",
         "type": "string"
        },
        {
         "name": "D1Bi",
         "rawType": "object",
         "type": "unknown"
        },
        {
         "name": "D1C",
         "rawType": "object",
         "type": "string"
        },
        {
         "name": "D1Ci",
         "rawType": "object",
         "type": "unknown"
        },
        {
         "name": "D1D",
         "rawType": "object",
         "type": "string"
        },
        {
         "name": "D1E",
         "rawType": "object",
         "type": "string"
        },
        {
         "name": "D1Fi",
         "rawType": "object",
         "type": "string"
        },
        {
         "name": "D1Fii",
         "rawType": "object",
         "type": "string"
        },
        {
         "name": "D1G",
         "rawType": "object",
         "type": "string"
        },
        {
         "name": "D1H__1",
         "rawType": "object",
         "type": "string"
        },
        {
         "name": "D1H__2",
         "rawType": "object",
         "type": "string"
        },
        {
         "name": "D1H__3",
         "rawType": "object",
         "type": "string"
        },
        {
         "name": "D1H__4",
         "rawType": "object",
         "type": "string"
        },
        {
         "name": "D1H__5",
         "rawType": "object",
         "type": "string"
        },
        {
         "name": "D1I",
         "rawType": "object",
         "type": "string"
        },
        {
         "name": "D1J",
         "rawType": "object",
         "type": "string"
        },
        {
         "name": "D1K__1",
         "rawType": "object",
         "type": "string"
        },
        {
         "name": "D1K__2",
         "rawType": "object",
         "type": "string"
        },
        {
         "name": "D1K__3",
         "rawType": "object",
         "type": "string"
        },
        {
         "name": "D1K__4",
         "rawType": "object",
         "type": "string"
        },
        {
         "name": "D1K__5",
         "rawType": "object",
         "type": "string"
        },
        {
         "name": "D1K__6",
         "rawType": "object",
         "type": "string"
        },
        {
         "name": "D1K__7",
         "rawType": "object",
         "type": "string"
        },
        {
         "name": "D1K__98",
         "rawType": "object",
         "type": "string"
        },
        {
         "name": "D1K__99",
         "rawType": "object",
         "type": "string"
        },
        {
         "name": "D1L",
         "rawType": "object",
         "type": "string"
        },
        {
         "name": "D1Ma",
         "rawType": "object",
         "type": "string"
        },
        {
         "name": "D1Mb",
         "rawType": "object",
         "type": "string"
        },
        {
         "name": "D1Mc",
         "rawType": "object",
         "type": "string"
        },
        {
         "name": "D1Md",
         "rawType": "object",
         "type": "string"
        },
        {
         "name": "D1Me",
         "rawType": "object",
         "type": "string"
        },
        {
         "name": "D1Mf",
         "rawType": "object",
         "type": "string"
        },
        {
         "name": "D1",
         "rawType": "object",
         "type": "string"
        },
        {
         "name": "D2__1",
         "rawType": "object",
         "type": "string"
        },
        {
         "name": "D2__2",
         "rawType": "object",
         "type": "string"
        },
        {
         "name": "D2__3",
         "rawType": "object",
         "type": "string"
        },
        {
         "name": "D2__4",
         "rawType": "object",
         "type": "string"
        },
        {
         "name": "D2__5",
         "rawType": "object",
         "type": "string"
        },
        {
         "name": "D2__6",
         "rawType": "object",
         "type": "string"
        },
        {
         "name": "D2__7",
         "rawType": "object",
         "type": "string"
        },
        {
         "name": "D2__98",
         "rawType": "object",
         "type": "string"
        },
        {
         "name": "D2__99",
         "rawType": "object",
         "type": "string"
        },
        {
         "name": "D2i",
         "rawType": "object",
         "type": "unknown"
        },
        {
         "name": "D3__1",
         "rawType": "object",
         "type": "string"
        },
        {
         "name": "D3__2",
         "rawType": "object",
         "type": "string"
        },
        {
         "name": "D3__3",
         "rawType": "object",
         "type": "string"
        },
        {
         "name": "D3__4",
         "rawType": "object",
         "type": "string"
        },
        {
         "name": "D3__5",
         "rawType": "object",
         "type": "string"
        },
        {
         "name": "D3__6",
         "rawType": "object",
         "type": "string"
        },
        {
         "name": "D3__96",
         "rawType": "object",
         "type": "string"
        },
        {
         "name": "D3i",
         "rawType": "object",
         "type": "unknown"
        },
        {
         "name": "D4__1",
         "rawType": "object",
         "type": "string"
        },
        {
         "name": "D4__2",
         "rawType": "object",
         "type": "string"
        },
        {
         "name": "D4__3",
         "rawType": "object",
         "type": "string"
        },
        {
         "name": "D4__4",
         "rawType": "object",
         "type": "string"
        },
        {
         "name": "D4__5",
         "rawType": "object",
         "type": "string"
        },
        {
         "name": "D4__6",
         "rawType": "object",
         "type": "string"
        },
        {
         "name": "D4__7",
         "rawType": "object",
         "type": "string"
        },
        {
         "name": "D4__8",
         "rawType": "object",
         "type": "string"
        },
        {
         "name": "D4__9",
         "rawType": "object",
         "type": "string"
        },
        {
         "name": "D5",
         "rawType": "object",
         "type": "string"
        },
        {
         "name": "D5i",
         "rawType": "object",
         "type": "unknown"
        },
        {
         "name": "D6",
         "rawType": "object",
         "type": "string"
        },
        {
         "name": "D6i",
         "rawType": "object",
         "type": "unknown"
        },
        {
         "name": "D7",
         "rawType": "object",
         "type": "string"
        },
        {
         "name": "D7_other_specify",
         "rawType": "object",
         "type": "unknown"
        },
        {
         "name": "D8__1",
         "rawType": "object",
         "type": "string"
        },
        {
         "name": "D8__2",
         "rawType": "object",
         "type": "string"
        },
        {
         "name": "D8__3",
         "rawType": "object",
         "type": "string"
        },
        {
         "name": "D8__4",
         "rawType": "object",
         "type": "string"
        },
        {
         "name": "D8__5",
         "rawType": "object",
         "type": "string"
        },
        {
         "name": "D9__1",
         "rawType": "object",
         "type": "string"
        },
        {
         "name": "D9__2",
         "rawType": "object",
         "type": "string"
        },
        {
         "name": "D9__3",
         "rawType": "object",
         "type": "string"
        },
        {
         "name": "D9__4",
         "rawType": "object",
         "type": "string"
        },
        {
         "name": "D9__96",
         "rawType": "object",
         "type": "string"
        },
        {
         "name": "D10",
         "rawType": "object",
         "type": "string"
        },
        {
         "name": "D11__1",
         "rawType": "object",
         "type": "string"
        },
        {
         "name": "D11__3",
         "rawType": "object",
         "type": "string"
        },
        {
         "name": "D11__4",
         "rawType": "object",
         "type": "string"
        },
        {
         "name": "D11__5",
         "rawType": "object",
         "type": "string"
        },
        {
         "name": "D11__6",
         "rawType": "object",
         "type": "string"
        },
        {
         "name": "D11__7",
         "rawType": "object",
         "type": "string"
        },
        {
         "name": "D11__8",
         "rawType": "object",
         "type": "string"
        },
        {
         "name": "D11__98",
         "rawType": "object",
         "type": "string"
        },
        {
         "name": "D11__99",
         "rawType": "object",
         "type": "string"
        },
        {
         "name": "D12",
         "rawType": "object",
         "type": "string"
        },
        {
         "name": "D13_1",
         "rawType": "object",
         "type": "string"
        },
        {
         "name": "D13_2",
         "rawType": "object",
         "type": "string"
        },
        {
         "name": "D13_3",
         "rawType": "object",
         "type": "string"
        },
        {
         "name": "D13_4",
         "rawType": "object",
         "type": "string"
        },
        {
         "name": "D13_5",
         "rawType": "object",
         "type": "string"
        },
        {
         "name": "D13_6",
         "rawType": "object",
         "type": "string"
        },
        {
         "name": "D13_7",
         "rawType": "object",
         "type": "string"
        },
        {
         "name": "E1",
         "rawType": "object",
         "type": "string"
        },
        {
         "name": "E2__1",
         "rawType": "object",
         "type": "string"
        },
        {
         "name": "E2__2",
         "rawType": "object",
         "type": "string"
        },
        {
         "name": "E2__3",
         "rawType": "object",
         "type": "string"
        },
        {
         "name": "E2__4",
         "rawType": "object",
         "type": "string"
        },
        {
         "name": "E2__5",
         "rawType": "object",
         "type": "string"
        },
        {
         "name": "E2__6",
         "rawType": "object",
         "type": "string"
        },
        {
         "name": "E2__7",
         "rawType": "object",
         "type": "string"
        },
        {
         "name": "E2__8",
         "rawType": "object",
         "type": "string"
        },
        {
         "name": "E2__9",
         "rawType": "object",
         "type": "string"
        },
        {
         "name": "E2__10",
         "rawType": "object",
         "type": "string"
        },
        {
         "name": "E2__11",
         "rawType": "object",
         "type": "string"
        },
        {
         "name": "E2__12",
         "rawType": "object",
         "type": "string"
        },
        {
         "name": "E2__13",
         "rawType": "object",
         "type": "string"
        },
        {
         "name": "E2__14",
         "rawType": "int64",
         "type": "integer"
        },
        {
         "name": "E2__15",
         "rawType": "int64",
         "type": "integer"
        },
        {
         "name": "E3__15",
         "rawType": "int64",
         "type": "integer"
        },
        {
         "name": "E3__16",
         "rawType": "int64",
         "type": "integer"
        },
        {
         "name": "E3__17",
         "rawType": "int64",
         "type": "integer"
        },
        {
         "name": "E3__18",
         "rawType": "int64",
         "type": "integer"
        },
        {
         "name": "E2__96",
         "rawType": "object",
         "type": "string"
        },
        {
         "name": "E2__98",
         "rawType": "object",
         "type": "string"
        },
        {
         "name": "E2__99",
         "rawType": "object",
         "type": "string"
        },
        {
         "name": "E2_Other",
         "rawType": "object",
         "type": "unknown"
        },
        {
         "name": "E3__1",
         "rawType": "object",
         "type": "string"
        },
        {
         "name": "E3__2",
         "rawType": "object",
         "type": "string"
        },
        {
         "name": "E3__3",
         "rawType": "object",
         "type": "string"
        },
        {
         "name": "E3__4",
         "rawType": "object",
         "type": "string"
        },
        {
         "name": "E3__5",
         "rawType": "object",
         "type": "string"
        },
        {
         "name": "E3__6",
         "rawType": "object",
         "type": "string"
        },
        {
         "name": "E3__7",
         "rawType": "object",
         "type": "string"
        },
        {
         "name": "E3__8",
         "rawType": "object",
         "type": "string"
        },
        {
         "name": "E3__9",
         "rawType": "object",
         "type": "string"
        },
        {
         "name": "E3__10",
         "rawType": "object",
         "type": "string"
        },
        {
         "name": "E3__11",
         "rawType": "object",
         "type": "string"
        },
        {
         "name": "E3__12",
         "rawType": "object",
         "type": "string"
        },
        {
         "name": "E3__13",
         "rawType": "object",
         "type": "string"
        },
        {
         "name": "E3__14",
         "rawType": "object",
         "type": "string"
        },
        {
         "name": "E3__96",
         "rawType": "object",
         "type": "string"
        },
        {
         "name": "E3__98",
         "rawType": "object",
         "type": "string"
        },
        {
         "name": "E3__99",
         "rawType": "object",
         "type": "string"
        },
        {
         "name": "E3_Other",
         "rawType": "object",
         "type": "unknown"
        },
        {
         "name": "E4__1",
         "rawType": "object",
         "type": "string"
        },
        {
         "name": "E4__2",
         "rawType": "object",
         "type": "string"
        },
        {
         "name": "E4__3",
         "rawType": "object",
         "type": "string"
        },
        {
         "name": "E4__4",
         "rawType": "object",
         "type": "string"
        },
        {
         "name": "E4__5",
         "rawType": "object",
         "type": "string"
        },
        {
         "name": "E4__6",
         "rawType": "object",
         "type": "string"
        },
        {
         "name": "E4__7",
         "rawType": "object",
         "type": "string"
        },
        {
         "name": "E4__8",
         "rawType": "object",
         "type": "string"
        },
        {
         "name": "E4__9",
         "rawType": "int64",
         "type": "integer"
        },
        {
         "name": "E4__96",
         "rawType": "object",
         "type": "string"
        },
        {
         "name": "E4__98",
         "rawType": "object",
         "type": "string"
        },
        {
         "name": "E4__99",
         "rawType": "object",
         "type": "string"
        },
        {
         "name": "E4_Other_Specify",
         "rawType": "object",
         "type": "unknown"
        },
        {
         "name": "E5__1",
         "rawType": "object",
         "type": "string"
        },
        {
         "name": "E5__2",
         "rawType": "object",
         "type": "string"
        },
        {
         "name": "E5__3",
         "rawType": "object",
         "type": "string"
        },
        {
         "name": "E5__4",
         "rawType": "object",
         "type": "string"
        },
        {
         "name": "E5__5",
         "rawType": "object",
         "type": "string"
        },
        {
         "name": "E5__6",
         "rawType": "object",
         "type": "string"
        },
        {
         "name": "E5__7",
         "rawType": "object",
         "type": "string"
        },
        {
         "name": "E5__96",
         "rawType": "object",
         "type": "string"
        },
        {
         "name": "E5__98",
         "rawType": "object",
         "type": "string"
        },
        {
         "name": "E5__99",
         "rawType": "object",
         "type": "string"
        },
        {
         "name": "E5_Others_Specify",
         "rawType": "object",
         "type": "unknown"
        },
        {
         "name": "E1iA",
         "rawType": "object",
         "type": "string"
        },
        {
         "name": "E1iiA",
         "rawType": "object",
         "type": "string"
        },
        {
         "name": "E1iiiA",
         "rawType": "object",
         "type": "string"
        },
        {
         "name": "E1iiiA_Other",
         "rawType": "object",
         "type": "unknown"
        },
        {
         "name": "E1ivA",
         "rawType": "object",
         "type": "string"
        },
        {
         "name": "E1ivA_Other",
         "rawType": "object",
         "type": "unknown"
        },
        {
         "name": "E1vA",
         "rawType": "object",
         "type": "string"
        },
        {
         "name": "E1vA_Other",
         "rawType": "object",
         "type": "unknown"
        },
        {
         "name": "E1viA",
         "rawType": "object",
         "type": "string"
        },
        {
         "name": "E1viA_Other",
         "rawType": "object",
         "type": "unknown"
        },
        {
         "name": "E1viiA",
         "rawType": "object",
         "type": "string"
        },
        {
         "name": "E1viiiA",
         "rawType": "object",
         "type": "string"
        },
        {
         "name": "E1ixA",
         "rawType": "object",
         "type": "string"
        },
        {
         "name": "E1xA",
         "rawType": "object",
         "type": "string"
        },
        {
         "name": "E1xiA",
         "rawType": "object",
         "type": "string"
        },
        {
         "name": "E1iB",
         "rawType": "object",
         "type": "string"
        },
        {
         "name": "E1iiB",
         "rawType": "object",
         "type": "string"
        },
        {
         "name": "E1iiiB",
         "rawType": "object",
         "type": "string"
        },
        {
         "name": "E1iiiB_Other",
         "rawType": "object",
         "type": "unknown"
        },
        {
         "name": "E1ivB",
         "rawType": "object",
         "type": "string"
        },
        {
         "name": "E1ivB_Other",
         "rawType": "object",
         "type": "unknown"
        },
        {
         "name": "E1vB",
         "rawType": "object",
         "type": "string"
        },
        {
         "name": "E1vB_Other",
         "rawType": "object",
         "type": "unknown"
        },
        {
         "name": "E1viB",
         "rawType": "object",
         "type": "string"
        },
        {
         "name": "E1viB_Other",
         "rawType": "float64",
         "type": "float"
        },
        {
         "name": "E1viiB",
         "rawType": "object",
         "type": "string"
        },
        {
         "name": "E1viiiB",
         "rawType": "object",
         "type": "string"
        },
        {
         "name": "E1ixB",
         "rawType": "object",
         "type": "string"
        },
        {
         "name": "E1xB",
         "rawType": "object",
         "type": "string"
        },
        {
         "name": "E1xiB",
         "rawType": "object",
         "type": "string"
        },
        {
         "name": "E1iC",
         "rawType": "object",
         "type": "string"
        },
        {
         "name": "E1iiC",
         "rawType": "object",
         "type": "string"
        },
        {
         "name": "E1iiiC",
         "rawType": "object",
         "type": "string"
        },
        {
         "name": "E1iiiC_Other",
         "rawType": "float64",
         "type": "float"
        },
        {
         "name": "E1ivC",
         "rawType": "object",
         "type": "string"
        },
        {
         "name": "E1ivC_Other",
         "rawType": "object",
         "type": "unknown"
        },
        {
         "name": "E1vC",
         "rawType": "object",
         "type": "string"
        },
        {
         "name": "E1vC_Other",
         "rawType": "float64",
         "type": "float"
        },
        {
         "name": "E1viC",
         "rawType": "object",
         "type": "string"
        },
        {
         "name": "E1viC_Other",
         "rawType": "float64",
         "type": "float"
        },
        {
         "name": "E1viiC",
         "rawType": "object",
         "type": "string"
        },
        {
         "name": "E1viiiC",
         "rawType": "object",
         "type": "string"
        },
        {
         "name": "E1ixC",
         "rawType": "object",
         "type": "string"
        },
        {
         "name": "E1xC",
         "rawType": "object",
         "type": "string"
        },
        {
         "name": "E1xiC",
         "rawType": "object",
         "type": "string"
        },
        {
         "name": "E1iD",
         "rawType": "object",
         "type": "string"
        },
        {
         "name": "E1iiiD",
         "rawType": "object",
         "type": "string"
        },
        {
         "name": "E1iiiD_Other",
         "rawType": "float64",
         "type": "float"
        },
        {
         "name": "E1vD",
         "rawType": "object",
         "type": "string"
        },
        {
         "name": "E1vD_Other",
         "rawType": "float64",
         "type": "float"
        },
        {
         "name": "E1viD",
         "rawType": "object",
         "type": "string"
        },
        {
         "name": "E1viD_Other",
         "rawType": "object",
         "type": "unknown"
        },
        {
         "name": "E1viiD",
         "rawType": "object",
         "type": "string"
        },
        {
         "name": "E1viiiD",
         "rawType": "object",
         "type": "string"
        },
        {
         "name": "E1ixD",
         "rawType": "object",
         "type": "string"
        },
        {
         "name": "E1xD",
         "rawType": "object",
         "type": "string"
        },
        {
         "name": "E1iE",
         "rawType": "object",
         "type": "string"
        },
        {
         "name": "E1iiE",
         "rawType": "object",
         "type": "string"
        },
        {
         "name": "E1iiiE",
         "rawType": "object",
         "type": "string"
        },
        {
         "name": "E1iiiE_Other",
         "rawType": "object",
         "type": "unknown"
        },
        {
         "name": "E1vE",
         "rawType": "object",
         "type": "string"
        },
        {
         "name": "E1vE_Other",
         "rawType": "object",
         "type": "unknown"
        },
        {
         "name": "E1viiE",
         "rawType": "object",
         "type": "string"
        },
        {
         "name": "E1viiiE",
         "rawType": "object",
         "type": "string"
        },
        {
         "name": "E1ixE",
         "rawType": "object",
         "type": "string"
        },
        {
         "name": "E1xE",
         "rawType": "object",
         "type": "string"
        },
        {
         "name": "E1xiE",
         "rawType": "object",
         "type": "string"
        },
        {
         "name": "E1iF",
         "rawType": "object",
         "type": "string"
        },
        {
         "name": "E1iiF",
         "rawType": "object",
         "type": "string"
        },
        {
         "name": "E1iiiF",
         "rawType": "object",
         "type": "string"
        },
        {
         "name": "E1iiiF_Other",
         "rawType": "object",
         "type": "unknown"
        },
        {
         "name": "E1viiF",
         "rawType": "object",
         "type": "string"
        },
        {
         "name": "E1viiiF",
         "rawType": "object",
         "type": "string"
        },
        {
         "name": "E1ixF",
         "rawType": "object",
         "type": "string"
        },
        {
         "name": "E1xiF",
         "rawType": "object",
         "type": "string"
        },
        {
         "name": "E1iG",
         "rawType": "object",
         "type": "string"
        },
        {
         "name": "E1iiG",
         "rawType": "object",
         "type": "string"
        },
        {
         "name": "E1iiiG",
         "rawType": "object",
         "type": "string"
        },
        {
         "name": "E1iiiG_Other",
         "rawType": "object",
         "type": "unknown"
        },
        {
         "name": "E1ivG",
         "rawType": "object",
         "type": "string"
        },
        {
         "name": "E1ivG_Other",
         "rawType": "object",
         "type": "unknown"
        },
        {
         "name": "E1vG",
         "rawType": "object",
         "type": "string"
        },
        {
         "name": "E1vG_Other",
         "rawType": "object",
         "type": "unknown"
        },
        {
         "name": "E1viG",
         "rawType": "object",
         "type": "string"
        },
        {
         "name": "E1viG_Other",
         "rawType": "object",
         "type": "unknown"
        },
        {
         "name": "E1viiG",
         "rawType": "object",
         "type": "string"
        },
        {
         "name": "E1viiiG",
         "rawType": "object",
         "type": "string"
        },
        {
         "name": "E1ixG",
         "rawType": "object",
         "type": "string"
        },
        {
         "name": "E1xG",
         "rawType": "object",
         "type": "string"
        },
        {
         "name": "E1xiG",
         "rawType": "object",
         "type": "string"
        },
        {
         "name": "E1iH",
         "rawType": "object",
         "type": "string"
        },
        {
         "name": "E1iiH",
         "rawType": "object",
         "type": "string"
        },
        {
         "name": "E1iiiH",
         "rawType": "object",
         "type": "string"
        },
        {
         "name": "E1iiiH_Other",
         "rawType": "object",
         "type": "unknown"
        },
        {
         "name": "E1ivH",
         "rawType": "object",
         "type": "string"
        },
        {
         "name": "E1ivH_Other",
         "rawType": "object",
         "type": "unknown"
        },
        {
         "name": "E1vH",
         "rawType": "object",
         "type": "string"
        },
        {
         "name": "E1vH_Other",
         "rawType": "object",
         "type": "unknown"
        },
        {
         "name": "E1viH",
         "rawType": "object",
         "type": "string"
        },
        {
         "name": "E1viH_Other",
         "rawType": "object",
         "type": "unknown"
        },
        {
         "name": "E1viiH",
         "rawType": "object",
         "type": "string"
        },
        {
         "name": "E1viiiH",
         "rawType": "object",
         "type": "string"
        },
        {
         "name": "E1ixH",
         "rawType": "object",
         "type": "string"
        },
        {
         "name": "E1xH",
         "rawType": "object",
         "type": "string"
        },
        {
         "name": "E1xiH",
         "rawType": "object",
         "type": "string"
        },
        {
         "name": "E1iI",
         "rawType": "object",
         "type": "string"
        },
        {
         "name": "E1iiI",
         "rawType": "object",
         "type": "string"
        },
        {
         "name": "E1iiiI",
         "rawType": "object",
         "type": "string"
        },
        {
         "name": "E1iiiI_Other",
         "rawType": "object",
         "type": "unknown"
        },
        {
         "name": "E1vI",
         "rawType": "object",
         "type": "string"
        },
        {
         "name": "E1vI_Other",
         "rawType": "object",
         "type": "unknown"
        },
        {
         "name": "E1viI",
         "rawType": "object",
         "type": "string"
        },
        {
         "name": "E1viI_Other",
         "rawType": "float64",
         "type": "float"
        },
        {
         "name": "E1viiI",
         "rawType": "object",
         "type": "string"
        },
        {
         "name": "E1viiiI",
         "rawType": "object",
         "type": "string"
        },
        {
         "name": "E1ixI",
         "rawType": "object",
         "type": "string"
        },
        {
         "name": "E1xI",
         "rawType": "object",
         "type": "string"
        },
        {
         "name": "E1xiI",
         "rawType": "object",
         "type": "string"
        },
        {
         "name": "E1iJ",
         "rawType": "object",
         "type": "string"
        },
        {
         "name": "E1iiJ",
         "rawType": "object",
         "type": "string"
        },
        {
         "name": "E1iiiJ",
         "rawType": "object",
         "type": "string"
        },
        {
         "name": "E1iiiJ_Other",
         "rawType": "object",
         "type": "unknown"
        },
        {
         "name": "E1ivJ",
         "rawType": "object",
         "type": "string"
        },
        {
         "name": "E1ivJ_Other",
         "rawType": "object",
         "type": "unknown"
        },
        {
         "name": "E1vJ",
         "rawType": "object",
         "type": "string"
        },
        {
         "name": "E1vJ_Other",
         "rawType": "object",
         "type": "unknown"
        },
        {
         "name": "E1viJ",
         "rawType": "object",
         "type": "string"
        },
        {
         "name": "E1viJ_Other",
         "rawType": "float64",
         "type": "float"
        },
        {
         "name": "E1viiJ",
         "rawType": "object",
         "type": "string"
        },
        {
         "name": "E1viiiJ",
         "rawType": "object",
         "type": "string"
        },
        {
         "name": "E1ixJ",
         "rawType": "object",
         "type": "string"
        },
        {
         "name": "E1xJ",
         "rawType": "object",
         "type": "string"
        },
        {
         "name": "E1xiJ",
         "rawType": "object",
         "type": "string"
        },
        {
         "name": "E1iK",
         "rawType": "object",
         "type": "string"
        },
        {
         "name": "E1iiK",
         "rawType": "object",
         "type": "string"
        },
        {
         "name": "E1iiiK",
         "rawType": "object",
         "type": "string"
        },
        {
         "name": "E1iiiK_Other",
         "rawType": "object",
         "type": "unknown"
        },
        {
         "name": "E1ivK",
         "rawType": "object",
         "type": "string"
        },
        {
         "name": "E1ivK_Other",
         "rawType": "object",
         "type": "unknown"
        },
        {
         "name": "E1vK",
         "rawType": "object",
         "type": "string"
        },
        {
         "name": "E1vK_Other",
         "rawType": "object",
         "type": "unknown"
        },
        {
         "name": "E1viK",
         "rawType": "object",
         "type": "string"
        },
        {
         "name": "E1viK_Other",
         "rawType": "object",
         "type": "unknown"
        },
        {
         "name": "E1viiK",
         "rawType": "object",
         "type": "string"
        },
        {
         "name": "E1viiiK",
         "rawType": "object",
         "type": "string"
        },
        {
         "name": "E1ixK",
         "rawType": "object",
         "type": "string"
        },
        {
         "name": "E1xK",
         "rawType": "object",
         "type": "string"
        },
        {
         "name": "E1xiK",
         "rawType": "object",
         "type": "string"
        },
        {
         "name": "E1iL",
         "rawType": "object",
         "type": "string"
        },
        {
         "name": "E1iiL",
         "rawType": "object",
         "type": "string"
        },
        {
         "name": "E1iiiL",
         "rawType": "object",
         "type": "string"
        },
        {
         "name": "E1iiiL_Other",
         "rawType": "float64",
         "type": "float"
        },
        {
         "name": "E1ivL",
         "rawType": "object",
         "type": "string"
        },
        {
         "name": "E1ivL_Other",
         "rawType": "object",
         "type": "unknown"
        },
        {
         "name": "E1vL",
         "rawType": "object",
         "type": "string"
        },
        {
         "name": "E1vL_Other",
         "rawType": "float64",
         "type": "float"
        },
        {
         "name": "E1viL",
         "rawType": "object",
         "type": "string"
        },
        {
         "name": "E1viL_Other",
         "rawType": "object",
         "type": "unknown"
        },
        {
         "name": "E1viiL",
         "rawType": "object",
         "type": "string"
        },
        {
         "name": "E1viiiL",
         "rawType": "object",
         "type": "string"
        },
        {
         "name": "E1ixL",
         "rawType": "object",
         "type": "string"
        },
        {
         "name": "E1xL",
         "rawType": "object",
         "type": "string"
        },
        {
         "name": "E1xiL",
         "rawType": "object",
         "type": "string"
        },
        {
         "name": "E1iM",
         "rawType": "object",
         "type": "string"
        },
        {
         "name": "E1iiM",
         "rawType": "object",
         "type": "string"
        },
        {
         "name": "E1iiiM",
         "rawType": "object",
         "type": "string"
        },
        {
         "name": "E1iiiM_Other",
         "rawType": "object",
         "type": "unknown"
        },
        {
         "name": "E1vM",
         "rawType": "object",
         "type": "string"
        },
        {
         "name": "E1vM_Other",
         "rawType": "object",
         "type": "unknown"
        },
        {
         "name": "E1viM",
         "rawType": "object",
         "type": "string"
        },
        {
         "name": "E1viM_Other",
         "rawType": "object",
         "type": "unknown"
        },
        {
         "name": "E1viiM",
         "rawType": "object",
         "type": "string"
        },
        {
         "name": "E1viiiM",
         "rawType": "object",
         "type": "string"
        },
        {
         "name": "E1ixM",
         "rawType": "object",
         "type": "string"
        },
        {
         "name": "E1xM",
         "rawType": "object",
         "type": "string"
        },
        {
         "name": "E1xiM",
         "rawType": "object",
         "type": "string"
        },
        {
         "name": "E1iN",
         "rawType": "object",
         "type": "string"
        },
        {
         "name": "E1iiN",
         "rawType": "object",
         "type": "string"
        },
        {
         "name": "E1iiiN",
         "rawType": "object",
         "type": "string"
        },
        {
         "name": "E1iiiN_Other",
         "rawType": "object",
         "type": "unknown"
        },
        {
         "name": "E1vN",
         "rawType": "object",
         "type": "string"
        },
        {
         "name": "E1vN_Other",
         "rawType": "object",
         "type": "unknown"
        },
        {
         "name": "E1viN",
         "rawType": "object",
         "type": "string"
        },
        {
         "name": "E1viN_Other",
         "rawType": "object",
         "type": "unknown"
        },
        {
         "name": "E1viiN",
         "rawType": "object",
         "type": "string"
        },
        {
         "name": "E1viiiN",
         "rawType": "object",
         "type": "string"
        },
        {
         "name": "E1ixN",
         "rawType": "object",
         "type": "string"
        },
        {
         "name": "E1xN",
         "rawType": "object",
         "type": "string"
        },
        {
         "name": "E1xiN",
         "rawType": "object",
         "type": "string"
        },
        {
         "name": "E1iO",
         "rawType": "object",
         "type": "string"
        },
        {
         "name": "E1iiO",
         "rawType": "object",
         "type": "string"
        },
        {
         "name": "E1iiiO",
         "rawType": "object",
         "type": "string"
        },
        {
         "name": "E1iiiO_Other",
         "rawType": "object",
         "type": "unknown"
        },
        {
         "name": "E1vO",
         "rawType": "object",
         "type": "string"
        },
        {
         "name": "E1vO_Other",
         "rawType": "object",
         "type": "unknown"
        },
        {
         "name": "E1viO",
         "rawType": "object",
         "type": "string"
        },
        {
         "name": "E1viO_Other",
         "rawType": "object",
         "type": "unknown"
        },
        {
         "name": "E1viiO",
         "rawType": "object",
         "type": "string"
        },
        {
         "name": "E1viiiO",
         "rawType": "object",
         "type": "string"
        },
        {
         "name": "E1ixO",
         "rawType": "object",
         "type": "string"
        },
        {
         "name": "E1xO",
         "rawType": "object",
         "type": "string"
        },
        {
         "name": "E1xiO",
         "rawType": "object",
         "type": "string"
        },
        {
         "name": "E1iP",
         "rawType": "object",
         "type": "string"
        },
        {
         "name": "E1iiP",
         "rawType": "object",
         "type": "string"
        },
        {
         "name": "E1iiiP",
         "rawType": "object",
         "type": "string"
        },
        {
         "name": "E1iiiP_Other",
         "rawType": "object",
         "type": "unknown"
        },
        {
         "name": "E1ivP",
         "rawType": "object",
         "type": "string"
        },
        {
         "name": "E1ivP_Other",
         "rawType": "object",
         "type": "unknown"
        },
        {
         "name": "E1vP",
         "rawType": "object",
         "type": "string"
        },
        {
         "name": "E1vP_Other",
         "rawType": "float64",
         "type": "float"
        },
        {
         "name": "E1viP",
         "rawType": "object",
         "type": "string"
        },
        {
         "name": "E1viP_Other",
         "rawType": "object",
         "type": "unknown"
        },
        {
         "name": "E1viiP",
         "rawType": "object",
         "type": "string"
        },
        {
         "name": "E1viiiP",
         "rawType": "object",
         "type": "string"
        },
        {
         "name": "E1ixP",
         "rawType": "object",
         "type": "string"
        },
        {
         "name": "E1xP",
         "rawType": "object",
         "type": "string"
        },
        {
         "name": "E1xiP",
         "rawType": "object",
         "type": "string"
        },
        {
         "name": "E1iQ",
         "rawType": "object",
         "type": "string"
        },
        {
         "name": "E1iiiQ",
         "rawType": "object",
         "type": "string"
        },
        {
         "name": "E1iiiQ_Other",
         "rawType": "object",
         "type": "unknown"
        },
        {
         "name": "E1vQ",
         "rawType": "object",
         "type": "string"
        },
        {
         "name": "E1vQ_Other",
         "rawType": "object",
         "type": "unknown"
        },
        {
         "name": "E1viQ",
         "rawType": "object",
         "type": "string"
        },
        {
         "name": "E1viQ_Other",
         "rawType": "object",
         "type": "unknown"
        },
        {
         "name": "E1viiQ",
         "rawType": "object",
         "type": "string"
        },
        {
         "name": "E1viiiQ",
         "rawType": "object",
         "type": "string"
        },
        {
         "name": "E1ixQ",
         "rawType": "object",
         "type": "string"
        },
        {
         "name": "E1xQ",
         "rawType": "object",
         "type": "string"
        },
        {
         "name": "E1xiQ",
         "rawType": "object",
         "type": "string"
        },
        {
         "name": "E1iR",
         "rawType": "object",
         "type": "string"
        },
        {
         "name": "E1iiiR",
         "rawType": "object",
         "type": "string"
        },
        {
         "name": "E1iiiR_Other",
         "rawType": "object",
         "type": "unknown"
        },
        {
         "name": "E1viiR",
         "rawType": "object",
         "type": "string"
        },
        {
         "name": "E1viiiR",
         "rawType": "object",
         "type": "string"
        },
        {
         "name": "E1ixR",
         "rawType": "object",
         "type": "string"
        },
        {
         "name": "E1xiR",
         "rawType": "object",
         "type": "string"
        },
        {
         "name": "E1iS",
         "rawType": "object",
         "type": "string"
        },
        {
         "name": "E1iiS",
         "rawType": "object",
         "type": "string"
        },
        {
         "name": "E1iiiS",
         "rawType": "object",
         "type": "string"
        },
        {
         "name": "E1iiiS_Other",
         "rawType": "object",
         "type": "unknown"
        },
        {
         "name": "E1vS",
         "rawType": "object",
         "type": "string"
        },
        {
         "name": "E1vS_Other",
         "rawType": "object",
         "type": "unknown"
        },
        {
         "name": "E1viS",
         "rawType": "object",
         "type": "string"
        },
        {
         "name": "E1viS_Other",
         "rawType": "object",
         "type": "unknown"
        },
        {
         "name": "E1viiS",
         "rawType": "object",
         "type": "string"
        },
        {
         "name": "E1viiiS",
         "rawType": "object",
         "type": "string"
        },
        {
         "name": "E1ixS",
         "rawType": "object",
         "type": "string"
        },
        {
         "name": "E1xS",
         "rawType": "object",
         "type": "string"
        },
        {
         "name": "E1iT",
         "rawType": "object",
         "type": "string"
        },
        {
         "name": "E1iiT",
         "rawType": "object",
         "type": "string"
        },
        {
         "name": "E1iiiT",
         "rawType": "object",
         "type": "string"
        },
        {
         "name": "E1iiiT_Other",
         "rawType": "float64",
         "type": "float"
        },
        {
         "name": "E1ivT",
         "rawType": "object",
         "type": "string"
        },
        {
         "name": "E1ivT_Other",
         "rawType": "object",
         "type": "unknown"
        },
        {
         "name": "E1vT",
         "rawType": "object",
         "type": "string"
        },
        {
         "name": "E1vT_Other",
         "rawType": "float64",
         "type": "float"
        },
        {
         "name": "E1viT",
         "rawType": "object",
         "type": "string"
        },
        {
         "name": "E1viT_Other",
         "rawType": "float64",
         "type": "float"
        },
        {
         "name": "E1viiT",
         "rawType": "object",
         "type": "string"
        },
        {
         "name": "E1viiiT",
         "rawType": "object",
         "type": "string"
        },
        {
         "name": "E1ixT",
         "rawType": "object",
         "type": "string"
        },
        {
         "name": "E1xT",
         "rawType": "object",
         "type": "string"
        },
        {
         "name": "E1xiT",
         "rawType": "object",
         "type": "string"
        },
        {
         "name": "E1iU",
         "rawType": "object",
         "type": "string"
        },
        {
         "name": "E1iiU",
         "rawType": "object",
         "type": "string"
        },
        {
         "name": "E1iiiU",
         "rawType": "object",
         "type": "string"
        },
        {
         "name": "E1iiiU_Other",
         "rawType": "float64",
         "type": "float"
        },
        {
         "name": "E1ivU",
         "rawType": "object",
         "type": "string"
        },
        {
         "name": "E1ivU_Other",
         "rawType": "float64",
         "type": "float"
        },
        {
         "name": "E1vU",
         "rawType": "object",
         "type": "string"
        },
        {
         "name": "E1vU_Other",
         "rawType": "float64",
         "type": "float"
        },
        {
         "name": "E1viU",
         "rawType": "object",
         "type": "string"
        },
        {
         "name": "E1viU_Other",
         "rawType": "float64",
         "type": "float"
        },
        {
         "name": "E1viiU",
         "rawType": "object",
         "type": "string"
        },
        {
         "name": "E1viiiU",
         "rawType": "object",
         "type": "string"
        },
        {
         "name": "E1ixU",
         "rawType": "object",
         "type": "string"
        },
        {
         "name": "E1xU",
         "rawType": "object",
         "type": "string"
        },
        {
         "name": "E1xiU",
         "rawType": "object",
         "type": "string"
        },
        {
         "name": "E1_ii",
         "rawType": "object",
         "type": "string"
        },
        {
         "name": "E1_iii",
         "rawType": "object",
         "type": "string"
        },
        {
         "name": "E1_iii_Other",
         "rawType": "object",
         "type": "unknown"
        },
        {
         "name": "E2A",
         "rawType": "object",
         "type": "string"
        },
        {
         "name": "E2B",
         "rawType": "object",
         "type": "string"
        },
        {
         "name": "E2C__1",
         "rawType": "object",
         "type": "string"
        },
        {
         "name": "E2C__2",
         "rawType": "object",
         "type": "string"
        },
        {
         "name": "E2C__3",
         "rawType": "object",
         "type": "string"
        },
        {
         "name": "E2C__4",
         "rawType": "object",
         "type": "string"
        },
        {
         "name": "E2C__5",
         "rawType": "object",
         "type": "string"
        },
        {
         "name": "E2C__6",
         "rawType": "object",
         "type": "string"
        },
        {
         "name": "E2C__7",
         "rawType": "object",
         "type": "string"
        },
        {
         "name": "E2C__98",
         "rawType": "object",
         "type": "string"
        },
        {
         "name": "E2C__99",
         "rawType": "object",
         "type": "string"
        },
        {
         "name": "E2D__1",
         "rawType": "object",
         "type": "string"
        },
        {
         "name": "E2D__2",
         "rawType": "object",
         "type": "string"
        },
        {
         "name": "E2D__3",
         "rawType": "object",
         "type": "string"
        },
        {
         "name": "E2D__4",
         "rawType": "object",
         "type": "string"
        },
        {
         "name": "E2D__5",
         "rawType": "object",
         "type": "string"
        },
        {
         "name": "E2D__6",
         "rawType": "object",
         "type": "string"
        },
        {
         "name": "E2D__7",
         "rawType": "object",
         "type": "string"
        },
        {
         "name": "E2D__8",
         "rawType": "object",
         "type": "string"
        },
        {
         "name": "E2E",
         "rawType": "object",
         "type": "string"
        },
        {
         "name": "E2F__1",
         "rawType": "object",
         "type": "string"
        },
        {
         "name": "E2F__2",
         "rawType": "object",
         "type": "string"
        },
        {
         "name": "E2F__3",
         "rawType": "object",
         "type": "string"
        },
        {
         "name": "E2F__4",
         "rawType": "object",
         "type": "string"
        },
        {
         "name": "E2F__5",
         "rawType": "object",
         "type": "string"
        },
        {
         "name": "E2F__6",
         "rawType": "object",
         "type": "string"
        },
        {
         "name": "E2F__7",
         "rawType": "object",
         "type": "string"
        },
        {
         "name": "E2F__8",
         "rawType": "object",
         "type": "string"
        },
        {
         "name": "E2F__9",
         "rawType": "object",
         "type": "string"
        },
        {
         "name": "E2F__10",
         "rawType": "object",
         "type": "string"
        },
        {
         "name": "E2F__11",
         "rawType": "object",
         "type": "string"
        },
        {
         "name": "E2F__12",
         "rawType": "object",
         "type": "string"
        },
        {
         "name": "E2F__13",
         "rawType": "object",
         "type": "string"
        },
        {
         "name": "E2F__14",
         "rawType": "object",
         "type": "string"
        },
        {
         "name": "E2F__15",
         "rawType": "object",
         "type": "string"
        },
        {
         "name": "E2F__16",
         "rawType": "object",
         "type": "string"
        },
        {
         "name": "E2F__17",
         "rawType": "object",
         "type": "string"
        },
        {
         "name": "E2F__18",
         "rawType": "object",
         "type": "string"
        },
        {
         "name": "E2F__19",
         "rawType": "object",
         "type": "string"
        },
        {
         "name": "E2F__20",
         "rawType": "object",
         "type": "string"
        },
        {
         "name": "E2F__21",
         "rawType": "object",
         "type": "string"
        },
        {
         "name": "E2F__96",
         "rawType": "object",
         "type": "string"
        },
        {
         "name": "E2F_Others",
         "rawType": "object",
         "type": "unknown"
        },
        {
         "name": "E2G",
         "rawType": "object",
         "type": "string"
        },
        {
         "name": "E2G_Others",
         "rawType": "object",
         "type": "unknown"
        },
        {
         "name": "E2H__1",
         "rawType": "object",
         "type": "string"
        },
        {
         "name": "E2H__2",
         "rawType": "object",
         "type": "string"
        },
        {
         "name": "E2H__3",
         "rawType": "object",
         "type": "string"
        },
        {
         "name": "E2H__4",
         "rawType": "object",
         "type": "string"
        },
        {
         "name": "E2H__5",
         "rawType": "object",
         "type": "string"
        },
        {
         "name": "E2H__6",
         "rawType": "object",
         "type": "string"
        },
        {
         "name": "E2H__7",
         "rawType": "object",
         "type": "string"
        },
        {
         "name": "E2H__8",
         "rawType": "object",
         "type": "string"
        },
        {
         "name": "E2H__9",
         "rawType": "object",
         "type": "string"
        },
        {
         "name": "E2H__10",
         "rawType": "object",
         "type": "string"
        },
        {
         "name": "E2H__11",
         "rawType": "object",
         "type": "string"
        },
        {
         "name": "E2H__12",
         "rawType": "object",
         "type": "string"
        },
        {
         "name": "E2H__13",
         "rawType": "object",
         "type": "string"
        },
        {
         "name": "E2H__96",
         "rawType": "object",
         "type": "string"
        },
        {
         "name": "E2H__98",
         "rawType": "object",
         "type": "string"
        },
        {
         "name": "E2H__99",
         "rawType": "object",
         "type": "string"
        },
        {
         "name": "E3A__1",
         "rawType": "object",
         "type": "unknown"
        },
        {
         "name": "E3A__2",
         "rawType": "object",
         "type": "unknown"
        },
        {
         "name": "E3A__3",
         "rawType": "object",
         "type": "unknown"
        },
        {
         "name": "E3A__4",
         "rawType": "object",
         "type": "unknown"
        },
        {
         "name": "E3A__5",
         "rawType": "object",
         "type": "unknown"
        },
        {
         "name": "E3A__6",
         "rawType": "object",
         "type": "unknown"
        },
        {
         "name": "E3A__7",
         "rawType": "object",
         "type": "unknown"
        },
        {
         "name": "E3A__8",
         "rawType": "object",
         "type": "unknown"
        },
        {
         "name": "E3A__9",
         "rawType": "object",
         "type": "unknown"
        },
        {
         "name": "E3A__10",
         "rawType": "object",
         "type": "unknown"
        },
        {
         "name": "E3B__1",
         "rawType": "object",
         "type": "string"
        },
        {
         "name": "E3B__2",
         "rawType": "object",
         "type": "string"
        },
        {
         "name": "E3B__3",
         "rawType": "object",
         "type": "string"
        },
        {
         "name": "E3B__4",
         "rawType": "object",
         "type": "string"
        },
        {
         "name": "E3B__5",
         "rawType": "object",
         "type": "string"
        },
        {
         "name": "E3B__6",
         "rawType": "object",
         "type": "string"
        },
        {
         "name": "E3B__7",
         "rawType": "object",
         "type": "string"
        },
        {
         "name": "E3B__8",
         "rawType": "object",
         "type": "string"
        },
        {
         "name": "E3B__9",
         "rawType": "object",
         "type": "string"
        },
        {
         "name": "E3C",
         "rawType": "object",
         "type": "string"
        },
        {
         "name": "E3D__1",
         "rawType": "object",
         "type": "string"
        },
        {
         "name": "E3D__2",
         "rawType": "object",
         "type": "string"
        },
        {
         "name": "E3D__3",
         "rawType": "object",
         "type": "string"
        },
        {
         "name": "E3D__4",
         "rawType": "object",
         "type": "string"
        },
        {
         "name": "E3D__5",
         "rawType": "object",
         "type": "string"
        },
        {
         "name": "E3D__6",
         "rawType": "object",
         "type": "string"
        },
        {
         "name": "E3D__7",
         "rawType": "object",
         "type": "string"
        },
        {
         "name": "E3D__99",
         "rawType": "object",
         "type": "string"
        },
        {
         "name": "F1__1",
         "rawType": "object",
         "type": "unknown"
        },
        {
         "name": "F1__2",
         "rawType": "object",
         "type": "unknown"
        },
        {
         "name": "F1__3",
         "rawType": "object",
         "type": "unknown"
        },
        {
         "name": "F1__4",
         "rawType": "object",
         "type": "unknown"
        },
        {
         "name": "F1__5",
         "rawType": "int64",
         "type": "integer"
        },
        {
         "name": "F1__96",
         "rawType": "object",
         "type": "unknown"
        },
        {
         "name": "F1_Other",
         "rawType": "object",
         "type": "unknown"
        },
        {
         "name": "F2__1",
         "rawType": "object",
         "type": "string"
        },
        {
         "name": "F2__2",
         "rawType": "object",
         "type": "string"
        },
        {
         "name": "F2__3",
         "rawType": "object",
         "type": "string"
        },
        {
         "name": "F2__4",
         "rawType": "object",
         "type": "string"
        },
        {
         "name": "F2__5",
         "rawType": "object",
         "type": "string"
        },
        {
         "name": "F2__6",
         "rawType": "object",
         "type": "string"
        },
        {
         "name": "F2__7",
         "rawType": "object",
         "type": "string"
        },
        {
         "name": "F2__96",
         "rawType": "object",
         "type": "string"
        },
        {
         "name": "F2__98",
         "rawType": "object",
         "type": "string"
        },
        {
         "name": "F2__99",
         "rawType": "object",
         "type": "string"
        },
        {
         "name": "F2_Other",
         "rawType": "object",
         "type": "unknown"
        },
        {
         "name": "F3__1",
         "rawType": "object",
         "type": "string"
        },
        {
         "name": "F3__2",
         "rawType": "object",
         "type": "string"
        },
        {
         "name": "F3__3",
         "rawType": "object",
         "type": "string"
        },
        {
         "name": "F3__4",
         "rawType": "object",
         "type": "string"
        },
        {
         "name": "F3__5",
         "rawType": "object",
         "type": "string"
        },
        {
         "name": "F3__6",
         "rawType": "object",
         "type": "string"
        },
        {
         "name": "F3__7",
         "rawType": "object",
         "type": "string"
        },
        {
         "name": "F3__8",
         "rawType": "int64",
         "type": "integer"
        },
        {
         "name": "F3__96",
         "rawType": "object",
         "type": "string"
        },
        {
         "name": "F3__98",
         "rawType": "object",
         "type": "string"
        },
        {
         "name": "F3__99",
         "rawType": "object",
         "type": "string"
        },
        {
         "name": "F3_Other",
         "rawType": "object",
         "type": "unknown"
        },
        {
         "name": "F1iA",
         "rawType": "object",
         "type": "string"
        },
        {
         "name": "F1iA_Other",
         "rawType": "object",
         "type": "unknown"
        },
        {
         "name": "F1iiA",
         "rawType": "object",
         "type": "string"
        },
        {
         "name": "F1iiA_Other",
         "rawType": "object",
         "type": "unknown"
        },
        {
         "name": "F1iiiA",
         "rawType": "object",
         "type": "string"
        },
        {
         "name": "F1iiiA_Other",
         "rawType": "object",
         "type": "unknown"
        },
        {
         "name": "F1iB",
         "rawType": "object",
         "type": "string"
        },
        {
         "name": "F1iB_Other",
         "rawType": "object",
         "type": "unknown"
        },
        {
         "name": "F1iiB",
         "rawType": "object",
         "type": "string"
        },
        {
         "name": "F1iiB_Other",
         "rawType": "float64",
         "type": "float"
        },
        {
         "name": "F1iiiB",
         "rawType": "object",
         "type": "string"
        },
        {
         "name": "F1iiiB_Other",
         "rawType": "float64",
         "type": "float"
        },
        {
         "name": "F1iC",
         "rawType": "object",
         "type": "string"
        },
        {
         "name": "F1iC_Other",
         "rawType": "object",
         "type": "unknown"
        },
        {
         "name": "F1iiC",
         "rawType": "object",
         "type": "string"
        },
        {
         "name": "F1iiC_Other",
         "rawType": "object",
         "type": "unknown"
        },
        {
         "name": "F1iiiC",
         "rawType": "object",
         "type": "string"
        },
        {
         "name": "F1iiiC_Other",
         "rawType": "object",
         "type": "unknown"
        },
        {
         "name": "F1iD",
         "rawType": "object",
         "type": "string"
        },
        {
         "name": "F1iD_Other",
         "rawType": "object",
         "type": "unknown"
        },
        {
         "name": "F1iiD",
         "rawType": "object",
         "type": "string"
        },
        {
         "name": "F1iiD_Other",
         "rawType": "float64",
         "type": "float"
        },
        {
         "name": "F1iiiD",
         "rawType": "object",
         "type": "string"
        },
        {
         "name": "F1iiiD_Other",
         "rawType": "object",
         "type": "unknown"
        },
        {
         "name": "F1iE",
         "rawType": "object",
         "type": "string"
        },
        {
         "name": "F1iE_Other",
         "rawType": "object",
         "type": "unknown"
        },
        {
         "name": "F1iiE",
         "rawType": "object",
         "type": "string"
        },
        {
         "name": "F1iiE_Other",
         "rawType": "object",
         "type": "unknown"
        },
        {
         "name": "F1iiiE",
         "rawType": "object",
         "type": "string"
        },
        {
         "name": "F1iiiE_Other",
         "rawType": "object",
         "type": "unknown"
        },
        {
         "name": "F1iF",
         "rawType": "object",
         "type": "string"
        },
        {
         "name": "F1iF_Other",
         "rawType": "object",
         "type": "unknown"
        },
        {
         "name": "F1iiF",
         "rawType": "object",
         "type": "string"
        },
        {
         "name": "F1iiF_Other",
         "rawType": "object",
         "type": "unknown"
        },
        {
         "name": "F1iiiF",
         "rawType": "object",
         "type": "string"
        },
        {
         "name": "F1iiiF_Other",
         "rawType": "object",
         "type": "unknown"
        },
        {
         "name": "F1iG",
         "rawType": "object",
         "type": "string"
        },
        {
         "name": "F1iG_Other",
         "rawType": "object",
         "type": "unknown"
        },
        {
         "name": "F1iiG",
         "rawType": "object",
         "type": "string"
        },
        {
         "name": "F1iiG_Other",
         "rawType": "object",
         "type": "unknown"
        },
        {
         "name": "F1iiiG",
         "rawType": "object",
         "type": "string"
        },
        {
         "name": "F1iiiG_Other",
         "rawType": "object",
         "type": "unknown"
        },
        {
         "name": "F1iH",
         "rawType": "object",
         "type": "string"
        },
        {
         "name": "F1iH_Other",
         "rawType": "object",
         "type": "unknown"
        },
        {
         "name": "F1iiH",
         "rawType": "object",
         "type": "string"
        },
        {
         "name": "F1iiH_Other",
         "rawType": "object",
         "type": "unknown"
        },
        {
         "name": "F1iiiH",
         "rawType": "object",
         "type": "string"
        },
        {
         "name": "F1iiiH_Other",
         "rawType": "object",
         "type": "unknown"
        },
        {
         "name": "F1iI",
         "rawType": "object",
         "type": "string"
        },
        {
         "name": "F1iI_Other",
         "rawType": "object",
         "type": "unknown"
        },
        {
         "name": "F1iiI",
         "rawType": "object",
         "type": "string"
        },
        {
         "name": "F1iiI_Other",
         "rawType": "object",
         "type": "unknown"
        },
        {
         "name": "F1iiiI",
         "rawType": "object",
         "type": "string"
        },
        {
         "name": "F1iiiI_Other",
         "rawType": "object",
         "type": "unknown"
        },
        {
         "name": "F1iJ",
         "rawType": "object",
         "type": "string"
        },
        {
         "name": "F1iJ_Other",
         "rawType": "object",
         "type": "unknown"
        },
        {
         "name": "F1iiJ",
         "rawType": "object",
         "type": "string"
        },
        {
         "name": "F1iiJ_Other",
         "rawType": "float64",
         "type": "float"
        },
        {
         "name": "F1iiiJ",
         "rawType": "object",
         "type": "string"
        },
        {
         "name": "F1iiiJ_Other",
         "rawType": "object",
         "type": "unknown"
        },
        {
         "name": "F1iK",
         "rawType": "object",
         "type": "string"
        },
        {
         "name": "F1iK_Other",
         "rawType": "object",
         "type": "unknown"
        },
        {
         "name": "F1iiK",
         "rawType": "object",
         "type": "string"
        },
        {
         "name": "F1iiK_Other",
         "rawType": "object",
         "type": "unknown"
        },
        {
         "name": "F1iiiK",
         "rawType": "object",
         "type": "string"
        },
        {
         "name": "F1iiiK_Other",
         "rawType": "object",
         "type": "unknown"
        },
        {
         "name": "F1iL",
         "rawType": "object",
         "type": "string"
        },
        {
         "name": "F1iL_Other",
         "rawType": "object",
         "type": "unknown"
        },
        {
         "name": "F1iiL",
         "rawType": "object",
         "type": "string"
        },
        {
         "name": "F1iiL_Other",
         "rawType": "object",
         "type": "unknown"
        },
        {
         "name": "F1iiiL",
         "rawType": "object",
         "type": "string"
        },
        {
         "name": "F1iiiL_Other",
         "rawType": "object",
         "type": "unknown"
        },
        {
         "name": "F1_1",
         "rawType": "object",
         "type": "string"
        },
        {
         "name": "F1_1Other",
         "rawType": "object",
         "type": "unknown"
        },
        {
         "name": "F2Ai",
         "rawType": "object",
         "type": "string"
        },
        {
         "name": "F2Aii",
         "rawType": "object",
         "type": "string"
        },
        {
         "name": "F2Aiii",
         "rawType": "object",
         "type": "string"
        },
        {
         "name": "F2B__1",
         "rawType": "object",
         "type": "string"
        },
        {
         "name": "F2B__2",
         "rawType": "object",
         "type": "string"
        },
        {
         "name": "F2B__3",
         "rawType": "object",
         "type": "string"
        },
        {
         "name": "F2B__4",
         "rawType": "object",
         "type": "string"
        },
        {
         "name": "F2B__5",
         "rawType": "object",
         "type": "string"
        },
        {
         "name": "F2B__6",
         "rawType": "object",
         "type": "string"
        },
        {
         "name": "F2B__7",
         "rawType": "object",
         "type": "string"
        },
        {
         "name": "F2B__8",
         "rawType": "object",
         "type": "string"
        },
        {
         "name": "F2B__99",
         "rawType": "object",
         "type": "string"
        },
        {
         "name": "F2B_Others_Specify",
         "rawType": "object",
         "type": "unknown"
        },
        {
         "name": "F2C__1",
         "rawType": "object",
         "type": "string"
        },
        {
         "name": "F2C__2",
         "rawType": "object",
         "type": "string"
        },
        {
         "name": "F2C__3",
         "rawType": "object",
         "type": "string"
        },
        {
         "name": "F2C__4",
         "rawType": "object",
         "type": "string"
        },
        {
         "name": "F2C__5",
         "rawType": "object",
         "type": "string"
        },
        {
         "name": "F2C__6",
         "rawType": "object",
         "type": "string"
        },
        {
         "name": "F2C__7",
         "rawType": "object",
         "type": "string"
        },
        {
         "name": "F2C__8",
         "rawType": "object",
         "type": "string"
        },
        {
         "name": "F2C__9",
         "rawType": "int64",
         "type": "integer"
        },
        {
         "name": "F2C__98",
         "rawType": "object",
         "type": "string"
        },
        {
         "name": "F2C__99",
         "rawType": "object",
         "type": "string"
        },
        {
         "name": "F2C_Others_Specify",
         "rawType": "object",
         "type": "unknown"
        },
        {
         "name": "F2D__1",
         "rawType": "object",
         "type": "string"
        },
        {
         "name": "F2D__2",
         "rawType": "object",
         "type": "string"
        },
        {
         "name": "F2D__3",
         "rawType": "object",
         "type": "string"
        },
        {
         "name": "F2D__4",
         "rawType": "object",
         "type": "string"
        },
        {
         "name": "F2D__5",
         "rawType": "object",
         "type": "string"
        },
        {
         "name": "F2D__6",
         "rawType": "object",
         "type": "string"
        },
        {
         "name": "F2D__7",
         "rawType": "object",
         "type": "string"
        },
        {
         "name": "F2D__8",
         "rawType": "object",
         "type": "string"
        },
        {
         "name": "F2D_Others_Specify",
         "rawType": "object",
         "type": "unknown"
        },
        {
         "name": "F2E",
         "rawType": "object",
         "type": "string"
        },
        {
         "name": "F2Ei",
         "rawType": "object",
         "type": "unknown"
        },
        {
         "name": "F2Fa",
         "rawType": "object",
         "type": "string"
        },
        {
         "name": "F2Fai",
         "rawType": "object",
         "type": "unknown"
        },
        {
         "name": "F2Fb",
         "rawType": "object",
         "type": "string"
        },
        {
         "name": "F2Fbi",
         "rawType": "float64",
         "type": "float"
        },
        {
         "name": "F2Fc",
         "rawType": "object",
         "type": "string"
        },
        {
         "name": "F2Fci",
         "rawType": "object",
         "type": "unknown"
        },
        {
         "name": "F2G",
         "rawType": "object",
         "type": "string"
        },
        {
         "name": "F2Gi",
         "rawType": "object",
         "type": "unknown"
        },
        {
         "name": "F2H__1",
         "rawType": "object",
         "type": "string"
        },
        {
         "name": "F2H__2",
         "rawType": "object",
         "type": "string"
        },
        {
         "name": "F2H__3",
         "rawType": "object",
         "type": "string"
        },
        {
         "name": "F2H__4",
         "rawType": "object",
         "type": "string"
        },
        {
         "name": "F2I__1",
         "rawType": "object",
         "type": "string"
        },
        {
         "name": "F2I__2",
         "rawType": "object",
         "type": "string"
        },
        {
         "name": "F2I__3",
         "rawType": "object",
         "type": "string"
        },
        {
         "name": "F2I__4",
         "rawType": "object",
         "type": "string"
        },
        {
         "name": "F2I__96",
         "rawType": "object",
         "type": "string"
        },
        {
         "name": "F2I__98",
         "rawType": "object",
         "type": "string"
        },
        {
         "name": "F2I__99",
         "rawType": "object",
         "type": "string"
        },
        {
         "name": "F2Ii",
         "rawType": "object",
         "type": "unknown"
        },
        {
         "name": "F2J",
         "rawType": "object",
         "type": "string"
        },
        {
         "name": "F2K__1",
         "rawType": "object",
         "type": "string"
        },
        {
         "name": "F2K__2",
         "rawType": "object",
         "type": "string"
        },
        {
         "name": "F2K__3",
         "rawType": "object",
         "type": "string"
        },
        {
         "name": "F2K__4",
         "rawType": "object",
         "type": "string"
        },
        {
         "name": "F2K__5",
         "rawType": "object",
         "type": "string"
        },
        {
         "name": "F2K__6",
         "rawType": "object",
         "type": "string"
        },
        {
         "name": "F2K__7",
         "rawType": "object",
         "type": "string"
        },
        {
         "name": "F2K__98",
         "rawType": "object",
         "type": "string"
        },
        {
         "name": "F2K__99",
         "rawType": "object",
         "type": "string"
        },
        {
         "name": "F2Ki",
         "rawType": "object",
         "type": "unknown"
        },
        {
         "name": "F2L",
         "rawType": "object",
         "type": "string"
        },
        {
         "name": "F2Ma",
         "rawType": "object",
         "type": "string"
        },
        {
         "name": "F2Mb",
         "rawType": "object",
         "type": "string"
        },
        {
         "name": "F2Mc",
         "rawType": "object",
         "type": "string"
        },
        {
         "name": "F2Md",
         "rawType": "object",
         "type": "string"
        },
        {
         "name": "F2Me",
         "rawType": "object",
         "type": "string"
        },
        {
         "name": "F2Mf",
         "rawType": "object",
         "type": "string"
        },
        {
         "name": "G1A1__1",
         "rawType": "object",
         "type": "unknown"
        },
        {
         "name": "G1A1__2",
         "rawType": "object",
         "type": "unknown"
        },
        {
         "name": "G1A1__3",
         "rawType": "object",
         "type": "unknown"
        },
        {
         "name": "G1A1__4",
         "rawType": "object",
         "type": "unknown"
        },
        {
         "name": "G1A1__5",
         "rawType": "object",
         "type": "unknown"
        },
        {
         "name": "G1A1__6",
         "rawType": "object",
         "type": "unknown"
        },
        {
         "name": "G1A1__7",
         "rawType": "object",
         "type": "unknown"
        },
        {
         "name": "G1A1__8",
         "rawType": "object",
         "type": "unknown"
        },
        {
         "name": "G1A1__9",
         "rawType": "object",
         "type": "unknown"
        },
        {
         "name": "G1A1__10",
         "rawType": "object",
         "type": "unknown"
        },
        {
         "name": "G1A1__11",
         "rawType": "object",
         "type": "unknown"
        },
        {
         "name": "G1A1__13",
         "rawType": "object",
         "type": "unknown"
        },
        {
         "name": "G1A1__96",
         "rawType": "object",
         "type": "unknown"
        },
        {
         "name": "G1A1__98",
         "rawType": "object",
         "type": "unknown"
        },
        {
         "name": "G1A1__99",
         "rawType": "object",
         "type": "unknown"
        },
        {
         "name": "G1A1_Other",
         "rawType": "object",
         "type": "unknown"
        },
        {
         "name": "G1B1",
         "rawType": "object",
         "type": "string"
        },
        {
         "name": "G1B1_Other",
         "rawType": "object",
         "type": "unknown"
        },
        {
         "name": "G1A2__1",
         "rawType": "object",
         "type": "unknown"
        },
        {
         "name": "G1A2__2",
         "rawType": "object",
         "type": "unknown"
        },
        {
         "name": "G1A2__3",
         "rawType": "object",
         "type": "unknown"
        },
        {
         "name": "G1A2__4",
         "rawType": "object",
         "type": "unknown"
        },
        {
         "name": "G1A2__5",
         "rawType": "object",
         "type": "unknown"
        },
        {
         "name": "G1A2__6",
         "rawType": "object",
         "type": "unknown"
        },
        {
         "name": "G1A2__7",
         "rawType": "object",
         "type": "unknown"
        },
        {
         "name": "G1A2__8",
         "rawType": "object",
         "type": "unknown"
        },
        {
         "name": "G1A2__9",
         "rawType": "object",
         "type": "unknown"
        },
        {
         "name": "G1A2__10",
         "rawType": "object",
         "type": "unknown"
        },
        {
         "name": "G1A2__11",
         "rawType": "object",
         "type": "unknown"
        },
        {
         "name": "G1A2__13",
         "rawType": "object",
         "type": "unknown"
        },
        {
         "name": "G1A2__96",
         "rawType": "object",
         "type": "unknown"
        },
        {
         "name": "G1A2__98",
         "rawType": "object",
         "type": "unknown"
        },
        {
         "name": "G1A2__99",
         "rawType": "object",
         "type": "unknown"
        },
        {
         "name": "G1A2_Other",
         "rawType": "object",
         "type": "unknown"
        },
        {
         "name": "G1B2",
         "rawType": "object",
         "type": "string"
        },
        {
         "name": "G1B2_Other",
         "rawType": "object",
         "type": "unknown"
        },
        {
         "name": "G1A3__1",
         "rawType": "object",
         "type": "unknown"
        },
        {
         "name": "G1A3__2",
         "rawType": "object",
         "type": "unknown"
        },
        {
         "name": "G1A3__3",
         "rawType": "object",
         "type": "unknown"
        },
        {
         "name": "G1A3__4",
         "rawType": "object",
         "type": "unknown"
        },
        {
         "name": "G1A3__5",
         "rawType": "object",
         "type": "unknown"
        },
        {
         "name": "G1A3__6",
         "rawType": "object",
         "type": "unknown"
        },
        {
         "name": "G1A3__7",
         "rawType": "object",
         "type": "unknown"
        },
        {
         "name": "G1A3__8",
         "rawType": "object",
         "type": "unknown"
        },
        {
         "name": "G1A3__9",
         "rawType": "object",
         "type": "unknown"
        },
        {
         "name": "G1A3__10",
         "rawType": "object",
         "type": "unknown"
        },
        {
         "name": "G1A3__11",
         "rawType": "object",
         "type": "unknown"
        },
        {
         "name": "G1A3__13",
         "rawType": "object",
         "type": "unknown"
        },
        {
         "name": "G1A3__96",
         "rawType": "object",
         "type": "unknown"
        },
        {
         "name": "G1A3__98",
         "rawType": "object",
         "type": "unknown"
        },
        {
         "name": "G1A3__99",
         "rawType": "object",
         "type": "unknown"
        },
        {
         "name": "G1A3_Other",
         "rawType": "object",
         "type": "unknown"
        },
        {
         "name": "G1B3",
         "rawType": "object",
         "type": "string"
        },
        {
         "name": "G1B3_Other",
         "rawType": "object",
         "type": "unknown"
        },
        {
         "name": "G1A4__1",
         "rawType": "object",
         "type": "unknown"
        },
        {
         "name": "G1A4__2",
         "rawType": "object",
         "type": "unknown"
        },
        {
         "name": "G1A4__3",
         "rawType": "object",
         "type": "unknown"
        },
        {
         "name": "G1A4__4",
         "rawType": "object",
         "type": "unknown"
        },
        {
         "name": "G1A4__5",
         "rawType": "object",
         "type": "unknown"
        },
        {
         "name": "G1A4__6",
         "rawType": "object",
         "type": "unknown"
        },
        {
         "name": "G1A4__7",
         "rawType": "object",
         "type": "unknown"
        },
        {
         "name": "G1A4__8",
         "rawType": "object",
         "type": "unknown"
        },
        {
         "name": "G1A4__9",
         "rawType": "object",
         "type": "unknown"
        },
        {
         "name": "G1A4__10",
         "rawType": "object",
         "type": "unknown"
        },
        {
         "name": "G1A4__11",
         "rawType": "object",
         "type": "unknown"
        },
        {
         "name": "G1A4__13",
         "rawType": "object",
         "type": "unknown"
        },
        {
         "name": "G1A4__96",
         "rawType": "object",
         "type": "unknown"
        },
        {
         "name": "G1A4__98",
         "rawType": "object",
         "type": "unknown"
        },
        {
         "name": "G1A4__99",
         "rawType": "object",
         "type": "unknown"
        },
        {
         "name": "G1A4_Other",
         "rawType": "object",
         "type": "unknown"
        },
        {
         "name": "G1B4",
         "rawType": "object",
         "type": "string"
        },
        {
         "name": "G1B4_Other",
         "rawType": "object",
         "type": "unknown"
        },
        {
         "name": "G1A5__1",
         "rawType": "object",
         "type": "unknown"
        },
        {
         "name": "G1A5__2",
         "rawType": "object",
         "type": "unknown"
        },
        {
         "name": "G1A5__3",
         "rawType": "object",
         "type": "unknown"
        },
        {
         "name": "G1A5__4",
         "rawType": "object",
         "type": "unknown"
        },
        {
         "name": "G1A5__5",
         "rawType": "object",
         "type": "unknown"
        },
        {
         "name": "G1A5__6",
         "rawType": "object",
         "type": "unknown"
        },
        {
         "name": "G1A5__7",
         "rawType": "object",
         "type": "unknown"
        },
        {
         "name": "G1A5__8",
         "rawType": "object",
         "type": "unknown"
        },
        {
         "name": "G1A5__9",
         "rawType": "object",
         "type": "unknown"
        },
        {
         "name": "G1A5__10",
         "rawType": "object",
         "type": "unknown"
        },
        {
         "name": "G1A5__11",
         "rawType": "object",
         "type": "unknown"
        },
        {
         "name": "G1A5__12",
         "rawType": "object",
         "type": "unknown"
        },
        {
         "name": "G1A5__13",
         "rawType": "object",
         "type": "unknown"
        },
        {
         "name": "G1A5__96",
         "rawType": "object",
         "type": "unknown"
        },
        {
         "name": "G1A5__98",
         "rawType": "object",
         "type": "unknown"
        },
        {
         "name": "G1A5__99",
         "rawType": "object",
         "type": "unknown"
        },
        {
         "name": "G1A5_Other",
         "rawType": "object",
         "type": "unknown"
        },
        {
         "name": "G1B5",
         "rawType": "object",
         "type": "string"
        },
        {
         "name": "G1B5_Other",
         "rawType": "object",
         "type": "unknown"
        },
        {
         "name": "G1A6__1",
         "rawType": "object",
         "type": "unknown"
        },
        {
         "name": "G1A6__2",
         "rawType": "object",
         "type": "unknown"
        },
        {
         "name": "G1A6__3",
         "rawType": "object",
         "type": "unknown"
        },
        {
         "name": "G1A6__4",
         "rawType": "object",
         "type": "unknown"
        },
        {
         "name": "G1A6__5",
         "rawType": "object",
         "type": "unknown"
        },
        {
         "name": "G1A6__6",
         "rawType": "object",
         "type": "unknown"
        },
        {
         "name": "G1A6__7",
         "rawType": "object",
         "type": "unknown"
        },
        {
         "name": "G1A6__8",
         "rawType": "object",
         "type": "unknown"
        },
        {
         "name": "G1A6__9",
         "rawType": "object",
         "type": "unknown"
        },
        {
         "name": "G1A6__10",
         "rawType": "object",
         "type": "unknown"
        },
        {
         "name": "G1A6__11",
         "rawType": "object",
         "type": "unknown"
        },
        {
         "name": "G1A6__12",
         "rawType": "object",
         "type": "unknown"
        },
        {
         "name": "G1A6__13",
         "rawType": "object",
         "type": "unknown"
        },
        {
         "name": "G1A6__96",
         "rawType": "object",
         "type": "unknown"
        },
        {
         "name": "G1A6__98",
         "rawType": "object",
         "type": "unknown"
        },
        {
         "name": "G1A6__99",
         "rawType": "object",
         "type": "unknown"
        },
        {
         "name": "G1A6_Other",
         "rawType": "object",
         "type": "unknown"
        },
        {
         "name": "G1B6",
         "rawType": "object",
         "type": "string"
        },
        {
         "name": "G1B6_Other",
         "rawType": "object",
         "type": "unknown"
        },
        {
         "name": "G1A7__1",
         "rawType": "object",
         "type": "unknown"
        },
        {
         "name": "G1A7__2",
         "rawType": "object",
         "type": "unknown"
        },
        {
         "name": "G1A7__3",
         "rawType": "object",
         "type": "unknown"
        },
        {
         "name": "G1A7__4",
         "rawType": "object",
         "type": "unknown"
        },
        {
         "name": "G1A7__5",
         "rawType": "object",
         "type": "unknown"
        },
        {
         "name": "G1A7__6",
         "rawType": "object",
         "type": "unknown"
        },
        {
         "name": "G1A7__7",
         "rawType": "object",
         "type": "unknown"
        },
        {
         "name": "G1A7__8",
         "rawType": "object",
         "type": "unknown"
        },
        {
         "name": "G1A7__9",
         "rawType": "object",
         "type": "unknown"
        },
        {
         "name": "G1A7__10",
         "rawType": "object",
         "type": "unknown"
        },
        {
         "name": "G1A7__11",
         "rawType": "object",
         "type": "unknown"
        },
        {
         "name": "G1A7__12",
         "rawType": "object",
         "type": "unknown"
        },
        {
         "name": "G1A7__13",
         "rawType": "object",
         "type": "unknown"
        },
        {
         "name": "G1A7__96",
         "rawType": "object",
         "type": "unknown"
        },
        {
         "name": "G1A7__98",
         "rawType": "object",
         "type": "unknown"
        },
        {
         "name": "G1A7__99",
         "rawType": "object",
         "type": "unknown"
        },
        {
         "name": "G1A7_Other",
         "rawType": "object",
         "type": "unknown"
        },
        {
         "name": "G1B7",
         "rawType": "object",
         "type": "string"
        },
        {
         "name": "G1B7_Other",
         "rawType": "object",
         "type": "unknown"
        },
        {
         "name": "G1A8__1",
         "rawType": "object",
         "type": "unknown"
        },
        {
         "name": "G1A8__2",
         "rawType": "object",
         "type": "unknown"
        },
        {
         "name": "G1A8__3",
         "rawType": "object",
         "type": "unknown"
        },
        {
         "name": "G1A8__4",
         "rawType": "object",
         "type": "unknown"
        },
        {
         "name": "G1A8__5",
         "rawType": "object",
         "type": "unknown"
        },
        {
         "name": "G1A8__6",
         "rawType": "object",
         "type": "unknown"
        },
        {
         "name": "G1A8__7",
         "rawType": "object",
         "type": "unknown"
        },
        {
         "name": "G1A8__8",
         "rawType": "object",
         "type": "unknown"
        },
        {
         "name": "G1A8__9",
         "rawType": "object",
         "type": "unknown"
        },
        {
         "name": "G1A8__10",
         "rawType": "object",
         "type": "unknown"
        },
        {
         "name": "G1A8__11",
         "rawType": "object",
         "type": "unknown"
        },
        {
         "name": "G1A8__12",
         "rawType": "object",
         "type": "unknown"
        },
        {
         "name": "G1A8__13",
         "rawType": "object",
         "type": "unknown"
        },
        {
         "name": "G1A8__96",
         "rawType": "object",
         "type": "unknown"
        },
        {
         "name": "G1A8__98",
         "rawType": "object",
         "type": "unknown"
        },
        {
         "name": "G1A8__99",
         "rawType": "object",
         "type": "unknown"
        },
        {
         "name": "G1A_8Other",
         "rawType": "object",
         "type": "unknown"
        },
        {
         "name": "G1B8",
         "rawType": "object",
         "type": "string"
        },
        {
         "name": "G1B8_Other",
         "rawType": "object",
         "type": "unknown"
        },
        {
         "name": "G1A9__1",
         "rawType": "object",
         "type": "unknown"
        },
        {
         "name": "G1A9__2",
         "rawType": "object",
         "type": "unknown"
        },
        {
         "name": "G1A9__3",
         "rawType": "object",
         "type": "unknown"
        },
        {
         "name": "G1A9__4",
         "rawType": "object",
         "type": "unknown"
        },
        {
         "name": "G1A9__5",
         "rawType": "object",
         "type": "unknown"
        },
        {
         "name": "G1A9__6",
         "rawType": "object",
         "type": "unknown"
        },
        {
         "name": "G1A9__7",
         "rawType": "object",
         "type": "unknown"
        },
        {
         "name": "G1A9__8",
         "rawType": "object",
         "type": "unknown"
        },
        {
         "name": "G1A9__9",
         "rawType": "object",
         "type": "unknown"
        },
        {
         "name": "G1A9__10",
         "rawType": "object",
         "type": "unknown"
        },
        {
         "name": "G1A9__11",
         "rawType": "object",
         "type": "unknown"
        },
        {
         "name": "G1A9__12",
         "rawType": "object",
         "type": "unknown"
        },
        {
         "name": "G1A9__13",
         "rawType": "object",
         "type": "unknown"
        },
        {
         "name": "G1A9__96",
         "rawType": "object",
         "type": "unknown"
        },
        {
         "name": "G1A9__98",
         "rawType": "object",
         "type": "unknown"
        },
        {
         "name": "G1A9__99",
         "rawType": "object",
         "type": "unknown"
        },
        {
         "name": "G1A9_Other",
         "rawType": "object",
         "type": "unknown"
        },
        {
         "name": "G1B9",
         "rawType": "object",
         "type": "string"
        },
        {
         "name": "G1B9_Other",
         "rawType": "object",
         "type": "unknown"
        },
        {
         "name": "G2",
         "rawType": "object",
         "type": "string"
        },
        {
         "name": "G3__0",
         "rawType": "object",
         "type": "string"
        },
        {
         "name": "G3__1",
         "rawType": "object",
         "type": "string"
        },
        {
         "name": "G3__2",
         "rawType": "object",
         "type": "string"
        },
        {
         "name": "G3__3",
         "rawType": "object",
         "type": "string"
        },
        {
         "name": "G3__4",
         "rawType": "object",
         "type": "string"
        },
        {
         "name": "G3__5",
         "rawType": "object",
         "type": "string"
        },
        {
         "name": "G3__6",
         "rawType": "object",
         "type": "string"
        },
        {
         "name": "G3__7",
         "rawType": "object",
         "type": "string"
        },
        {
         "name": "G3__8",
         "rawType": "object",
         "type": "string"
        },
        {
         "name": "G3__9",
         "rawType": "object",
         "type": "string"
        },
        {
         "name": "G3__10",
         "rawType": "object",
         "type": "string"
        },
        {
         "name": "G3__11",
         "rawType": "object",
         "type": "string"
        },
        {
         "name": "G3__12",
         "rawType": "object",
         "type": "string"
        },
        {
         "name": "G3__13",
         "rawType": "object",
         "type": "string"
        },
        {
         "name": "G3__14",
         "rawType": "object",
         "type": "string"
        },
        {
         "name": "G3__15",
         "rawType": "object",
         "type": "string"
        },
        {
         "name": "G3__16",
         "rawType": "object",
         "type": "string"
        },
        {
         "name": "G3__17",
         "rawType": "object",
         "type": "string"
        },
        {
         "name": "G3__18",
         "rawType": "object",
         "type": "string"
        },
        {
         "name": "G3__19",
         "rawType": "object",
         "type": "string"
        },
        {
         "name": "G3__20",
         "rawType": "object",
         "type": "string"
        },
        {
         "name": "G3__21",
         "rawType": "object",
         "type": "string"
        },
        {
         "name": "G3__22",
         "rawType": "object",
         "type": "string"
        },
        {
         "name": "G3__23",
         "rawType": "object",
         "type": "string"
        },
        {
         "name": "G3__24",
         "rawType": "object",
         "type": "string"
        },
        {
         "name": "G3__25",
         "rawType": "object",
         "type": "string"
        },
        {
         "name": "G3__26",
         "rawType": "object",
         "type": "string"
        },
        {
         "name": "G3__27",
         "rawType": "object",
         "type": "string"
        },
        {
         "name": "G3__28",
         "rawType": "object",
         "type": "string"
        },
        {
         "name": "G3__29",
         "rawType": "object",
         "type": "string"
        },
        {
         "name": "G3__30",
         "rawType": "object",
         "type": "string"
        },
        {
         "name": "G3__31",
         "rawType": "object",
         "type": "string"
        },
        {
         "name": "G3__32",
         "rawType": "object",
         "type": "string"
        },
        {
         "name": "G3__33",
         "rawType": "object",
         "type": "string"
        },
        {
         "name": "G3__34",
         "rawType": "object",
         "type": "string"
        },
        {
         "name": "G3__35",
         "rawType": "object",
         "type": "string"
        },
        {
         "name": "G3__36",
         "rawType": "object",
         "type": "string"
        },
        {
         "name": "G3__37",
         "rawType": "object",
         "type": "string"
        },
        {
         "name": "G3__38",
         "rawType": "object",
         "type": "string"
        },
        {
         "name": "G3__39",
         "rawType": "object",
         "type": "string"
        },
        {
         "name": "G3__40",
         "rawType": "object",
         "type": "string"
        },
        {
         "name": "G3__41",
         "rawType": "object",
         "type": "string"
        },
        {
         "name": "G3__42",
         "rawType": "object",
         "type": "string"
        },
        {
         "name": "G3__43",
         "rawType": "object",
         "type": "string"
        },
        {
         "name": "G3__44",
         "rawType": "object",
         "type": "string"
        },
        {
         "name": "G3__45",
         "rawType": "object",
         "type": "string"
        },
        {
         "name": "G3__46",
         "rawType": "object",
         "type": "string"
        },
        {
         "name": "G3__47",
         "rawType": "object",
         "type": "string"
        },
        {
         "name": "G3__48",
         "rawType": "object",
         "type": "string"
        },
        {
         "name": "G3__49",
         "rawType": "object",
         "type": "string"
        },
        {
         "name": "G3__50",
         "rawType": "object",
         "type": "string"
        },
        {
         "name": "G3__51",
         "rawType": "object",
         "type": "string"
        },
        {
         "name": "G3__52",
         "rawType": "object",
         "type": "string"
        },
        {
         "name": "G3__53",
         "rawType": "object",
         "type": "string"
        },
        {
         "name": "G3__54",
         "rawType": "object",
         "type": "string"
        },
        {
         "name": "G3__55",
         "rawType": "object",
         "type": "string"
        },
        {
         "name": "G3__56",
         "rawType": "object",
         "type": "string"
        },
        {
         "name": "G3__57",
         "rawType": "object",
         "type": "string"
        },
        {
         "name": "G3__58",
         "rawType": "object",
         "type": "string"
        },
        {
         "name": "G3__59",
         "rawType": "object",
         "type": "string"
        },
        {
         "name": "G3__60",
         "rawType": "object",
         "type": "string"
        },
        {
         "name": "G3__61",
         "rawType": "object",
         "type": "string"
        },
        {
         "name": "G3__62",
         "rawType": "object",
         "type": "string"
        },
        {
         "name": "G3__63",
         "rawType": "object",
         "type": "string"
        },
        {
         "name": "G3__64",
         "rawType": "object",
         "type": "string"
        },
        {
         "name": "G3__65",
         "rawType": "object",
         "type": "string"
        },
        {
         "name": "G3__66",
         "rawType": "object",
         "type": "string"
        },
        {
         "name": "G3__67",
         "rawType": "object",
         "type": "string"
        },
        {
         "name": "G3__68",
         "rawType": "object",
         "type": "string"
        },
        {
         "name": "G3__69",
         "rawType": "object",
         "type": "string"
        },
        {
         "name": "G3__70",
         "rawType": "object",
         "type": "string"
        },
        {
         "name": "G3__71",
         "rawType": "object",
         "type": "string"
        },
        {
         "name": "G3__72",
         "rawType": "object",
         "type": "string"
        },
        {
         "name": "G3__73",
         "rawType": "object",
         "type": "string"
        },
        {
         "name": "G3__74",
         "rawType": "object",
         "type": "string"
        },
        {
         "name": "G3__75",
         "rawType": "object",
         "type": "string"
        },
        {
         "name": "G3__76",
         "rawType": "object",
         "type": "string"
        },
        {
         "name": "G3__77",
         "rawType": "object",
         "type": "string"
        },
        {
         "name": "G3__78",
         "rawType": "object",
         "type": "string"
        },
        {
         "name": "G3__79",
         "rawType": "object",
         "type": "string"
        },
        {
         "name": "G3__80",
         "rawType": "object",
         "type": "string"
        },
        {
         "name": "G3__81",
         "rawType": "object",
         "type": "string"
        },
        {
         "name": "G3__82",
         "rawType": "object",
         "type": "string"
        },
        {
         "name": "G3__83",
         "rawType": "object",
         "type": "string"
        },
        {
         "name": "G3__84",
         "rawType": "object",
         "type": "string"
        },
        {
         "name": "G3__85",
         "rawType": "object",
         "type": "string"
        },
        {
         "name": "G3__86",
         "rawType": "object",
         "type": "string"
        },
        {
         "name": "G3__87",
         "rawType": "object",
         "type": "string"
        },
        {
         "name": "G3__88",
         "rawType": "object",
         "type": "string"
        },
        {
         "name": "G3__89",
         "rawType": "object",
         "type": "string"
        },
        {
         "name": "G3__90",
         "rawType": "object",
         "type": "string"
        },
        {
         "name": "G3__91",
         "rawType": "object",
         "type": "string"
        },
        {
         "name": "G3__92",
         "rawType": "object",
         "type": "string"
        },
        {
         "name": "G3__93",
         "rawType": "object",
         "type": "string"
        },
        {
         "name": "G3__94",
         "rawType": "object",
         "type": "string"
        },
        {
         "name": "G3__95",
         "rawType": "object",
         "type": "string"
        },
        {
         "name": "G3__96",
         "rawType": "object",
         "type": "string"
        },
        {
         "name": "G3__97",
         "rawType": "object",
         "type": "string"
        },
        {
         "name": "G3__98",
         "rawType": "object",
         "type": "string"
        },
        {
         "name": "G3__99",
         "rawType": "object",
         "type": "string"
        },
        {
         "name": "G3__100",
         "rawType": "object",
         "type": "string"
        },
        {
         "name": "G3__101",
         "rawType": "object",
         "type": "string"
        },
        {
         "name": "G3__102",
         "rawType": "object",
         "type": "string"
        },
        {
         "name": "G3__103",
         "rawType": "object",
         "type": "string"
        },
        {
         "name": "G3__104",
         "rawType": "object",
         "type": "string"
        },
        {
         "name": "G3__105",
         "rawType": "object",
         "type": "string"
        },
        {
         "name": "G3__106",
         "rawType": "object",
         "type": "string"
        },
        {
         "name": "G3__107",
         "rawType": "object",
         "type": "string"
        },
        {
         "name": "G3__108",
         "rawType": "object",
         "type": "string"
        },
        {
         "name": "G3__109",
         "rawType": "object",
         "type": "string"
        },
        {
         "name": "G3__110",
         "rawType": "object",
         "type": "string"
        },
        {
         "name": "G3__111",
         "rawType": "object",
         "type": "string"
        },
        {
         "name": "G3__112",
         "rawType": "object",
         "type": "string"
        },
        {
         "name": "G3__113",
         "rawType": "object",
         "type": "string"
        },
        {
         "name": "G3__114",
         "rawType": "object",
         "type": "string"
        },
        {
         "name": "G3__115",
         "rawType": "object",
         "type": "string"
        },
        {
         "name": "G3__116",
         "rawType": "object",
         "type": "string"
        },
        {
         "name": "G3__117",
         "rawType": "object",
         "type": "string"
        },
        {
         "name": "G3__118",
         "rawType": "object",
         "type": "string"
        },
        {
         "name": "G3__119",
         "rawType": "object",
         "type": "string"
        },
        {
         "name": "G3__120",
         "rawType": "object",
         "type": "string"
        },
        {
         "name": "G3__121",
         "rawType": "object",
         "type": "string"
        },
        {
         "name": "G3__122",
         "rawType": "object",
         "type": "string"
        },
        {
         "name": "G3__123",
         "rawType": "object",
         "type": "string"
        },
        {
         "name": "G3__124",
         "rawType": "object",
         "type": "string"
        },
        {
         "name": "G3__125",
         "rawType": "object",
         "type": "string"
        },
        {
         "name": "G3__126",
         "rawType": "object",
         "type": "string"
        },
        {
         "name": "G3__127",
         "rawType": "object",
         "type": "string"
        },
        {
         "name": "G3__128",
         "rawType": "object",
         "type": "string"
        },
        {
         "name": "G3__129",
         "rawType": "object",
         "type": "string"
        },
        {
         "name": "G3__130",
         "rawType": "object",
         "type": "string"
        },
        {
         "name": "G3__131",
         "rawType": "object",
         "type": "string"
        },
        {
         "name": "G3__132",
         "rawType": "object",
         "type": "string"
        },
        {
         "name": "G3__133",
         "rawType": "object",
         "type": "string"
        },
        {
         "name": "G3__134",
         "rawType": "object",
         "type": "string"
        },
        {
         "name": "G3__135",
         "rawType": "object",
         "type": "string"
        },
        {
         "name": "G3__136",
         "rawType": "object",
         "type": "string"
        },
        {
         "name": "G3__137",
         "rawType": "object",
         "type": "string"
        },
        {
         "name": "G3__138",
         "rawType": "object",
         "type": "string"
        },
        {
         "name": "G3__139",
         "rawType": "object",
         "type": "string"
        },
        {
         "name": "G3__140",
         "rawType": "object",
         "type": "string"
        },
        {
         "name": "G3__141",
         "rawType": "object",
         "type": "string"
        },
        {
         "name": "G3__142",
         "rawType": "object",
         "type": "string"
        },
        {
         "name": "G3__143",
         "rawType": "object",
         "type": "string"
        },
        {
         "name": "G3__144",
         "rawType": "object",
         "type": "string"
        },
        {
         "name": "G3__145",
         "rawType": "object",
         "type": "string"
        },
        {
         "name": "G3__146",
         "rawType": "object",
         "type": "string"
        },
        {
         "name": "G3__147",
         "rawType": "object",
         "type": "string"
        },
        {
         "name": "G3__148",
         "rawType": "object",
         "type": "string"
        },
        {
         "name": "G3__149",
         "rawType": "object",
         "type": "string"
        },
        {
         "name": "G3__150",
         "rawType": "object",
         "type": "string"
        },
        {
         "name": "G3__151",
         "rawType": "object",
         "type": "string"
        },
        {
         "name": "G3__152",
         "rawType": "object",
         "type": "string"
        },
        {
         "name": "G3__153",
         "rawType": "object",
         "type": "string"
        },
        {
         "name": "G3__154",
         "rawType": "object",
         "type": "string"
        },
        {
         "name": "G3__155",
         "rawType": "object",
         "type": "string"
        },
        {
         "name": "G3__156",
         "rawType": "object",
         "type": "string"
        },
        {
         "name": "G3__157",
         "rawType": "object",
         "type": "string"
        },
        {
         "name": "G3__158",
         "rawType": "object",
         "type": "string"
        },
        {
         "name": "G3__159",
         "rawType": "object",
         "type": "string"
        },
        {
         "name": "G3__160",
         "rawType": "object",
         "type": "string"
        },
        {
         "name": "G3__161",
         "rawType": "object",
         "type": "string"
        },
        {
         "name": "G3__162",
         "rawType": "object",
         "type": "string"
        },
        {
         "name": "G3__163",
         "rawType": "object",
         "type": "string"
        },
        {
         "name": "G3__164",
         "rawType": "object",
         "type": "string"
        },
        {
         "name": "G3__165",
         "rawType": "object",
         "type": "string"
        },
        {
         "name": "G3__166",
         "rawType": "object",
         "type": "string"
        },
        {
         "name": "G3__167",
         "rawType": "object",
         "type": "string"
        },
        {
         "name": "G3__168",
         "rawType": "object",
         "type": "string"
        },
        {
         "name": "G3__169",
         "rawType": "object",
         "type": "string"
        },
        {
         "name": "G3__170",
         "rawType": "object",
         "type": "string"
        },
        {
         "name": "G3__171",
         "rawType": "object",
         "type": "string"
        },
        {
         "name": "G3__172",
         "rawType": "object",
         "type": "string"
        },
        {
         "name": "G3__173",
         "rawType": "object",
         "type": "string"
        },
        {
         "name": "G3__174",
         "rawType": "object",
         "type": "string"
        },
        {
         "name": "G3__175",
         "rawType": "object",
         "type": "string"
        },
        {
         "name": "G3__176",
         "rawType": "object",
         "type": "string"
        },
        {
         "name": "G3__177",
         "rawType": "object",
         "type": "string"
        },
        {
         "name": "G3__178",
         "rawType": "object",
         "type": "string"
        },
        {
         "name": "G3__179",
         "rawType": "object",
         "type": "string"
        },
        {
         "name": "G3__180",
         "rawType": "object",
         "type": "string"
        },
        {
         "name": "G3__181",
         "rawType": "object",
         "type": "string"
        },
        {
         "name": "G3__182",
         "rawType": "object",
         "type": "string"
        },
        {
         "name": "G3__183",
         "rawType": "object",
         "type": "string"
        },
        {
         "name": "G3__184",
         "rawType": "object",
         "type": "string"
        },
        {
         "name": "G3__185",
         "rawType": "object",
         "type": "string"
        },
        {
         "name": "G3__186",
         "rawType": "object",
         "type": "string"
        },
        {
         "name": "G3__187",
         "rawType": "object",
         "type": "string"
        },
        {
         "name": "G3__188",
         "rawType": "object",
         "type": "string"
        },
        {
         "name": "G3__189",
         "rawType": "object",
         "type": "string"
        },
        {
         "name": "G3__190",
         "rawType": "object",
         "type": "string"
        },
        {
         "name": "G3__191",
         "rawType": "object",
         "type": "string"
        },
        {
         "name": "G3__192",
         "rawType": "object",
         "type": "string"
        },
        {
         "name": "G3__193",
         "rawType": "object",
         "type": "string"
        },
        {
         "name": "G3__194",
         "rawType": "object",
         "type": "string"
        },
        {
         "name": "G3_OtherCountry",
         "rawType": "float64",
         "type": "float"
        },
        {
         "name": "G5",
         "rawType": "object",
         "type": "string"
        },
        {
         "name": "G6",
         "rawType": "object",
         "type": "string"
        },
        {
         "name": "G7",
         "rawType": "object",
         "type": "string"
        },
        {
         "name": "G7_Other",
         "rawType": "object",
         "type": "unknown"
        },
        {
         "name": "G8__0",
         "rawType": "object",
         "type": "string"
        },
        {
         "name": "G8__1",
         "rawType": "object",
         "type": "string"
        },
        {
         "name": "G8__2",
         "rawType": "object",
         "type": "string"
        },
        {
         "name": "G8__3",
         "rawType": "object",
         "type": "string"
        },
        {
         "name": "G8__4",
         "rawType": "object",
         "type": "string"
        },
        {
         "name": "G8__5",
         "rawType": "object",
         "type": "string"
        },
        {
         "name": "G8__6",
         "rawType": "object",
         "type": "string"
        },
        {
         "name": "G8__7",
         "rawType": "object",
         "type": "string"
        },
        {
         "name": "G8__8",
         "rawType": "object",
         "type": "string"
        },
        {
         "name": "G8__9",
         "rawType": "object",
         "type": "string"
        },
        {
         "name": "G8__10",
         "rawType": "object",
         "type": "string"
        },
        {
         "name": "G8__11",
         "rawType": "object",
         "type": "string"
        },
        {
         "name": "G8__12",
         "rawType": "object",
         "type": "string"
        },
        {
         "name": "G8__13",
         "rawType": "object",
         "type": "string"
        },
        {
         "name": "G8__14",
         "rawType": "object",
         "type": "string"
        },
        {
         "name": "G8__15",
         "rawType": "object",
         "type": "string"
        },
        {
         "name": "G8__16",
         "rawType": "object",
         "type": "string"
        },
        {
         "name": "G8__17",
         "rawType": "object",
         "type": "string"
        },
        {
         "name": "G8__18",
         "rawType": "object",
         "type": "string"
        },
        {
         "name": "G8__19",
         "rawType": "object",
         "type": "string"
        },
        {
         "name": "G8__20",
         "rawType": "object",
         "type": "string"
        },
        {
         "name": "G8__21",
         "rawType": "object",
         "type": "string"
        },
        {
         "name": "G8__22",
         "rawType": "object",
         "type": "string"
        },
        {
         "name": "G8__23",
         "rawType": "object",
         "type": "string"
        },
        {
         "name": "G8__24",
         "rawType": "object",
         "type": "string"
        },
        {
         "name": "G8__25",
         "rawType": "object",
         "type": "string"
        },
        {
         "name": "G8__26",
         "rawType": "object",
         "type": "string"
        },
        {
         "name": "G8__27",
         "rawType": "object",
         "type": "string"
        },
        {
         "name": "G8__28",
         "rawType": "object",
         "type": "string"
        },
        {
         "name": "G8__29",
         "rawType": "object",
         "type": "string"
        },
        {
         "name": "G8__30",
         "rawType": "object",
         "type": "string"
        },
        {
         "name": "G8__31",
         "rawType": "object",
         "type": "string"
        },
        {
         "name": "G8__32",
         "rawType": "object",
         "type": "string"
        },
        {
         "name": "G8__33",
         "rawType": "object",
         "type": "string"
        },
        {
         "name": "G8__34",
         "rawType": "object",
         "type": "string"
        },
        {
         "name": "G8__35",
         "rawType": "object",
         "type": "string"
        },
        {
         "name": "G8__36",
         "rawType": "object",
         "type": "string"
        },
        {
         "name": "G8__37",
         "rawType": "object",
         "type": "string"
        },
        {
         "name": "G8__38",
         "rawType": "object",
         "type": "string"
        },
        {
         "name": "G8__39",
         "rawType": "object",
         "type": "string"
        },
        {
         "name": "G8__40",
         "rawType": "object",
         "type": "string"
        },
        {
         "name": "G8__41",
         "rawType": "object",
         "type": "string"
        },
        {
         "name": "G8__42",
         "rawType": "object",
         "type": "string"
        },
        {
         "name": "G8__43",
         "rawType": "object",
         "type": "string"
        },
        {
         "name": "G8__44",
         "rawType": "object",
         "type": "string"
        },
        {
         "name": "G8__45",
         "rawType": "object",
         "type": "string"
        },
        {
         "name": "G8__46",
         "rawType": "object",
         "type": "string"
        },
        {
         "name": "G8__47",
         "rawType": "object",
         "type": "string"
        },
        {
         "name": "G8__48",
         "rawType": "object",
         "type": "string"
        },
        {
         "name": "G8__49",
         "rawType": "object",
         "type": "string"
        },
        {
         "name": "G8__50",
         "rawType": "object",
         "type": "string"
        },
        {
         "name": "G8__51",
         "rawType": "object",
         "type": "string"
        },
        {
         "name": "G8__52",
         "rawType": "object",
         "type": "string"
        },
        {
         "name": "G8__53",
         "rawType": "object",
         "type": "string"
        },
        {
         "name": "G8__54",
         "rawType": "object",
         "type": "string"
        },
        {
         "name": "G8__55",
         "rawType": "object",
         "type": "string"
        },
        {
         "name": "G8__56",
         "rawType": "object",
         "type": "string"
        },
        {
         "name": "G8__57",
         "rawType": "object",
         "type": "string"
        },
        {
         "name": "G8__58",
         "rawType": "object",
         "type": "string"
        },
        {
         "name": "G8__59",
         "rawType": "object",
         "type": "string"
        },
        {
         "name": "G8__60",
         "rawType": "object",
         "type": "string"
        },
        {
         "name": "G8__61",
         "rawType": "object",
         "type": "string"
        },
        {
         "name": "G8__62",
         "rawType": "object",
         "type": "string"
        },
        {
         "name": "G8__63",
         "rawType": "object",
         "type": "string"
        },
        {
         "name": "G8__64",
         "rawType": "object",
         "type": "string"
        },
        {
         "name": "G8__65",
         "rawType": "object",
         "type": "string"
        },
        {
         "name": "G8__66",
         "rawType": "object",
         "type": "string"
        },
        {
         "name": "G8__67",
         "rawType": "object",
         "type": "string"
        },
        {
         "name": "G8__68",
         "rawType": "object",
         "type": "string"
        },
        {
         "name": "G8__69",
         "rawType": "object",
         "type": "string"
        },
        {
         "name": "G8__70",
         "rawType": "object",
         "type": "string"
        },
        {
         "name": "G8__71",
         "rawType": "object",
         "type": "string"
        },
        {
         "name": "G8__72",
         "rawType": "object",
         "type": "string"
        },
        {
         "name": "G8__73",
         "rawType": "object",
         "type": "string"
        },
        {
         "name": "G8__74",
         "rawType": "object",
         "type": "string"
        },
        {
         "name": "G8__75",
         "rawType": "object",
         "type": "string"
        },
        {
         "name": "G8__76",
         "rawType": "object",
         "type": "string"
        },
        {
         "name": "G8__77",
         "rawType": "object",
         "type": "string"
        },
        {
         "name": "G8__78",
         "rawType": "object",
         "type": "string"
        },
        {
         "name": "G8__79",
         "rawType": "object",
         "type": "string"
        },
        {
         "name": "G8__80",
         "rawType": "object",
         "type": "string"
        },
        {
         "name": "G8__81",
         "rawType": "object",
         "type": "string"
        },
        {
         "name": "G8__82",
         "rawType": "object",
         "type": "string"
        },
        {
         "name": "G8__83",
         "rawType": "object",
         "type": "string"
        },
        {
         "name": "G8__84",
         "rawType": "object",
         "type": "string"
        },
        {
         "name": "G8__85",
         "rawType": "object",
         "type": "string"
        },
        {
         "name": "G8__86",
         "rawType": "object",
         "type": "string"
        },
        {
         "name": "G8__87",
         "rawType": "object",
         "type": "string"
        },
        {
         "name": "G8__88",
         "rawType": "object",
         "type": "string"
        },
        {
         "name": "G8__89",
         "rawType": "object",
         "type": "string"
        },
        {
         "name": "G8__90",
         "rawType": "object",
         "type": "string"
        },
        {
         "name": "G8__91",
         "rawType": "object",
         "type": "string"
        },
        {
         "name": "G8__92",
         "rawType": "object",
         "type": "string"
        },
        {
         "name": "G8__93",
         "rawType": "object",
         "type": "string"
        },
        {
         "name": "G8__94",
         "rawType": "object",
         "type": "string"
        },
        {
         "name": "G8__95",
         "rawType": "object",
         "type": "string"
        },
        {
         "name": "G8__96",
         "rawType": "object",
         "type": "string"
        },
        {
         "name": "G8__97",
         "rawType": "object",
         "type": "string"
        },
        {
         "name": "G8__98",
         "rawType": "object",
         "type": "string"
        },
        {
         "name": "G8__99",
         "rawType": "object",
         "type": "string"
        },
        {
         "name": "G8__100",
         "rawType": "object",
         "type": "string"
        },
        {
         "name": "G8__101",
         "rawType": "object",
         "type": "string"
        },
        {
         "name": "G8__102",
         "rawType": "object",
         "type": "string"
        },
        {
         "name": "G8__103",
         "rawType": "object",
         "type": "string"
        },
        {
         "name": "G8__104",
         "rawType": "object",
         "type": "string"
        },
        {
         "name": "G8__105",
         "rawType": "object",
         "type": "string"
        },
        {
         "name": "G8__106",
         "rawType": "object",
         "type": "string"
        },
        {
         "name": "G8__107",
         "rawType": "object",
         "type": "string"
        },
        {
         "name": "G8__108",
         "rawType": "object",
         "type": "string"
        },
        {
         "name": "G8__109",
         "rawType": "object",
         "type": "string"
        },
        {
         "name": "G8__110",
         "rawType": "object",
         "type": "string"
        },
        {
         "name": "G8__111",
         "rawType": "object",
         "type": "string"
        },
        {
         "name": "G8__112",
         "rawType": "object",
         "type": "string"
        },
        {
         "name": "G8__113",
         "rawType": "object",
         "type": "string"
        },
        {
         "name": "G8__114",
         "rawType": "object",
         "type": "string"
        },
        {
         "name": "G8__115",
         "rawType": "object",
         "type": "string"
        },
        {
         "name": "G8__116",
         "rawType": "object",
         "type": "string"
        },
        {
         "name": "G8__117",
         "rawType": "object",
         "type": "string"
        },
        {
         "name": "G8__118",
         "rawType": "object",
         "type": "string"
        },
        {
         "name": "G8__119",
         "rawType": "object",
         "type": "string"
        },
        {
         "name": "G8__120",
         "rawType": "object",
         "type": "string"
        },
        {
         "name": "G8__121",
         "rawType": "object",
         "type": "string"
        },
        {
         "name": "G8__122",
         "rawType": "object",
         "type": "string"
        },
        {
         "name": "G8__123",
         "rawType": "object",
         "type": "string"
        },
        {
         "name": "G8__124",
         "rawType": "object",
         "type": "string"
        },
        {
         "name": "G8__125",
         "rawType": "object",
         "type": "string"
        },
        {
         "name": "G8__126",
         "rawType": "object",
         "type": "string"
        },
        {
         "name": "G8__127",
         "rawType": "object",
         "type": "string"
        },
        {
         "name": "G8__128",
         "rawType": "object",
         "type": "string"
        },
        {
         "name": "G8__129",
         "rawType": "object",
         "type": "string"
        },
        {
         "name": "G8__130",
         "rawType": "object",
         "type": "string"
        },
        {
         "name": "G8__131",
         "rawType": "object",
         "type": "string"
        },
        {
         "name": "G8__132",
         "rawType": "object",
         "type": "string"
        },
        {
         "name": "G8__133",
         "rawType": "object",
         "type": "string"
        },
        {
         "name": "G8__134",
         "rawType": "object",
         "type": "string"
        },
        {
         "name": "G8__135",
         "rawType": "object",
         "type": "string"
        },
        {
         "name": "G8__136",
         "rawType": "object",
         "type": "string"
        },
        {
         "name": "G8__137",
         "rawType": "object",
         "type": "string"
        },
        {
         "name": "G8__138",
         "rawType": "object",
         "type": "string"
        },
        {
         "name": "G8__139",
         "rawType": "object",
         "type": "string"
        },
        {
         "name": "G8__140",
         "rawType": "object",
         "type": "string"
        },
        {
         "name": "G8__141",
         "rawType": "object",
         "type": "string"
        },
        {
         "name": "G8__142",
         "rawType": "object",
         "type": "string"
        },
        {
         "name": "G8__143",
         "rawType": "object",
         "type": "string"
        },
        {
         "name": "G8__144",
         "rawType": "object",
         "type": "string"
        },
        {
         "name": "G8__145",
         "rawType": "object",
         "type": "string"
        },
        {
         "name": "G8__146",
         "rawType": "object",
         "type": "string"
        },
        {
         "name": "G8__147",
         "rawType": "object",
         "type": "string"
        },
        {
         "name": "G8__148",
         "rawType": "object",
         "type": "string"
        },
        {
         "name": "G8__149",
         "rawType": "object",
         "type": "string"
        },
        {
         "name": "G8__150",
         "rawType": "object",
         "type": "string"
        },
        {
         "name": "G8__151",
         "rawType": "object",
         "type": "string"
        },
        {
         "name": "G8__152",
         "rawType": "object",
         "type": "string"
        },
        {
         "name": "G8__153",
         "rawType": "object",
         "type": "string"
        },
        {
         "name": "G8__154",
         "rawType": "object",
         "type": "string"
        },
        {
         "name": "G8__155",
         "rawType": "object",
         "type": "string"
        },
        {
         "name": "G8__156",
         "rawType": "object",
         "type": "string"
        },
        {
         "name": "G8__157",
         "rawType": "object",
         "type": "string"
        },
        {
         "name": "G8__158",
         "rawType": "object",
         "type": "string"
        },
        {
         "name": "G8__159",
         "rawType": "object",
         "type": "string"
        },
        {
         "name": "G8__160",
         "rawType": "object",
         "type": "string"
        },
        {
         "name": "G8__161",
         "rawType": "object",
         "type": "string"
        },
        {
         "name": "G8__162",
         "rawType": "object",
         "type": "string"
        },
        {
         "name": "G8__163",
         "rawType": "object",
         "type": "string"
        },
        {
         "name": "G8__164",
         "rawType": "object",
         "type": "string"
        },
        {
         "name": "G8__165",
         "rawType": "object",
         "type": "string"
        },
        {
         "name": "G8__166",
         "rawType": "object",
         "type": "string"
        },
        {
         "name": "G8__167",
         "rawType": "object",
         "type": "string"
        },
        {
         "name": "G8__168",
         "rawType": "object",
         "type": "string"
        },
        {
         "name": "G8__169",
         "rawType": "object",
         "type": "string"
        },
        {
         "name": "G8__170",
         "rawType": "object",
         "type": "string"
        },
        {
         "name": "G8__171",
         "rawType": "object",
         "type": "string"
        },
        {
         "name": "G8__172",
         "rawType": "object",
         "type": "string"
        },
        {
         "name": "G8__173",
         "rawType": "object",
         "type": "string"
        },
        {
         "name": "G8__174",
         "rawType": "object",
         "type": "string"
        },
        {
         "name": "G8__175",
         "rawType": "object",
         "type": "string"
        },
        {
         "name": "G8__176",
         "rawType": "object",
         "type": "string"
        },
        {
         "name": "G8__177",
         "rawType": "object",
         "type": "string"
        },
        {
         "name": "G8__178",
         "rawType": "object",
         "type": "string"
        },
        {
         "name": "G8__179",
         "rawType": "object",
         "type": "string"
        },
        {
         "name": "G8__180",
         "rawType": "object",
         "type": "string"
        },
        {
         "name": "G8__181",
         "rawType": "object",
         "type": "string"
        },
        {
         "name": "G8__182",
         "rawType": "object",
         "type": "string"
        },
        {
         "name": "G8__183",
         "rawType": "object",
         "type": "string"
        },
        {
         "name": "G8__184",
         "rawType": "object",
         "type": "string"
        },
        {
         "name": "G8__185",
         "rawType": "object",
         "type": "string"
        },
        {
         "name": "G8__186",
         "rawType": "object",
         "type": "string"
        },
        {
         "name": "G8__187",
         "rawType": "object",
         "type": "string"
        },
        {
         "name": "G8__188",
         "rawType": "object",
         "type": "string"
        },
        {
         "name": "G8__189",
         "rawType": "object",
         "type": "string"
        },
        {
         "name": "G8__190",
         "rawType": "object",
         "type": "string"
        },
        {
         "name": "G8__191",
         "rawType": "object",
         "type": "string"
        },
        {
         "name": "G8__192",
         "rawType": "object",
         "type": "string"
        },
        {
         "name": "G8__193",
         "rawType": "object",
         "type": "string"
        },
        {
         "name": "G8__194",
         "rawType": "object",
         "type": "string"
        },
        {
         "name": "G8_OtherCountry",
         "rawType": "float64",
         "type": "float"
        },
        {
         "name": "G9",
         "rawType": "object",
         "type": "string"
        },
        {
         "name": "G10",
         "rawType": "object",
         "type": "string"
        },
        {
         "name": "G11",
         "rawType": "object",
         "type": "string"
        },
        {
         "name": "G12",
         "rawType": "object",
         "type": "string"
        },
        {
         "name": "G12_Other",
         "rawType": "object",
         "type": "unknown"
        },
        {
         "name": "H1",
         "rawType": "object",
         "type": "string"
        },
        {
         "name": "H2__1",
         "rawType": "object",
         "type": "string"
        },
        {
         "name": "H2__2",
         "rawType": "object",
         "type": "string"
        },
        {
         "name": "H2__3",
         "rawType": "object",
         "type": "string"
        },
        {
         "name": "H2__4",
         "rawType": "object",
         "type": "string"
        },
        {
         "name": "H2__5",
         "rawType": "object",
         "type": "string"
        },
        {
         "name": "H2__6",
         "rawType": "object",
         "type": "string"
        },
        {
         "name": "H2__7",
         "rawType": "object",
         "type": "string"
        },
        {
         "name": "H2__8",
         "rawType": "object",
         "type": "string"
        },
        {
         "name": "H2__9",
         "rawType": "object",
         "type": "string"
        },
        {
         "name": "H2__96",
         "rawType": "object",
         "type": "string"
        },
        {
         "name": "H2__98",
         "rawType": "object",
         "type": "string"
        },
        {
         "name": "H2__99",
         "rawType": "object",
         "type": "string"
        },
        {
         "name": "H2_Other_specify",
         "rawType": "object",
         "type": "unknown"
        },
        {
         "name": "IsSectionAnsweredH1",
         "rawType": "object",
         "type": "string"
        },
        {
         "name": "H3__0",
         "rawType": "object",
         "type": "string"
        },
        {
         "name": "H3__1",
         "rawType": "object",
         "type": "string"
        },
        {
         "name": "H3__2",
         "rawType": "object",
         "type": "string"
        },
        {
         "name": "H3__3",
         "rawType": "object",
         "type": "string"
        },
        {
         "name": "H3__4",
         "rawType": "object",
         "type": "string"
        },
        {
         "name": "H3__5",
         "rawType": "object",
         "type": "string"
        },
        {
         "name": "H3__6",
         "rawType": "object",
         "type": "string"
        },
        {
         "name": "H3__7",
         "rawType": "object",
         "type": "string"
        },
        {
         "name": "H3__8",
         "rawType": "object",
         "type": "string"
        },
        {
         "name": "H3__9",
         "rawType": "object",
         "type": "string"
        },
        {
         "name": "H3__10",
         "rawType": "object",
         "type": "string"
        },
        {
         "name": "H3__11",
         "rawType": "object",
         "type": "string"
        },
        {
         "name": "H3__12",
         "rawType": "object",
         "type": "string"
        },
        {
         "name": "H3__13",
         "rawType": "object",
         "type": "string"
        },
        {
         "name": "H3__14",
         "rawType": "object",
         "type": "string"
        },
        {
         "name": "H3__15",
         "rawType": "object",
         "type": "string"
        },
        {
         "name": "H3__16",
         "rawType": "object",
         "type": "string"
        },
        {
         "name": "H3__17",
         "rawType": "object",
         "type": "string"
        },
        {
         "name": "H3__18",
         "rawType": "object",
         "type": "string"
        },
        {
         "name": "H3__19",
         "rawType": "object",
         "type": "string"
        },
        {
         "name": "H3__20",
         "rawType": "object",
         "type": "string"
        },
        {
         "name": "H3__21",
         "rawType": "object",
         "type": "string"
        },
        {
         "name": "H3__22",
         "rawType": "object",
         "type": "string"
        },
        {
         "name": "H3__23",
         "rawType": "object",
         "type": "string"
        },
        {
         "name": "H3__24",
         "rawType": "object",
         "type": "string"
        },
        {
         "name": "H3__25",
         "rawType": "object",
         "type": "string"
        },
        {
         "name": "H3__26",
         "rawType": "object",
         "type": "string"
        },
        {
         "name": "H3__27",
         "rawType": "object",
         "type": "string"
        },
        {
         "name": "H3__28",
         "rawType": "object",
         "type": "string"
        },
        {
         "name": "H3__29",
         "rawType": "object",
         "type": "string"
        },
        {
         "name": "H3__30",
         "rawType": "object",
         "type": "string"
        },
        {
         "name": "H3__31",
         "rawType": "object",
         "type": "string"
        },
        {
         "name": "H3__32",
         "rawType": "object",
         "type": "string"
        },
        {
         "name": "H3__33",
         "rawType": "object",
         "type": "string"
        },
        {
         "name": "H3__34",
         "rawType": "object",
         "type": "string"
        },
        {
         "name": "H3__35",
         "rawType": "object",
         "type": "string"
        },
        {
         "name": "H3__36",
         "rawType": "object",
         "type": "string"
        },
        {
         "name": "H3__37",
         "rawType": "object",
         "type": "string"
        },
        {
         "name": "H3__38",
         "rawType": "object",
         "type": "string"
        },
        {
         "name": "H3__39",
         "rawType": "object",
         "type": "string"
        },
        {
         "name": "H3__40",
         "rawType": "object",
         "type": "string"
        },
        {
         "name": "H3__41",
         "rawType": "object",
         "type": "string"
        },
        {
         "name": "H3__42",
         "rawType": "object",
         "type": "string"
        },
        {
         "name": "H3__43",
         "rawType": "object",
         "type": "string"
        },
        {
         "name": "H3__44",
         "rawType": "object",
         "type": "string"
        },
        {
         "name": "H3__45",
         "rawType": "object",
         "type": "string"
        },
        {
         "name": "H3__46",
         "rawType": "object",
         "type": "string"
        },
        {
         "name": "H3__47",
         "rawType": "object",
         "type": "string"
        },
        {
         "name": "H3__48",
         "rawType": "object",
         "type": "string"
        },
        {
         "name": "H3__49",
         "rawType": "object",
         "type": "string"
        },
        {
         "name": "H3__50",
         "rawType": "object",
         "type": "string"
        },
        {
         "name": "H3__51",
         "rawType": "object",
         "type": "string"
        },
        {
         "name": "H3__52",
         "rawType": "object",
         "type": "string"
        },
        {
         "name": "H3__53",
         "rawType": "object",
         "type": "string"
        },
        {
         "name": "H4i",
         "rawType": "object",
         "type": "string"
        },
        {
         "name": "H4i_Other_specify",
         "rawType": "object",
         "type": "unknown"
        },
        {
         "name": "H4ii",
         "rawType": "object",
         "type": "string"
        },
        {
         "name": "H4ii_Other_specify",
         "rawType": "object",
         "type": "unknown"
        },
        {
         "name": "H5__1",
         "rawType": "object",
         "type": "string"
        },
        {
         "name": "H5__2",
         "rawType": "object",
         "type": "string"
        },
        {
         "name": "H5__3",
         "rawType": "object",
         "type": "string"
        },
        {
         "name": "H5__4",
         "rawType": "object",
         "type": "string"
        },
        {
         "name": "H5__5",
         "rawType": "object",
         "type": "string"
        },
        {
         "name": "H5__6",
         "rawType": "object",
         "type": "string"
        },
        {
         "name": "H5__7",
         "rawType": "object",
         "type": "string"
        },
        {
         "name": "H5__8",
         "rawType": "object",
         "type": "string"
        },
        {
         "name": "H5__9",
         "rawType": "object",
         "type": "string"
        },
        {
         "name": "H5__10",
         "rawType": "object",
         "type": "string"
        },
        {
         "name": "H5__11",
         "rawType": "object",
         "type": "string"
        },
        {
         "name": "H5__12",
         "rawType": "object",
         "type": "string"
        },
        {
         "name": "H5__13",
         "rawType": "object",
         "type": "string"
        },
        {
         "name": "H5__14",
         "rawType": "object",
         "type": "string"
        },
        {
         "name": "H5__15",
         "rawType": "object",
         "type": "string"
        },
        {
         "name": "H5__16",
         "rawType": "object",
         "type": "string"
        },
        {
         "name": "H5__17",
         "rawType": "object",
         "type": "string"
        },
        {
         "name": "H5__18",
         "rawType": "object",
         "type": "string"
        },
        {
         "name": "H5__19",
         "rawType": "object",
         "type": "string"
        },
        {
         "name": "H5__20",
         "rawType": "object",
         "type": "string"
        },
        {
         "name": "H5__21",
         "rawType": "object",
         "type": "string"
        },
        {
         "name": "H5__22",
         "rawType": "object",
         "type": "string"
        },
        {
         "name": "H5__23",
         "rawType": "object",
         "type": "string"
        },
        {
         "name": "H5__24",
         "rawType": "object",
         "type": "string"
        },
        {
         "name": "H5__25",
         "rawType": "object",
         "type": "string"
        },
        {
         "name": "H5__26",
         "rawType": "object",
         "type": "string"
        },
        {
         "name": "H5__27",
         "rawType": "object",
         "type": "string"
        },
        {
         "name": "H5__28",
         "rawType": "object",
         "type": "string"
        },
        {
         "name": "H5__29",
         "rawType": "object",
         "type": "string"
        },
        {
         "name": "H5__30",
         "rawType": "object",
         "type": "string"
        },
        {
         "name": "H5__31",
         "rawType": "object",
         "type": "string"
        },
        {
         "name": "H5__32",
         "rawType": "object",
         "type": "string"
        },
        {
         "name": "H5__33",
         "rawType": "object",
         "type": "string"
        },
        {
         "name": "H5__34",
         "rawType": "object",
         "type": "string"
        },
        {
         "name": "H5__35",
         "rawType": "object",
         "type": "string"
        },
        {
         "name": "H5__36",
         "rawType": "object",
         "type": "string"
        },
        {
         "name": "H5__37",
         "rawType": "object",
         "type": "string"
        },
        {
         "name": "H5__38",
         "rawType": "object",
         "type": "string"
        },
        {
         "name": "H5__39",
         "rawType": "object",
         "type": "string"
        },
        {
         "name": "H5__40",
         "rawType": "object",
         "type": "string"
        },
        {
         "name": "H5__41",
         "rawType": "object",
         "type": "string"
        },
        {
         "name": "H5__42",
         "rawType": "object",
         "type": "string"
        },
        {
         "name": "H5__43",
         "rawType": "object",
         "type": "string"
        },
        {
         "name": "H5__44",
         "rawType": "object",
         "type": "string"
        },
        {
         "name": "H5__45",
         "rawType": "object",
         "type": "string"
        },
        {
         "name": "H5__46",
         "rawType": "object",
         "type": "string"
        },
        {
         "name": "H5__47",
         "rawType": "object",
         "type": "string"
        },
        {
         "name": "H5__48",
         "rawType": "object",
         "type": "string"
        },
        {
         "name": "H5__49",
         "rawType": "object",
         "type": "string"
        },
        {
         "name": "H5__50",
         "rawType": "object",
         "type": "string"
        },
        {
         "name": "H5__51",
         "rawType": "object",
         "type": "string"
        },
        {
         "name": "H5__52",
         "rawType": "object",
         "type": "string"
        },
        {
         "name": "H5__98",
         "rawType": "object",
         "type": "string"
        },
        {
         "name": "H5__99",
         "rawType": "object",
         "type": "string"
        },
        {
         "name": "H6_1",
         "rawType": "object",
         "type": "string"
        },
        {
         "name": "H7i_1",
         "rawType": "object",
         "type": "string"
        },
        {
         "name": "H7ii_1",
         "rawType": "object",
         "type": "string"
        },
        {
         "name": "H6_2",
         "rawType": "object",
         "type": "string"
        },
        {
         "name": "H7i_2",
         "rawType": "object",
         "type": "string"
        },
        {
         "name": "H7ii_2",
         "rawType": "object",
         "type": "string"
        },
        {
         "name": "H6_3",
         "rawType": "object",
         "type": "string"
        },
        {
         "name": "H7i_3",
         "rawType": "object",
         "type": "string"
        },
        {
         "name": "H7ii_3",
         "rawType": "object",
         "type": "string"
        },
        {
         "name": "H6_4",
         "rawType": "object",
         "type": "string"
        },
        {
         "name": "H7i_4",
         "rawType": "object",
         "type": "string"
        },
        {
         "name": "H7ii_4",
         "rawType": "object",
         "type": "string"
        },
        {
         "name": "H6_5",
         "rawType": "object",
         "type": "string"
        },
        {
         "name": "H7i_5",
         "rawType": "object",
         "type": "string"
        },
        {
         "name": "H7ii_5",
         "rawType": "object",
         "type": "string"
        },
        {
         "name": "H6_6",
         "rawType": "object",
         "type": "string"
        },
        {
         "name": "H7i_6",
         "rawType": "object",
         "type": "string"
        },
        {
         "name": "H7ii_6",
         "rawType": "object",
         "type": "string"
        },
        {
         "name": "H6_7",
         "rawType": "object",
         "type": "string"
        },
        {
         "name": "H7i_7",
         "rawType": "object",
         "type": "string"
        },
        {
         "name": "H7ii_7",
         "rawType": "object",
         "type": "string"
        },
        {
         "name": "H6_8",
         "rawType": "object",
         "type": "string"
        },
        {
         "name": "H7i_8",
         "rawType": "object",
         "type": "string"
        },
        {
         "name": "H7ii_8",
         "rawType": "object",
         "type": "string"
        },
        {
         "name": "H6_9",
         "rawType": "object",
         "type": "string"
        },
        {
         "name": "H7i_9",
         "rawType": "object",
         "type": "string"
        },
        {
         "name": "H7ii_9",
         "rawType": "object",
         "type": "string"
        },
        {
         "name": "H6_11",
         "rawType": "object",
         "type": "string"
        },
        {
         "name": "H7i_11",
         "rawType": "object",
         "type": "string"
        },
        {
         "name": "H7ii_11",
         "rawType": "object",
         "type": "string"
        },
        {
         "name": "H6_12",
         "rawType": "object",
         "type": "string"
        },
        {
         "name": "H7i_12",
         "rawType": "object",
         "type": "string"
        },
        {
         "name": "H7ii_12",
         "rawType": "object",
         "type": "string"
        },
        {
         "name": "H6_13",
         "rawType": "object",
         "type": "string"
        },
        {
         "name": "H7i_13",
         "rawType": "object",
         "type": "string"
        },
        {
         "name": "H7ii_13",
         "rawType": "object",
         "type": "string"
        },
        {
         "name": "H6_14",
         "rawType": "object",
         "type": "string"
        },
        {
         "name": "H7i_14",
         "rawType": "object",
         "type": "string"
        },
        {
         "name": "H7ii_14",
         "rawType": "object",
         "type": "string"
        },
        {
         "name": "H6_15",
         "rawType": "object",
         "type": "string"
        },
        {
         "name": "H7i_15",
         "rawType": "object",
         "type": "string"
        },
        {
         "name": "H7ii_15",
         "rawType": "object",
         "type": "string"
        },
        {
         "name": "H6_16",
         "rawType": "object",
         "type": "string"
        },
        {
         "name": "H7i_16",
         "rawType": "object",
         "type": "string"
        },
        {
         "name": "H7ii_16",
         "rawType": "object",
         "type": "string"
        },
        {
         "name": "H6_17",
         "rawType": "object",
         "type": "string"
        },
        {
         "name": "H7i_17",
         "rawType": "object",
         "type": "string"
        },
        {
         "name": "H7ii_17",
         "rawType": "object",
         "type": "string"
        },
        {
         "name": "H6_19",
         "rawType": "object",
         "type": "string"
        },
        {
         "name": "H7i_19",
         "rawType": "object",
         "type": "string"
        },
        {
         "name": "H7ii_19",
         "rawType": "object",
         "type": "string"
        },
        {
         "name": "H6_20",
         "rawType": "object",
         "type": "string"
        },
        {
         "name": "H7i_20",
         "rawType": "object",
         "type": "string"
        },
        {
         "name": "H7ii_20",
         "rawType": "object",
         "type": "string"
        },
        {
         "name": "H6_21",
         "rawType": "object",
         "type": "string"
        },
        {
         "name": "H7i_21",
         "rawType": "object",
         "type": "string"
        },
        {
         "name": "H7ii_21",
         "rawType": "object",
         "type": "string"
        },
        {
         "name": "H6_22",
         "rawType": "object",
         "type": "string"
        },
        {
         "name": "H7i_22",
         "rawType": "object",
         "type": "string"
        },
        {
         "name": "H7ii_22",
         "rawType": "object",
         "type": "string"
        },
        {
         "name": "H6_23",
         "rawType": "object",
         "type": "string"
        },
        {
         "name": "H7i_23",
         "rawType": "object",
         "type": "string"
        },
        {
         "name": "H7ii_23",
         "rawType": "object",
         "type": "string"
        },
        {
         "name": "H6_24",
         "rawType": "object",
         "type": "string"
        },
        {
         "name": "H7i_24",
         "rawType": "object",
         "type": "string"
        },
        {
         "name": "H7ii_24",
         "rawType": "object",
         "type": "string"
        },
        {
         "name": "H6_25",
         "rawType": "object",
         "type": "string"
        },
        {
         "name": "H7i_25",
         "rawType": "object",
         "type": "string"
        },
        {
         "name": "H7ii_25",
         "rawType": "object",
         "type": "string"
        },
        {
         "name": "H6_29",
         "rawType": "object",
         "type": "string"
        },
        {
         "name": "H7i_29",
         "rawType": "object",
         "type": "string"
        },
        {
         "name": "H7ii_29",
         "rawType": "object",
         "type": "string"
        },
        {
         "name": "H6_30",
         "rawType": "object",
         "type": "string"
        },
        {
         "name": "H7i_30",
         "rawType": "object",
         "type": "string"
        },
        {
         "name": "H7ii_30",
         "rawType": "object",
         "type": "string"
        },
        {
         "name": "H6_32",
         "rawType": "object",
         "type": "string"
        },
        {
         "name": "H7i_32",
         "rawType": "object",
         "type": "string"
        },
        {
         "name": "H7ii_32",
         "rawType": "object",
         "type": "string"
        },
        {
         "name": "H6_33",
         "rawType": "object",
         "type": "string"
        },
        {
         "name": "H7i_33",
         "rawType": "object",
         "type": "string"
        },
        {
         "name": "H7ii_33",
         "rawType": "object",
         "type": "string"
        },
        {
         "name": "H6_34",
         "rawType": "object",
         "type": "string"
        },
        {
         "name": "H7i_34",
         "rawType": "object",
         "type": "string"
        },
        {
         "name": "H7ii_34",
         "rawType": "object",
         "type": "string"
        },
        {
         "name": "H6_36",
         "rawType": "object",
         "type": "string"
        },
        {
         "name": "H7i_36",
         "rawType": "object",
         "type": "string"
        },
        {
         "name": "H7ii_36",
         "rawType": "object",
         "type": "string"
        },
        {
         "name": "H6_37",
         "rawType": "object",
         "type": "string"
        },
        {
         "name": "H7i_37",
         "rawType": "object",
         "type": "string"
        },
        {
         "name": "H7ii_37",
         "rawType": "object",
         "type": "string"
        },
        {
         "name": "H6_39",
         "rawType": "object",
         "type": "string"
        },
        {
         "name": "H7i_39",
         "rawType": "object",
         "type": "string"
        },
        {
         "name": "H7ii_39",
         "rawType": "object",
         "type": "string"
        },
        {
         "name": "H6_40",
         "rawType": "object",
         "type": "string"
        },
        {
         "name": "H7i_40",
         "rawType": "object",
         "type": "string"
        },
        {
         "name": "H7ii_40",
         "rawType": "object",
         "type": "string"
        },
        {
         "name": "H6_43",
         "rawType": "object",
         "type": "string"
        },
        {
         "name": "H7i_43",
         "rawType": "object",
         "type": "string"
        },
        {
         "name": "H7ii_43",
         "rawType": "object",
         "type": "string"
        },
        {
         "name": "H6_44",
         "rawType": "object",
         "type": "string"
        },
        {
         "name": "H7i_44",
         "rawType": "object",
         "type": "string"
        },
        {
         "name": "H7ii_44",
         "rawType": "object",
         "type": "string"
        },
        {
         "name": "H6_45",
         "rawType": "object",
         "type": "string"
        },
        {
         "name": "H7i_45",
         "rawType": "object",
         "type": "string"
        },
        {
         "name": "H7ii_45",
         "rawType": "object",
         "type": "string"
        },
        {
         "name": "H6_47",
         "rawType": "object",
         "type": "string"
        },
        {
         "name": "H7i_47",
         "rawType": "object",
         "type": "string"
        },
        {
         "name": "H7ii_47",
         "rawType": "object",
         "type": "string"
        },
        {
         "name": "H6_49",
         "rawType": "object",
         "type": "string"
        },
        {
         "name": "H7i_49",
         "rawType": "object",
         "type": "string"
        },
        {
         "name": "H7ii_49",
         "rawType": "object",
         "type": "string"
        },
        {
         "name": "H6_51",
         "rawType": "object",
         "type": "string"
        },
        {
         "name": "H7i_51",
         "rawType": "object",
         "type": "string"
        },
        {
         "name": "H7ii_51",
         "rawType": "object",
         "type": "string"
        },
        {
         "name": "H8",
         "rawType": "object",
         "type": "string"
        },
        {
         "name": "H9",
         "rawType": "object",
         "type": "string"
        },
        {
         "name": "H10i__1",
         "rawType": "object",
         "type": "string"
        },
        {
         "name": "H10i__2",
         "rawType": "object",
         "type": "string"
        },
        {
         "name": "H10i__3",
         "rawType": "object",
         "type": "string"
        },
        {
         "name": "H10i__4",
         "rawType": "object",
         "type": "string"
        },
        {
         "name": "H10i__5",
         "rawType": "object",
         "type": "string"
        },
        {
         "name": "H10i__7",
         "rawType": "object",
         "type": "string"
        },
        {
         "name": "H10i__8",
         "rawType": "object",
         "type": "string"
        },
        {
         "name": "H10i__9",
         "rawType": "object",
         "type": "string"
        },
        {
         "name": "H10i__10",
         "rawType": "object",
         "type": "string"
        },
        {
         "name": "H10i__11",
         "rawType": "object",
         "type": "string"
        },
        {
         "name": "H10i__12",
         "rawType": "object",
         "type": "string"
        },
        {
         "name": "H10i__13",
         "rawType": "object",
         "type": "string"
        },
        {
         "name": "H10i__99",
         "rawType": "object",
         "type": "string"
        },
        {
         "name": "H10i_OtherSpecify",
         "rawType": "object",
         "type": "unknown"
        },
        {
         "name": "H10ii",
         "rawType": "object",
         "type": "string"
        },
        {
         "name": "H11_1",
         "rawType": "object",
         "type": "string"
        },
        {
         "name": "H11_2",
         "rawType": "object",
         "type": "string"
        },
        {
         "name": "H11_3",
         "rawType": "object",
         "type": "string"
        },
        {
         "name": "H11_4",
         "rawType": "object",
         "type": "string"
        },
        {
         "name": "H12__1",
         "rawType": "object",
         "type": "string"
        },
        {
         "name": "H12__2",
         "rawType": "object",
         "type": "string"
        },
        {
         "name": "H12__3",
         "rawType": "object",
         "type": "string"
        },
        {
         "name": "H12__4",
         "rawType": "object",
         "type": "string"
        },
        {
         "name": "H12__5",
         "rawType": "object",
         "type": "string"
        },
        {
         "name": "H12__6",
         "rawType": "object",
         "type": "string"
        },
        {
         "name": "H12__98",
         "rawType": "object",
         "type": "string"
        },
        {
         "name": "H12__99",
         "rawType": "object",
         "type": "string"
        },
        {
         "name": "H12_Other_specify",
         "rawType": "object",
         "type": "unknown"
        },
        {
         "name": "H13",
         "rawType": "object",
         "type": "string"
        },
        {
         "name": "H14__1",
         "rawType": "object",
         "type": "string"
        },
        {
         "name": "H14__2",
         "rawType": "object",
         "type": "string"
        },
        {
         "name": "H14__3",
         "rawType": "object",
         "type": "string"
        },
        {
         "name": "H14__4",
         "rawType": "object",
         "type": "string"
        },
        {
         "name": "H14__5",
         "rawType": "object",
         "type": "string"
        },
        {
         "name": "H14__6",
         "rawType": "object",
         "type": "string"
        },
        {
         "name": "H14__7",
         "rawType": "object",
         "type": "string"
        },
        {
         "name": "H14__96",
         "rawType": "object",
         "type": "string"
        },
        {
         "name": "H14__98",
         "rawType": "object",
         "type": "string"
        },
        {
         "name": "H14__99",
         "rawType": "object",
         "type": "string"
        },
        {
         "name": "H14_Other_specify",
         "rawType": "float64",
         "type": "float"
        },
        {
         "name": "H15",
         "rawType": "object",
         "type": "string"
        },
        {
         "name": "H16_1",
         "rawType": "object",
         "type": "string"
        },
        {
         "name": "H16_2",
         "rawType": "object",
         "type": "string"
        },
        {
         "name": "H16_3",
         "rawType": "object",
         "type": "string"
        },
        {
         "name": "H16_4",
         "rawType": "object",
         "type": "string"
        },
        {
         "name": "H16_5",
         "rawType": "object",
         "type": "string"
        },
        {
         "name": "H16_6",
         "rawType": "object",
         "type": "string"
        },
        {
         "name": "I1a__0",
         "rawType": "object",
         "type": "string"
        },
        {
         "name": "I1a__1",
         "rawType": "object",
         "type": "string"
        },
        {
         "name": "I1a__2",
         "rawType": "object",
         "type": "string"
        },
        {
         "name": "I1a__3",
         "rawType": "object",
         "type": "string"
        },
        {
         "name": "I1a__4",
         "rawType": "object",
         "type": "string"
        },
        {
         "name": "I1a__5",
         "rawType": "object",
         "type": "string"
        },
        {
         "name": "I1a__6",
         "rawType": "object",
         "type": "string"
        },
        {
         "name": "I1a__7",
         "rawType": "object",
         "type": "string"
        },
        {
         "name": "I1a__8",
         "rawType": "object",
         "type": "string"
        },
        {
         "name": "I1a__9",
         "rawType": "object",
         "type": "string"
        },
        {
         "name": "I1a__10",
         "rawType": "object",
         "type": "string"
        },
        {
         "name": "I1a__11",
         "rawType": "object",
         "type": "string"
        },
        {
         "name": "I1a__12",
         "rawType": "object",
         "type": "string"
        },
        {
         "name": "I1a__13",
         "rawType": "object",
         "type": "string"
        },
        {
         "name": "I1a__14",
         "rawType": "object",
         "type": "string"
        },
        {
         "name": "I1a__15",
         "rawType": "object",
         "type": "string"
        },
        {
         "name": "I1a__16",
         "rawType": "object",
         "type": "string"
        },
        {
         "name": "I1a__17",
         "rawType": "object",
         "type": "string"
        },
        {
         "name": "I1a__18",
         "rawType": "object",
         "type": "string"
        },
        {
         "name": "I1a__19",
         "rawType": "object",
         "type": "string"
        },
        {
         "name": "I1a__20",
         "rawType": "object",
         "type": "string"
        },
        {
         "name": "I1a__21",
         "rawType": "object",
         "type": "string"
        },
        {
         "name": "I1a__22",
         "rawType": "object",
         "type": "string"
        },
        {
         "name": "I1a__23",
         "rawType": "object",
         "type": "string"
        },
        {
         "name": "I1a__24",
         "rawType": "object",
         "type": "string"
        },
        {
         "name": "I1a__25",
         "rawType": "object",
         "type": "string"
        },
        {
         "name": "I1a__26",
         "rawType": "object",
         "type": "string"
        },
        {
         "name": "I1a__27",
         "rawType": "object",
         "type": "string"
        },
        {
         "name": "I1a__28",
         "rawType": "object",
         "type": "string"
        },
        {
         "name": "I1a__29",
         "rawType": "object",
         "type": "string"
        },
        {
         "name": "I1a__30",
         "rawType": "object",
         "type": "string"
        },
        {
         "name": "I1a__31",
         "rawType": "object",
         "type": "string"
        },
        {
         "name": "I1a__32",
         "rawType": "object",
         "type": "string"
        },
        {
         "name": "I1a__33",
         "rawType": "object",
         "type": "string"
        },
        {
         "name": "I1a__34",
         "rawType": "object",
         "type": "string"
        },
        {
         "name": "I1a__35",
         "rawType": "object",
         "type": "string"
        },
        {
         "name": "I1a__36",
         "rawType": "object",
         "type": "string"
        },
        {
         "name": "I1a__37",
         "rawType": "object",
         "type": "string"
        },
        {
         "name": "I1a__38",
         "rawType": "object",
         "type": "string"
        },
        {
         "name": "I1a__39",
         "rawType": "object",
         "type": "string"
        },
        {
         "name": "I1a__40",
         "rawType": "object",
         "type": "string"
        },
        {
         "name": "I1a__41",
         "rawType": "object",
         "type": "string"
        },
        {
         "name": "I1a__42",
         "rawType": "object",
         "type": "string"
        },
        {
         "name": "I1a__43",
         "rawType": "object",
         "type": "string"
        },
        {
         "name": "I1a__44",
         "rawType": "object",
         "type": "string"
        },
        {
         "name": "I1a__45",
         "rawType": "object",
         "type": "string"
        },
        {
         "name": "I1a__46",
         "rawType": "object",
         "type": "string"
        },
        {
         "name": "I1a__47",
         "rawType": "object",
         "type": "string"
        },
        {
         "name": "I1a__48",
         "rawType": "object",
         "type": "string"
        },
        {
         "name": "I1a__49",
         "rawType": "object",
         "type": "string"
        },
        {
         "name": "I1a__50",
         "rawType": "object",
         "type": "string"
        },
        {
         "name": "I1a__51",
         "rawType": "object",
         "type": "string"
        },
        {
         "name": "I1a__52",
         "rawType": "object",
         "type": "string"
        },
        {
         "name": "I1a__53",
         "rawType": "object",
         "type": "string"
        },
        {
         "name": "I1a__54",
         "rawType": "object",
         "type": "string"
        },
        {
         "name": "I1a__55",
         "rawType": "object",
         "type": "string"
        },
        {
         "name": "I1a__56",
         "rawType": "object",
         "type": "string"
        },
        {
         "name": "I1a__57",
         "rawType": "object",
         "type": "string"
        },
        {
         "name": "I1a__58",
         "rawType": "object",
         "type": "string"
        },
        {
         "name": "I1a__59",
         "rawType": "object",
         "type": "string"
        },
        {
         "name": "I1a__60",
         "rawType": "object",
         "type": "string"
        },
        {
         "name": "I1a__61",
         "rawType": "object",
         "type": "string"
        },
        {
         "name": "I1a__62",
         "rawType": "object",
         "type": "string"
        },
        {
         "name": "I1a__63",
         "rawType": "object",
         "type": "string"
        },
        {
         "name": "I1a__64",
         "rawType": "object",
         "type": "string"
        },
        {
         "name": "I1a__65",
         "rawType": "object",
         "type": "string"
        },
        {
         "name": "I1a__66",
         "rawType": "object",
         "type": "string"
        },
        {
         "name": "I1a__67",
         "rawType": "object",
         "type": "string"
        },
        {
         "name": "I1a__68",
         "rawType": "object",
         "type": "string"
        },
        {
         "name": "I1a__69",
         "rawType": "object",
         "type": "string"
        },
        {
         "name": "I1a__70",
         "rawType": "object",
         "type": "string"
        },
        {
         "name": "I1a__71",
         "rawType": "object",
         "type": "string"
        },
        {
         "name": "I1a__72",
         "rawType": "object",
         "type": "string"
        },
        {
         "name": "I1a__73",
         "rawType": "object",
         "type": "string"
        },
        {
         "name": "I1a__74",
         "rawType": "object",
         "type": "string"
        },
        {
         "name": "I1a__75",
         "rawType": "object",
         "type": "string"
        },
        {
         "name": "I1a__76",
         "rawType": "object",
         "type": "string"
        },
        {
         "name": "I1a__77",
         "rawType": "object",
         "type": "string"
        },
        {
         "name": "I1a__78",
         "rawType": "object",
         "type": "string"
        },
        {
         "name": "I1a__79",
         "rawType": "object",
         "type": "string"
        },
        {
         "name": "I1a__80",
         "rawType": "object",
         "type": "string"
        },
        {
         "name": "I1a__81",
         "rawType": "object",
         "type": "string"
        },
        {
         "name": "I1a__82",
         "rawType": "object",
         "type": "string"
        },
        {
         "name": "I1a__83",
         "rawType": "object",
         "type": "string"
        },
        {
         "name": "I1a__84",
         "rawType": "object",
         "type": "string"
        },
        {
         "name": "I1a__85",
         "rawType": "object",
         "type": "string"
        },
        {
         "name": "I1a__86",
         "rawType": "object",
         "type": "string"
        },
        {
         "name": "I1a__87",
         "rawType": "object",
         "type": "string"
        },
        {
         "name": "I1a__88",
         "rawType": "object",
         "type": "string"
        },
        {
         "name": "I1a__89",
         "rawType": "object",
         "type": "string"
        },
        {
         "name": "I1a__90",
         "rawType": "object",
         "type": "string"
        },
        {
         "name": "I1a__92",
         "rawType": "object",
         "type": "string"
        },
        {
         "name": "I1a__93",
         "rawType": "object",
         "type": "string"
        },
        {
         "name": "I1a__96",
         "rawType": "object",
         "type": "string"
        },
        {
         "name": "I1a_Other_Specify",
         "rawType": "object",
         "type": "unknown"
        },
        {
         "name": "I1b",
         "rawType": "object",
         "type": "string"
        },
        {
         "name": "I1b_Other_Specify",
         "rawType": "object",
         "type": "unknown"
        },
        {
         "name": "I2i",
         "rawType": "object",
         "type": "string"
        },
        {
         "name": "I2ii",
         "rawType": "object",
         "type": "string"
        },
        {
         "name": "I2iii",
         "rawType": "object",
         "type": "string"
        },
        {
         "name": "I3_1",
         "rawType": "object",
         "type": "string"
        },
        {
         "name": "I3_2",
         "rawType": "object",
         "type": "string"
        },
        {
         "name": "I3_3",
         "rawType": "object",
         "type": "string"
        },
        {
         "name": "I3_4",
         "rawType": "object",
         "type": "string"
        },
        {
         "name": "I3_5",
         "rawType": "object",
         "type": "string"
        },
        {
         "name": "I4",
         "rawType": "object",
         "type": "string"
        },
        {
         "name": "I4_Other_Specify",
         "rawType": "float64",
         "type": "float"
        },
        {
         "name": "I5",
         "rawType": "object",
         "type": "string"
        },
        {
         "name": "I6__1",
         "rawType": "object",
         "type": "string"
        },
        {
         "name": "I6__2",
         "rawType": "object",
         "type": "string"
        },
        {
         "name": "I6__3",
         "rawType": "object",
         "type": "string"
        },
        {
         "name": "I6__4",
         "rawType": "object",
         "type": "string"
        },
        {
         "name": "I6__5",
         "rawType": "object",
         "type": "string"
        },
        {
         "name": "I6__6",
         "rawType": "object",
         "type": "string"
        },
        {
         "name": "I6__98",
         "rawType": "object",
         "type": "string"
        },
        {
         "name": "I6__99",
         "rawType": "object",
         "type": "string"
        },
        {
         "name": "I6_Other_Specify",
         "rawType": "float64",
         "type": "float"
        },
        {
         "name": "I7",
         "rawType": "object",
         "type": "string"
        },
        {
         "name": "I8_1",
         "rawType": "object",
         "type": "string"
        },
        {
         "name": "I8_2",
         "rawType": "object",
         "type": "string"
        },
        {
         "name": "I8_3",
         "rawType": "object",
         "type": "string"
        },
        {
         "name": "I8_4",
         "rawType": "object",
         "type": "string"
        },
        {
         "name": "I8_5",
         "rawType": "object",
         "type": "string"
        },
        {
         "name": "I8_6",
         "rawType": "object",
         "type": "string"
        },
        {
         "name": "IsSectionAnsweredSecI",
         "rawType": "object",
         "type": "unknown"
        },
        {
         "name": "J1__1",
         "rawType": "object",
         "type": "string"
        },
        {
         "name": "J1__3",
         "rawType": "object",
         "type": "string"
        },
        {
         "name": "J1__4",
         "rawType": "object",
         "type": "string"
        },
        {
         "name": "J1__5",
         "rawType": "object",
         "type": "string"
        },
        {
         "name": "J1__6",
         "rawType": "object",
         "type": "string"
        },
        {
         "name": "J1__7",
         "rawType": "object",
         "type": "string"
        },
        {
         "name": "J1__8",
         "rawType": "object",
         "type": "string"
        },
        {
         "name": "J1__9",
         "rawType": "object",
         "type": "string"
        },
        {
         "name": "J1__10",
         "rawType": "object",
         "type": "string"
        },
        {
         "name": "J1__96",
         "rawType": "object",
         "type": "string"
        },
        {
         "name": "J1__98",
         "rawType": "object",
         "type": "string"
        },
        {
         "name": "J1__99",
         "rawType": "object",
         "type": "string"
        },
        {
         "name": "J1_Other_Specify",
         "rawType": "object",
         "type": "unknown"
        },
        {
         "name": "J2",
         "rawType": "object",
         "type": "string"
        },
        {
         "name": "J2_Others_Specify",
         "rawType": "object",
         "type": "unknown"
        },
        {
         "name": "J3__0",
         "rawType": "object",
         "type": "string"
        },
        {
         "name": "J3__1",
         "rawType": "object",
         "type": "string"
        },
        {
         "name": "J3__2",
         "rawType": "object",
         "type": "string"
        },
        {
         "name": "J3__3",
         "rawType": "object",
         "type": "string"
        },
        {
         "name": "J3__4",
         "rawType": "object",
         "type": "string"
        },
        {
         "name": "J3__5",
         "rawType": "object",
         "type": "string"
        },
        {
         "name": "J3__6",
         "rawType": "object",
         "type": "string"
        },
        {
         "name": "J3__7",
         "rawType": "object",
         "type": "string"
        },
        {
         "name": "J3__8",
         "rawType": "object",
         "type": "string"
        },
        {
         "name": "J3__9",
         "rawType": "object",
         "type": "string"
        },
        {
         "name": "J3__10",
         "rawType": "object",
         "type": "string"
        },
        {
         "name": "J3__11",
         "rawType": "object",
         "type": "string"
        },
        {
         "name": "J3__12",
         "rawType": "object",
         "type": "string"
        },
        {
         "name": "J3__13",
         "rawType": "object",
         "type": "string"
        },
        {
         "name": "J3__14",
         "rawType": "object",
         "type": "string"
        },
        {
         "name": "J3__15",
         "rawType": "object",
         "type": "string"
        },
        {
         "name": "J3__16",
         "rawType": "object",
         "type": "string"
        },
        {
         "name": "J3__17",
         "rawType": "object",
         "type": "string"
        },
        {
         "name": "J3__18",
         "rawType": "object",
         "type": "string"
        },
        {
         "name": "J3__19",
         "rawType": "object",
         "type": "string"
        },
        {
         "name": "J3__20",
         "rawType": "object",
         "type": "string"
        },
        {
         "name": "J3__21",
         "rawType": "object",
         "type": "string"
        },
        {
         "name": "J3__22",
         "rawType": "object",
         "type": "string"
        },
        {
         "name": "J3__23",
         "rawType": "object",
         "type": "string"
        },
        {
         "name": "J3__24",
         "rawType": "object",
         "type": "string"
        },
        {
         "name": "J3__25",
         "rawType": "object",
         "type": "string"
        },
        {
         "name": "J3__26",
         "rawType": "object",
         "type": "string"
        },
        {
         "name": "J3__27",
         "rawType": "object",
         "type": "string"
        },
        {
         "name": "J3__28",
         "rawType": "object",
         "type": "string"
        },
        {
         "name": "J3__29",
         "rawType": "object",
         "type": "string"
        },
        {
         "name": "J3__30",
         "rawType": "object",
         "type": "string"
        },
        {
         "name": "J3__31",
         "rawType": "object",
         "type": "string"
        },
        {
         "name": "J3__32",
         "rawType": "object",
         "type": "string"
        },
        {
         "name": "J3__33",
         "rawType": "object",
         "type": "string"
        },
        {
         "name": "J3__34",
         "rawType": "object",
         "type": "string"
        },
        {
         "name": "J3__35",
         "rawType": "object",
         "type": "string"
        },
        {
         "name": "J3__36",
         "rawType": "object",
         "type": "string"
        },
        {
         "name": "J3__37",
         "rawType": "object",
         "type": "string"
        },
        {
         "name": "J3__38",
         "rawType": "object",
         "type": "string"
        },
        {
         "name": "J3__39",
         "rawType": "object",
         "type": "string"
        },
        {
         "name": "J3__40",
         "rawType": "object",
         "type": "string"
        },
        {
         "name": "J3__41",
         "rawType": "object",
         "type": "string"
        },
        {
         "name": "J3__42",
         "rawType": "object",
         "type": "string"
        },
        {
         "name": "J3__43",
         "rawType": "object",
         "type": "string"
        },
        {
         "name": "J3__44",
         "rawType": "object",
         "type": "string"
        },
        {
         "name": "J3__45",
         "rawType": "object",
         "type": "string"
        },
        {
         "name": "J3__46",
         "rawType": "object",
         "type": "string"
        },
        {
         "name": "J3__47",
         "rawType": "object",
         "type": "string"
        },
        {
         "name": "J3__48",
         "rawType": "object",
         "type": "string"
        },
        {
         "name": "J3__49",
         "rawType": "object",
         "type": "string"
        },
        {
         "name": "J3__50",
         "rawType": "object",
         "type": "string"
        },
        {
         "name": "J3__51",
         "rawType": "object",
         "type": "string"
        },
        {
         "name": "J3__52",
         "rawType": "object",
         "type": "string"
        },
        {
         "name": "J3__53",
         "rawType": "object",
         "type": "string"
        },
        {
         "name": "J3__54",
         "rawType": "object",
         "type": "string"
        },
        {
         "name": "J3__55",
         "rawType": "object",
         "type": "string"
        },
        {
         "name": "J3__56",
         "rawType": "object",
         "type": "string"
        },
        {
         "name": "J3__57",
         "rawType": "object",
         "type": "string"
        },
        {
         "name": "J3__58",
         "rawType": "object",
         "type": "string"
        },
        {
         "name": "J3__59",
         "rawType": "object",
         "type": "string"
        },
        {
         "name": "J3__60",
         "rawType": "object",
         "type": "string"
        },
        {
         "name": "J3__61",
         "rawType": "object",
         "type": "string"
        },
        {
         "name": "J3__62",
         "rawType": "object",
         "type": "string"
        },
        {
         "name": "J3__63",
         "rawType": "object",
         "type": "string"
        },
        {
         "name": "J3__64",
         "rawType": "object",
         "type": "string"
        },
        {
         "name": "J3__65",
         "rawType": "object",
         "type": "string"
        },
        {
         "name": "J3__66",
         "rawType": "object",
         "type": "string"
        },
        {
         "name": "J3__67",
         "rawType": "object",
         "type": "string"
        },
        {
         "name": "J3__68",
         "rawType": "object",
         "type": "string"
        },
        {
         "name": "J3__69",
         "rawType": "object",
         "type": "string"
        },
        {
         "name": "J3__70",
         "rawType": "object",
         "type": "string"
        },
        {
         "name": "J3__71",
         "rawType": "object",
         "type": "string"
        },
        {
         "name": "J3__72",
         "rawType": "object",
         "type": "string"
        },
        {
         "name": "J3__73",
         "rawType": "object",
         "type": "string"
        },
        {
         "name": "J3__74",
         "rawType": "object",
         "type": "string"
        },
        {
         "name": "J3__75",
         "rawType": "object",
         "type": "string"
        },
        {
         "name": "J3__76",
         "rawType": "object",
         "type": "string"
        },
        {
         "name": "J3__77",
         "rawType": "object",
         "type": "string"
        },
        {
         "name": "J3__78",
         "rawType": "object",
         "type": "string"
        },
        {
         "name": "J3__79",
         "rawType": "object",
         "type": "string"
        },
        {
         "name": "J3__80",
         "rawType": "object",
         "type": "string"
        },
        {
         "name": "J3__81",
         "rawType": "object",
         "type": "string"
        },
        {
         "name": "J3__82",
         "rawType": "object",
         "type": "string"
        },
        {
         "name": "J3__83",
         "rawType": "object",
         "type": "string"
        },
        {
         "name": "J3__84",
         "rawType": "object",
         "type": "string"
        },
        {
         "name": "J3__85",
         "rawType": "object",
         "type": "string"
        },
        {
         "name": "J3__86",
         "rawType": "object",
         "type": "string"
        },
        {
         "name": "J3__87",
         "rawType": "object",
         "type": "string"
        },
        {
         "name": "J3__88",
         "rawType": "object",
         "type": "string"
        },
        {
         "name": "J3__89",
         "rawType": "object",
         "type": "string"
        },
        {
         "name": "J3__90",
         "rawType": "object",
         "type": "string"
        },
        {
         "name": "J3__91",
         "rawType": "object",
         "type": "string"
        },
        {
         "name": "J3__92",
         "rawType": "object",
         "type": "string"
        },
        {
         "name": "J3__93",
         "rawType": "object",
         "type": "string"
        },
        {
         "name": "J3__94",
         "rawType": "object",
         "type": "string"
        },
        {
         "name": "J3__95",
         "rawType": "object",
         "type": "string"
        },
        {
         "name": "J3__96",
         "rawType": "object",
         "type": "string"
        },
        {
         "name": "J3__97",
         "rawType": "object",
         "type": "string"
        },
        {
         "name": "J3__98",
         "rawType": "object",
         "type": "string"
        },
        {
         "name": "J3__99",
         "rawType": "object",
         "type": "string"
        },
        {
         "name": "J3__100",
         "rawType": "object",
         "type": "string"
        },
        {
         "name": "J3__101",
         "rawType": "object",
         "type": "string"
        },
        {
         "name": "J3__102",
         "rawType": "object",
         "type": "string"
        },
        {
         "name": "J3__103",
         "rawType": "object",
         "type": "string"
        },
        {
         "name": "J3__104",
         "rawType": "object",
         "type": "string"
        },
        {
         "name": "J3__105",
         "rawType": "object",
         "type": "string"
        },
        {
         "name": "J3__106",
         "rawType": "object",
         "type": "string"
        },
        {
         "name": "J3__107",
         "rawType": "object",
         "type": "string"
        },
        {
         "name": "J3__108",
         "rawType": "object",
         "type": "string"
        },
        {
         "name": "J3__109",
         "rawType": "object",
         "type": "string"
        },
        {
         "name": "J3__110",
         "rawType": "object",
         "type": "string"
        },
        {
         "name": "J3__111",
         "rawType": "object",
         "type": "string"
        },
        {
         "name": "J3__112",
         "rawType": "object",
         "type": "string"
        },
        {
         "name": "J3__113",
         "rawType": "object",
         "type": "string"
        },
        {
         "name": "J3__114",
         "rawType": "object",
         "type": "string"
        },
        {
         "name": "J3__115",
         "rawType": "object",
         "type": "string"
        },
        {
         "name": "J3__116",
         "rawType": "object",
         "type": "string"
        },
        {
         "name": "J3__117",
         "rawType": "object",
         "type": "string"
        },
        {
         "name": "J3__118",
         "rawType": "object",
         "type": "string"
        },
        {
         "name": "J3__119",
         "rawType": "object",
         "type": "string"
        },
        {
         "name": "J3__120",
         "rawType": "object",
         "type": "string"
        },
        {
         "name": "J3__121",
         "rawType": "object",
         "type": "string"
        },
        {
         "name": "J3__122",
         "rawType": "object",
         "type": "string"
        },
        {
         "name": "J3__123",
         "rawType": "object",
         "type": "string"
        },
        {
         "name": "J3__124",
         "rawType": "object",
         "type": "string"
        },
        {
         "name": "J3__125",
         "rawType": "object",
         "type": "string"
        },
        {
         "name": "J3__126",
         "rawType": "object",
         "type": "string"
        },
        {
         "name": "J3__127",
         "rawType": "object",
         "type": "string"
        },
        {
         "name": "J3__128",
         "rawType": "object",
         "type": "string"
        },
        {
         "name": "J3__129",
         "rawType": "object",
         "type": "string"
        },
        {
         "name": "J3__130",
         "rawType": "object",
         "type": "string"
        },
        {
         "name": "J3__131",
         "rawType": "object",
         "type": "string"
        },
        {
         "name": "J3__132",
         "rawType": "object",
         "type": "string"
        },
        {
         "name": "J3__133",
         "rawType": "object",
         "type": "string"
        },
        {
         "name": "J3__134",
         "rawType": "object",
         "type": "string"
        },
        {
         "name": "J3__135",
         "rawType": "object",
         "type": "string"
        },
        {
         "name": "J3__136",
         "rawType": "object",
         "type": "string"
        },
        {
         "name": "J3__137",
         "rawType": "object",
         "type": "string"
        },
        {
         "name": "J3__138",
         "rawType": "object",
         "type": "string"
        },
        {
         "name": "J3__139",
         "rawType": "object",
         "type": "string"
        },
        {
         "name": "J3__140",
         "rawType": "object",
         "type": "string"
        },
        {
         "name": "J3__141",
         "rawType": "object",
         "type": "string"
        },
        {
         "name": "J3__142",
         "rawType": "object",
         "type": "string"
        },
        {
         "name": "J3__143",
         "rawType": "object",
         "type": "string"
        },
        {
         "name": "J3__144",
         "rawType": "object",
         "type": "string"
        },
        {
         "name": "J3__145",
         "rawType": "object",
         "type": "string"
        },
        {
         "name": "J3__146",
         "rawType": "object",
         "type": "string"
        },
        {
         "name": "J3__147",
         "rawType": "object",
         "type": "string"
        },
        {
         "name": "J3__148",
         "rawType": "object",
         "type": "string"
        },
        {
         "name": "J3__149",
         "rawType": "object",
         "type": "string"
        },
        {
         "name": "J3__150",
         "rawType": "object",
         "type": "string"
        },
        {
         "name": "J3__151",
         "rawType": "object",
         "type": "string"
        },
        {
         "name": "J3__152",
         "rawType": "object",
         "type": "string"
        },
        {
         "name": "J3__153",
         "rawType": "object",
         "type": "string"
        },
        {
         "name": "J3__154",
         "rawType": "object",
         "type": "string"
        },
        {
         "name": "J3__155",
         "rawType": "object",
         "type": "string"
        },
        {
         "name": "J3__156",
         "rawType": "object",
         "type": "string"
        },
        {
         "name": "J3__157",
         "rawType": "object",
         "type": "string"
        },
        {
         "name": "J3__158",
         "rawType": "object",
         "type": "string"
        },
        {
         "name": "J3__159",
         "rawType": "object",
         "type": "string"
        },
        {
         "name": "J3__160",
         "rawType": "object",
         "type": "string"
        },
        {
         "name": "J3__161",
         "rawType": "object",
         "type": "string"
        },
        {
         "name": "J3__162",
         "rawType": "object",
         "type": "string"
        },
        {
         "name": "J3__163",
         "rawType": "object",
         "type": "string"
        },
        {
         "name": "J3__164",
         "rawType": "object",
         "type": "string"
        },
        {
         "name": "J3__165",
         "rawType": "object",
         "type": "string"
        },
        {
         "name": "J3__166",
         "rawType": "object",
         "type": "string"
        },
        {
         "name": "J3__167",
         "rawType": "object",
         "type": "string"
        },
        {
         "name": "J3__168",
         "rawType": "object",
         "type": "string"
        },
        {
         "name": "J3__169",
         "rawType": "object",
         "type": "string"
        },
        {
         "name": "J3__170",
         "rawType": "object",
         "type": "string"
        },
        {
         "name": "J3__171",
         "rawType": "object",
         "type": "string"
        },
        {
         "name": "J3__172",
         "rawType": "object",
         "type": "string"
        },
        {
         "name": "J3__173",
         "rawType": "object",
         "type": "string"
        },
        {
         "name": "J3__174",
         "rawType": "object",
         "type": "string"
        },
        {
         "name": "J3__175",
         "rawType": "object",
         "type": "string"
        },
        {
         "name": "J3__176",
         "rawType": "object",
         "type": "string"
        },
        {
         "name": "J3__177",
         "rawType": "object",
         "type": "string"
        },
        {
         "name": "J3__178",
         "rawType": "object",
         "type": "string"
        },
        {
         "name": "J3__179",
         "rawType": "object",
         "type": "string"
        },
        {
         "name": "J3__180",
         "rawType": "object",
         "type": "string"
        },
        {
         "name": "J3__181",
         "rawType": "object",
         "type": "string"
        },
        {
         "name": "J3__182",
         "rawType": "object",
         "type": "string"
        },
        {
         "name": "J3__183",
         "rawType": "object",
         "type": "string"
        },
        {
         "name": "J3__184",
         "rawType": "object",
         "type": "string"
        },
        {
         "name": "J3__185",
         "rawType": "object",
         "type": "string"
        },
        {
         "name": "J3__186",
         "rawType": "object",
         "type": "string"
        },
        {
         "name": "J3__187",
         "rawType": "object",
         "type": "string"
        },
        {
         "name": "J3__188",
         "rawType": "object",
         "type": "string"
        },
        {
         "name": "J3__189",
         "rawType": "object",
         "type": "string"
        },
        {
         "name": "J3__190",
         "rawType": "object",
         "type": "string"
        },
        {
         "name": "J3__191",
         "rawType": "object",
         "type": "string"
        },
        {
         "name": "J3__192",
         "rawType": "object",
         "type": "string"
        },
        {
         "name": "J3__193",
         "rawType": "object",
         "type": "string"
        },
        {
         "name": "J3__194",
         "rawType": "object",
         "type": "string"
        },
        {
         "name": "J3__195",
         "rawType": "object",
         "type": "string"
        },
        {
         "name": "J3__196",
         "rawType": "object",
         "type": "string"
        },
        {
         "name": "J3__197",
         "rawType": "object",
         "type": "string"
        },
        {
         "name": "J3__198",
         "rawType": "object",
         "type": "string"
        },
        {
         "name": "J3__199",
         "rawType": "object",
         "type": "string"
        },
        {
         "name": "J3i",
         "rawType": "object",
         "type": "unknown"
        },
        {
         "name": "J4",
         "rawType": "object",
         "type": "string"
        },
        {
         "name": "J5",
         "rawType": "object",
         "type": "string"
        },
        {
         "name": "J6__1",
         "rawType": "object",
         "type": "string"
        },
        {
         "name": "J6__2",
         "rawType": "object",
         "type": "string"
        },
        {
         "name": "J6__3",
         "rawType": "object",
         "type": "string"
        },
        {
         "name": "J6__4",
         "rawType": "object",
         "type": "string"
        },
        {
         "name": "J6__5",
         "rawType": "object",
         "type": "string"
        },
        {
         "name": "J6__6",
         "rawType": "object",
         "type": "string"
        },
        {
         "name": "J6__7",
         "rawType": "object",
         "type": "string"
        },
        {
         "name": "J6__8",
         "rawType": "object",
         "type": "string"
        },
        {
         "name": "J6__9",
         "rawType": "object",
         "type": "string"
        },
        {
         "name": "J6__97",
         "rawType": "object",
         "type": "string"
        },
        {
         "name": "J6__98",
         "rawType": "object",
         "type": "string"
        },
        {
         "name": "J6__99",
         "rawType": "object",
         "type": "string"
        },
        {
         "name": "J6_Other_specify",
         "rawType": "object",
         "type": "unknown"
        },
        {
         "name": "J7_1",
         "rawType": "object",
         "type": "string"
        },
        {
         "name": "J7_2",
         "rawType": "object",
         "type": "string"
        },
        {
         "name": "J7_3",
         "rawType": "object",
         "type": "string"
        },
        {
         "name": "J7_4",
         "rawType": "object",
         "type": "string"
        },
        {
         "name": "J8",
         "rawType": "object",
         "type": "string"
        },
        {
         "name": "J8_Other_specify",
         "rawType": "object",
         "type": "unknown"
        },
        {
         "name": "J9",
         "rawType": "object",
         "type": "string"
        },
        {
         "name": "J10__1",
         "rawType": "object",
         "type": "string"
        },
        {
         "name": "J10__2",
         "rawType": "object",
         "type": "string"
        },
        {
         "name": "J10__3",
         "rawType": "object",
         "type": "string"
        },
        {
         "name": "J10__4",
         "rawType": "object",
         "type": "string"
        },
        {
         "name": "J10__5",
         "rawType": "object",
         "type": "string"
        },
        {
         "name": "J10__6",
         "rawType": "object",
         "type": "string"
        },
        {
         "name": "J10__7",
         "rawType": "object",
         "type": "string"
        },
        {
         "name": "J10__98",
         "rawType": "object",
         "type": "string"
        },
        {
         "name": "J10__99",
         "rawType": "object",
         "type": "string"
        },
        {
         "name": "J10_Other_Specify",
         "rawType": "object",
         "type": "unknown"
        },
        {
         "name": "J11",
         "rawType": "object",
         "type": "string"
        },
        {
         "name": "J12_1",
         "rawType": "object",
         "type": "string"
        },
        {
         "name": "J12_2",
         "rawType": "object",
         "type": "string"
        },
        {
         "name": "J12_3",
         "rawType": "object",
         "type": "string"
        },
        {
         "name": "J12_4",
         "rawType": "object",
         "type": "string"
        },
        {
         "name": "J12_5",
         "rawType": "object",
         "type": "string"
        },
        {
         "name": "J12_6",
         "rawType": "object",
         "type": "string"
        },
        {
         "name": "IsSectionAnsweredSecJ",
         "rawType": "object",
         "type": "string"
        },
        {
         "name": "CountSecJ",
         "rawType": "object",
         "type": "string"
        },
        {
         "name": "K1",
         "rawType": "object",
         "type": "string"
        },
        {
         "name": "K2i__1",
         "rawType": "object",
         "type": "string"
        },
        {
         "name": "K2i__2",
         "rawType": "object",
         "type": "string"
        },
        {
         "name": "K2i__3",
         "rawType": "object",
         "type": "string"
        },
        {
         "name": "K2i__4",
         "rawType": "object",
         "type": "string"
        },
        {
         "name": "K2i__5",
         "rawType": "object",
         "type": "string"
        },
        {
         "name": "K2i__6",
         "rawType": "object",
         "type": "string"
        },
        {
         "name": "K2i__7",
         "rawType": "object",
         "type": "string"
        },
        {
         "name": "K2i__8",
         "rawType": "object",
         "type": "string"
        },
        {
         "name": "K2i__9",
         "rawType": "object",
         "type": "string"
        },
        {
         "name": "K2i__98",
         "rawType": "object",
         "type": "string"
        },
        {
         "name": "K2i__99",
         "rawType": "object",
         "type": "string"
        },
        {
         "name": "K2i_Other",
         "rawType": "object",
         "type": "unknown"
        },
        {
         "name": "K2ii__1",
         "rawType": "object",
         "type": "string"
        },
        {
         "name": "K2ii__2",
         "rawType": "object",
         "type": "string"
        },
        {
         "name": "K2ii__3",
         "rawType": "object",
         "type": "string"
        },
        {
         "name": "K2ii__4",
         "rawType": "object",
         "type": "string"
        },
        {
         "name": "K2ii__5",
         "rawType": "object",
         "type": "string"
        },
        {
         "name": "K2ii__6",
         "rawType": "object",
         "type": "string"
        },
        {
         "name": "K2ii__7",
         "rawType": "object",
         "type": "string"
        },
        {
         "name": "K2ii__98",
         "rawType": "object",
         "type": "string"
        },
        {
         "name": "K2ii__99",
         "rawType": "object",
         "type": "string"
        },
        {
         "name": "K2ii_Other",
         "rawType": "object",
         "type": "unknown"
        },
        {
         "name": "K3__1",
         "rawType": "object",
         "type": "string"
        },
        {
         "name": "K3__2",
         "rawType": "object",
         "type": "string"
        },
        {
         "name": "K3__3",
         "rawType": "object",
         "type": "string"
        },
        {
         "name": "K3__4",
         "rawType": "object",
         "type": "string"
        },
        {
         "name": "K3__5",
         "rawType": "object",
         "type": "string"
        },
        {
         "name": "K3__96",
         "rawType": "object",
         "type": "string"
        },
        {
         "name": "K3__98",
         "rawType": "object",
         "type": "string"
        },
        {
         "name": "K3__99",
         "rawType": "object",
         "type": "string"
        },
        {
         "name": "K3i",
         "rawType": "object",
         "type": "unknown"
        },
        {
         "name": "K4",
         "rawType": "object",
         "type": "string"
        },
        {
         "name": "K5",
         "rawType": "object",
         "type": "string"
        },
        {
         "name": "K5i",
         "rawType": "float64",
         "type": "float"
        },
        {
         "name": "K6",
         "rawType": "object",
         "type": "string"
        },
        {
         "name": "K9_1",
         "rawType": "object",
         "type": "string"
        },
        {
         "name": "K9_2",
         "rawType": "object",
         "type": "string"
        },
        {
         "name": "K9_3",
         "rawType": "object",
         "type": "string"
        },
        {
         "name": "K9_4",
         "rawType": "object",
         "type": "string"
        },
        {
         "name": "K9_5",
         "rawType": "object",
         "type": "string"
        },
        {
         "name": "K9_6",
         "rawType": "object",
         "type": "string"
        },
        {
         "name": "K10__1",
         "rawType": "object",
         "type": "string"
        },
        {
         "name": "K10__2",
         "rawType": "object",
         "type": "string"
        },
        {
         "name": "K10__3",
         "rawType": "object",
         "type": "string"
        },
        {
         "name": "K10__4",
         "rawType": "object",
         "type": "string"
        },
        {
         "name": "K10__5",
         "rawType": "object",
         "type": "string"
        },
        {
         "name": "K10__6",
         "rawType": "object",
         "type": "string"
        },
        {
         "name": "K10__96",
         "rawType": "object",
         "type": "string"
        },
        {
         "name": "K10__98",
         "rawType": "object",
         "type": "string"
        },
        {
         "name": "K10__99",
         "rawType": "object",
         "type": "string"
        },
        {
         "name": "K10i",
         "rawType": "object",
         "type": "unknown"
        },
        {
         "name": "K11",
         "rawType": "object",
         "type": "string"
        },
        {
         "name": "K12__1",
         "rawType": "object",
         "type": "string"
        },
        {
         "name": "K12__2",
         "rawType": "object",
         "type": "string"
        },
        {
         "name": "K12__3",
         "rawType": "object",
         "type": "string"
        },
        {
         "name": "K12__4",
         "rawType": "object",
         "type": "string"
        },
        {
         "name": "K12__5",
         "rawType": "object",
         "type": "string"
        },
        {
         "name": "K12__6",
         "rawType": "object",
         "type": "string"
        },
        {
         "name": "K12__96",
         "rawType": "object",
         "type": "string"
        },
        {
         "name": "K12__98",
         "rawType": "object",
         "type": "string"
        },
        {
         "name": "K12__99",
         "rawType": "object",
         "type": "string"
        },
        {
         "name": "K12i",
         "rawType": "object",
         "type": "unknown"
        },
        {
         "name": "K13",
         "rawType": "object",
         "type": "string"
        },
        {
         "name": "K14",
         "rawType": "object",
         "type": "string"
        },
        {
         "name": "K14_2",
         "rawType": "object",
         "type": "string"
        },
        {
         "name": "K14_3",
         "rawType": "object",
         "type": "string"
        },
        {
         "name": "K14_4",
         "rawType": "object",
         "type": "string"
        },
        {
         "name": "K14_5",
         "rawType": "object",
         "type": "string"
        },
        {
         "name": "K14_6",
         "rawType": "object",
         "type": "string"
        },
        {
         "name": "M1",
         "rawType": "object",
         "type": "string"
        },
        {
         "name": "M2i__1",
         "rawType": "object",
         "type": "string"
        },
        {
         "name": "M2i__2",
         "rawType": "object",
         "type": "string"
        },
        {
         "name": "M2i__3",
         "rawType": "object",
         "type": "string"
        },
        {
         "name": "M2i__4",
         "rawType": "object",
         "type": "string"
        },
        {
         "name": "M2i__5",
         "rawType": "object",
         "type": "string"
        },
        {
         "name": "M2i__6",
         "rawType": "object",
         "type": "string"
        },
        {
         "name": "M2i__7",
         "rawType": "object",
         "type": "string"
        },
        {
         "name": "M2i__8",
         "rawType": "object",
         "type": "string"
        },
        {
         "name": "M2i__96",
         "rawType": "object",
         "type": "string"
        },
        {
         "name": "M2i__98",
         "rawType": "object",
         "type": "string"
        },
        {
         "name": "M2i__99",
         "rawType": "object",
         "type": "string"
        },
        {
         "name": "M2i_Other",
         "rawType": "object",
         "type": "unknown"
        },
        {
         "name": "M2ii__1",
         "rawType": "object",
         "type": "string"
        },
        {
         "name": "M2ii__2",
         "rawType": "object",
         "type": "string"
        },
        {
         "name": "M2ii__3",
         "rawType": "object",
         "type": "string"
        },
        {
         "name": "M2ii__4",
         "rawType": "object",
         "type": "string"
        },
        {
         "name": "M2ii__5",
         "rawType": "object",
         "type": "string"
        },
        {
         "name": "M2ii__6",
         "rawType": "object",
         "type": "string"
        },
        {
         "name": "M2ii__7",
         "rawType": "object",
         "type": "string"
        },
        {
         "name": "M2ii__8",
         "rawType": "object",
         "type": "string"
        },
        {
         "name": "M2ii__9",
         "rawType": "object",
         "type": "string"
        },
        {
         "name": "M2ii__10",
         "rawType": "object",
         "type": "string"
        },
        {
         "name": "M2ii__11",
         "rawType": "int64",
         "type": "integer"
        },
        {
         "name": "M2ii__12",
         "rawType": "int64",
         "type": "integer"
        },
        {
         "name": "M2ii__13",
         "rawType": "int64",
         "type": "integer"
        },
        {
         "name": "M2ii__98",
         "rawType": "object",
         "type": "string"
        },
        {
         "name": "M2ii__99",
         "rawType": "object",
         "type": "string"
        },
        {
         "name": "M2ii_Other",
         "rawType": "object",
         "type": "unknown"
        },
        {
         "name": "M3__1",
         "rawType": "object",
         "type": "string"
        },
        {
         "name": "M3__2",
         "rawType": "object",
         "type": "string"
        },
        {
         "name": "M3__3",
         "rawType": "object",
         "type": "string"
        },
        {
         "name": "M3__4",
         "rawType": "object",
         "type": "string"
        },
        {
         "name": "M3__5",
         "rawType": "object",
         "type": "string"
        },
        {
         "name": "M3__6",
         "rawType": "object",
         "type": "string"
        },
        {
         "name": "M3__7",
         "rawType": "object",
         "type": "string"
        },
        {
         "name": "M3__8",
         "rawType": "object",
         "type": "string"
        },
        {
         "name": "M3__9",
         "rawType": "object",
         "type": "string"
        },
        {
         "name": "M3__10",
         "rawType": "int64",
         "type": "integer"
        },
        {
         "name": "M3__11",
         "rawType": "int64",
         "type": "integer"
        },
        {
         "name": "M3__96",
         "rawType": "object",
         "type": "string"
        },
        {
         "name": "M3__98",
         "rawType": "object",
         "type": "string"
        },
        {
         "name": "M3__99",
         "rawType": "object",
         "type": "string"
        },
        {
         "name": "M3i",
         "rawType": "object",
         "type": "unknown"
        },
        {
         "name": "M4",
         "rawType": "object",
         "type": "string"
        },
        {
         "name": "M4i",
         "rawType": "object",
         "type": "unknown"
        },
        {
         "name": "M5",
         "rawType": "object",
         "type": "string"
        },
        {
         "name": "M6",
         "rawType": "object",
         "type": "string"
        },
        {
         "name": "M7_1",
         "rawType": "object",
         "type": "string"
        },
        {
         "name": "M7_2",
         "rawType": "object",
         "type": "string"
        },
        {
         "name": "M7_3",
         "rawType": "object",
         "type": "string"
        },
        {
         "name": "M7_6",
         "rawType": "object",
         "type": "string"
        },
        {
         "name": "M8__1",
         "rawType": "object",
         "type": "string"
        },
        {
         "name": "M8__2",
         "rawType": "object",
         "type": "string"
        },
        {
         "name": "M8__3",
         "rawType": "object",
         "type": "string"
        },
        {
         "name": "M8__4",
         "rawType": "object",
         "type": "string"
        },
        {
         "name": "M8__5",
         "rawType": "object",
         "type": "string"
        },
        {
         "name": "M8__96",
         "rawType": "object",
         "type": "string"
        },
        {
         "name": "M8__98",
         "rawType": "object",
         "type": "string"
        },
        {
         "name": "M8__99",
         "rawType": "object",
         "type": "string"
        },
        {
         "name": "M8i",
         "rawType": "object",
         "type": "unknown"
        },
        {
         "name": "M9",
         "rawType": "object",
         "type": "string"
        },
        {
         "name": "M10__1",
         "rawType": "object",
         "type": "string"
        },
        {
         "name": "M10__2",
         "rawType": "object",
         "type": "string"
        },
        {
         "name": "M10__3",
         "rawType": "object",
         "type": "string"
        },
        {
         "name": "M10__4",
         "rawType": "object",
         "type": "string"
        },
        {
         "name": "M10__5",
         "rawType": "object",
         "type": "string"
        },
        {
         "name": "M10__6",
         "rawType": "object",
         "type": "string"
        },
        {
         "name": "M10__7",
         "rawType": "object",
         "type": "string"
        },
        {
         "name": "M10__96",
         "rawType": "object",
         "type": "string"
        },
        {
         "name": "M10__98",
         "rawType": "object",
         "type": "string"
        },
        {
         "name": "M10__99",
         "rawType": "object",
         "type": "string"
        },
        {
         "name": "M10i",
         "rawType": "float64",
         "type": "float"
        },
        {
         "name": "M11",
         "rawType": "object",
         "type": "string"
        },
        {
         "name": "M12_1",
         "rawType": "object",
         "type": "string"
        },
        {
         "name": "M12_2",
         "rawType": "object",
         "type": "string"
        },
        {
         "name": "M12_3",
         "rawType": "object",
         "type": "string"
        },
        {
         "name": "M12_4",
         "rawType": "object",
         "type": "string"
        },
        {
         "name": "M12_5",
         "rawType": "object",
         "type": "string"
        },
        {
         "name": "M12_6",
         "rawType": "object",
         "type": "string"
        },
        {
         "name": "N1",
         "rawType": "object",
         "type": "string"
        },
        {
         "name": "N2i__1",
         "rawType": "object",
         "type": "string"
        },
        {
         "name": "N2i__2",
         "rawType": "object",
         "type": "string"
        },
        {
         "name": "N2i__3",
         "rawType": "object",
         "type": "string"
        },
        {
         "name": "N2i__4",
         "rawType": "object",
         "type": "string"
        },
        {
         "name": "N2i__5",
         "rawType": "object",
         "type": "string"
        },
        {
         "name": "N2i__6",
         "rawType": "object",
         "type": "string"
        },
        {
         "name": "N2i__7",
         "rawType": "object",
         "type": "string"
        },
        {
         "name": "N2i__8",
         "rawType": "int64",
         "type": "integer"
        },
        {
         "name": "N2i__9",
         "rawType": "int64",
         "type": "integer"
        },
        {
         "name": "N2i__10",
         "rawType": "int64",
         "type": "integer"
        },
        {
         "name": "N2i__11",
         "rawType": "int64",
         "type": "integer"
        },
        {
         "name": "N2i__12",
         "rawType": "int64",
         "type": "integer"
        },
        {
         "name": "N2i__98",
         "rawType": "object",
         "type": "string"
        },
        {
         "name": "N2i__99",
         "rawType": "object",
         "type": "string"
        },
        {
         "name": "N2i_Other_Specify",
         "rawType": "object",
         "type": "unknown"
        },
        {
         "name": "N2ii__1",
         "rawType": "object",
         "type": "string"
        },
        {
         "name": "N2ii__2",
         "rawType": "object",
         "type": "string"
        },
        {
         "name": "N2ii__3",
         "rawType": "object",
         "type": "string"
        },
        {
         "name": "N2ii__4",
         "rawType": "object",
         "type": "string"
        },
        {
         "name": "N2ii__5",
         "rawType": "object",
         "type": "string"
        },
        {
         "name": "N2ii__6",
         "rawType": "object",
         "type": "string"
        },
        {
         "name": "N2ii__7",
         "rawType": "object",
         "type": "string"
        },
        {
         "name": "N2ii__8",
         "rawType": "object",
         "type": "string"
        },
        {
         "name": "N2ii__9",
         "rawType": "object",
         "type": "string"
        },
        {
         "name": "N2ii__10",
         "rawType": "int64",
         "type": "integer"
        },
        {
         "name": "N2ii__11",
         "rawType": "int64",
         "type": "integer"
        },
        {
         "name": "N2ii__12",
         "rawType": "int64",
         "type": "integer"
        },
        {
         "name": "N2ii__13",
         "rawType": "int64",
         "type": "integer"
        },
        {
         "name": "N2ii__14",
         "rawType": "int64",
         "type": "integer"
        },
        {
         "name": "N2ii__98",
         "rawType": "object",
         "type": "string"
        },
        {
         "name": "N2ii__99",
         "rawType": "object",
         "type": "string"
        },
        {
         "name": "N2ii_Other_Specify",
         "rawType": "object",
         "type": "unknown"
        },
        {
         "name": "IsSectionAnsweredN",
         "rawType": "object",
         "type": "unknown"
        },
        {
         "name": "CountN",
         "rawType": "object",
         "type": "unknown"
        },
        {
         "name": "N3",
         "rawType": "object",
         "type": "string"
        },
        {
         "name": "N4__1",
         "rawType": "object",
         "type": "string"
        },
        {
         "name": "N4__2",
         "rawType": "object",
         "type": "string"
        },
        {
         "name": "N4__3",
         "rawType": "object",
         "type": "string"
        },
        {
         "name": "N4__4",
         "rawType": "object",
         "type": "string"
        },
        {
         "name": "N4__5",
         "rawType": "object",
         "type": "string"
        },
        {
         "name": "N4__6",
         "rawType": "object",
         "type": "string"
        },
        {
         "name": "N4__98",
         "rawType": "object",
         "type": "string"
        },
        {
         "name": "N4__99",
         "rawType": "object",
         "type": "string"
        },
        {
         "name": "N4i",
         "rawType": "object",
         "type": "unknown"
        },
        {
         "name": "N5",
         "rawType": "object",
         "type": "string"
        },
        {
         "name": "N5i",
         "rawType": "object",
         "type": "unknown"
        },
        {
         "name": "N6",
         "rawType": "object",
         "type": "string"
        },
        {
         "name": "N6i",
         "rawType": "object",
         "type": "unknown"
        },
        {
         "name": "N7",
         "rawType": "object",
         "type": "string"
        },
        {
         "name": "N7i",
         "rawType": "object",
         "type": "unknown"
        },
        {
         "name": "N8__1",
         "rawType": "object",
         "type": "string"
        },
        {
         "name": "N8__2",
         "rawType": "object",
         "type": "string"
        },
        {
         "name": "N8__3",
         "rawType": "object",
         "type": "string"
        },
        {
         "name": "N8__4",
         "rawType": "object",
         "type": "string"
        },
        {
         "name": "N8__5",
         "rawType": "object",
         "type": "string"
        },
        {
         "name": "N8__6",
         "rawType": "object",
         "type": "string"
        },
        {
         "name": "N8__7",
         "rawType": "object",
         "type": "string"
        },
        {
         "name": "N8__8",
         "rawType": "object",
         "type": "string"
        },
        {
         "name": "N8__9",
         "rawType": "object",
         "type": "string"
        },
        {
         "name": "N8__10",
         "rawType": "object",
         "type": "string"
        },
        {
         "name": "N9",
         "rawType": "object",
         "type": "string"
        },
        {
         "name": "N10__1",
         "rawType": "object",
         "type": "string"
        },
        {
         "name": "N10__2",
         "rawType": "object",
         "type": "string"
        },
        {
         "name": "N10__3",
         "rawType": "object",
         "type": "string"
        },
        {
         "name": "N10__4",
         "rawType": "object",
         "type": "string"
        },
        {
         "name": "N10__5",
         "rawType": "object",
         "type": "string"
        },
        {
         "name": "N10__6",
         "rawType": "object",
         "type": "string"
        },
        {
         "name": "N10__98",
         "rawType": "object",
         "type": "string"
        },
        {
         "name": "N10__99",
         "rawType": "object",
         "type": "string"
        },
        {
         "name": "N10i",
         "rawType": "object",
         "type": "unknown"
        },
        {
         "name": "N11a",
         "rawType": "object",
         "type": "string"
        },
        {
         "name": "N11b__1",
         "rawType": "object",
         "type": "string"
        },
        {
         "name": "N11b__2",
         "rawType": "object",
         "type": "string"
        },
        {
         "name": "N11b__3",
         "rawType": "object",
         "type": "string"
        },
        {
         "name": "N11b__4",
         "rawType": "object",
         "type": "string"
        },
        {
         "name": "N11b__5",
         "rawType": "object",
         "type": "string"
        },
        {
         "name": "N11b__98",
         "rawType": "object",
         "type": "string"
        },
        {
         "name": "N11b__99",
         "rawType": "object",
         "type": "string"
        },
        {
         "name": "N11bi",
         "rawType": "float64",
         "type": "float"
        },
        {
         "name": "N11c",
         "rawType": "object",
         "type": "string"
        },
        {
         "name": "N12a",
         "rawType": "object",
         "type": "string"
        },
        {
         "name": "N12b",
         "rawType": "object",
         "type": "string"
        },
        {
         "name": "N12c",
         "rawType": "object",
         "type": "string"
        },
        {
         "name": "N12d",
         "rawType": "object",
         "type": "string"
        },
        {
         "name": "N12e",
         "rawType": "object",
         "type": "string"
        },
        {
         "name": "N12f",
         "rawType": "object",
         "type": "string"
        },
        {
         "name": "N12_1a",
         "rawType": "object",
         "type": "string"
        },
        {
         "name": "N12_1b",
         "rawType": "object",
         "type": "string"
        },
        {
         "name": "N12_1c",
         "rawType": "object",
         "type": "string"
        },
        {
         "name": "N12_1d",
         "rawType": "object",
         "type": "string"
        },
        {
         "name": "N12_1e",
         "rawType": "object",
         "type": "string"
        },
        {
         "name": "N12_1f",
         "rawType": "object",
         "type": "string"
        },
        {
         "name": "N13",
         "rawType": "object",
         "type": "string"
        },
        {
         "name": "N14",
         "rawType": "object",
         "type": "string"
        },
        {
         "name": "O1",
         "rawType": "object",
         "type": "string"
        },
        {
         "name": "O2",
         "rawType": "object",
         "type": "string"
        },
        {
         "name": "O3__1",
         "rawType": "object",
         "type": "string"
        },
        {
         "name": "O3__2",
         "rawType": "object",
         "type": "string"
        },
        {
         "name": "O3__3",
         "rawType": "object",
         "type": "string"
        },
        {
         "name": "O3__4",
         "rawType": "object",
         "type": "string"
        },
        {
         "name": "O3__5",
         "rawType": "object",
         "type": "string"
        },
        {
         "name": "O3__6",
         "rawType": "object",
         "type": "string"
        },
        {
         "name": "O3__7",
         "rawType": "object",
         "type": "string"
        },
        {
         "name": "O3__8",
         "rawType": "object",
         "type": "string"
        },
        {
         "name": "O3__9",
         "rawType": "object",
         "type": "string"
        },
        {
         "name": "O3__10",
         "rawType": "object",
         "type": "string"
        },
        {
         "name": "O3__11",
         "rawType": "object",
         "type": "string"
        },
        {
         "name": "O3__12",
         "rawType": "object",
         "type": "string"
        },
        {
         "name": "O3__13",
         "rawType": "object",
         "type": "string"
        },
        {
         "name": "O3__14",
         "rawType": "object",
         "type": "string"
        },
        {
         "name": "O3__98",
         "rawType": "object",
         "type": "string"
        },
        {
         "name": "O3__99",
         "rawType": "object",
         "type": "string"
        },
        {
         "name": "O3i",
         "rawType": "object",
         "type": "unknown"
        },
        {
         "name": "O4",
         "rawType": "object",
         "type": "string"
        },
        {
         "name": "O4i",
         "rawType": "object",
         "type": "unknown"
        },
        {
         "name": "O5__1",
         "rawType": "object",
         "type": "string"
        },
        {
         "name": "O5__2",
         "rawType": "object",
         "type": "string"
        },
        {
         "name": "O5__3",
         "rawType": "object",
         "type": "string"
        },
        {
         "name": "O5__4",
         "rawType": "object",
         "type": "string"
        },
        {
         "name": "O5__5",
         "rawType": "object",
         "type": "string"
        },
        {
         "name": "O5__6",
         "rawType": "object",
         "type": "string"
        },
        {
         "name": "O5__7",
         "rawType": "object",
         "type": "string"
        },
        {
         "name": "O5__8",
         "rawType": "object",
         "type": "string"
        },
        {
         "name": "O5__9",
         "rawType": "object",
         "type": "string"
        },
        {
         "name": "O5__10",
         "rawType": "object",
         "type": "string"
        },
        {
         "name": "O5__11",
         "rawType": "object",
         "type": "string"
        },
        {
         "name": "O5__12",
         "rawType": "object",
         "type": "string"
        },
        {
         "name": "O5__13",
         "rawType": "object",
         "type": "string"
        },
        {
         "name": "O5__14",
         "rawType": "object",
         "type": "string"
        },
        {
         "name": "O5__15",
         "rawType": "object",
         "type": "string"
        },
        {
         "name": "O5__16",
         "rawType": "int64",
         "type": "integer"
        },
        {
         "name": "O5__17",
         "rawType": "int64",
         "type": "integer"
        },
        {
         "name": "O5__18",
         "rawType": "int64",
         "type": "integer"
        },
        {
         "name": "O5__19",
         "rawType": "int64",
         "type": "integer"
        },
        {
         "name": "O5__20",
         "rawType": "int64",
         "type": "integer"
        },
        {
         "name": "O5__98",
         "rawType": "object",
         "type": "string"
        },
        {
         "name": "O5__99",
         "rawType": "object",
         "type": "string"
        },
        {
         "name": "O5i",
         "rawType": "object",
         "type": "unknown"
        },
        {
         "name": "O6",
         "rawType": "object",
         "type": "string"
        },
        {
         "name": "O7",
         "rawType": "object",
         "type": "string"
        },
        {
         "name": "O8",
         "rawType": "object",
         "type": "string"
        },
        {
         "name": "O8i",
         "rawType": "object",
         "type": "unknown"
        },
        {
         "name": "IsSectionAnsweredO",
         "rawType": "object",
         "type": "unknown"
        },
        {
         "name": "CountO",
         "rawType": "object",
         "type": "unknown"
        },
        {
         "name": "P1i",
         "rawType": "object",
         "type": "string"
        },
        {
         "name": "P1a",
         "rawType": "object",
         "type": "string"
        },
        {
         "name": "P1b",
         "rawType": "object",
         "type": "string"
        },
        {
         "name": "P1c",
         "rawType": "object",
         "type": "string"
        },
        {
         "name": "P1_1__1",
         "rawType": "object",
         "type": "string"
        },
        {
         "name": "P1_1__2",
         "rawType": "object",
         "type": "string"
        },
        {
         "name": "P1_1__3",
         "rawType": "object",
         "type": "string"
        },
        {
         "name": "P1_1__4",
         "rawType": "object",
         "type": "string"
        },
        {
         "name": "P1_1__5",
         "rawType": "object",
         "type": "string"
        },
        {
         "name": "P1_1__6",
         "rawType": "object",
         "type": "string"
        },
        {
         "name": "P1_1__7",
         "rawType": "object",
         "type": "string"
        },
        {
         "name": "P1_1__8",
         "rawType": "object",
         "type": "string"
        },
        {
         "name": "P1_1__9",
         "rawType": "object",
         "type": "string"
        },
        {
         "name": "P1_1__10",
         "rawType": "object",
         "type": "string"
        },
        {
         "name": "P1_1__11",
         "rawType": "object",
         "type": "string"
        },
        {
         "name": "P1_1__12",
         "rawType": "object",
         "type": "string"
        },
        {
         "name": "P1_1__13",
         "rawType": "object",
         "type": "string"
        },
        {
         "name": "P1_1i",
         "rawType": "object",
         "type": "unknown"
        },
        {
         "name": "P1_2i",
         "rawType": "object",
         "type": "unknown"
        },
        {
         "name": "P1_2ii",
         "rawType": "object",
         "type": "string"
        },
        {
         "name": "P2i",
         "rawType": "object",
         "type": "string"
        },
        {
         "name": "P2ii",
         "rawType": "object",
         "type": "string"
        },
        {
         "name": "P2iia",
         "rawType": "object",
         "type": "unknown"
        },
        {
         "name": "P3",
         "rawType": "object",
         "type": "string"
        },
        {
         "name": "P4__1",
         "rawType": "object",
         "type": "string"
        },
        {
         "name": "P4__2",
         "rawType": "object",
         "type": "string"
        },
        {
         "name": "P4__3",
         "rawType": "object",
         "type": "string"
        },
        {
         "name": "P4__4",
         "rawType": "object",
         "type": "string"
        },
        {
         "name": "P4__5",
         "rawType": "object",
         "type": "string"
        },
        {
         "name": "P4__6",
         "rawType": "object",
         "type": "string"
        },
        {
         "name": "P5__1",
         "rawType": "object",
         "type": "string"
        },
        {
         "name": "P5__2",
         "rawType": "object",
         "type": "string"
        },
        {
         "name": "P5__3",
         "rawType": "object",
         "type": "string"
        },
        {
         "name": "P5__4",
         "rawType": "object",
         "type": "string"
        },
        {
         "name": "P5__5",
         "rawType": "object",
         "type": "string"
        },
        {
         "name": "P5__6",
         "rawType": "object",
         "type": "string"
        },
        {
         "name": "P5__7",
         "rawType": "object",
         "type": "string"
        },
        {
         "name": "P5__8",
         "rawType": "object",
         "type": "string"
        },
        {
         "name": "P5__9",
         "rawType": "object",
         "type": "string"
        },
        {
         "name": "P5__10",
         "rawType": "object",
         "type": "string"
        },
        {
         "name": "P5__11",
         "rawType": "object",
         "type": "string"
        },
        {
         "name": "P5__12",
         "rawType": "object",
         "type": "string"
        },
        {
         "name": "P5__13",
         "rawType": "object",
         "type": "string"
        },
        {
         "name": "P5__14",
         "rawType": "int64",
         "type": "integer"
        },
        {
         "name": "P5__15",
         "rawType": "int64",
         "type": "integer"
        },
        {
         "name": "P5__16",
         "rawType": "int64",
         "type": "integer"
        },
        {
         "name": "P5__17",
         "rawType": "int64",
         "type": "integer"
        },
        {
         "name": "P5__18",
         "rawType": "int64",
         "type": "integer"
        },
        {
         "name": "P5__19",
         "rawType": "int64",
         "type": "integer"
        },
        {
         "name": "P5__20",
         "rawType": "int64",
         "type": "integer"
        },
        {
         "name": "P5__21",
         "rawType": "int64",
         "type": "integer"
        },
        {
         "name": "P5__22",
         "rawType": "int64",
         "type": "integer"
        },
        {
         "name": "P5__96",
         "rawType": "object",
         "type": "string"
        },
        {
         "name": "P5__98",
         "rawType": "object",
         "type": "string"
        },
        {
         "name": "P5__99",
         "rawType": "object",
         "type": "string"
        },
        {
         "name": "P5i",
         "rawType": "object",
         "type": "unknown"
        },
        {
         "name": "P5a__1",
         "rawType": "object",
         "type": "string"
        },
        {
         "name": "P5a__2",
         "rawType": "object",
         "type": "string"
        },
        {
         "name": "P5a__3",
         "rawType": "object",
         "type": "string"
        },
        {
         "name": "P5a__4",
         "rawType": "object",
         "type": "string"
        },
        {
         "name": "P5a__5",
         "rawType": "object",
         "type": "string"
        },
        {
         "name": "P5a__6",
         "rawType": "object",
         "type": "string"
        },
        {
         "name": "P5a__7",
         "rawType": "object",
         "type": "string"
        },
        {
         "name": "P5a__8",
         "rawType": "object",
         "type": "string"
        },
        {
         "name": "P6",
         "rawType": "object",
         "type": "string"
        },
        {
         "name": "P6_i",
         "rawType": "object",
         "type": "unknown"
        },
        {
         "name": "P6i",
         "rawType": "object",
         "type": "string"
        },
        {
         "name": "P6i_i",
         "rawType": "object",
         "type": "unknown"
        },
        {
         "name": "P6ii",
         "rawType": "object",
         "type": "string"
        },
        {
         "name": "P6iia",
         "rawType": "object",
         "type": "unknown"
        },
        {
         "name": "P7a__1",
         "rawType": "object",
         "type": "string"
        },
        {
         "name": "P7a__2",
         "rawType": "object",
         "type": "string"
        },
        {
         "name": "P7a__3",
         "rawType": "object",
         "type": "string"
        },
        {
         "name": "P7a__4",
         "rawType": "object",
         "type": "string"
        },
        {
         "name": "P7a__5",
         "rawType": "object",
         "type": "string"
        },
        {
         "name": "P7a__6",
         "rawType": "object",
         "type": "string"
        },
        {
         "name": "P7a__7",
         "rawType": "object",
         "type": "string"
        },
        {
         "name": "P7a__8",
         "rawType": "object",
         "type": "string"
        },
        {
         "name": "P7a__9",
         "rawType": "object",
         "type": "string"
        },
        {
         "name": "P7a__10",
         "rawType": "object",
         "type": "string"
        },
        {
         "name": "P7a__11",
         "rawType": "object",
         "type": "string"
        },
        {
         "name": "P7a__96",
         "rawType": "object",
         "type": "string"
        },
        {
         "name": "P7ai",
         "rawType": "object",
         "type": "unknown"
        },
        {
         "name": "P7b",
         "rawType": "object",
         "type": "string"
        },
        {
         "name": "P7bi",
         "rawType": "object",
         "type": "unknown"
        },
        {
         "name": "P7i",
         "rawType": "object",
         "type": "string"
        },
        {
         "name": "P7ia",
         "rawType": "object",
         "type": "unknown"
        },
        {
         "name": "P7ii",
         "rawType": "object",
         "type": "string"
        },
        {
         "name": "P8",
         "rawType": "object",
         "type": "string"
        },
        {
         "name": "P8i",
         "rawType": "object",
         "type": "unknown"
        },
        {
         "name": "P9",
         "rawType": "object",
         "type": "string"
        },
        {
         "name": "P9i",
         "rawType": "float64",
         "type": "float"
        },
        {
         "name": "P10",
         "rawType": "object",
         "type": "string"
        },
        {
         "name": "P11__1",
         "rawType": "object",
         "type": "string"
        },
        {
         "name": "P11__2",
         "rawType": "object",
         "type": "string"
        },
        {
         "name": "P11__3",
         "rawType": "object",
         "type": "string"
        },
        {
         "name": "P11__4",
         "rawType": "object",
         "type": "string"
        },
        {
         "name": "P11__5",
         "rawType": "object",
         "type": "string"
        },
        {
         "name": "P11__99",
         "rawType": "object",
         "type": "string"
        },
        {
         "name": "P11a",
         "rawType": "object",
         "type": "unknown"
        },
        {
         "name": "P12__1",
         "rawType": "object",
         "type": "string"
        },
        {
         "name": "P12__2",
         "rawType": "object",
         "type": "string"
        },
        {
         "name": "P12__3",
         "rawType": "object",
         "type": "string"
        },
        {
         "name": "P12__4",
         "rawType": "object",
         "type": "string"
        },
        {
         "name": "P12__5",
         "rawType": "object",
         "type": "string"
        },
        {
         "name": "P12__6",
         "rawType": "object",
         "type": "string"
        },
        {
         "name": "P12__7",
         "rawType": "object",
         "type": "string"
        },
        {
         "name": "P12__8",
         "rawType": "object",
         "type": "string"
        },
        {
         "name": "P13i",
         "rawType": "object",
         "type": "string"
        },
        {
         "name": "P13ii",
         "rawType": "object",
         "type": "string"
        },
        {
         "name": "P14i",
         "rawType": "object",
         "type": "string"
        },
        {
         "name": "P14ii",
         "rawType": "object",
         "type": "string"
        },
        {
         "name": "P15i__1",
         "rawType": "object",
         "type": "string"
        },
        {
         "name": "P15i__2",
         "rawType": "object",
         "type": "string"
        },
        {
         "name": "P15i__3",
         "rawType": "object",
         "type": "string"
        },
        {
         "name": "P15i__4",
         "rawType": "object",
         "type": "string"
        },
        {
         "name": "P15i__5",
         "rawType": "object",
         "type": "string"
        },
        {
         "name": "P15i__6",
         "rawType": "object",
         "type": "string"
        },
        {
         "name": "P15i__7",
         "rawType": "object",
         "type": "string"
        },
        {
         "name": "P15i__8",
         "rawType": "object",
         "type": "string"
        },
        {
         "name": "P15i__9",
         "rawType": "object",
         "type": "string"
        },
        {
         "name": "P15i__10",
         "rawType": "object",
         "type": "string"
        },
        {
         "name": "P15i__11",
         "rawType": "object",
         "type": "string"
        },
        {
         "name": "P15i__12",
         "rawType": "object",
         "type": "string"
        },
        {
         "name": "P15i__13",
         "rawType": "object",
         "type": "string"
        },
        {
         "name": "P15i__14",
         "rawType": "object",
         "type": "string"
        },
        {
         "name": "P15i__98",
         "rawType": "object",
         "type": "string"
        },
        {
         "name": "P15i__99",
         "rawType": "object",
         "type": "string"
        },
        {
         "name": "P15ia",
         "rawType": "float64",
         "type": "float"
        },
        {
         "name": "P15ii__1",
         "rawType": "object",
         "type": "string"
        },
        {
         "name": "P15ii__2",
         "rawType": "object",
         "type": "string"
        },
        {
         "name": "P15ii__3",
         "rawType": "object",
         "type": "string"
        },
        {
         "name": "P15ii__4",
         "rawType": "object",
         "type": "string"
        },
        {
         "name": "P15ii__5",
         "rawType": "object",
         "type": "string"
        },
        {
         "name": "P15ii__6",
         "rawType": "object",
         "type": "string"
        },
        {
         "name": "P15ii__7",
         "rawType": "object",
         "type": "string"
        },
        {
         "name": "P15ii__8",
         "rawType": "object",
         "type": "string"
        },
        {
         "name": "P15ii__9",
         "rawType": "object",
         "type": "string"
        },
        {
         "name": "P15ii__10",
         "rawType": "object",
         "type": "string"
        },
        {
         "name": "P15ii__11",
         "rawType": "object",
         "type": "string"
        },
        {
         "name": "P15ii__12",
         "rawType": "object",
         "type": "string"
        },
        {
         "name": "P15ii__13",
         "rawType": "object",
         "type": "string"
        },
        {
         "name": "P15ii__14",
         "rawType": "object",
         "type": "string"
        },
        {
         "name": "P15ii__98",
         "rawType": "object",
         "type": "string"
        },
        {
         "name": "P15ii__99",
         "rawType": "object",
         "type": "string"
        },
        {
         "name": "P15iia",
         "rawType": "object",
         "type": "unknown"
        },
        {
         "name": "P16",
         "rawType": "object",
         "type": "string"
        },
        {
         "name": "P17",
         "rawType": "object",
         "type": "string"
        },
        {
         "name": "P18",
         "rawType": "object",
         "type": "string"
        },
        {
         "name": "P19",
         "rawType": "object",
         "type": "string"
        },
        {
         "name": "P20",
         "rawType": "object",
         "type": "string"
        },
        {
         "name": "P21__1",
         "rawType": "object",
         "type": "string"
        },
        {
         "name": "P21__2",
         "rawType": "object",
         "type": "string"
        },
        {
         "name": "P21__3",
         "rawType": "object",
         "type": "string"
        },
        {
         "name": "P21__4",
         "rawType": "object",
         "type": "string"
        },
        {
         "name": "P21__5",
         "rawType": "object",
         "type": "string"
        },
        {
         "name": "P21__6",
         "rawType": "object",
         "type": "string"
        },
        {
         "name": "P21__7",
         "rawType": "object",
         "type": "string"
        },
        {
         "name": "P21__8",
         "rawType": "int64",
         "type": "integer"
        },
        {
         "name": "P21__9",
         "rawType": "int64",
         "type": "integer"
        },
        {
         "name": "P21__10",
         "rawType": "int64",
         "type": "integer"
        },
        {
         "name": "P21__11",
         "rawType": "int64",
         "type": "integer"
        },
        {
         "name": "P21__96",
         "rawType": "object",
         "type": "string"
        },
        {
         "name": "P21__98",
         "rawType": "object",
         "type": "string"
        },
        {
         "name": "P21__99",
         "rawType": "object",
         "type": "string"
        },
        {
         "name": "P21i",
         "rawType": "object",
         "type": "unknown"
        },
        {
         "name": "P22__1",
         "rawType": "object",
         "type": "string"
        },
        {
         "name": "P22__2",
         "rawType": "object",
         "type": "string"
        },
        {
         "name": "P22__3",
         "rawType": "object",
         "type": "string"
        },
        {
         "name": "P22__4",
         "rawType": "object",
         "type": "string"
        },
        {
         "name": "P22__5",
         "rawType": "object",
         "type": "string"
        },
        {
         "name": "P22__6",
         "rawType": "object",
         "type": "string"
        },
        {
         "name": "P22__7",
         "rawType": "object",
         "type": "string"
        },
        {
         "name": "P22__8",
         "rawType": "object",
         "type": "string"
        },
        {
         "name": "P22__10",
         "rawType": "int64",
         "type": "integer"
        },
        {
         "name": "P22__11",
         "rawType": "int64",
         "type": "integer"
        },
        {
         "name": "P22__12",
         "rawType": "int64",
         "type": "integer"
        },
        {
         "name": "P22__13",
         "rawType": "int64",
         "type": "integer"
        },
        {
         "name": "P22__14",
         "rawType": "int64",
         "type": "integer"
        },
        {
         "name": "P22__15",
         "rawType": "int64",
         "type": "integer"
        },
        {
         "name": "P22__16",
         "rawType": "int64",
         "type": "integer"
        },
        {
         "name": "P22__96",
         "rawType": "object",
         "type": "string"
        },
        {
         "name": "P22__98",
         "rawType": "object",
         "type": "string"
        },
        {
         "name": "P22__99",
         "rawType": "object",
         "type": "string"
        },
        {
         "name": "P22i",
         "rawType": "object",
         "type": "unknown"
        },
        {
         "name": "IsSectionAnsweredP",
         "rawType": "object",
         "type": "string"
        },
        {
         "name": "CountP",
         "rawType": "object",
         "type": "string"
        },
        {
         "name": "Q1",
         "rawType": "object",
         "type": "string"
        },
        {
         "name": "Q1i",
         "rawType": "object",
         "type": "string"
        },
        {
         "name": "Q2__1",
         "rawType": "object",
         "type": "string"
        },
        {
         "name": "Q2__2",
         "rawType": "object",
         "type": "string"
        },
        {
         "name": "Q2__3",
         "rawType": "object",
         "type": "string"
        },
        {
         "name": "Q2__4",
         "rawType": "object",
         "type": "string"
        },
        {
         "name": "Q2__5",
         "rawType": "object",
         "type": "string"
        },
        {
         "name": "Q2__6",
         "rawType": "object",
         "type": "string"
        },
        {
         "name": "Q2__9",
         "rawType": "object",
         "type": "string"
        },
        {
         "name": "Q2__98",
         "rawType": "object",
         "type": "string"
        },
        {
         "name": "Q2__99",
         "rawType": "object",
         "type": "string"
        },
        {
         "name": "Q6__1",
         "rawType": "object",
         "type": "string"
        },
        {
         "name": "Q6__2",
         "rawType": "object",
         "type": "string"
        },
        {
         "name": "Q6__3",
         "rawType": "object",
         "type": "string"
        },
        {
         "name": "Q6__4",
         "rawType": "object",
         "type": "string"
        },
        {
         "name": "Q6__5",
         "rawType": "object",
         "type": "string"
        },
        {
         "name": "Q6__6",
         "rawType": "object",
         "type": "string"
        },
        {
         "name": "Q6__7",
         "rawType": "object",
         "type": "string"
        },
        {
         "name": "Q6__8",
         "rawType": "object",
         "type": "string"
        },
        {
         "name": "Q6__9",
         "rawType": "object",
         "type": "string"
        },
        {
         "name": "Q6__10",
         "rawType": "object",
         "type": "string"
        },
        {
         "name": "Q6__11",
         "rawType": "object",
         "type": "string"
        },
        {
         "name": "Q6__12",
         "rawType": "object",
         "type": "string"
        },
        {
         "name": "Q6__13",
         "rawType": "object",
         "type": "string"
        },
        {
         "name": "Q6__14",
         "rawType": "object",
         "type": "string"
        },
        {
         "name": "Q6__15",
         "rawType": "object",
         "type": "string"
        },
        {
         "name": "Q6__16",
         "rawType": "object",
         "type": "string"
        },
        {
         "name": "Q6__17",
         "rawType": "object",
         "type": "string"
        },
        {
         "name": "Q6__18",
         "rawType": "object",
         "type": "string"
        },
        {
         "name": "Q6__19",
         "rawType": "object",
         "type": "string"
        },
        {
         "name": "Q6__20",
         "rawType": "object",
         "type": "string"
        },
        {
         "name": "Q6__21",
         "rawType": "object",
         "type": "string"
        },
        {
         "name": "Q6__22",
         "rawType": "object",
         "type": "string"
        },
        {
         "name": "Q6__23",
         "rawType": "object",
         "type": "string"
        },
        {
         "name": "Q6__24",
         "rawType": "object",
         "type": "string"
        },
        {
         "name": "Q6__25",
         "rawType": "object",
         "type": "string"
        },
        {
         "name": "Q6__26",
         "rawType": "object",
         "type": "string"
        },
        {
         "name": "Q6__27",
         "rawType": "object",
         "type": "string"
        },
        {
         "name": "Q6__28",
         "rawType": "object",
         "type": "string"
        },
        {
         "name": "Q6__29",
         "rawType": "object",
         "type": "string"
        },
        {
         "name": "Q6__30",
         "rawType": "object",
         "type": "string"
        },
        {
         "name": "Q6__31",
         "rawType": "object",
         "type": "string"
        },
        {
         "name": "Q6__32",
         "rawType": "object",
         "type": "string"
        },
        {
         "name": "Q6__33",
         "rawType": "object",
         "type": "string"
        },
        {
         "name": "Q6__34",
         "rawType": "object",
         "type": "string"
        },
        {
         "name": "Q6__35",
         "rawType": "object",
         "type": "string"
        },
        {
         "name": "Q6__36",
         "rawType": "object",
         "type": "string"
        },
        {
         "name": "Q6__37",
         "rawType": "object",
         "type": "string"
        },
        {
         "name": "Q6__38",
         "rawType": "object",
         "type": "string"
        },
        {
         "name": "Q6__39",
         "rawType": "object",
         "type": "string"
        },
        {
         "name": "Q6__40",
         "rawType": "object",
         "type": "string"
        },
        {
         "name": "Q6__41",
         "rawType": "object",
         "type": "string"
        },
        {
         "name": "Q6__42",
         "rawType": "object",
         "type": "string"
        },
        {
         "name": "Q6__43",
         "rawType": "object",
         "type": "string"
        },
        {
         "name": "Q6__44",
         "rawType": "object",
         "type": "string"
        },
        {
         "name": "Q6__45",
         "rawType": "object",
         "type": "string"
        },
        {
         "name": "Q6__46",
         "rawType": "object",
         "type": "string"
        },
        {
         "name": "Q6__47",
         "rawType": "object",
         "type": "string"
        },
        {
         "name": "Q6__98",
         "rawType": "object",
         "type": "string"
        },
        {
         "name": "Q6__99",
         "rawType": "object",
         "type": "string"
        },
        {
         "name": "Q7a__1",
         "rawType": "object",
         "type": "string"
        },
        {
         "name": "Q7a__2",
         "rawType": "object",
         "type": "string"
        },
        {
         "name": "Q7a__3",
         "rawType": "object",
         "type": "string"
        },
        {
         "name": "Q7a__4",
         "rawType": "object",
         "type": "string"
        },
        {
         "name": "Q7a__5",
         "rawType": "object",
         "type": "string"
        },
        {
         "name": "Q7a__6",
         "rawType": "object",
         "type": "string"
        },
        {
         "name": "Q7a__7",
         "rawType": "object",
         "type": "string"
        },
        {
         "name": "Q7a__8",
         "rawType": "object",
         "type": "string"
        },
        {
         "name": "Q7a__9",
         "rawType": "object",
         "type": "string"
        },
        {
         "name": "Q7a__10",
         "rawType": "object",
         "type": "string"
        },
        {
         "name": "Q7a__11",
         "rawType": "object",
         "type": "string"
        },
        {
         "name": "Q7a__12",
         "rawType": "object",
         "type": "string"
        },
        {
         "name": "Q7a__13",
         "rawType": "object",
         "type": "string"
        },
        {
         "name": "Q7a__14",
         "rawType": "object",
         "type": "string"
        },
        {
         "name": "Q7a__15",
         "rawType": "object",
         "type": "string"
        },
        {
         "name": "Q7a__16",
         "rawType": "object",
         "type": "string"
        },
        {
         "name": "Q7a__17",
         "rawType": "object",
         "type": "string"
        },
        {
         "name": "Q7a__18",
         "rawType": "object",
         "type": "string"
        },
        {
         "name": "Q7a__19",
         "rawType": "object",
         "type": "string"
        },
        {
         "name": "Q7a__20",
         "rawType": "object",
         "type": "string"
        },
        {
         "name": "Q7a__21",
         "rawType": "object",
         "type": "string"
        },
        {
         "name": "Q7a__22",
         "rawType": "object",
         "type": "string"
        },
        {
         "name": "Q7a__23",
         "rawType": "object",
         "type": "string"
        },
        {
         "name": "Q7a__24",
         "rawType": "object",
         "type": "string"
        },
        {
         "name": "Q7a__25",
         "rawType": "object",
         "type": "string"
        },
        {
         "name": "Q7a__26",
         "rawType": "object",
         "type": "string"
        },
        {
         "name": "Q7a__27",
         "rawType": "object",
         "type": "string"
        },
        {
         "name": "Q7a__28",
         "rawType": "object",
         "type": "string"
        },
        {
         "name": "Q7a__29",
         "rawType": "object",
         "type": "string"
        },
        {
         "name": "Q7a__30",
         "rawType": "object",
         "type": "string"
        },
        {
         "name": "Q7a__31",
         "rawType": "object",
         "type": "string"
        },
        {
         "name": "Q7a__32",
         "rawType": "object",
         "type": "string"
        },
        {
         "name": "Q7a__33",
         "rawType": "object",
         "type": "string"
        },
        {
         "name": "Q7a__34",
         "rawType": "object",
         "type": "string"
        },
        {
         "name": "Q7a__35",
         "rawType": "object",
         "type": "string"
        },
        {
         "name": "Q7a__36",
         "rawType": "object",
         "type": "string"
        },
        {
         "name": "Q7a__37",
         "rawType": "object",
         "type": "string"
        },
        {
         "name": "Q7a__38",
         "rawType": "object",
         "type": "string"
        },
        {
         "name": "Q7a__39",
         "rawType": "object",
         "type": "string"
        },
        {
         "name": "Q7a__40",
         "rawType": "object",
         "type": "string"
        },
        {
         "name": "Q7a__41",
         "rawType": "object",
         "type": "string"
        },
        {
         "name": "Q7a__42",
         "rawType": "object",
         "type": "string"
        },
        {
         "name": "Q7a__43",
         "rawType": "object",
         "type": "string"
        },
        {
         "name": "Q7a__44",
         "rawType": "object",
         "type": "string"
        },
        {
         "name": "Q7a__45",
         "rawType": "int64",
         "type": "integer"
        },
        {
         "name": "Q7a__46",
         "rawType": "int64",
         "type": "integer"
        },
        {
         "name": "Q7a__47",
         "rawType": "int64",
         "type": "integer"
        },
        {
         "name": "Q7a__48",
         "rawType": "int64",
         "type": "integer"
        },
        {
         "name": "Q7a__49",
         "rawType": "int64",
         "type": "integer"
        },
        {
         "name": "Q7a__50",
         "rawType": "int64",
         "type": "integer"
        },
        {
         "name": "Q7a__51",
         "rawType": "int64",
         "type": "integer"
        },
        {
         "name": "Q7a__52",
         "rawType": "int64",
         "type": "integer"
        },
        {
         "name": "Q7a__53",
         "rawType": "int64",
         "type": "integer"
        },
        {
         "name": "Q7a__54",
         "rawType": "int64",
         "type": "integer"
        },
        {
         "name": "Q7a__55",
         "rawType": "int64",
         "type": "integer"
        },
        {
         "name": "Q7a__56",
         "rawType": "int64",
         "type": "integer"
        },
        {
         "name": "Q7a__57",
         "rawType": "int64",
         "type": "integer"
        },
        {
         "name": "Q7a__58",
         "rawType": "int64",
         "type": "integer"
        },
        {
         "name": "Q7a__59",
         "rawType": "int64",
         "type": "integer"
        },
        {
         "name": "Q7a__60",
         "rawType": "int64",
         "type": "integer"
        },
        {
         "name": "Q7a__61",
         "rawType": "int64",
         "type": "integer"
        },
        {
         "name": "Q7a__62",
         "rawType": "int64",
         "type": "integer"
        },
        {
         "name": "Q7a__63",
         "rawType": "int64",
         "type": "integer"
        },
        {
         "name": "Q7a__64",
         "rawType": "int64",
         "type": "integer"
        },
        {
         "name": "Q7a__65",
         "rawType": "int64",
         "type": "integer"
        },
        {
         "name": "Q7a__66",
         "rawType": "int64",
         "type": "integer"
        },
        {
         "name": "Q7a__67",
         "rawType": "int64",
         "type": "integer"
        },
        {
         "name": "Q7a__68",
         "rawType": "int64",
         "type": "integer"
        },
        {
         "name": "Q7a__69",
         "rawType": "int64",
         "type": "integer"
        },
        {
         "name": "Q7a__70",
         "rawType": "int64",
         "type": "integer"
        },
        {
         "name": "Q7a__71",
         "rawType": "int64",
         "type": "integer"
        },
        {
         "name": "Q7a__72",
         "rawType": "int64",
         "type": "integer"
        },
        {
         "name": "Q7a__73",
         "rawType": "int64",
         "type": "integer"
        },
        {
         "name": "Q7a__74",
         "rawType": "int64",
         "type": "integer"
        },
        {
         "name": "Q7a__75",
         "rawType": "int64",
         "type": "integer"
        },
        {
         "name": "Q7a__76",
         "rawType": "int64",
         "type": "integer"
        },
        {
         "name": "Q7a__77",
         "rawType": "int64",
         "type": "integer"
        },
        {
         "name": "Q7a__78",
         "rawType": "int64",
         "type": "integer"
        },
        {
         "name": "Q7a__79",
         "rawType": "int64",
         "type": "integer"
        },
        {
         "name": "Q7a__80",
         "rawType": "int64",
         "type": "integer"
        },
        {
         "name": "Q7a__81",
         "rawType": "int64",
         "type": "integer"
        },
        {
         "name": "Q7a__82",
         "rawType": "int64",
         "type": "integer"
        },
        {
         "name": "Q7a__83",
         "rawType": "int64",
         "type": "integer"
        },
        {
         "name": "Q7a__84",
         "rawType": "int64",
         "type": "integer"
        },
        {
         "name": "Q7a__85",
         "rawType": "int64",
         "type": "integer"
        },
        {
         "name": "Q7a__86",
         "rawType": "int64",
         "type": "integer"
        },
        {
         "name": "Q7a__87",
         "rawType": "int64",
         "type": "integer"
        },
        {
         "name": "Q7a__88",
         "rawType": "int64",
         "type": "integer"
        },
        {
         "name": "Q7a__89",
         "rawType": "int64",
         "type": "integer"
        },
        {
         "name": "Q7a__90",
         "rawType": "int64",
         "type": "integer"
        },
        {
         "name": "Q7a__91",
         "rawType": "int64",
         "type": "integer"
        },
        {
         "name": "Q7ai",
         "rawType": "object",
         "type": "unknown"
        },
        {
         "name": "Q7b",
         "rawType": "object",
         "type": "string"
        },
        {
         "name": "Q8a__1",
         "rawType": "object",
         "type": "string"
        },
        {
         "name": "Q8a__2",
         "rawType": "object",
         "type": "string"
        },
        {
         "name": "Q8a__3",
         "rawType": "object",
         "type": "string"
        },
        {
         "name": "Q8a__4",
         "rawType": "object",
         "type": "string"
        },
        {
         "name": "Q8a__5",
         "rawType": "object",
         "type": "string"
        },
        {
         "name": "Q8a__6",
         "rawType": "object",
         "type": "string"
        },
        {
         "name": "Q8a__7",
         "rawType": "object",
         "type": "string"
        },
        {
         "name": "Q8a__8",
         "rawType": "object",
         "type": "string"
        },
        {
         "name": "Q8a__9",
         "rawType": "object",
         "type": "string"
        },
        {
         "name": "Q8a__10",
         "rawType": "object",
         "type": "string"
        },
        {
         "name": "Q8a__11",
         "rawType": "object",
         "type": "string"
        },
        {
         "name": "Q8a__12",
         "rawType": "object",
         "type": "string"
        },
        {
         "name": "Q8a__13",
         "rawType": "object",
         "type": "string"
        },
        {
         "name": "Q8a__14",
         "rawType": "object",
         "type": "string"
        },
        {
         "name": "Q8a__15",
         "rawType": "object",
         "type": "string"
        },
        {
         "name": "Q8a__16",
         "rawType": "object",
         "type": "string"
        },
        {
         "name": "Q8a__17",
         "rawType": "object",
         "type": "string"
        },
        {
         "name": "Q8a__18",
         "rawType": "object",
         "type": "string"
        },
        {
         "name": "Q8a__19",
         "rawType": "object",
         "type": "string"
        },
        {
         "name": "Q8a__20",
         "rawType": "int64",
         "type": "integer"
        },
        {
         "name": "Q8a__21",
         "rawType": "int64",
         "type": "integer"
        },
        {
         "name": "Q8a__22",
         "rawType": "int64",
         "type": "integer"
        },
        {
         "name": "Q8a__23",
         "rawType": "int64",
         "type": "integer"
        },
        {
         "name": "Q8a__24",
         "rawType": "int64",
         "type": "integer"
        },
        {
         "name": "Q8a__25",
         "rawType": "int64",
         "type": "integer"
        },
        {
         "name": "Q8a__26",
         "rawType": "int64",
         "type": "integer"
        },
        {
         "name": "Q8a__27",
         "rawType": "int64",
         "type": "integer"
        },
        {
         "name": "Q8a__98",
         "rawType": "object",
         "type": "string"
        },
        {
         "name": "Q8a__99",
         "rawType": "object",
         "type": "string"
        },
        {
         "name": "Q8ai",
         "rawType": "object",
         "type": "unknown"
        },
        {
         "name": "Q8b",
         "rawType": "object",
         "type": "string"
        },
        {
         "name": "Q8bi",
         "rawType": "object",
         "type": "unknown"
        },
        {
         "name": "Q9",
         "rawType": "object",
         "type": "string"
        },
        {
         "name": "Q9i",
         "rawType": "object",
         "type": "unknown"
        },
        {
         "name": "Q9a",
         "rawType": "object",
         "type": "string"
        },
        {
         "name": "Q9ai",
         "rawType": "object",
         "type": "unknown"
        },
        {
         "name": "Q9b",
         "rawType": "object",
         "type": "string"
        },
        {
         "name": "Q9bi",
         "rawType": "object",
         "type": "unknown"
        },
        {
         "name": "Q10",
         "rawType": "object",
         "type": "string"
        },
        {
         "name": "Q10i",
         "rawType": "object",
         "type": "unknown"
        },
        {
         "name": "Q11",
         "rawType": "object",
         "type": "string"
        },
        {
         "name": "Q11i",
         "rawType": "object",
         "type": "unknown"
        },
        {
         "name": "Q12",
         "rawType": "object",
         "type": "string"
        },
        {
         "name": "Q13",
         "rawType": "object",
         "type": "string"
        },
        {
         "name": "Q14",
         "rawType": "object",
         "type": "string"
        },
        {
         "name": "Q14i",
         "rawType": "object",
         "type": "unknown"
        },
        {
         "name": "Q15a__1",
         "rawType": "object",
         "type": "string"
        },
        {
         "name": "Q15a__2",
         "rawType": "object",
         "type": "string"
        },
        {
         "name": "Q15a__3",
         "rawType": "object",
         "type": "string"
        },
        {
         "name": "Q15a__4",
         "rawType": "object",
         "type": "string"
        },
        {
         "name": "Q15a__5",
         "rawType": "object",
         "type": "string"
        },
        {
         "name": "Q15a__6",
         "rawType": "object",
         "type": "string"
        },
        {
         "name": "Q15a__7",
         "rawType": "object",
         "type": "string"
        },
        {
         "name": "Q15a__8",
         "rawType": "object",
         "type": "string"
        },
        {
         "name": "Q15a__9",
         "rawType": "object",
         "type": "string"
        },
        {
         "name": "Q15a__10",
         "rawType": "object",
         "type": "string"
        },
        {
         "name": "Q15a__11",
         "rawType": "object",
         "type": "string"
        },
        {
         "name": "Q15a__12",
         "rawType": "object",
         "type": "string"
        },
        {
         "name": "Q15a__13",
         "rawType": "object",
         "type": "string"
        },
        {
         "name": "Q15a__14",
         "rawType": "object",
         "type": "string"
        },
        {
         "name": "Q15a__98",
         "rawType": "object",
         "type": "string"
        },
        {
         "name": "Q15a__99",
         "rawType": "object",
         "type": "string"
        },
        {
         "name": "Q5i",
         "rawType": "object",
         "type": "unknown"
        },
        {
         "name": "Q15b",
         "rawType": "object",
         "type": "string"
        },
        {
         "name": "Q15ai",
         "rawType": "float64",
         "type": "float"
        },
        {
         "name": "Q16__1",
         "rawType": "object",
         "type": "string"
        },
        {
         "name": "Q16__2",
         "rawType": "object",
         "type": "string"
        },
        {
         "name": "Q16__3",
         "rawType": "object",
         "type": "string"
        },
        {
         "name": "Q16__4",
         "rawType": "object",
         "type": "string"
        },
        {
         "name": "Q17",
         "rawType": "object",
         "type": "string"
        },
        {
         "name": "Q18",
         "rawType": "object",
         "type": "string"
        },
        {
         "name": "Q18i",
         "rawType": "object",
         "type": "unknown"
        },
        {
         "name": "Q19",
         "rawType": "object",
         "type": "string"
        },
        {
         "name": "Q19a__1",
         "rawType": "object",
         "type": "string"
        },
        {
         "name": "Q19a__2",
         "rawType": "object",
         "type": "string"
        },
        {
         "name": "Q19a__3",
         "rawType": "object",
         "type": "string"
        },
        {
         "name": "Q19a__4",
         "rawType": "object",
         "type": "string"
        },
        {
         "name": "Q19a__5",
         "rawType": "object",
         "type": "string"
        },
        {
         "name": "Q19a__6",
         "rawType": "int64",
         "type": "integer"
        },
        {
         "name": "Q19a__7",
         "rawType": "int64",
         "type": "integer"
        },
        {
         "name": "Q19a__8",
         "rawType": "int64",
         "type": "integer"
        },
        {
         "name": "Q19a__9",
         "rawType": "int64",
         "type": "integer"
        },
        {
         "name": "Q19a__10",
         "rawType": "int64",
         "type": "integer"
        },
        {
         "name": "Q19a__11",
         "rawType": "int64",
         "type": "integer"
        },
        {
         "name": "Q19a__12",
         "rawType": "int64",
         "type": "integer"
        },
        {
         "name": "Q19a__13",
         "rawType": "int64",
         "type": "integer"
        },
        {
         "name": "Q19a__14",
         "rawType": "int64",
         "type": "integer"
        },
        {
         "name": "Q19a__15",
         "rawType": "int64",
         "type": "integer"
        },
        {
         "name": "Q19a__16",
         "rawType": "int64",
         "type": "integer"
        },
        {
         "name": "Q19a__17",
         "rawType": "int64",
         "type": "integer"
        },
        {
         "name": "Q19a__18",
         "rawType": "int64",
         "type": "integer"
        },
        {
         "name": "Q19a__19",
         "rawType": "int64",
         "type": "integer"
        },
        {
         "name": "Q19a__20",
         "rawType": "int64",
         "type": "integer"
        },
        {
         "name": "Q19a__21",
         "rawType": "int64",
         "type": "integer"
        },
        {
         "name": "Q19a__22",
         "rawType": "int64",
         "type": "integer"
        },
        {
         "name": "Q19a__23",
         "rawType": "int64",
         "type": "integer"
        },
        {
         "name": "Q19a__24",
         "rawType": "int64",
         "type": "integer"
        },
        {
         "name": "Q19a__25",
         "rawType": "int64",
         "type": "integer"
        },
        {
         "name": "Q19a__26",
         "rawType": "int64",
         "type": "integer"
        },
        {
         "name": "Q19a__97",
         "rawType": "object",
         "type": "string"
        },
        {
         "name": "Q19a__99",
         "rawType": "object",
         "type": "string"
        },
        {
         "name": "Q19ai",
         "rawType": "object",
         "type": "unknown"
        },
        {
         "name": "Q20",
         "rawType": "object",
         "type": "string"
        },
        {
         "name": "Q21",
         "rawType": "object",
         "type": "string"
        },
        {
         "name": "Q22",
         "rawType": "object",
         "type": "string"
        },
        {
         "name": "Q23__1",
         "rawType": "object",
         "type": "string"
        },
        {
         "name": "Q23__2",
         "rawType": "object",
         "type": "string"
        },
        {
         "name": "Q23__3",
         "rawType": "object",
         "type": "string"
        },
        {
         "name": "Q23__4",
         "rawType": "object",
         "type": "string"
        },
        {
         "name": "Q23__5",
         "rawType": "object",
         "type": "string"
        },
        {
         "name": "Q23__6",
         "rawType": "object",
         "type": "string"
        },
        {
         "name": "Q23__7",
         "rawType": "object",
         "type": "string"
        },
        {
         "name": "Q23__8",
         "rawType": "int64",
         "type": "integer"
        },
        {
         "name": "Q23__9",
         "rawType": "int64",
         "type": "integer"
        },
        {
         "name": "Q23__10",
         "rawType": "int64",
         "type": "integer"
        },
        {
         "name": "Q23__11",
         "rawType": "int64",
         "type": "integer"
        },
        {
         "name": "Q23__12",
         "rawType": "int64",
         "type": "integer"
        },
        {
         "name": "Q23__13",
         "rawType": "int64",
         "type": "integer"
        },
        {
         "name": "Q23__14",
         "rawType": "int64",
         "type": "integer"
        },
        {
         "name": "Q23__15",
         "rawType": "int64",
         "type": "integer"
        },
        {
         "name": "Q23__16",
         "rawType": "int64",
         "type": "integer"
        },
        {
         "name": "Q23__96",
         "rawType": "object",
         "type": "string"
        },
        {
         "name": "Q23__98",
         "rawType": "object",
         "type": "string"
        },
        {
         "name": "Q23__99",
         "rawType": "object",
         "type": "string"
        },
        {
         "name": "Q23i",
         "rawType": "object",
         "type": "unknown"
        },
        {
         "name": "Q24__1",
         "rawType": "object",
         "type": "string"
        },
        {
         "name": "Q24__2",
         "rawType": "object",
         "type": "string"
        },
        {
         "name": "Q24__3",
         "rawType": "object",
         "type": "string"
        },
        {
         "name": "Q24__4",
         "rawType": "object",
         "type": "string"
        },
        {
         "name": "Q24__5",
         "rawType": "object",
         "type": "string"
        },
        {
         "name": "Q24__6",
         "rawType": "object",
         "type": "string"
        },
        {
         "name": "Q24__7",
         "rawType": "object",
         "type": "string"
        },
        {
         "name": "Q24__8",
         "rawType": "object",
         "type": "string"
        },
        {
         "name": "Q24__9",
         "rawType": "object",
         "type": "string"
        },
        {
         "name": "Q24__10",
         "rawType": "int64",
         "type": "integer"
        },
        {
         "name": "Q24__11",
         "rawType": "int64",
         "type": "integer"
        },
        {
         "name": "Q24__12",
         "rawType": "int64",
         "type": "integer"
        },
        {
         "name": "Q24__13",
         "rawType": "int64",
         "type": "integer"
        },
        {
         "name": "Q24__14",
         "rawType": "int64",
         "type": "integer"
        },
        {
         "name": "Q24__15",
         "rawType": "int64",
         "type": "integer"
        },
        {
         "name": "Q24__16",
         "rawType": "int64",
         "type": "integer"
        },
        {
         "name": "Q24__17",
         "rawType": "int64",
         "type": "integer"
        },
        {
         "name": "Q24__18",
         "rawType": "int64",
         "type": "integer"
        },
        {
         "name": "Q24__96",
         "rawType": "object",
         "type": "string"
        },
        {
         "name": "Q24__98",
         "rawType": "object",
         "type": "string"
        },
        {
         "name": "Q24__99",
         "rawType": "object",
         "type": "string"
        },
        {
         "name": "Q24i",
         "rawType": "object",
         "type": "unknown"
        },
        {
         "name": "Q25",
         "rawType": "object",
         "type": "string"
        },
        {
         "name": "Q25i",
         "rawType": "object",
         "type": "unknown"
        },
        {
         "name": "IsSectionAnsweredQ",
         "rawType": "object",
         "type": "string"
        },
        {
         "name": "CountQ",
         "rawType": "object",
         "type": "string"
        },
        {
         "name": "L1_1",
         "rawType": "object",
         "type": "string"
        },
        {
         "name": "L1_2",
         "rawType": "object",
         "type": "string"
        },
        {
         "name": "L1_3",
         "rawType": "object",
         "type": "string"
        },
        {
         "name": "L1_4",
         "rawType": "object",
         "type": "string"
        },
        {
         "name": "L1_5",
         "rawType": "object",
         "type": "string"
        },
        {
         "name": "L2_1",
         "rawType": "object",
         "type": "string"
        },
        {
         "name": "L2i_1",
         "rawType": "object",
         "type": "unknown"
        },
        {
         "name": "L3i_1",
         "rawType": "object",
         "type": "string"
        },
        {
         "name": "L3ii_1",
         "rawType": "object",
         "type": "string"
        },
        {
         "name": "L3ii_1i",
         "rawType": "object",
         "type": "unknown"
        },
        {
         "name": "L2_2",
         "rawType": "object",
         "type": "string"
        },
        {
         "name": "L2i_2",
         "rawType": "object",
         "type": "unknown"
        },
        {
         "name": "L3i_2",
         "rawType": "object",
         "type": "string"
        },
        {
         "name": "L3ii_2",
         "rawType": "object",
         "type": "string"
        },
        {
         "name": "L2_3",
         "rawType": "object",
         "type": "string"
        },
        {
         "name": "L2i_3",
         "rawType": "object",
         "type": "unknown"
        },
        {
         "name": "L3i_3",
         "rawType": "object",
         "type": "string"
        },
        {
         "name": "L3ii_3",
         "rawType": "object",
         "type": "string"
        },
        {
         "name": "L2_4",
         "rawType": "object",
         "type": "string"
        },
        {
         "name": "L2i_4",
         "rawType": "object",
         "type": "unknown"
        },
        {
         "name": "L3i_4",
         "rawType": "object",
         "type": "string"
        },
        {
         "name": "L3ii_4",
         "rawType": "object",
         "type": "string"
        },
        {
         "name": "L2_5",
         "rawType": "object",
         "type": "string"
        },
        {
         "name": "L2i_5",
         "rawType": "float64",
         "type": "float"
        },
        {
         "name": "L3i_5",
         "rawType": "object",
         "type": "string"
        },
        {
         "name": "L3ii_5",
         "rawType": "object",
         "type": "string"
        },
        {
         "name": "R1A",
         "rawType": "object",
         "type": "string"
        },
        {
         "name": "R1B",
         "rawType": "object",
         "type": "string"
        },
        {
         "name": "R1Bi",
         "rawType": "object",
         "type": "unknown"
        },
        {
         "name": "R1Ci__1",
         "rawType": "object",
         "type": "string"
        },
        {
         "name": "R1Ci__2",
         "rawType": "object",
         "type": "string"
        },
        {
         "name": "R1Ci__3",
         "rawType": "object",
         "type": "string"
        },
        {
         "name": "R1Ci__4",
         "rawType": "object",
         "type": "string"
        },
        {
         "name": "R1Ci__5",
         "rawType": "object",
         "type": "string"
        },
        {
         "name": "R1Ci__6",
         "rawType": "object",
         "type": "string"
        },
        {
         "name": "R1Ci__7",
         "rawType": "object",
         "type": "string"
        },
        {
         "name": "R1Ci__8",
         "rawType": "object",
         "type": "string"
        },
        {
         "name": "R1Ci__9",
         "rawType": "object",
         "type": "string"
        },
        {
         "name": "R1Ci__24",
         "rawType": "object",
         "type": "string"
        },
        {
         "name": "R1Ci__98",
         "rawType": "object",
         "type": "string"
        },
        {
         "name": "R1Ci__99",
         "rawType": "object",
         "type": "string"
        },
        {
         "name": "R1Cia",
         "rawType": "object",
         "type": "unknown"
        },
        {
         "name": "R1Cii",
         "rawType": "object",
         "type": "string"
        },
        {
         "name": "R1Ciii",
         "rawType": "object",
         "type": "string"
        },
        {
         "name": "R1Ciiia",
         "rawType": "object",
         "type": "unknown"
        },
        {
         "name": "R1Civ",
         "rawType": "object",
         "type": "string"
        },
        {
         "name": "R1Civa",
         "rawType": "object",
         "type": "unknown"
        },
        {
         "name": "R1Ciia",
         "rawType": "object",
         "type": "unknown"
        },
        {
         "name": "R1D",
         "rawType": "object",
         "type": "string"
        },
        {
         "name": "R1Di",
         "rawType": "object",
         "type": "unknown"
        },
        {
         "name": "IsSectionAnsweredR1",
         "rawType": "object",
         "type": "unknown"
        },
        {
         "name": "CountR1",
         "rawType": "object",
         "type": "unknown"
        },
        {
         "name": "R2A__1",
         "rawType": "object",
         "type": "unknown"
        },
        {
         "name": "R2A__2",
         "rawType": "object",
         "type": "unknown"
        },
        {
         "name": "R2A__3",
         "rawType": "object",
         "type": "unknown"
        },
        {
         "name": "R2A__4",
         "rawType": "object",
         "type": "unknown"
        },
        {
         "name": "R2A__5",
         "rawType": "object",
         "type": "unknown"
        },
        {
         "name": "R2A__6",
         "rawType": "object",
         "type": "unknown"
        },
        {
         "name": "R2A__7",
         "rawType": "object",
         "type": "unknown"
        },
        {
         "name": "R2A__8",
         "rawType": "object",
         "type": "unknown"
        },
        {
         "name": "R2A__9",
         "rawType": "object",
         "type": "unknown"
        },
        {
         "name": "R2A__10",
         "rawType": "object",
         "type": "unknown"
        },
        {
         "name": "R2A__11",
         "rawType": "object",
         "type": "unknown"
        },
        {
         "name": "R2A__12",
         "rawType": "object",
         "type": "unknown"
        },
        {
         "name": "R2B",
         "rawType": "object",
         "type": "string"
        },
        {
         "name": "R2C__1",
         "rawType": "object",
         "type": "string"
        },
        {
         "name": "R2C__2",
         "rawType": "object",
         "type": "string"
        },
        {
         "name": "R2C__3",
         "rawType": "object",
         "type": "string"
        },
        {
         "name": "R2C__4",
         "rawType": "object",
         "type": "string"
        },
        {
         "name": "R2C__5",
         "rawType": "object",
         "type": "string"
        },
        {
         "name": "R2C__6",
         "rawType": "object",
         "type": "string"
        },
        {
         "name": "R2C__7",
         "rawType": "object",
         "type": "string"
        },
        {
         "name": "R2C__8",
         "rawType": "object",
         "type": "string"
        },
        {
         "name": "R2C__9",
         "rawType": "object",
         "type": "string"
        },
        {
         "name": "R2C__10",
         "rawType": "object",
         "type": "string"
        },
        {
         "name": "R2C__11",
         "rawType": "object",
         "type": "string"
        },
        {
         "name": "R2C__12",
         "rawType": "object",
         "type": "string"
        },
        {
         "name": "R2C__13",
         "rawType": "object",
         "type": "string"
        },
        {
         "name": "R2C__14",
         "rawType": "object",
         "type": "string"
        },
        {
         "name": "R2C__15",
         "rawType": "object",
         "type": "string"
        },
        {
         "name": "R2C__16",
         "rawType": "object",
         "type": "string"
        },
        {
         "name": "R2Ci",
         "rawType": "object",
         "type": "unknown"
        },
        {
         "name": "R2D",
         "rawType": "object",
         "type": "string"
        },
        {
         "name": "R2Da",
         "rawType": "object",
         "type": "unknown"
        },
        {
         "name": "R2Di",
         "rawType": "object",
         "type": "string"
        },
        {
         "name": "R2Dia",
         "rawType": "object",
         "type": "unknown"
        },
        {
         "name": "R2Dii",
         "rawType": "object",
         "type": "string"
        },
        {
         "name": "R2Diia",
         "rawType": "object",
         "type": "unknown"
        },
        {
         "name": "R2Diii",
         "rawType": "object",
         "type": "string"
        },
        {
         "name": "R2Diiia",
         "rawType": "object",
         "type": "unknown"
        },
        {
         "name": "R2E",
         "rawType": "object",
         "type": "string"
        },
        {
         "name": "R2Ei",
         "rawType": "object",
         "type": "unknown"
        },
        {
         "name": "R2F",
         "rawType": "object",
         "type": "string"
        },
        {
         "name": "R2Fi",
         "rawType": "object",
         "type": "unknown"
        },
        {
         "name": "IsSectionAnsweredR2",
         "rawType": "object",
         "type": "unknown"
        },
        {
         "name": "CountR2",
         "rawType": "object",
         "type": "unknown"
        },
        {
         "name": "R3A",
         "rawType": "object",
         "type": "string"
        },
        {
         "name": "R3B",
         "rawType": "object",
         "type": "string"
        },
        {
         "name": "R3Bi",
         "rawType": "object",
         "type": "unknown"
        },
        {
         "name": "R3C__1",
         "rawType": "object",
         "type": "string"
        },
        {
         "name": "R3C__2",
         "rawType": "object",
         "type": "string"
        },
        {
         "name": "R3C__3",
         "rawType": "object",
         "type": "string"
        },
        {
         "name": "R3C__4",
         "rawType": "object",
         "type": "string"
        },
        {
         "name": "R3C__5",
         "rawType": "object",
         "type": "string"
        },
        {
         "name": "R3C__6",
         "rawType": "object",
         "type": "string"
        },
        {
         "name": "R3C__7",
         "rawType": "object",
         "type": "string"
        },
        {
         "name": "R3C__8",
         "rawType": "object",
         "type": "string"
        },
        {
         "name": "R3C__9",
         "rawType": "object",
         "type": "string"
        },
        {
         "name": "R3C__10",
         "rawType": "int64",
         "type": "integer"
        },
        {
         "name": "R3C__11",
         "rawType": "int64",
         "type": "integer"
        },
        {
         "name": "R3C__12",
         "rawType": "int64",
         "type": "integer"
        },
        {
         "name": "R3C__98",
         "rawType": "object",
         "type": "string"
        },
        {
         "name": "R3C__99",
         "rawType": "object",
         "type": "string"
        },
        {
         "name": "R3Ci",
         "rawType": "object",
         "type": "unknown"
        },
        {
         "name": "R3D",
         "rawType": "object",
         "type": "string"
        },
        {
         "name": "R3Da",
         "rawType": "object",
         "type": "unknown"
        },
        {
         "name": "R3Di",
         "rawType": "object",
         "type": "string"
        },
        {
         "name": "R3Dia",
         "rawType": "object",
         "type": "unknown"
        },
        {
         "name": "R3Dii",
         "rawType": "object",
         "type": "string"
        },
        {
         "name": "R3Diia",
         "rawType": "object",
         "type": "unknown"
        },
        {
         "name": "R3E",
         "rawType": "object",
         "type": "string"
        },
        {
         "name": "R3Ei",
         "rawType": "object",
         "type": "unknown"
        },
        {
         "name": "R3F",
         "rawType": "object",
         "type": "string"
        },
        {
         "name": "R3G",
         "rawType": "object",
         "type": "string"
        },
        {
         "name": "R3GI",
         "rawType": "object",
         "type": "unknown"
        },
        {
         "name": "IsSectionAnsweredR3",
         "rawType": "object",
         "type": "unknown"
        },
        {
         "name": "CountR3",
         "rawType": "object",
         "type": "unknown"
        },
        {
         "name": "S1",
         "rawType": "object",
         "type": "string"
        },
        {
         "name": "S2__1",
         "rawType": "object",
         "type": "string"
        },
        {
         "name": "S2__2",
         "rawType": "object",
         "type": "string"
        },
        {
         "name": "S2__3",
         "rawType": "object",
         "type": "string"
        },
        {
         "name": "S2__99",
         "rawType": "object",
         "type": "string"
        },
        {
         "name": "S3",
         "rawType": "object",
         "type": "string"
        },
        {
         "name": "S3i",
         "rawType": "object",
         "type": "unknown"
        },
        {
         "name": "S4",
         "rawType": "object",
         "type": "string"
        },
        {
         "name": "S4_Other_Specify",
         "rawType": "object",
         "type": "unknown"
        },
        {
         "name": "S5__1",
         "rawType": "object",
         "type": "string"
        },
        {
         "name": "S5__2",
         "rawType": "object",
         "type": "string"
        },
        {
         "name": "S5__3",
         "rawType": "object",
         "type": "string"
        },
        {
         "name": "S5__4",
         "rawType": "object",
         "type": "string"
        },
        {
         "name": "S6",
         "rawType": "object",
         "type": "string"
        },
        {
         "name": "S7_1",
         "rawType": "object",
         "type": "string"
        },
        {
         "name": "S7_2",
         "rawType": "object",
         "type": "string"
        },
        {
         "name": "S7_3",
         "rawType": "object",
         "type": "string"
        },
        {
         "name": "S7_4",
         "rawType": "object",
         "type": "string"
        },
        {
         "name": "S7_5",
         "rawType": "object",
         "type": "string"
        },
        {
         "name": "S8",
         "rawType": "object",
         "type": "string"
        },
        {
         "name": "IsSectionAnsweredS",
         "rawType": "object",
         "type": "unknown"
        },
        {
         "name": "CountS",
         "rawType": "object",
         "type": "unknown"
        },
        {
         "name": "T1",
         "rawType": "object",
         "type": "string"
        },
        {
         "name": "T1_Other_Specify",
         "rawType": "object",
         "type": "unknown"
        },
        {
         "name": "T2",
         "rawType": "object",
         "type": "string"
        },
        {
         "name": "T2_Other_Specify",
         "rawType": "object",
         "type": "unknown"
        },
        {
         "name": "T3",
         "rawType": "object",
         "type": "string"
        },
        {
         "name": "T3i",
         "rawType": "object",
         "type": "unknown"
        },
        {
         "name": "T4",
         "rawType": "object",
         "type": "string"
        },
        {
         "name": "IsSectionAnsweredSeCT",
         "rawType": "object",
         "type": "unknown"
        },
        {
         "name": "U1",
         "rawType": "object",
         "type": "string"
        },
        {
         "name": "U2",
         "rawType": "object",
         "type": "string"
        },
        {
         "name": "U2_Other_Specify",
         "rawType": "object",
         "type": "unknown"
        },
        {
         "name": "U3",
         "rawType": "object",
         "type": "string"
        },
        {
         "name": "U4",
         "rawType": "object",
         "type": "string"
        },
        {
         "name": "U4_Other_specify",
         "rawType": "float64",
         "type": "float"
        },
        {
         "name": "U5",
         "rawType": "object",
         "type": "unknown"
        },
        {
         "name": "U6",
         "rawType": "object",
         "type": "unknown"
        },
        {
         "name": "U7",
         "rawType": "object",
         "type": "string"
        },
        {
         "name": "U7_1",
         "rawType": "object",
         "type": "string"
        },
        {
         "name": "U8",
         "rawType": "object",
         "type": "string"
        },
        {
         "name": "U9",
         "rawType": "object",
         "type": "string"
        },
        {
         "name": "U10",
         "rawType": "object",
         "type": "string"
        },
        {
         "name": "U11",
         "rawType": "object",
         "type": "string"
        },
        {
         "name": "U12",
         "rawType": "object",
         "type": "string"
        },
        {
         "name": "U12i",
         "rawType": "object",
         "type": "unknown"
        },
        {
         "name": "U12a__1",
         "rawType": "object",
         "type": "string"
        },
        {
         "name": "U12a__2",
         "rawType": "object",
         "type": "string"
        },
        {
         "name": "U12a__3",
         "rawType": "object",
         "type": "string"
        },
        {
         "name": "U12a__4",
         "rawType": "object",
         "type": "string"
        },
        {
         "name": "U12a__98",
         "rawType": "object",
         "type": "string"
        },
        {
         "name": "U12a__99",
         "rawType": "object",
         "type": "string"
        },
        {
         "name": "U12ai",
         "rawType": "object",
         "type": "unknown"
        },
        {
         "name": "U12b",
         "rawType": "object",
         "type": "string"
        },
        {
         "name": "U13",
         "rawType": "object",
         "type": "string"
        },
        {
         "name": "U14a",
         "rawType": "object",
         "type": "string"
        },
        {
         "name": "U14b",
         "rawType": "object",
         "type": "string"
        },
        {
         "name": "U15",
         "rawType": "object",
         "type": "string"
        },
        {
         "name": "U16__1",
         "rawType": "object",
         "type": "unknown"
        },
        {
         "name": "U16__2",
         "rawType": "object",
         "type": "unknown"
        },
        {
         "name": "U16__3",
         "rawType": "object",
         "type": "string"
        },
        {
         "name": "U16__4",
         "rawType": "object",
         "type": "string"
        },
        {
         "name": "U16__5",
         "rawType": "object",
         "type": "string"
        },
        {
         "name": "U16__6",
         "rawType": "object",
         "type": "unknown"
        },
        {
         "name": "U16__7",
         "rawType": "object",
         "type": "string"
        },
        {
         "name": "U16__8",
         "rawType": "object",
         "type": "string"
        },
        {
         "name": "U16__9",
         "rawType": "object",
         "type": "string"
        },
        {
         "name": "U16__10",
         "rawType": "object",
         "type": "string"
        },
        {
         "name": "U16__11",
         "rawType": "object",
         "type": "string"
        },
        {
         "name": "U16__12",
         "rawType": "object",
         "type": "string"
        },
        {
         "name": "U16__13",
         "rawType": "object",
         "type": "string"
        },
        {
         "name": "U16__14",
         "rawType": "object",
         "type": "string"
        },
        {
         "name": "U16__15",
         "rawType": "object",
         "type": "string"
        },
        {
         "name": "U16__16",
         "rawType": "object",
         "type": "string"
        },
        {
         "name": "U16__17",
         "rawType": "object",
         "type": "string"
        },
        {
         "name": "U16__18",
         "rawType": "object",
         "type": "string"
        },
        {
         "name": "U16__19",
         "rawType": "object",
         "type": "string"
        },
        {
         "name": "U17_1",
         "rawType": "object",
         "type": "string"
        },
        {
         "name": "U17_2",
         "rawType": "object",
         "type": "string"
        },
        {
         "name": "U17_3",
         "rawType": "object",
         "type": "string"
        },
        {
         "name": "U17_4",
         "rawType": "object",
         "type": "string"
        },
        {
         "name": "U17_5",
         "rawType": "object",
         "type": "string"
        },
        {
         "name": "U18_1",
         "rawType": "object",
         "type": "string"
        },
        {
         "name": "U18_2",
         "rawType": "object",
         "type": "string"
        },
        {
         "name": "U18_3",
         "rawType": "object",
         "type": "string"
        },
        {
         "name": "U18_4",
         "rawType": "object",
         "type": "string"
        },
        {
         "name": "U18_5",
         "rawType": "object",
         "type": "string"
        },
        {
         "name": "U19",
         "rawType": "object",
         "type": "string"
        },
        {
         "name": "U19i",
         "rawType": "object",
         "type": "string"
        },
        {
         "name": "U19a",
         "rawType": "object",
         "type": "string"
        },
        {
         "name": "U19b__1",
         "rawType": "object",
         "type": "string"
        },
        {
         "name": "U19b__2",
         "rawType": "object",
         "type": "string"
        },
        {
         "name": "U19b__3",
         "rawType": "object",
         "type": "string"
        },
        {
         "name": "U19b__4",
         "rawType": "object",
         "type": "string"
        },
        {
         "name": "U19b__5",
         "rawType": "object",
         "type": "string"
        },
        {
         "name": "U19b__6",
         "rawType": "object",
         "type": "string"
        },
        {
         "name": "U19b__7",
         "rawType": "object",
         "type": "string"
        },
        {
         "name": "U19b__8",
         "rawType": "object",
         "type": "string"
        },
        {
         "name": "U19b__9",
         "rawType": "object",
         "type": "string"
        },
        {
         "name": "U19b__10",
         "rawType": "object",
         "type": "string"
        },
        {
         "name": "U19b__11",
         "rawType": "object",
         "type": "string"
        },
        {
         "name": "U19b__12",
         "rawType": "object",
         "type": "string"
        },
        {
         "name": "U19b__13",
         "rawType": "object",
         "type": "string"
        },
        {
         "name": "U19b__14",
         "rawType": "object",
         "type": "string"
        },
        {
         "name": "U19b__96",
         "rawType": "object",
         "type": "string"
        },
        {
         "name": "U19i_OtherSpecify",
         "rawType": "object",
         "type": "unknown"
        },
        {
         "name": "U19bi",
         "rawType": "object",
         "type": "unknown"
        },
        {
         "name": "U20c_OtherSpecify",
         "rawType": "object",
         "type": "unknown"
        },
        {
         "name": "U21i",
         "rawType": "object",
         "type": "unknown"
        },
        {
         "name": "U20",
         "rawType": "object",
         "type": "string"
        },
        {
         "name": "U20a",
         "rawType": "object",
         "type": "string"
        },
        {
         "name": "U20b",
         "rawType": "object",
         "type": "string"
        },
        {
         "name": "U20c",
         "rawType": "object",
         "type": "string"
        },
        {
         "name": "U20ci",
         "rawType": "float64",
         "type": "float"
        },
        {
         "name": "U20i",
         "rawType": "object",
         "type": "unknown"
        },
        {
         "name": "U21__1",
         "rawType": "object",
         "type": "string"
        },
        {
         "name": "U21__2",
         "rawType": "object",
         "type": "string"
        },
        {
         "name": "U21__3",
         "rawType": "object",
         "type": "string"
        },
        {
         "name": "U21__4",
         "rawType": "object",
         "type": "string"
        },
        {
         "name": "U21__5",
         "rawType": "object",
         "type": "string"
        },
        {
         "name": "U21__6",
         "rawType": "object",
         "type": "string"
        },
        {
         "name": "U21__7",
         "rawType": "object",
         "type": "string"
        },
        {
         "name": "U21__9",
         "rawType": "object",
         "type": "string"
        },
        {
         "name": "U21__10",
         "rawType": "object",
         "type": "string"
        },
        {
         "name": "U21__11",
         "rawType": "object",
         "type": "string"
        },
        {
         "name": "U21__12",
         "rawType": "object",
         "type": "string"
        },
        {
         "name": "U21__13",
         "rawType": "object",
         "type": "string"
        },
        {
         "name": "U21__14",
         "rawType": "object",
         "type": "string"
        },
        {
         "name": "U21__15",
         "rawType": "object",
         "type": "string"
        },
        {
         "name": "U21__16",
         "rawType": "object",
         "type": "string"
        },
        {
         "name": "U21__17",
         "rawType": "object",
         "type": "string"
        },
        {
         "name": "U21__96",
         "rawType": "object",
         "type": "string"
        },
        {
         "name": "U21__97",
         "rawType": "object",
         "type": "string"
        },
        {
         "name": "U22__1",
         "rawType": "object",
         "type": "unknown"
        },
        {
         "name": "U22__2",
         "rawType": "object",
         "type": "unknown"
        },
        {
         "name": "U22__3",
         "rawType": "object",
         "type": "unknown"
        },
        {
         "name": "U23",
         "rawType": "object",
         "type": "unknown"
        },
        {
         "name": "U24_1",
         "rawType": "object",
         "type": "string"
        },
        {
         "name": "U24_1Automation",
         "rawType": "object",
         "type": "string"
        },
        {
         "name": "U24_2",
         "rawType": "object",
         "type": "string"
        },
        {
         "name": "U24_2Automation",
         "rawType": "object",
         "type": "string"
        },
        {
         "name": "U24_3",
         "rawType": "object",
         "type": "string"
        },
        {
         "name": "U24_3Automation",
         "rawType": "object",
         "type": "string"
        },
        {
         "name": "U24_4",
         "rawType": "object",
         "type": "string"
        },
        {
         "name": "U24_5",
         "rawType": "object",
         "type": "string"
        },
        {
         "name": "U24_6",
         "rawType": "object",
         "type": "string"
        },
        {
         "name": "U24_6Automation",
         "rawType": "object",
         "type": "string"
        },
        {
         "name": "U24_7",
         "rawType": "object",
         "type": "string"
        },
        {
         "name": "U24_7Automation",
         "rawType": "object",
         "type": "string"
        },
        {
         "name": "U24_8",
         "rawType": "object",
         "type": "string"
        },
        {
         "name": "U24_9",
         "rawType": "object",
         "type": "string"
        },
        {
         "name": "U24_9Automation",
         "rawType": "object",
         "type": "string"
        },
        {
         "name": "CalcExpenditure",
         "rawType": "object",
         "type": "unknown"
        },
        {
         "name": "Expenditure_check",
         "rawType": "object",
         "type": "string"
        },
        {
         "name": "IsSectionAnsweredU",
         "rawType": "int64",
         "type": "integer"
        },
        {
         "name": "EndofInt_Time",
         "rawType": "object",
         "type": "string"
        },
        {
         "name": "filt",
         "rawType": "int64",
         "type": "integer"
        },
        {
         "name": "indWeight",
         "rawType": "int64",
         "type": "integer"
        },
        {
         "name": "livelihoodcat",
         "rawType": "object",
         "type": "string"
        },
        {
         "name": "Quintiles",
         "rawType": "object",
         "type": "string"
        },
        {
         "name": "Education",
         "rawType": "object",
         "type": "unknown"
        },
        {
         "name": "Marital",
         "rawType": "object",
         "type": "string"
        },
        {
         "name": "ID_card",
         "rawType": "object",
         "type": "string"
        },
        {
         "name": "hhWeight",
         "rawType": "int64",
         "type": "integer"
        },
        {
         "name": "All_Insurance_excluding_NHIF",
         "rawType": "object",
         "type": "string"
        },
        {
         "name": "All_Insurance_including_NHIF",
         "rawType": "object",
         "type": "string"
        },
        {
         "name": "All_Insurance_and_Pension",
         "rawType": "object",
         "type": "string"
        },
        {
         "name": "NHIF",
         "rawType": "object",
         "type": "string"
        },
        {
         "name": "NSSF",
         "rawType": "object",
         "type": "string"
        },
        {
         "name": "Pension_usage",
         "rawType": "object",
         "type": "string"
        },
        {
         "name": "Pension_Usage_without_NSSF",
         "rawType": "object",
         "type": "string"
        },
        {
         "name": "Mobile_bank_usage",
         "rawType": "object",
         "type": "string"
        },
        {
         "name": "Non_microfinance_bank_usage",
         "rawType": "object",
         "type": "string"
        },
        {
         "name": "Microfinance_usage",
         "rawType": "object",
         "type": "string"
        },
        {
         "name": "Sacco_usage",
         "rawType": "object",
         "type": "string"
        },
        {
         "name": "Digital_currencies_assets_usage",
         "rawType": "object",
         "type": "string"
        },
        {
         "name": "Investment_usage",
         "rawType": "object",
         "type": "string"
        },
        {
         "name": "Informal_group_membership",
         "rawType": "int64",
         "type": "integer"
        },
        {
         "name": "Informal_group_usage",
         "rawType": "object",
         "type": "string"
        },
        {
         "name": "Digital_credit_usage",
         "rawType": "object",
         "type": "string"
        },
        {
         "name": "Digital_credit_2",
         "rawType": "object",
         "type": "string"
        },
        {
         "name": "Post_bank_usage",
         "rawType": "object",
         "type": "string"
        },
        {
         "name": "Formal_non_prudential",
         "rawType": "object",
         "type": "string"
        },
        {
         "name": "Informal_usage",
         "rawType": "object",
         "type": "string"
        },
        {
         "name": "Savings_usage",
         "rawType": "object",
         "type": "string"
        },
        {
         "name": "Savings_formal",
         "rawType": "object",
         "type": "string"
        },
        {
         "name": "Savings_informal",
         "rawType": "object",
         "type": "string"
        },
        {
         "name": "Savings_excluded",
         "rawType": "object",
         "type": "string"
        },
        {
         "name": "Loan_usage",
         "rawType": "object",
         "type": "string"
        },
        {
         "name": "Loan_formal",
         "rawType": "object",
         "type": "string"
        },
        {
         "name": "Loan_informal",
         "rawType": "object",
         "type": "string"
        },
        {
         "name": "Loan_formal_2",
         "rawType": "object",
         "type": "string"
        },
        {
         "name": "HHid",
         "rawType": "int64",
         "type": "integer"
        },
        {
         "name": "Above16_Total",
         "rawType": "int64",
         "type": "integer"
        },
        {
         "name": "Above16",
         "rawType": "int64",
         "type": "integer"
        },
        {
         "name": "Loan_mbanking_2",
         "rawType": "object",
         "type": "string"
        },
        {
         "name": "loan_fuliza_2",
         "rawType": "object",
         "type": "string"
        },
        {
         "name": "loan_app_2",
         "rawType": "object",
         "type": "string"
        },
        {
         "name": "loan_hustler_fund",
         "rawType": "object",
         "type": "string"
        },
        {
         "name": "tot_savings",
         "rawType": "object",
         "type": "string"
        },
        {
         "name": "defaulted",
         "rawType": "object",
         "type": "string"
        },
        {
         "name": "mobile",
         "rawType": "object",
         "type": "string"
        },
        {
         "name": "digital_acc",
         "rawType": "object",
         "type": "string"
        },
        {
         "name": "formal_digital_sav",
         "rawType": "object",
         "type": "string"
        },
        {
         "name": "formal_non_digital_sav",
         "rawType": "object",
         "type": "string"
        },
        {
         "name": "formal_digital_loan",
         "rawType": "object",
         "type": "string"
        },
        {
         "name": "formal_non_digital_loan",
         "rawType": "object",
         "type": "string"
        },
        {
         "name": "tot_formal_digit_loan_sav",
         "rawType": "object",
         "type": "string"
        },
        {
         "name": "tot_formal_non_digit_loan_sav",
         "rawType": "object",
         "type": "string"
        },
        {
         "name": "formal_service_use",
         "rawType": "object",
         "type": "string"
        },
        {
         "name": "formal_fullservice_use",
         "rawType": "object",
         "type": "string"
        },
        {
         "name": "digital_store",
         "rawType": "object",
         "type": "string"
        },
        {
         "name": "mobile_money_access",
         "rawType": "object",
         "type": "string"
        },
        {
         "name": "mobile_money_access_2",
         "rawType": "object",
         "type": "string"
        },
        {
         "name": "bank_usage",
         "rawType": "object",
         "type": "string"
        },
        {
         "name": "bank_usage1",
         "rawType": "object",
         "type": "string"
        },
        {
         "name": "bank_usage3",
         "rawType": "object",
         "type": "string"
        },
        {
         "name": "bank_usage2",
         "rawType": "object",
         "type": "string"
        },
        {
         "name": "B3BNew1",
         "rawType": "int64",
         "type": "integer"
        },
        {
         "name": "PDTS_Usage",
         "rawType": "object",
         "type": "string"
        },
        {
         "name": "Other_Sacco_USage",
         "rawType": "object",
         "type": "string"
        },
        {
         "name": "Regulated_Saccos",
         "rawType": "object",
         "type": "string"
        },
        {
         "name": "Non_Regulated_Saccos",
         "rawType": "object",
         "type": "string"
        },
        {
         "name": "Access_Strand",
         "rawType": "object",
         "type": "string"
        },
        {
         "name": "MFI_App_Dig",
         "rawType": "object",
         "type": "string"
        },
        {
         "name": "MFI_Formal_Non",
         "rawType": "object",
         "type": "string"
        },
        {
         "name": "formal_prudential_MFIs",
         "rawType": "object",
         "type": "string"
        },
        {
         "name": "formal_registered_MFIs",
         "rawType": "object",
         "type": "string"
        },
        {
         "name": "informal_MFIs_accessstrand",
         "rawType": "object",
         "type": "string"
        },
        {
         "name": "Informal_MFIs",
         "rawType": "object",
         "type": "string"
        },
        {
         "name": "Formal_MFIs",
         "rawType": "object",
         "type": "string"
        },
        {
         "name": "Digital_MFIs",
         "rawType": "object",
         "type": "string"
        },
        {
         "name": "Non_Digital_MFIs",
         "rawType": "object",
         "type": "string"
        },
        {
         "name": "formal_prudential_fnl",
         "rawType": "object",
         "type": "string"
        },
        {
         "name": "formal_non_prudential_A",
         "rawType": "object",
         "type": "string"
        },
        {
         "name": "formal_registered_1",
         "rawType": "object",
         "type": "string"
        },
        {
         "name": "formal_registered_fnl",
         "rawType": "object",
         "type": "string"
        },
        {
         "name": "formal_access_fnl",
         "rawType": "object",
         "type": "string"
        },
        {
         "name": "formal_other_fnl",
         "rawType": "object",
         "type": "string"
        },
        {
         "name": "Informal_usage_1",
         "rawType": "object",
         "type": "string"
        },
        {
         "name": "Access_fnl",
         "rawType": "object",
         "type": "string"
        },
        {
         "name": "Access_fnl_1",
         "rawType": "int64",
         "type": "integer"
        },
        {
         "name": "mfhi_12",
         "rawType": "int64",
         "type": "integer"
        },
        {
         "name": "mfhi_11",
         "rawType": "object",
         "type": "string"
        },
        {
         "name": "mfhi_13",
         "rawType": "object",
         "type": "string"
        },
        {
         "name": "mfhi_21",
         "rawType": "object",
         "type": "string"
        },
        {
         "name": "mfhi_22",
         "rawType": "object",
         "type": "string"
        },
        {
         "name": "mfhi_23",
         "rawType": "object",
         "type": "string"
        },
        {
         "name": "mfhi_31",
         "rawType": "object",
         "type": "string"
        },
        {
         "name": "mfhi_32",
         "rawType": "object",
         "type": "string"
        },
        {
         "name": "mfhi_32_1",
         "rawType": "object",
         "type": "string"
        },
        {
         "name": "mfhi_33",
         "rawType": "object",
         "type": "string"
        },
        {
         "name": "Investment_usage_fnl",
         "rawType": "object",
         "type": "string"
        },
        {
         "name": "finhealth_fnl",
         "rawType": "object",
         "type": "string"
        },
        {
         "name": "Overall_Access_fnl",
         "rawType": "object",
         "type": "string"
        },
        {
         "name": "Pension_including_NSSF",
         "rawType": "object",
         "type": "string"
        },
        {
         "name": "Pension_excluding_NSSF",
         "rawType": "object",
         "type": "string"
        },
        {
         "name": "Microfinance_usage_fnl",
         "rawType": "object",
         "type": "string"
        },
        {
         "name": "traditional_mfi",
         "rawType": "object",
         "type": "string"
        },
        {
         "name": "mobile_money_access_primary",
         "rawType": "object",
         "type": "string"
        },
        {
         "name": "mobile_money_access1",
         "rawType": "object",
         "type": "string"
        },
        {
         "name": "bank_usage_overall",
         "rawType": "object",
         "type": "string"
        },
        {
         "name": "Traditional_bank",
         "rawType": "object",
         "type": "string"
        },
        {
         "name": "Commercial_bank",
         "rawType": "object",
         "type": "string"
        },
        {
         "name": "barriers_mmoney",
         "rawType": "object",
         "type": "string"
        },
        {
         "name": "barriers_mobile_money",
         "rawType": "object",
         "type": "string"
        },
        {
         "name": "barriers_mobile_bank",
         "rawType": "object",
         "type": "string"
        },
        {
         "name": "barriers_credit",
         "rawType": "object",
         "type": "string"
        },
        {
         "name": "barriers_pension_fnl",
         "rawType": "object",
         "type": "string"
        },
        {
         "name": "Insurance_excluding_NHIF_fnl",
         "rawType": "object",
         "type": "string"
        },
        {
         "name": "Insurance_including_NHIF_fnl",
         "rawType": "object",
         "type": "string"
        },
        {
         "name": "All_Insurance_and_Pension_fnl",
         "rawType": "object",
         "type": "string"
        },
        {
         "name": "Loan_usage_fnl",
         "rawType": "object",
         "type": "string"
        },
        {
         "name": "Mobile_banking_loan",
         "rawType": "object",
         "type": "string"
        },
        {
         "name": "Fuliza_loan",
         "rawType": "object",
         "type": "string"
        },
        {
         "name": "digital_app_loan",
         "rawType": "object",
         "type": "string"
        },
        {
         "name": "hustler_fund_loan",
         "rawType": "object",
         "type": "string"
        },
        {
         "name": "mobile_ownership_1",
         "rawType": "object",
         "type": "string"
        },
        {
         "name": "mobile_ownership_2",
         "rawType": "object",
         "type": "string"
        },
        {
         "name": "formal_service_usage",
         "rawType": "object",
         "type": "string"
        },
        {
         "name": "Digital_credit_usage_fnl",
         "rawType": "object",
         "type": "string"
        },
        {
         "name": "digital_acc_fnl",
         "rawType": "object",
         "type": "string"
        },
        {
         "name": "formal_digital_loan_fnl",
         "rawType": "object",
         "type": "string"
        },
        {
         "name": "formal_non_digital_loan_fnl",
         "rawType": "object",
         "type": "string"
        },
        {
         "name": "tot_formal_digit_loan_sav_fnl",
         "rawType": "object",
         "type": "string"
        },
        {
         "name": "tot_formal_nondigit_loan_sav_fnl",
         "rawType": "object",
         "type": "string"
        },
        {
         "name": "overlap",
         "rawType": "object",
         "type": "string"
        },
        {
         "name": "mobile_bank_use",
         "rawType": "object",
         "type": "string"
        },
        {
         "name": "NHIF_use",
         "rawType": "object",
         "type": "string"
        },
        {
         "name": "NSSF_use",
         "rawType": "object",
         "type": "string"
        },
        {
         "name": "pension_use",
         "rawType": "object",
         "type": "string"
        },
        {
         "name": "pension_use_excl_NSSF",
         "rawType": "object",
         "type": "string"
        },
        {
         "name": "bank_use",
         "rawType": "object",
         "type": "string"
        },
        {
         "name": "commercial_bank_use",
         "rawType": "object",
         "type": "string"
        },
        {
         "name": "mobile_money_use",
         "rawType": "object",
         "type": "string"
        },
        {
         "name": "digital_app_loan_fnl",
         "rawType": "object",
         "type": "string"
        },
        {
         "name": "sacco_use",
         "rawType": "object",
         "type": "string"
        },
        {
         "name": "chama_use",
         "rawType": "object",
         "type": "string"
        },
        {
         "name": "fuliza",
         "rawType": "object",
         "type": "string"
        },
        {
         "name": "hustler_fund",
         "rawType": "object",
         "type": "string"
        },
        {
         "name": "MFIs_use",
         "rawType": "object",
         "type": "string"
        },
        {
         "name": "overall_climate_investment",
         "rawType": "object",
         "type": "string"
        },
        {
         "name": "experienced_shock",
         "rawType": "object",
         "type": "string"
        },
        {
         "name": "vul_index_fnl",
         "rawType": "object",
         "type": "string"
        },
        {
         "name": "manage_day2day",
         "rawType": "object",
         "type": "string"
        },
        {
         "name": "risk_cope",
         "rawType": "object",
         "type": "string"
        },
        {
         "name": "invest_score",
         "rawType": "object",
         "type": "string"
        },
        {
         "name": "nfhi_11",
         "rawType": "object",
         "type": "string"
        },
        {
         "name": "paid_housing",
         "rawType": "object",
         "type": "string"
        },
        {
         "name": "paid_energy",
         "rawType": "object",
         "type": "string"
        },
        {
         "name": "paid_water",
         "rawType": "object",
         "type": "string"
        },
        {
         "name": "paid_transport",
         "rawType": "object",
         "type": "string"
        },
        {
         "name": "nfhi_12",
         "rawType": "object",
         "type": "string"
        },
        {
         "name": "nfhi_13",
         "rawType": "object",
         "type": "string"
        },
        {
         "name": "accessto_13k_1month",
         "rawType": "object",
         "type": "string"
        },
        {
         "name": "not_difficult",
         "rawType": "object",
         "type": "string"
        },
        {
         "name": "nfhi_21",
         "rawType": "object",
         "type": "string"
        },
        {
         "name": "physical_cap",
         "rawType": "object",
         "type": "string"
        },
        {
         "name": "financial_cap",
         "rawType": "object",
         "type": "string"
        },
        {
         "name": "human_cap",
         "rawType": "object",
         "type": "string"
        },
        {
         "name": "nfhi_31",
         "rawType": "object",
         "type": "string"
        },
        {
         "name": "managingday2day_score",
         "rawType": "int64",
         "type": "integer"
        },
        {
         "name": "copewithrisk_score",
         "rawType": "int64",
         "type": "integer"
        },
        {
         "name": "investinfuture_score",
         "rawType": "int64",
         "type": "integer"
        },
        {
         "name": "new_fh_score",
         "rawType": "int64",
         "type": "integer"
        },
        {
         "name": "nfh_categories",
         "rawType": "object",
         "type": "string"
        },
        {
         "name": "dailyneeds_perception",
         "rawType": "object",
         "type": "string"
        },
        {
         "name": "managedebt_perception",
         "rawType": "object",
         "type": "string"
        },
        {
         "name": "goals_perception",
         "rawType": "object",
         "type": "string"
        },
        {
         "name": "financial_status",
         "rawType": "object",
         "type": "string"
        },
        {
         "name": "interest_rate",
         "rawType": "object",
         "type": "string"
        },
        {
         "name": "inflation_rate",
         "rawType": "object",
         "type": "string"
        },
        {
         "name": "risk_diversification",
         "rawType": "object",
         "type": "string"
        },
        {
         "name": "fl_score",
         "rawType": "object",
         "type": "string"
        },
        {
         "name": "Financial_literacy_index_fnl",
         "rawType": "object",
         "type": "string"
        },
        {
         "name": "transaction_cost",
         "rawType": "object",
         "type": "string"
        },
        {
         "name": "Classification_A_Liquidity",
         "rawType": "object",
         "type": "string"
        },
        {
         "name": "Classification_A_Resilience",
         "rawType": "object",
         "type": "string"
        },
        {
         "name": "Classification_A_Meeting_goals",
         "rawType": "object",
         "type": "string"
        },
        {
         "name": "saving_day_to_day_needs",
         "rawType": "object",
         "type": "string"
        },
        {
         "name": "saving_for_emergencies",
         "rawType": "object",
         "type": "string"
        },
        {
         "name": "saving_for_education",
         "rawType": "object",
         "type": "string"
        },
        {
         "name": "saving_to_buy_livestock",
         "rawType": "object",
         "type": "string"
        },
        {
         "name": "saving_for_business",
         "rawType": "object",
         "type": "string"
        },
        {
         "name": "saving_for_farming",
         "rawType": "object",
         "type": "string"
        },
        {
         "name": "saving_for_land_or_house",
         "rawType": "object",
         "type": "string"
        },
        {
         "name": "saving_for_motorvehicle_bodaboda",
         "rawType": "object",
         "type": "string"
        },
        {
         "name": "saving_for_old_age",
         "rawType": "object",
         "type": "string"
        },
        {
         "name": "saving_for_social_reasons",
         "rawType": "object",
         "type": "string"
        },
        {
         "name": "saving_safe_keeping",
         "rawType": "object",
         "type": "string"
        },
        {
         "name": "Reason_for_saving_convenient",
         "rawType": "object",
         "type": "string"
        },
        {
         "name": "Reason_for_saving_trustworthy",
         "rawType": "object",
         "type": "string"
        },
        {
         "name": "Reason_for_saving_high_interest",
         "rawType": "object",
         "type": "string"
        },
        {
         "name": "Reason_for_saving_comfortable",
         "rawType": "object",
         "type": "string"
        },
        {
         "name": "Reason_for_saving_privacy",
         "rawType": "object",
         "type": "string"
        },
        {
         "name": "Reason_for_saving_loan_access",
         "rawType": "object",
         "type": "string"
        },
        {
         "name": "Reason_for_saving_my_paypoint",
         "rawType": "object",
         "type": "string"
        },
        {
         "name": "Reason_for_saving_recommended",
         "rawType": "object",
         "type": "string"
        },
        {
         "name": "Reason_for_saving_only_option",
         "rawType": "object",
         "type": "string"
        },
        {
         "name": "Emergencies_credit",
         "rawType": "object",
         "type": "string"
        },
        {
         "name": "Edu_within_household_credit",
         "rawType": "object",
         "type": "string"
        },
        {
         "name": "Edu_outside_household_credit",
         "rawType": "object",
         "type": "string"
        },
        {
         "name": "Day2day_household_needs_credit",
         "rawType": "object",
         "type": "string"
        },
        {
         "name": "Start_new_business_credit",
         "rawType": "object",
         "type": "string"
        },
        {
         "name": "Expand_business_credit",
         "rawType": "object",
         "type": "string"
        },
        {
         "name": "Working_capital_business_credit",
         "rawType": "object",
         "type": "string"
        },
        {
         "name": "Premise_land_for_business_credit",
         "rawType": "object",
         "type": "string"
        },
        {
         "name": "Purchase_house_credit",
         "rawType": "object",
         "type": "string"
        },
        {
         "name": "Another_persons_business_credit",
         "rawType": "object",
         "type": "string"
        },
        {
         "name": "Purchase_land_credit",
         "rawType": "object",
         "type": "string"
        },
        {
         "name": "Purchase_build_land_house_credit",
         "rawType": "object",
         "type": "string"
        },
        {
         "name": "Improve_house_credit",
         "rawType": "object",
         "type": "string"
        },
        {
         "name": "Personal_reasons_credit",
         "rawType": "object",
         "type": "string"
        },
        {
         "name": "Acquire_household_goods_credit",
         "rawType": "object",
         "type": "string"
        },
        {
         "name": "Social_reasons_credit",
         "rawType": "object",
         "type": "string"
        },
        {
         "name": "Buy_car_or_motorcycle_credit",
         "rawType": "object",
         "type": "string"
        },
        {
         "name": "Purchase_livestock_credit",
         "rawType": "object",
         "type": "string"
        },
        {
         "name": "Purchase_agric_inputs_credit",
         "rawType": "object",
         "type": "string"
        },
        {
         "name": "Agricultural_improvements_credit",
         "rawType": "object",
         "type": "string"
        },
        {
         "name": "Purchase_agric_implements_credit",
         "rawType": "object",
         "type": "string"
        },
        {
         "name": "Pay_for_farm_labour_credit",
         "rawType": "object",
         "type": "string"
        },
        {
         "name": "Transport_farm_produce_credit",
         "rawType": "object",
         "type": "string"
        },
        {
         "name": "Fishing_equipment_credit",
         "rawType": "object",
         "type": "string"
        },
        {
         "name": "Pay_off_debts_credit",
         "rawType": "object",
         "type": "string"
        },
        {
         "name": "Repay_debts_someone_else_credit",
         "rawType": "object",
         "type": "string"
        },
        {
         "name": "For_old_age_credit",
         "rawType": "object",
         "type": "string"
        },
        {
         "name": "gaming_credit",
         "rawType": "object",
         "type": "string"
        },
        {
         "name": "Other_reasons_credit",
         "rawType": "object",
         "type": "string"
        },
        {
         "name": "nC1_1a",
         "rawType": "object",
         "type": "unknown"
        },
        {
         "name": "nC1_1b",
         "rawType": "object",
         "type": "unknown"
        },
        {
         "name": "nC1_2",
         "rawType": "object",
         "type": "unknown"
        },
        {
         "name": "nC1_3",
         "rawType": "object",
         "type": "unknown"
        },
        {
         "name": "nC1_4",
         "rawType": "object",
         "type": "unknown"
        },
        {
         "name": "nC1_5",
         "rawType": "object",
         "type": "unknown"
        },
        {
         "name": "nC1_6",
         "rawType": "object",
         "type": "unknown"
        },
        {
         "name": "nC1_9",
         "rawType": "object",
         "type": "unknown"
        },
        {
         "name": "nC1_10",
         "rawType": "object",
         "type": "unknown"
        },
        {
         "name": "nC1_11",
         "rawType": "object",
         "type": "unknown"
        },
        {
         "name": "nC1_12",
         "rawType": "object",
         "type": "unknown"
        },
        {
         "name": "nC1_12a",
         "rawType": "object",
         "type": "unknown"
        },
        {
         "name": "nC1_12b",
         "rawType": "object",
         "type": "unknown"
        },
        {
         "name": "nC1_13a",
         "rawType": "object",
         "type": "unknown"
        },
        {
         "name": "nC1_13b",
         "rawType": "object",
         "type": "unknown"
        },
        {
         "name": "nC1_13c",
         "rawType": "object",
         "type": "unknown"
        },
        {
         "name": "nC1_14",
         "rawType": "object",
         "type": "unknown"
        },
        {
         "name": "nC1_15",
         "rawType": "object",
         "type": "unknown"
        },
        {
         "name": "nC1_16",
         "rawType": "object",
         "type": "unknown"
        },
        {
         "name": "nC1_17",
         "rawType": "object",
         "type": "unknown"
        },
        {
         "name": "nC1_18",
         "rawType": "object",
         "type": "unknown"
        },
        {
         "name": "nC1_19",
         "rawType": "object",
         "type": "unknown"
        },
        {
         "name": "nC1_20",
         "rawType": "object",
         "type": "unknown"
        },
        {
         "name": "nC1_21",
         "rawType": "object",
         "type": "unknown"
        },
        {
         "name": "nC1_22",
         "rawType": "object",
         "type": "unknown"
        },
        {
         "name": "nC1_23",
         "rawType": "object",
         "type": "unknown"
        },
        {
         "name": "nC1_24",
         "rawType": "object",
         "type": "unknown"
        },
        {
         "name": "nC1_26",
         "rawType": "object",
         "type": "unknown"
        },
        {
         "name": "nC1_27",
         "rawType": "object",
         "type": "unknown"
        },
        {
         "name": "nC1_28",
         "rawType": "object",
         "type": "unknown"
        },
        {
         "name": "nC1_29",
         "rawType": "object",
         "type": "unknown"
        },
        {
         "name": "nC1_30",
         "rawType": "object",
         "type": "unknown"
        },
        {
         "name": "nC1_31",
         "rawType": "object",
         "type": "unknown"
        },
        {
         "name": "nC1_32",
         "rawType": "object",
         "type": "unknown"
        },
        {
         "name": "nC1_33",
         "rawType": "object",
         "type": "unknown"
        },
        {
         "name": "nC1_34",
         "rawType": "object",
         "type": "unknown"
        },
        {
         "name": "nC1_35",
         "rawType": "object",
         "type": "unknown"
        },
        {
         "name": "nC1_36",
         "rawType": "object",
         "type": "unknown"
        },
        {
         "name": "nC1_37",
         "rawType": "object",
         "type": "unknown"
        },
        {
         "name": "nC1_38",
         "rawType": "object",
         "type": "unknown"
        },
        {
         "name": "nC1_39",
         "rawType": "object",
         "type": "unknown"
        },
        {
         "name": "nC1_40",
         "rawType": "object",
         "type": "unknown"
        },
        {
         "name": "nC1_41",
         "rawType": "object",
         "type": "unknown"
        },
        {
         "name": "nC1_42",
         "rawType": "object",
         "type": "unknown"
        },
        {
         "name": "nC1_43",
         "rawType": "object",
         "type": "unknown"
        },
        {
         "name": "prodsum1",
         "rawType": "int64",
         "type": "integer"
        },
        {
         "name": "portfolio",
         "rawType": "object",
         "type": "string"
        },
        {
         "name": "chama_usage",
         "rawType": "object",
         "type": "string"
        },
        {
         "name": "shopkeeper_usage",
         "rawType": "object",
         "type": "string"
        },
        {
         "name": "friends_family_usage",
         "rawType": "object",
         "type": "string"
        },
        {
         "name": "employer_money_lender_usage",
         "rawType": "object",
         "type": "string"
        },
        {
         "name": "group_membership_fnl",
         "rawType": "object",
         "type": "string"
        },
        {
         "name": "MFB_Usage",
         "rawType": "object",
         "type": "string"
        },
        {
         "name": "barriers_savings",
         "rawType": "object",
         "type": "string"
        },
        {
         "name": "barriers_insurance_fnl",
         "rawType": "object",
         "type": "string"
        },
        {
         "name": "barriers_securities_fnl",
         "rawType": "object",
         "type": "string"
        },
        {
         "name": "barriers_bank",
         "rawType": "object",
         "type": "string"
        },
        {
         "name": "barriers_traditional_bank_fnl",
         "rawType": "object",
         "type": "string"
        },
        {
         "name": "barriers_sacco",
         "rawType": "object",
         "type": "string"
        },
        {
         "name": "employer_money_lender_usage1",
         "rawType": "object",
         "type": "string"
        },
        {
         "name": "pension_delayed_fnl",
         "rawType": "object",
         "type": "string"
        },
        {
         "name": "pension_lostmoney_fnl",
         "rawType": "object",
         "type": "string"
        },
        {
         "name": "pension_unethical_fnl",
         "rawType": "object",
         "type": "string"
        },
        {
         "name": "pension_attachment",
         "rawType": "object",
         "type": "string"
        },
        {
         "name": "pension_underpayment_fnl",
         "rawType": "object",
         "type": "string"
        },
        {
         "name": "pension_issues_fnl",
         "rawType": "object",
         "type": "string"
        },
        {
         "name": "insurance_delayed_fnl",
         "rawType": "object",
         "type": "string"
        },
        {
         "name": "insurance_datashared_fnl",
         "rawType": "object",
         "type": "string"
        },
        {
         "name": "insurance_nottransparent_fnl",
         "rawType": "object",
         "type": "string"
        },
        {
         "name": "insurance_collapse_fnl",
         "rawType": "object",
         "type": "string"
        },
        {
         "name": "insurance_issues_fnl",
         "rawType": "object",
         "type": "string"
        },
        {
         "name": "investment_unexpectedcharges_fnl",
         "rawType": "object",
         "type": "string"
        },
        {
         "name": "investment_lostmoney_fnl",
         "rawType": "object",
         "type": "string"
        },
        {
         "name": "investment_downtime_fnl",
         "rawType": "object",
         "type": "string"
        },
        {
         "name": "investment_sold_fnl",
         "rawType": "object",
         "type": "string"
        },
        {
         "name": "investment_issues_fnl",
         "rawType": "object",
         "type": "string"
        },
        {
         "name": "bank_unexpectedcharges",
         "rawType": "object",
         "type": "string"
        },
        {
         "name": "bank_moneylost",
         "rawType": "object",
         "type": "string"
        },
        {
         "name": "bank_downtime",
         "rawType": "object",
         "type": "string"
        },
        {
         "name": "bank_unethicalrecovery",
         "rawType": "object",
         "type": "string"
        },
        {
         "name": "bank_issues",
         "rawType": "object",
         "type": "string"
        },
        {
         "name": "creditonly_mfi_unexpectedcharges",
         "rawType": "object",
         "type": "string"
        },
        {
         "name": "creditonly_mfi_moneylost",
         "rawType": "object",
         "type": "string"
        },
        {
         "name": "creditonly_mfi_downtime",
         "rawType": "object",
         "type": "string"
        },
        {
         "name": "creditonly_mfi_unethicalrecovery",
         "rawType": "object",
         "type": "string"
        },
        {
         "name": "creditonly_mfi_unsolicited",
         "rawType": "object",
         "type": "string"
        },
        {
         "name": "creditonly_mfi_issues",
         "rawType": "object",
         "type": "string"
        },
        {
         "name": "trad_mfi_unexpectedcharges",
         "rawType": "object",
         "type": "string"
        },
        {
         "name": "trad_mfi_moneylost",
         "rawType": "object",
         "type": "string"
        },
        {
         "name": "trad_mfi_downtime",
         "rawType": "object",
         "type": "string"
        },
        {
         "name": "trad_mfi_unethicalrecovery",
         "rawType": "object",
         "type": "string"
        },
        {
         "name": "trad_mfi_unsolicited",
         "rawType": "object",
         "type": "string"
        },
        {
         "name": "traditional_mfi_issues",
         "rawType": "object",
         "type": "string"
        },
        {
         "name": "hirepurchase_unexpectedcharges",
         "rawType": "object",
         "type": "string"
        },
        {
         "name": "hirepurchase_moneylost",
         "rawType": "object",
         "type": "string"
        },
        {
         "name": "hirepurchase_downtime",
         "rawType": "object",
         "type": "string"
        },
        {
         "name": "hirepurchase_unethicalrecovery",
         "rawType": "object",
         "type": "string"
        },
        {
         "name": "hirepurchase_unsolicited",
         "rawType": "object",
         "type": "string"
        },
        {
         "name": "hirepurchase_issues",
         "rawType": "object",
         "type": "string"
        },
        {
         "name": "digitalapps_unexpectedcharges",
         "rawType": "object",
         "type": "string"
        },
        {
         "name": "digital_app_moneylost",
         "rawType": "object",
         "type": "string"
        },
        {
         "name": "digital_app_downtime",
         "rawType": "object",
         "type": "string"
        },
        {
         "name": "digital_apps_unethicalrecovery",
         "rawType": "object",
         "type": "string"
        },
        {
         "name": "digital_app_unsolicited",
         "rawType": "object",
         "type": "string"
        },
        {
         "name": "digital_issues",
         "rawType": "object",
         "type": "string"
        },
        {
         "name": "sacco_unexpectedcharges",
         "rawType": "object",
         "type": "string"
        },
        {
         "name": "sacco_moneylost",
         "rawType": "object",
         "type": "string"
        },
        {
         "name": "sacco_downtime",
         "rawType": "object",
         "type": "string"
        },
        {
         "name": "sacco_unethicalrecovery",
         "rawType": "object",
         "type": "string"
        },
        {
         "name": "sacco_issues",
         "rawType": "object",
         "type": "string"
        },
        {
         "name": "mobilemoney_unexpectedcharges",
         "rawType": "object",
         "type": "string"
        },
        {
         "name": "mobilemoney_moneylost",
         "rawType": "object",
         "type": "string"
        },
        {
         "name": "mobilemoney_downtime",
         "rawType": "object",
         "type": "string"
        },
        {
         "name": "mobilemoney_float",
         "rawType": "object",
         "type": "string"
        },
        {
         "name": "mobilemoney_datashared",
         "rawType": "object",
         "type": "string"
        },
        {
         "name": "mobilemoney_issues",
         "rawType": "object",
         "type": "string"
        },
        {
         "name": "mobilebank_unexpectedcharges",
         "rawType": "object",
         "type": "string"
        },
        {
         "name": "mobilebank_moneylost",
         "rawType": "object",
         "type": "string"
        },
        {
         "name": "mobilebank_downtime",
         "rawType": "object",
         "type": "string"
        },
        {
         "name": "mobilebank_unethicalrecovery",
         "rawType": "object",
         "type": "string"
        },
        {
         "name": "mobilebank_issues",
         "rawType": "object",
         "type": "string"
        },
        {
         "name": "pension_satisfaction",
         "rawType": "object",
         "type": "string"
        },
        {
         "name": "insurance_satisfaction",
         "rawType": "object",
         "type": "string"
        },
        {
         "name": "investment_satisfaction",
         "rawType": "object",
         "type": "string"
        },
        {
         "name": "bank_satisfaction",
         "rawType": "object",
         "type": "string"
        },
        {
         "name": "creditonlyagree_satisfaction1",
         "rawType": "object",
         "type": "string"
        },
        {
         "name": "trad_mfi_satisfaction",
         "rawType": "object",
         "type": "string"
        },
        {
         "name": "hirepurchase_satisfaction",
         "rawType": "object",
         "type": "string"
        },
        {
         "name": "digital_app_satisfaction",
         "rawType": "object",
         "type": "string"
        },
        {
         "name": "sacco_satisfaction",
         "rawType": "object",
         "type": "string"
        },
        {
         "name": "mobilemoney_satisfaction",
         "rawType": "object",
         "type": "string"
        },
        {
         "name": "mobilebank_satisfaction",
         "rawType": "object",
         "type": "string"
        },
        {
         "name": "pension_redress",
         "rawType": "object",
         "type": "string"
        },
        {
         "name": "insurance_redress",
         "rawType": "object",
         "type": "string"
        },
        {
         "name": "investment_redress",
         "rawType": "object",
         "type": "string"
        },
        {
         "name": "bank_redress",
         "rawType": "object",
         "type": "string"
        },
        {
         "name": "creditonly_redress",
         "rawType": "object",
         "type": "string"
        },
        {
         "name": "sacco_redress",
         "rawType": "object",
         "type": "string"
        },
        {
         "name": "mobilemoney_redress",
         "rawType": "object",
         "type": "string"
        },
        {
         "name": "mobilebank_redress",
         "rawType": "object",
         "type": "string"
        },
        {
         "name": "not_registered_mmoney_24",
         "rawType": "object",
         "type": "string"
        },
        {
         "name": "using_someone_acc",
         "rawType": "object",
         "type": "string"
        },
        {
         "name": "insurance_including_NHIF_use",
         "rawType": "object",
         "type": "string"
        },
        {
         "name": "All_Insurance_excluding_NHIF_use",
         "rawType": "object",
         "type": "string"
        },
        {
         "name": "PWD",
         "rawType": "object",
         "type": "string"
        },
        {
         "name": "Latitude",
         "rawType": "float64",
         "type": "float"
        },
        {
         "name": "Longitude",
         "rawType": "float64",
         "type": "float"
        }
       ],
       "ref": "5443db9c-7d26-4426-81da-dc907f1b687c",
       "rows": [
        [
         "0",
         "21-61-43-44",
         "00005e63e7424aa19e63adb071955233",
         "Garissa",
         "225",
         "Urban",
         "1",
         "Household found with competent respondent",
         "Access granted",
         "completed",
         "Male",
         "5",
         "1",
         "2",
         "1",
         "English",
         null,
         "29",
         "Spouse",
         "29",
         "Female",
         "Spouse",
         "\"Post Secondary education",
         "#NULL!",
         "Yes",
         "Yes",
         "Female",
         "26-35",
         "Continued with interview",
         "5",
         "Completed technical training after secondary school",
         null,
         "Married/Living with partner",
         "1.0",
         null,
         "1",
         "No",
         "Yes - some difficulty",
         "No- no difficulty",
         "No- no difficulty",
         "No- no difficulty",
         "No- no difficulty",
         "No- no difficulty",
         "Educating yourself or your family",
         "Spouse",
         "Spouse",
         "Agree",
         "Agree",
         "Agree",
         "Agree",
         "No",
         "#NULL!",
         "No",
         "No",
         "No",
         "No",
         "No",
         "Sometimes",
         "Never",
         "#NULL!",
         null,
         "No",
         "Work more / get additional jobs",
         null,
         "#NULL!",
         "#NULL!",
         "Very Difficult",
         "Very Difficult",
         "#NULL!",
         "No",
         "No",
         "No",
         "No",
         "No",
         "No",
         "No",
         "No",
         "No",
         "No",
         "No",
         "Somewhat worried",
         "Very worried",
         "Somewhat",
         "Remained the same",
         "1",
         "26",
         "Advice from friends / family/Colleagues/Peers",
         null,
         "No",
         "#NULL!",
         "#NULL!",
         null,
         "Yes",
         "More than KSh 1,000",
         "Less than last year July",
         "Invest in multiple assets",
         "\"IF = KSh 10: then correct \"",
         "1",
         "0",
         "0",
         "0",
         "0",
         "0",
         "0",
         "0",
         "0",
         "1",
         "0",
         "0",
         "0",
         "0",
         null,
         "support from family / friends / spouse",
         "Within Kenya",
         "No",
         "No",
         "#NULL!",
         "#NULL!",
         "#NULL!",
         "#NULL!",
         "#NULL!",
         "#NULL!",
         "#NULL!",
         "#NULL!",
         "#NULL!",
         "#NULL!",
         "#NULL!",
         "#NULL!",
         "#NULL!",
         "#NULL!",
         "#NULL!",
         "#NULL!",
         "#NULL!",
         null,
         "#NULL!",
         "#NULL!",
         "#NULL!",
         "#NULL!",
         "#NULL!",
         "#NULL!",
         "#NULL!",
         "#NULL!",
         "#NULL!",
         "#NULL!",
         "#NULL!",
         "#NULL!",
         "#NULL!",
         "#NULL!",
         null,
         "#NULL!",
         "#NULL!",
         "#NULL!",
         "#NULL!",
         "#NULL!",
         "#NULL!",
         "#NULL!",
         "#NULL!",
         "#NULL!",
         "#NULL!",
         "#NULL!",
         "#NULL!",
         "#NULL!",
         "#NULL!",
         null,
         "#NULL!",
         "#NULL!",
         "#NULL!",
         "#NULL!",
         "#NULL!",
         "#NULL!",
         "#NULL!",
         "#NULL!",
         "#NULL!",
         "#NULL!",
         "#NULL!",
         "#NULL!",
         "#NULL!",
         "#NULL!",
         null,
         "#NULL!",
         "#NULL!",
         "#NULL!",
         "#NULL!",
         "#NULL!",
         "#NULL!",
         "#NULL!",
         "#NULL!",
         "#NULL!",
         "#NULL!",
         "#NULL!",
         "#NULL!",
         "#NULL!",
         "#NULL!",
         null,
         "#NULL!",
         "#NULL!",
         "#NULL!",
         "#NULL!",
         "#NULL!",
         "#NULL!",
         "#NULL!",
         "#NULL!",
         "#NULL!",
         "#NULL!",
         "#NULL!",
         "#NULL!",
         "#NULL!",
         "#NULL!",
         null,
         "#NULL!",
         "#NULL!",
         "#NULL!",
         "#NULL!",
         "#NULL!",
         "#NULL!",
         "#NULL!",
         "#NULL!",
         "#NULL!",
         "#NULL!",
         "#NULL!",
         "#NULL!",
         "#NULL!",
         "#NULL!",
         null,
         "#NULL!",
         "#NULL!",
         "#NULL!",
         "#NULL!",
         "#NULL!",
         "#NULL!",
         "#NULL!",
         "#NULL!",
         "#NULL!",
         "#NULL!",
         "#NULL!",
         "#NULL!",
         "#NULL!",
         "#NULL!",
         null,
         "#NULL!",
         "#NULL!",
         "#NULL!",
         "#NULL!",
         "#NULL!",
         "#NULL!",
         "#NULL!",
         "#NULL!",
         "#NULL!",
         "#NULL!",
         "#NULL!",
         "#NULL!",
         "#NULL!",
         "#NULL!",
         null,
         "#NULL!",
         "#NULL!",
         "#NULL!",
         "#NULL!",
         "#NULL!",
         "#NULL!",
         "#NULL!",
         "#NULL!",
         "#NULL!",
         "#NULL!",
         "#NULL!",
         "#NULL!",
         "#NULL!",
         "#NULL!",
         null,
         "#NULL!",
         null,
         "#NULL!",
         "#NULL!",
         "#NULL!",
         "#NULL!",
         "#NULL!",
         "#NULL!",
         "#NULL!",
         null,
         "#NULL!",
         null,
         "30000",
         "31000",
         "28000",
         "1",
         "7",
         "Currently use",
         "Never used",
         "Currently use",
         "Equity Bank Kenya Ltd",
         "#NULL!",
         "#NULL!",
         "#NULL!",
         "#NULL!",
         "#NULL!",
         "#NULL!",
         "#NULL!",
         "#NULL!",
         "#NULL!",
         "#NULL!",
         "#NULL!",
         "#NULL!",
         "#NULL!",
         "#NULL!",
         "#NULL!",
         "#NULL!",
         "#NULL!",
         "#NULL!",
         "#NULL!",
         "#NULL!",
         "#NULL!",
         "#NULL!",
         "#NULL!",
         "#NULL!",
         "#NULL!",
         "#NULL!",
         "#NULL!",
         "#NULL!",
         "#NULL!",
         "#NULL!",
         "#NULL!",
         "#NULL!",
         "#NULL!",
         "#NULL!",
         "#NULL!",
         "#NULL!",
         "#NULL!",
         "#NULL!",
         "#NULL!",
         "#NULL!",
         "#NULL!",
         "#NULL!",
         "#NULL!",
         "#NULL!",
         "#NULL!",
         "#NULL!",
         "#NULL!",
         "#NULL!",
         "#NULL!",
         "#NULL!",
         "#NULL!",
         "#NULL!",
         "#NULL!",
         "Never used",
         "Never used",
         "Never used",
         "Never used",
         "Never used",
         "Never used",
         "Never used",
         "Never used",
         "Never used",
         "Never used",
         "Never used",
         "Never used",
         "Never used",
         "Never used",
         "Never used",
         "Never used",
         "Never used",
         "Never used",
         "Never used",
         "Never used",
         "Never used",
         "Never used",
         "Never used",
         "Never used",
         "Never used",
         "Never used",
         "Never used",
         "Never used",
         "Currently use",
         "Never used",
         "Never used",
         "Never used",
         "Never used",
         "Never used",
         "Never used",
         "Never used",
         "Never used",
         "Never used",
         "Never used",
         "Never used",
         "Never used",
         "Never used",
         "Never used",
         "Never used",
         "3",
         "Never used",
         "#NULL!",
         "#NULL!",
         "#NULL!",
         "#NULL!",
         "Mobile money provider e.g Safaricom fuliza",
         null,
         "A bank",
         null,
         "#NULL!",
         "#NULL!",
         "#NULL!",
         "#NULL!",
         "#NULL!",
         "#NULL!",
         "#NULL!",
         "#NULL!",
         "#NULL!",
         "#NULL!",
         "#NULL!",
         "#NULL!",
         "#NULL!",
         "1",
         "0",
         "0",
         "0",
         "0",
         "0",
         "0",
         "0",
         "0",
         "0",
         "0",
         null,
         "#NULL!",
         null,
         "Refused to Answer",
         "Refused to Answer",
         "#NULL!",
         "#NULL!",
         "Refused to Answer",
         "No",
         "No",
         "No",
         "No",
         "No",
         "#NULL!",
         "Refused to Answer",
         "#NULL!",
         "#NULL!",
         "#NULL!",
         "#NULL!",
         "#NULL!",
         "#NULL!",
         "#NULL!",
         "#NULL!",
         "#NULL!",
         "#NULL!",
         "Refused to Answer",
         "Refused to Answer",
         "Refused to Answer",
         "Refused to Answer",
         "Refused to Answer",
         "Refused to Answer",
         "No",
         "#NULL!",
         "#NULL!",
         "#NULL!",
         "#NULL!",
         "#NULL!",
         "#NULL!",
         "#NULL!",
         "#NULL!",
         "#NULL!",
         null,
         "1",
         "0",
         "0",
         "0",
         "0",
         "0",
         "0",
         null,
         "#NULL!",
         "#NULL!",
         "#NULL!",
         "#NULL!",
         "#NULL!",
         "#NULL!",
         "#NULL!",
         "#NULL!",
         "#NULL!",
         "#NULL!",
         null,
         "#NULL!",
         null,
         "#NULL!",
         null,
         "#NULL!",
         "#NULL!",
         "#NULL!",
         "#NULL!",
         "#NULL!",
         "#NULL!",
         "#NULL!",
         "#NULL!",
         "#NULL!",
         "#NULL!",
         "#NULL!",
         "#NULL!",
         "#NULL!",
         "#NULL!",
         "#NULL!",
         "#NULL!",
         "#NULL!",
         "#NULL!",
         "#NULL!",
         "#NULL!",
         "#NULL!",
         "#NULL!",
         "#NULL!",
         "#NULL!",
         "#NULL!",
         "#NULL!",
         "#NULL!",
         "#NULL!",
         "No",
         "#NULL!",
         "#NULL!",
         "#NULL!",
         "#NULL!",
         "#NULL!",
         "#NULL!",
         "#NULL!",
         "#NULL!",
         "#NULL!",
         "#NULL!",
         "#NULL!",
         "#NULL!",
         "#NULL!",
         "0",
         "0",
         "0",
         "0",
         "0",
         "0",
         "#NULL!",
         "#NULL!",
         "#NULL!",
         null,
         "#NULL!",
         "#NULL!",
         "#NULL!",
         "#NULL!",
         "#NULL!",
         "#NULL!",
         "#NULL!",
         "#NULL!",
         "#NULL!",
         "#NULL!",
         "#NULL!",
         "#NULL!",
         "#NULL!",
         "#NULL!",
         "#NULL!",
         "#NULL!",
         "#NULL!",
         null,
         "#NULL!",
         "#NULL!",
         "#NULL!",
         "#NULL!",
         "#NULL!",
         "#NULL!",
         "#NULL!",
         "#NULL!",
         "0",
         "#NULL!",
         "#NULL!",
         "#NULL!",
         null,
         "#NULL!",
         "#NULL!",
         "#NULL!",
         "#NULL!",
         "#NULL!",
         "#NULL!",
         "#NULL!",
         "#NULL!",
         "#NULL!",
         "#NULL!",
         null,
         "#NULL!",
         "#NULL!",
         "#NULL!",
         null,
         "#NULL!",
         null,
         "#NULL!",
         null,
         "#NULL!",
         null,
         "#NULL!",
         "#NULL!",
         "#NULL!",
         "#NULL!",
         "#NULL!",
         "#NULL!",
         "#NULL!",
         "#NULL!",
         null,
         "#NULL!",
         null,
         "#NULL!",
         null,
         "#NULL!",
         null,
         "#NULL!",
         "#NULL!",
         "#NULL!",
         "#NULL!",
         "#NULL!",
         "#NULL!",
         "#NULL!",
         "#NULL!",
         null,
         "#NULL!",
         null,
         "#NULL!",
         null,
         "#NULL!",
         null,
         "#NULL!",
         "#NULL!",
         "#NULL!",
         "#NULL!",
         "#NULL!",
         "#NULL!",
         "#NULL!",
         null,
         "#NULL!",
         null,
         "#NULL!",
         null,
         "#NULL!",
         "#NULL!",
         "#NULL!",
         "#NULL!",
         "#NULL!",
         "#NULL!",
         "#NULL!",
         null,
         "#NULL!",
         null,
         "#NULL!",
         "#NULL!",
         "#NULL!",
         "#NULL!",
         "#NULL!",
         "#NULL!",
         "#NULL!",
         "#NULL!",
         null,
         "#NULL!",
         "#NULL!",
         "#NULL!",
         "#NULL!",
         "#NULL!",
         "#NULL!",
         "#NULL!",
         null,
         "#NULL!",
         null,
         "#NULL!",
         null,
         "#NULL!",
         null,
         "#NULL!",
         "#NULL!",
         "#NULL!",
         "#NULL!",
         "#NULL!",
         "#NULL!",
         "#NULL!",
         "#NULL!",
         null,
         "#NULL!",
         null,
         "#NULL!",
         null,
         "#NULL!",
         null,
         "#NULL!",
         "#NULL!",
         "#NULL!",
         "#NULL!",
         "#NULL!",
         "#NULL!",
         "#NULL!",
         "#NULL!",
         null,
         "#NULL!",
         null,
         "#NULL!",
         null,
         "#NULL!",
         "#NULL!",
         "#NULL!",
         "#NULL!",
         "#NULL!",
         "#NULL!",
         "#NULL!",
         "#NULL!",
         null,
         "#NULL!",
         null,
         "#NULL!",
         null,
         "#NULL!",
         null,
         "#NULL!",
         "#NULL!",
         "#NULL!",
         "#NULL!",
         "#NULL!",
         "#NULL!",
         "#NULL!",
         "#NULL!",
         null,
         "#NULL!",
         null,
         "#NULL!",
         null,
         "#NULL!",
         null,
         "#NULL!",
         "#NULL!",
         "#NULL!",
         "#NULL!",
         "#NULL!",
         "#NULL!",
         "#NULL!",
         "#NULL!",
         null,
         "#NULL!",
         null,
         "#NULL!",
         null,
         "#NULL!",
         null,
         "#NULL!",
         "#NULL!",
         "#NULL!",
         "#NULL!",
         "#NULL!",
         "#NULL!",
         "#NULL!",
         "#NULL!",
         null,
         "#NULL!",
         null,
         "#NULL!",
         null,
         "#NULL!",
         "#NULL!",
         "#NULL!",
         "#NULL!",
         "#NULL!",
         "#NULL!",
         "#NULL!",
         "#NULL!",
         null,
         "#NULL!",
         null,
         "#NULL!",
         null,
         "#NULL!",
         "#NULL!",
         "#NULL!",
         "#NULL!",
         "#NULL!",
         "#NULL!",
         "#NULL!",
         "#NULL!",
         null,
         "#NULL!",
         null,
         "#NULL!",
         null,
         "#NULL!",
         "#NULL!",
         "#NULL!",
         "#NULL!",
         "#NULL!",
         "#NULL!",
         "#NULL!",
         "#NULL!",
         null,
         "#NULL!",
         null,
         "#NULL!",
         null,
         "#NULL!",
         null,
         "#NULL!",
         "#NULL!",
         "#NULL!",
         "#NULL!",
         "#NULL!",
         "1",
         "To meet day today household needs",
         null,
         "Monthly",
         null,
         "Cash",
         null,
         "4000",
         "4000",
         "In the last month",
         "In 3 months",
         "2000",
         "#NULL!",
         "#NULL!",
         null,
         "#NULL!",
         "#NULL!",
         "#NULL!",
         "#NULL!",
         "#NULL!",
         "#NULL!",
         "#NULL!",
         null,
         "#NULL!",
         null,
         "#NULL!",
         null,
         "#NULL!",
         "#NULL!",
         "#NULL!",
         "#NULL!",
         "#NULL!",
         "#NULL!",
         "#NULL!",
         null,
         "#NULL!",
         null,
         "#NULL!",
         null,
         "#NULL!",
         null,
         "#NULL!",
         "#NULL!",
         "#NULL!",
         "#NULL!",
         "#NULL!",
         "#NULL!",
         "#NULL!",
         "#NULL!",
         null,
         "#NULL!",
         null,
         "#NULL!",
         null,
         "#NULL!",
         null,
         "#NULL!",
         "#NULL!",
         "#NULL!",
         "#NULL!",
         "#NULL!",
         "Taking goods and services on credit from a shopkeeper",
         "Convenient / easy to get a loan",
         null,
         "2000",
         "No",
         "#NULL!",
         "#NULL!",
         "#NULL!",
         "#NULL!",
         "#NULL!",
         "#NULL!",
         "#NULL!",
         "#NULL!",
         "#NULL!",
         "1",
         "0",
         "0",
         "0",
         "0",
         "0",
         "0",
         "0",
         "I did not default/always pay on time",
         "#NULL!",
         "#NULL!",
         "#NULL!",
         "#NULL!",
         "#NULL!",
         "#NULL!",
         "#NULL!",
         "#NULL!",
         "#NULL!",
         "#NULL!",
         "#NULL!",
         "#NULL!",
         "#NULL!",
         "#NULL!",
         "#NULL!",
         "#NULL!",
         "#NULL!",
         "#NULL!",
         "#NULL!",
         "#NULL!",
         "#NULL!",
         "#NULL!",
         null,
         "#NULL!",
         null,
         "#NULL!",
         "#NULL!",
         "#NULL!",
         "#NULL!",
         "#NULL!",
         "#NULL!",
         "#NULL!",
         "#NULL!",
         "#NULL!",
         "#NULL!",
         "#NULL!",
         "#NULL!",
         "#NULL!",
         "#NULL!",
         "#NULL!",
         "#NULL!",
         "0",
         "0",
         "0",
         "0",
         "0",
         "0",
         "0",
         "0",
         "0",
         "0",
         "#NULL!",
         "#NULL!",
         "#NULL!",
         "#NULL!",
         "#NULL!",
         "#NULL!",
         "#NULL!",
         "#NULL!",
         "#NULL!",
         "No",
         "#NULL!",
         "#NULL!",
         "#NULL!",
         "#NULL!",
         "#NULL!",
         "#NULL!",
         "#NULL!",
         "#NULL!",
         "0",
         "0",
         "0",
         "0",
         "0",
         "0",
         null,
         "1",
         "0",
         "0",
         "0",
         "0",
         "0",
         "#NULL!",
         "0",
         "0",
         "0",
         null,
         "#NULL!",
         "#NULL!",
         "#NULL!",
         "#NULL!",
         "#NULL!",
         "#NULL!",
         "#NULL!",
         "0",
         "#NULL!",
         "#NULL!",
         "#NULL!",
         null,
         "#NULL!",
         null,
         "#NULL!",
         null,
         "#NULL!",
         null,
         "#NULL!",
         null,
         "#NULL!",
         null,
         "#NULL!",
         null,
         "#NULL!",
         null,
         "#NULL!",
         null,
         "#NULL!",
         null,
         "#NULL!",
         null,
         "#NULL!",
         null,
         "#NULL!",
         null,
         "#NULL!",
         null,
         "#NULL!",
         null,
         "#NULL!",
         null,
         "#NULL!",
         null,
         "#NULL!",
         null,
         "#NULL!",
         null,
         "#NULL!",
         null,
         "#NULL!",
         null,
         "#NULL!",
         null,
         "#NULL!",
         null,
         "#NULL!",
         null,
         "#NULL!",
         null,
         "#NULL!",
         null,
         "#NULL!",
         null,
         "#NULL!",
         null,
         "#NULL!",
         null,
         "#NULL!",
         null,
         "#NULL!",
         null,
         "#NULL!",
         null,
         "#NULL!",
         null,
         "#NULL!",
         null,
         "#NULL!",
         null,
         "#NULL!",
         null,
         "#NULL!",
         null,
         "#NULL!",
         null,
         "#NULL!",
         "#NULL!",
         "#NULL!",
         "#NULL!",
         "#NULL!",
         "#NULL!",
         "#NULL!",
         "#NULL!",
         "#NULL!",
         "#NULL!",
         "#NULL!",
         "#NULL!",
         null,
         "0",
         "1",
         "0",
         "0",
         "0",
         "0",
         "0",
         "0",
         "0",
         "0",
         "0",
         null,
         "#NULL!",
         "#NULL!",
         "#NULL!",
         "#NULL!",
         "#NULL!",
         "#NULL!",
         "#NULL!",
         "#NULL!",
         null,
         "#NULL!",
         null,
         "#NULL!",
         null,
         "#NULL!",
         null,
         "#NULL!",
         null,
         "#NULL!",
         null,
         "#NULL!",
         "#NULL!",
         "#NULL!",
         "#NULL!",
         "#NULL!",
         "#NULL!",
         "#NULL!",
         "#NULL!",
         "#NULL!",
         "#NULL!",
         "#NULL!",
         null,
         "#NULL!",
         "#NULL!",
         "#NULL!",
         "#NULL!",
         "#NULL!",
         "#NULL!",
         "#NULL!",
         "#NULL!",
         "#NULL!",
         "#NULL!",
         null,
         "#NULL!",
         "#NULL!",
         "#NULL!",
         "#NULL!",
         "#NULL!",
         "#NULL!",
         "#NULL!",
         "1",
         "1",
         "0",
         "0",
         "0",
         "0",
         "0",
         "0",
         "0",
         "0",
         "0",
         "0",
         "0",
         "0",
         "0",
         null,
         "Mobile money (Send money) (M-Pesa, Airtel Money,Tkash)",
         null,
         "1",
         "1",
         "0",
         "0",
         "0",
         "0",
         "0",
         "0",
         "0",
         "0",
         "0",
         "0",
         "0",
         "0",
         "0",
         null,
         "Mobile money (Send money) (M-Pesa, Airtel Money,Tkash)",
         null,
         "0",
         "0",
         "0",
         "0",
         "0",
         "0",
         "0",
         "0",
         "0",
         "0",
         "0",
         "1",
         "0",
         "0",
         "0",
         null,
         "Did not do this",
         null,
         "1",
         "1",
         "0",
         "0",
         "0",
         "0",
         "0",
         "0",
         "0",
         "0",
         "0",
         "0",
         "0",
         "0",
         "0",
         null,
         "Cash",
         null,
         "1",
         "1",
         "0",
         "0",
         "0",
         "0",
         "0",
         "0",
         "0",
         "0",
         "0",
         "0",
         "0",
         "0",
         "0",
         "0",
         null,
         "Mobile money (Send money) (M-Pesa, Airtel Money,Tkash)",
         null,
         "0",
         "0",
         "0",
         "0",
         "0",
         "0",
         "0",
         "0",
         "0",
         "0",
         "0",
         "0",
         "1",
         "0",
         "0",
         "0",
         null,
         "Did not do this",
         null,
         "1",
         "1",
         "0",
         "0",
         "0",
         "0",
         "0",
         "0",
         "0",
         "0",
         "0",
         "0",
         "0",
         "0",
         "0",
         "0",
         null,
         "Mobile money (Send money) (M-Pesa, Airtel Money,Tkash)",
         null,
         "0",
         "0",
         "0",
         "0",
         "0",
         "0",
         "0",
         "0",
         "0",
         "0",
         "0",
         "0",
         "1",
         "0",
         "0",
         "0",
         null,
         "Did not do this",
         null,
         "1",
         "1",
         "0",
         "0",
         "0",
         "0",
         "0",
         "0",
         "0",
         "0",
         "0",
         "0",
         "0",
         "0",
         "0",
         "0",
         null,
         "Mobile money (Send money) (M-Pesa, Airtel Money,Tkash)",
         null,
         "Between half and quarter",
         "#NULL!",
         "#NULL!",
         "#NULL!",
         "#NULL!",
         "#NULL!",
         "#NULL!",
         "#NULL!",
         "#NULL!",
         "#NULL!",
         "#NULL!",
         "#NULL!",
         "#NULL!",
         "#NULL!",
         "#NULL!",
         "#NULL!",
         "#NULL!",
         "#NULL!",
         "#NULL!",
         "#NULL!",
         "#NULL!",
         "#NULL!",
         "#NULL!",
         "#NULL!",
         "#NULL!",
         "#NULL!",
         "#NULL!",
         "#NULL!",
         "#NULL!",
         "#NULL!",
         "#NULL!",
         "#NULL!",
         "#NULL!",
         "#NULL!",
         "#NULL!",
         "#NULL!",
         "#NULL!",
         "#NULL!",
         "#NULL!",
         "#NULL!",
         "#NULL!",
         "#NULL!",
         "#NULL!",
         "#NULL!",
         "#NULL!",
         "#NULL!",
         "#NULL!",
         "#NULL!",
         "#NULL!",
         "#NULL!",
         "#NULL!",
         "#NULL!",
         "#NULL!",
         "#NULL!",
         "#NULL!",
         "#NULL!",
         "#NULL!",
         "#NULL!",
         "#NULL!",
         "#NULL!",
         "#NULL!",
         "#NULL!",
         "#NULL!",
         "#NULL!",
         "#NULL!",
         "#NULL!",
         "#NULL!",
         "#NULL!",
         "#NULL!",
         "#NULL!",
         "#NULL!",
         "#NULL!",
         "#NULL!",
         "#NULL!",
         "#NULL!",
         "#NULL!",
         "#NULL!",
         "#NULL!",
         "#NULL!",
         "#NULL!",
         "#NULL!",
         "#NULL!",
         "#NULL!",
         "#NULL!",
         "#NULL!",
         "#NULL!",
         "#NULL!",
         "#NULL!",
         "#NULL!",
         "#NULL!",
         "#NULL!",
         "#NULL!",
         "#NULL!",
         "#NULL!",
         "#NULL!",
         "#NULL!",
         "#NULL!",
         "#NULL!",
         "#NULL!",
         "#NULL!",
         "#NULL!",
         "#NULL!",
         "#NULL!",
         "#NULL!",
         "#NULL!",
         "#NULL!",
         "#NULL!",
         "#NULL!",
         "#NULL!",
         "#NULL!",
         "#NULL!",
         "#NULL!",
         "#NULL!",
         "#NULL!",
         "#NULL!",
         "#NULL!",
         "#NULL!",
         "#NULL!",
         "#NULL!",
         "#NULL!",
         "#NULL!",
         "#NULL!",
         "#NULL!",
         "#NULL!",
         "#NULL!",
         "#NULL!",
         "#NULL!",
         "#NULL!",
         "#NULL!",
         "#NULL!",
         "#NULL!",
         "#NULL!",
         "#NULL!",
         "#NULL!",
         "#NULL!",
         "#NULL!",
         "#NULL!",
         "#NULL!",
         "#NULL!",
         "#NULL!",
         "#NULL!",
         "#NULL!",
         "#NULL!",
         "#NULL!",
         "#NULL!",
         "#NULL!",
         "#NULL!",
         "#NULL!",
         "#NULL!",
         "#NULL!",
         "#NULL!",
         "#NULL!",
         "#NULL!",
         "#NULL!",
         "#NULL!",
         "#NULL!",
         "#NULL!",
         "#NULL!",
         "#NULL!",
         "#NULL!",
         "#NULL!",
         "#NULL!",
         "#NULL!",
         "#NULL!",
         "#NULL!",
         "#NULL!",
         "#NULL!",
         "#NULL!",
         "#NULL!",
         "#NULL!",
         "#NULL!",
         "#NULL!",
         "#NULL!",
         "#NULL!",
         "#NULL!",
         "#NULL!",
         "#NULL!",
         "#NULL!",
         "#NULL!",
         "#NULL!",
         "#NULL!",
         "#NULL!",
         "#NULL!",
         "#NULL!",
         "#NULL!",
         "#NULL!",
         "#NULL!",
         "#NULL!",
         "#NULL!",
         "#NULL!",
         "#NULL!",
         "#NULL!",
         "#NULL!",
         "#NULL!",
         "#NULL!",
         "#NULL!",
         null,
         "#NULL!",
         "#NULL!",
         "#NULL!",
         null,
         "#NULL!",
         "#NULL!",
         "#NULL!",
         "#NULL!",
         "#NULL!",
         "#NULL!",
         "#NULL!",
         "#NULL!",
         "#NULL!",
         "#NULL!",
         "#NULL!",
         "#NULL!",
         "#NULL!",
         "#NULL!",
         "#NULL!",
         "#NULL!",
         "#NULL!",
         "#NULL!",
         "#NULL!",
         "#NULL!",
         "#NULL!",
         "#NULL!",
         "#NULL!",
         "#NULL!",
         "#NULL!",
         "#NULL!",
         "#NULL!",
         "#NULL!",
         "#NULL!",
         "#NULL!",
         "#NULL!",
         "#NULL!",
         "#NULL!",
         "#NULL!",
         "#NULL!",
         "#NULL!",
         "#NULL!",
         "#NULL!",
         "#NULL!",
         "#NULL!",
         "#NULL!",
         "#NULL!",
         "#NULL!",
         "#NULL!",
         "#NULL!",
         "#NULL!",
         "#NULL!",
         "#NULL!",
         "#NULL!",
         "#NULL!",
         "#NULL!",
         "#NULL!",
         "#NULL!",
         "#NULL!",
         "#NULL!",
         "#NULL!",
         "#NULL!",
         "#NULL!",
         "#NULL!",
         "#NULL!",
         "#NULL!",
         "#NULL!",
         "#NULL!",
         "#NULL!",
         "#NULL!",
         "#NULL!",
         "#NULL!",
         "#NULL!",
         "#NULL!",
         "#NULL!",
         "#NULL!",
         "#NULL!",
         "#NULL!",
         "#NULL!",
         "#NULL!",
         "#NULL!",
         "#NULL!",
         "#NULL!",
         "#NULL!",
         "#NULL!",
         "#NULL!",
         "#NULL!",
         "#NULL!",
         "#NULL!",
         "#NULL!",
         "#NULL!",
         "#NULL!",
         "#NULL!",
         "#NULL!",
         "#NULL!",
         "#NULL!",
         "#NULL!",
         "#NULL!",
         "#NULL!",
         "#NULL!",
         "#NULL!",
         "#NULL!",
         "#NULL!",
         "#NULL!",
         "#NULL!",
         "#NULL!",
         "#NULL!",
         "#NULL!",
         "#NULL!",
         "#NULL!",
         "#NULL!",
         "#NULL!",
         "#NULL!",
         "#NULL!",
         "#NULL!",
         "#NULL!",
         "#NULL!",
         "#NULL!",
         "#NULL!",
         "#NULL!",
         "#NULL!",
         "#NULL!",
         "#NULL!",
         "#NULL!",
         "#NULL!",
         "#NULL!",
         "#NULL!",
         "#NULL!",
         "#NULL!",
         "#NULL!",
         "#NULL!",
         "#NULL!",
         "#NULL!",
         "#NULL!",
         "#NULL!",
         "#NULL!",
         "#NULL!",
         "#NULL!",
         "#NULL!",
         "#NULL!",
         "#NULL!",
         "#NULL!",
         "#NULL!",
         "#NULL!",
         "#NULL!",
         "#NULL!",
         "#NULL!",
         "#NULL!",
         "#NULL!",
         "#NULL!",
         "#NULL!",
         "#NULL!",
         "#NULL!",
         "#NULL!",
         "#NULL!",
         "#NULL!",
         "#NULL!",
         "#NULL!",
         "#NULL!",
         "#NULL!",
         "#NULL!",
         "#NULL!",
         "#NULL!",
         "#NULL!",
         "#NULL!",
         "#NULL!",
         "#NULL!",
         "#NULL!",
         "#NULL!",
         "#NULL!",
         "#NULL!",
         "#NULL!",
         "#NULL!",
         "#NULL!",
         "#NULL!",
         "#NULL!",
         "#NULL!",
         "#NULL!",
         "#NULL!",
         "#NULL!",
         "#NULL!",
         "#NULL!",
         "#NULL!",
         "#NULL!",
         "#NULL!",
         "#NULL!",
         "#NULL!",
         "#NULL!",
         "#NULL!",
         "#NULL!",
         "#NULL!",
         "#NULL!",
         "#NULL!",
         "#NULL!",
         "#NULL!",
         "#NULL!",
         "#NULL!",
         "#NULL!",
         "#NULL!",
         "#NULL!",
         null,
         "#NULL!",
         "#NULL!",
         "#NULL!",
         "#NULL!",
         null,
         "#NULL!",
         "#NULL!",
         "#NULL!",
         "#NULL!",
         "#NULL!",
         "#NULL!",
         "#NULL!",
         "#NULL!",
         "#NULL!",
         "#NULL!",
         "#NULL!",
         "#NULL!",
         "#NULL!",
         null,
         "#NULL!",
         "#NULL!",
         "#NULL!",
         "#NULL!",
         "#NULL!",
         "#NULL!",
         "#NULL!",
         "#NULL!",
         "#NULL!",
         "#NULL!",
         "#NULL!",
         "#NULL!",
         "#NULL!",
         "#NULL!",
         "#NULL!",
         "#NULL!",
         "#NULL!",
         "#NULL!",
         "#NULL!",
         "#NULL!",
         "#NULL!",
         "#NULL!",
         "#NULL!",
         "#NULL!",
         "#NULL!",
         "#NULL!",
         "#NULL!",
         "#NULL!",
         "#NULL!",
         "#NULL!",
         "#NULL!",
         "#NULL!",
         "#NULL!",
         "#NULL!",
         "#NULL!",
         "#NULL!",
         "#NULL!",
         "#NULL!",
         "#NULL!",
         "#NULL!",
         "#NULL!",
         "#NULL!",
         "#NULL!",
         "#NULL!",
         "#NULL!",
         "#NULL!",
         "#NULL!",
         "#NULL!",
         "#NULL!",
         "#NULL!",
         "#NULL!",
         "#NULL!",
         "#NULL!",
         "#NULL!",
         "#NULL!",
         "#NULL!",
         null,
         "#NULL!",
         null,
         "0",
         "0",
         "0",
         "0",
         "0",
         "0",
         "0",
         "0",
         "0",
         "0",
         "0",
         "0",
         "0",
         "0",
         "1",
         "0",
         "0",
         "0",
         "0",
         "0",
         "0",
         "0",
         "0",
         "0",
         "0",
         "0",
         "0",
         "0",
         "0",
         "0",
         "0",
         "0",
         "0",
         "0",
         "0",
         "0",
         "0",
         "0",
         "0",
         "0",
         "0",
         "0",
         "0",
         "0",
         "0",
         "0",
         "0",
         "0",
         "0",
         "0",
         "0",
         "0",
         "0",
         "0",
         "#NULL!",
         "#NULL!",
         "#NULL!",
         "#NULL!",
         "#NULL!",
         "#NULL!",
         "#NULL!",
         "#NULL!",
         "#NULL!",
         "#NULL!",
         "#NULL!",
         "#NULL!",
         "#NULL!",
         "#NULL!",
         "#NULL!",
         "#NULL!",
         "#NULL!",
         "#NULL!",
         "#NULL!",
         "#NULL!",
         "#NULL!",
         "#NULL!",
         "#NULL!",
         "#NULL!",
         "#NULL!",
         "#NULL!",
         "#NULL!",
         "#NULL!",
         "#NULL!",
         "#NULL!",
         "#NULL!",
         "#NULL!",
         "#NULL!",
         "#NULL!",
         "#NULL!",
         "#NULL!",
         "#NULL!",
         "#NULL!",
         "#NULL!",
         "1",
         "No/Hapana",
         "No/Hapana",
         "#NULL!",
         "#NULL!",
         "#NULL!",
         "#NULL!",
         "#NULL!",
         "#NULL!",
         "#NULL!",
         "#NULL!",
         "#NULL!",
         "#NULL!",
         "#NULL!",
         "#NULL!",
         "#NULL!",
         "#NULL!",
         "#NULL!",
         "#NULL!",
         "#NULL!",
         "#NULL!",
         "#NULL!",
         "#NULL!",
         "#NULL!",
         "#NULL!",
         "#NULL!",
         "#NULL!",
         "#NULL!",
         "#NULL!",
         "#NULL!",
         "#NULL!",
         "#NULL!",
         "#NULL!",
         "#NULL!",
         "#NULL!",
         "#NULL!",
         "#NULL!",
         "#NULL!",
         "#NULL!",
         "#NULL!",
         "#NULL!",
         "#NULL!",
         "#NULL!",
         "#NULL!",
         "#NULL!",
         "#NULL!",
         "#NULL!",
         "#NULL!",
         "#NULL!",
         "#NULL!",
         "#NULL!",
         "#NULL!",
         "#NULL!",
         "#NULL!",
         "#NULL!",
         "#NULL!",
         "#NULL!",
         "#NULL!",
         "#NULL!",
         "#NULL!",
         "#NULL!",
         "#NULL!",
         "#NULL!",
         "#NULL!",
         "#NULL!",
         "#NULL!",
         "#NULL!",
         "#NULL!",
         "#NULL!",
         "#NULL!",
         "#NULL!",
         "#NULL!",
         "#NULL!",
         "#NULL!",
         "#NULL!",
         "No/Hapana",
         "Not used it in the last one year/Sijaitumia kwa  mwaka moja uliopita",
         "0",
         "0",
         "0",
         "0",
         "0",
         "0",
         "0",
         "0",
         "0",
         "0",
         "0",
         "1",
         "0",
         null,
         "Have not used my bank account in the past 12 months/Sijatumia akaunti yangu ya b",
         "No/Hapana",
         "No/Hapana",
         "No/Hapana",
         "No/Hapana",
         "#NULL!",
         "#NULL!",
         "#NULL!",
         "#NULL!",
         "#NULL!",
         "#NULL!",
         "#NULL!",
         "#NULL!",
         null,
         "No i did NOT have a complaint",
         "#NULL!",
         "#NULL!",
         "#NULL!",
         "#NULL!",
         "#NULL!",
         "#NULL!",
         "#NULL!",
         "#NULL!",
         "#NULL!",
         "#NULL!",
         null,
         "#NULL!",
         "Agree",
         "Agree",
         "Disagree",
         "Agree",
         "Agree",
         "Agree",
         "#NULL!",
         "#NULL!",
         "#NULL!",
         "#NULL!",
         "#NULL!",
         "#NULL!",
         "#NULL!",
         "#NULL!",
         "#NULL!",
         "#NULL!",
         "#NULL!",
         "#NULL!",
         "#NULL!",
         "#NULL!",
         "#NULL!",
         "#NULL!",
         "#NULL!",
         "#NULL!",
         "#NULL!",
         "#NULL!",
         "#NULL!",
         "#NULL!",
         "#NULL!",
         "#NULL!",
         "#NULL!",
         "#NULL!",
         "#NULL!",
         "#NULL!",
         "#NULL!",
         "#NULL!",
         "#NULL!",
         "#NULL!",
         "#NULL!",
         "#NULL!",
         "#NULL!",
         "#NULL!",
         "#NULL!",
         "#NULL!",
         "#NULL!",
         "#NULL!",
         "#NULL!",
         "#NULL!",
         "#NULL!",
         "#NULL!",
         "#NULL!",
         "#NULL!",
         "#NULL!",
         "#NULL!",
         "#NULL!",
         "#NULL!",
         "#NULL!",
         "#NULL!",
         "#NULL!",
         "#NULL!",
         "#NULL!",
         "#NULL!",
         "#NULL!",
         "#NULL!",
         "#NULL!",
         "#NULL!",
         "#NULL!",
         "#NULL!",
         "#NULL!",
         "#NULL!",
         "#NULL!",
         "#NULL!",
         "#NULL!",
         "#NULL!",
         "#NULL!",
         "#NULL!",
         "#NULL!",
         "#NULL!",
         "#NULL!",
         "#NULL!",
         "#NULL!",
         "#NULL!",
         "#NULL!",
         "#NULL!",
         "#NULL!",
         "#NULL!",
         "#NULL!",
         "#NULL!",
         "#NULL!",
         "#NULL!",
         "#NULL!",
         "#NULL!",
         "#NULL!",
         "#NULL!",
         "#NULL!",
         "#NULL!",
         "#NULL!",
         "#NULL!",
         "#NULL!",
         "#NULL!",
         null,
         "#NULL!",
         null,
         "#NULL!",
         "#NULL!",
         "#NULL!",
         "#NULL!",
         "#NULL!",
         "#NULL!",
         "#NULL!",
         "#NULL!",
         "#NULL!",
         null,
         "#NULL!",
         "#NULL!",
         "#NULL!",
         "#NULL!",
         "#NULL!",
         "#NULL!",
         "#NULL!",
         "#NULL!",
         "#NULL!",
         null,
         "#NULL!",
         "#NULL!",
         "#NULL!",
         "#NULL!",
         "#NULL!",
         "#NULL!",
         "#NULL!",
         "1",
         "#NULL!",
         "#NULL!",
         "#NULL!",
         "#NULL!",
         "#NULL!",
         "#NULL!",
         "#NULL!",
         "#NULL!",
         "#NULL!",
         "#NULL!",
         "#NULL!",
         "#NULL!",
         null,
         "Dont know about Saccos/Never heard about Saccos",
         null,
         "#NULL!",
         "#NULL!",
         "#NULL!",
         "#NULL!",
         "#NULL!",
         "#NULL!",
         "#NULL!",
         "#NULL!",
         "#NULL!",
         "#NULL!",
         "#NULL!",
         "#NULL!",
         "#NULL!",
         "#NULL!",
         "#NULL!",
         "#NULL!",
         "#NULL!",
         "#NULL!",
         "#NULL!",
         "#NULL!",
         "#NULL!",
         "#NULL!",
         "#NULL!",
         "#NULL!",
         "#NULL!",
         "#NULL!",
         "#NULL!",
         "#NULL!",
         "#NULL!",
         "#NULL!",
         "#NULL!",
         "#NULL!",
         "#NULL!",
         "#NULL!",
         "#NULL!",
         "#NULL!",
         "#NULL!",
         "#NULL!",
         "#NULL!",
         "#NULL!",
         "#NULL!",
         "#NULL!",
         "#NULL!",
         "#NULL!",
         "#NULL!",
         "#NULL!",
         "#NULL!",
         "#NULL!",
         "#NULL!",
         "#NULL!",
         "#NULL!",
         "#NULL!",
         "#NULL!",
         "#NULL!",
         "#NULL!",
         "#NULL!",
         "#NULL!",
         "#NULL!",
         "#NULL!",
         "#NULL!",
         "#NULL!",
         "#NULL!",
         "#NULL!",
         "#NULL!",
         "#NULL!",
         "#NULL!",
         "#NULL!",
         "#NULL!",
         "#NULL!",
         "#NULL!",
         "#NULL!",
         "#NULL!",
         "#NULL!",
         "#NULL!",
         "#NULL!",
         "#NULL!",
         "#NULL!",
         "#NULL!",
         "#NULL!",
         "#NULL!",
         "#NULL!",
         "#NULL!",
         "#NULL!",
         "#NULL!",
         "#NULL!",
         "#NULL!",
         "#NULL!",
         "#NULL!",
         "#NULL!",
         "#NULL!",
         "#NULL!",
         "#NULL!",
         "#NULL!",
         "#NULL!",
         "#NULL!",
         "#NULL!",
         "#NULL!",
         "#NULL!",
         "#NULL!",
         "#NULL!",
         "#NULL!",
         "#NULL!",
         "#NULL!",
         "#NULL!",
         "#NULL!",
         "#NULL!",
         "#NULL!",
         "#NULL!",
         "#NULL!",
         "#NULL!",
         "#NULL!",
         "#NULL!",
         "#NULL!",
         "#NULL!",
         "#NULL!",
         "#NULL!",
         "#NULL!",
         "#NULL!",
         "#NULL!",
         "#NULL!",
         "#NULL!",
         "#NULL!",
         "#NULL!",
         "#NULL!",
         "#NULL!",
         "#NULL!",
         "#NULL!",
         "#NULL!",
         "#NULL!",
         "#NULL!",
         "#NULL!",
         "#NULL!",
         "#NULL!",
         "#NULL!",
         "#NULL!",
         "#NULL!",
         "#NULL!",
         "#NULL!",
         "#NULL!",
         "#NULL!",
         "#NULL!",
         "#NULL!",
         "#NULL!",
         "#NULL!",
         "#NULL!",
         "#NULL!",
         "#NULL!",
         "#NULL!",
         "#NULL!",
         "#NULL!",
         "#NULL!",
         "#NULL!",
         "#NULL!",
         "#NULL!",
         "#NULL!",
         "#NULL!",
         "#NULL!",
         "#NULL!",
         "#NULL!",
         "#NULL!",
         "#NULL!",
         "#NULL!",
         "#NULL!",
         "#NULL!",
         "#NULL!",
         "#NULL!",
         "#NULL!",
         "#NULL!",
         "#NULL!",
         "#NULL!",
         "#NULL!",
         "#NULL!",
         "#NULL!",
         "#NULL!",
         "#NULL!",
         "#NULL!",
         "#NULL!",
         "#NULL!",
         "#NULL!",
         "#NULL!",
         "#NULL!",
         "#NULL!",
         "#NULL!",
         "#NULL!",
         "#NULL!",
         "#NULL!",
         "#NULL!",
         "#NULL!",
         "#NULL!",
         "#NULL!",
         "#NULL!",
         "#NULL!",
         "#NULL!",
         "#NULL!",
         "#NULL!",
         "#NULL!",
         "#NULL!",
         "#NULL!",
         "#NULL!",
         "#NULL!",
         null,
         "#NULL!",
         "#NULL!",
         "#NULL!",
         "#NULL!",
         "#NULL!",
         "#NULL!",
         "#NULL!",
         "#NULL!",
         "#NULL!",
         "#NULL!",
         "#NULL!",
         "#NULL!",
         "#NULL!",
         "#NULL!",
         null,
         "#NULL!",
         "#NULL!",
         "#NULL!",
         "#NULL!",
         "#NULL!",
         null,
         "#NULL!",
         "#NULL!",
         "#NULL!",
         "#NULL!",
         "#NULL!",
         "#NULL!",
         "#NULL!",
         "#NULL!",
         "#NULL!",
         "#NULL!",
         null,
         "#NULL!",
         "#NULL!",
         "#NULL!",
         "#NULL!",
         "#NULL!",
         "#NULL!",
         "#NULL!",
         "1",
         "1",
         "#NULL!",
         "#NULL!",
         "#NULL!",
         "#NULL!",
         "#NULL!",
         "#NULL!",
         "#NULL!",
         "#NULL!",
         "#NULL!",
         "#NULL!",
         "#NULL!",
         "#NULL!",
         null,
         "#NULL!",
         "#NULL!",
         "#NULL!",
         "#NULL!",
         "#NULL!",
         "#NULL!",
         "#NULL!",
         "#NULL!",
         "#NULL!",
         null,
         "1",
         "0",
         "0",
         "0",
         "0",
         "#NULL!",
         "0",
         "0",
         null,
         "1",
         "MPesa",
         null,
         "Daily /Mara moja kwa siku",
         "No/ Hapana",
         "No/ Hapana",
         "Yes/ Ndio",
         "No/ Hapana",
         "No/ Hapana",
         "Yes/ Ndio",
         "#NULL!",
         "#NULL!",
         "#NULL!",
         "#NULL!",
         "#NULL!",
         "#NULL!",
         "#NULL!",
         "#NULL!",
         "#NULL!",
         null,
         "No, I did not have a complain",
         "#NULL!",
         "#NULL!",
         "#NULL!",
         "#NULL!",
         "#NULL!",
         "#NULL!",
         "#NULL!",
         "#NULL!",
         "#NULL!",
         null,
         "#NULL!",
         "Agree",
         "Agree",
         "Agree",
         "Agree",
         "Agree",
         "Agree",
         "No/ Hapana",
         "1",
         "0",
         "0",
         "0",
         "0",
         "0",
         "0",
         "0",
         "0",
         "0",
         "0",
         null,
         "#NULL!",
         "#NULL!",
         "#NULL!",
         "#NULL!",
         "#NULL!",
         "#NULL!",
         "#NULL!",
         "#NULL!",
         "#NULL!",
         "#NULL!",
         "0",
         "0",
         "0",
         "#NULL!",
         "#NULL!",
         null,
         "#NULL!",
         "#NULL!",
         "#NULL!",
         "#NULL!",
         "#NULL!",
         "#NULL!",
         "#NULL!",
         "#NULL!",
         "#NULL!",
         "0",
         "0",
         "#NULL!",
         "#NULL!",
         "#NULL!",
         null,
         "#NULL!",
         null,
         "#NULL!",
         "#NULL!",
         "#NULL!",
         "#NULL!",
         "#NULL!",
         "#NULL!",
         "#NULL!",
         "#NULL!",
         "#NULL!",
         "#NULL!",
         "#NULL!",
         "#NULL!",
         "#NULL!",
         "#NULL!",
         null,
         "#NULL!",
         "#NULL!",
         "#NULL!",
         "#NULL!",
         "#NULL!",
         "#NULL!",
         "#NULL!",
         "#NULL!",
         "#NULL!",
         "#NULL!",
         "#NULL!",
         null,
         "#NULL!",
         "#NULL!",
         "#NULL!",
         "#NULL!",
         "#NULL!",
         "#NULL!",
         "#NULL!",
         "No",
         "0",
         "0",
         "0",
         "0",
         "0",
         "1",
         "0",
         "0",
         "0",
         "0",
         "0",
         "0",
         "0",
         "0",
         null,
         "#NULL!",
         "#NULL!",
         "#NULL!",
         "#NULL!",
         "#NULL!",
         "#NULL!",
         "#NULL!",
         "#NULL!",
         "#NULL!",
         "0",
         "0",
         "0",
         "0",
         "0",
         "#NULL!",
         "#NULL!",
         null,
         "1",
         "2",
         "#NULL!",
         "#NULL!",
         "#NULL!",
         "#NULL!",
         "#NULL!",
         "#NULL!",
         "#NULL!",
         "#NULL!",
         "#NULL!",
         null,
         "#NULL!",
         null,
         "#NULL!",
         null,
         "#NULL!",
         null,
         "#NULL!",
         "#NULL!",
         "#NULL!",
         "#NULL!",
         "#NULL!",
         "#NULL!",
         "#NULL!",
         "#NULL!",
         "#NULL!",
         "#NULL!",
         "#NULL!",
         "#NULL!",
         "#NULL!",
         "#NULL!",
         "#NULL!",
         "#NULL!",
         "#NULL!",
         "#NULL!",
         "#NULL!",
         null,
         "#NULL!",
         "#NULL!",
         "#NULL!",
         "#NULL!",
         "#NULL!",
         "#NULL!",
         "#NULL!",
         "#NULL!",
         null,
         "#NULL!",
         "#NULL!",
         "#NULL!",
         "#NULL!",
         "#NULL!",
         "#NULL!",
         "#NULL!",
         "#NULL!",
         "#NULL!",
         "#NULL!",
         "#NULL!",
         "#NULL!",
         "#NULL!",
         "#NULL!",
         "#NULL!",
         "Yes",
         "Kind",
         "0",
         "0",
         "0",
         "0",
         "0",
         "0",
         "0",
         "1",
         "0",
         "0",
         "0",
         "0",
         "0",
         "0",
         "0",
         "0",
         null,
         "Through a mobile money account",
         null,
         "1",
         "0",
         "0",
         "0",
         "0",
         "0",
         "0",
         "0",
         "0",
         "0",
         "0",
         "0",
         "0",
         "0",
         "0",
         "0",
         "0",
         "0",
         "0",
         "0",
         "0",
         "0",
         null,
         "No",
         "#NULL!",
         "#NULL!",
         null,
         "1",
         "6",
         "#NULL!",
         "#NULL!",
         "#NULL!",
         "#NULL!",
         "#NULL!",
         "#NULL!",
         "#NULL!",
         "#NULL!",
         "#NULL!",
         "#NULL!",
         "#NULL!",
         "#NULL!",
         "#NULL!",
         "#NULL!",
         "#NULL!",
         "#NULL!",
         "#NULL!",
         null,
         null,
         "#NULL!",
         "#NULL!",
         "#NULL!",
         null,
         "#NULL!",
         "#NULL!",
         "#NULL!",
         "#NULL!",
         "#NULL!",
         "#NULL!",
         "#NULL!",
         "#NULL!",
         "#NULL!",
         "#NULL!",
         "#NULL!",
         "#NULL!",
         "#NULL!",
         "#NULL!",
         "#NULL!",
         "#NULL!",
         "#NULL!",
         "#NULL!",
         "#NULL!",
         "#NULL!",
         "0",
         "0",
         "0",
         "0",
         "0",
         "0",
         "0",
         "0",
         "0",
         "#NULL!",
         "#NULL!",
         "#NULL!",
         null,
         "#NULL!",
         "#NULL!",
         "#NULL!",
         "#NULL!",
         "#NULL!",
         "#NULL!",
         "#NULL!",
         "#NULL!",
         "#NULL!",
         null,
         "#NULL!",
         null,
         "#NULL!",
         null,
         "#NULL!",
         "#NULL!",
         "#NULL!",
         "#NULL!",
         "#NULL!",
         "#NULL!",
         "#NULL!",
         "#NULL!",
         "#NULL!",
         "#NULL!",
         "#NULL!",
         "#NULL!",
         null,
         "#NULL!",
         null,
         "#NULL!",
         null,
         "#NULL!",
         "#NULL!",
         null,
         "#NULL!",
         null,
         "#NULL!",
         "#NULL!",
         "#NULL!",
         "#NULL!",
         "#NULL!",
         "#NULL!",
         "#NULL!",
         null,
         "#NULL!",
         "#NULL!",
         "#NULL!",
         "#NULL!",
         "#NULL!",
         "#NULL!",
         "#NULL!",
         "#NULL!",
         "#NULL!",
         "#NULL!",
         "#NULL!",
         "#NULL!",
         "#NULL!",
         "#NULL!",
         "#NULL!",
         "#NULL!",
         "#NULL!",
         "#NULL!",
         "#NULL!",
         "#NULL!",
         "#NULL!",
         "#NULL!",
         "#NULL!",
         "#NULL!",
         "#NULL!",
         "#NULL!",
         "#NULL!",
         "#NULL!",
         null,
         "#NULL!",
         "#NULL!",
         "#NULL!",
         "#NULL!",
         "#NULL!",
         "#NULL!",
         "#NULL!",
         "#NULL!",
         "#NULL!",
         "#NULL!",
         "#NULL!",
         "#NULL!",
         "#NULL!",
         "#NULL!",
         "#NULL!",
         "#NULL!",
         null,
         "#NULL!",
         "#NULL!",
         "#NULL!",
         "#NULL!",
         "#NULL!",
         "#NULL!",
         "#NULL!",
         "#NULL!",
         "#NULL!",
         "#NULL!",
         "#NULL!",
         "#NULL!",
         "0",
         "0",
         "0",
         "0",
         "#NULL!",
         "#NULL!",
         "#NULL!",
         null,
         "#NULL!",
         "#NULL!",
         "#NULL!",
         "#NULL!",
         "#NULL!",
         "#NULL!",
         "#NULL!",
         "#NULL!",
         "0",
         "0",
         "0",
         "0",
         "0",
         "0",
         "0",
         "#NULL!",
         "#NULL!",
         "#NULL!",
         null,
         "#NULL!",
         "#NULL!",
         "#NULL!",
         "#NULL!",
         "#NULL!",
         "#NULL!",
         "#NULL!",
         "#NULL!",
         "#NULL!",
         "#NULL!",
         "#NULL!",
         "#NULL!",
         "#NULL!",
         "#NULL!",
         "#NULL!",
         "#NULL!",
         "#NULL!",
         "#NULL!",
         "#NULL!",
         "#NULL!",
         "#NULL!",
         "#NULL!",
         "#NULL!",
         "#NULL!",
         "#NULL!",
         "#NULL!",
         "#NULL!",
         "#NULL!",
         "#NULL!",
         "#NULL!",
         "#NULL!",
         "#NULL!",
         "#NULL!",
         "#NULL!",
         "#NULL!",
         "#NULL!",
         "#NULL!",
         "#NULL!",
         "#NULL!",
         "#NULL!",
         "#NULL!",
         "#NULL!",
         "#NULL!",
         "#NULL!",
         "#NULL!",
         "#NULL!",
         "#NULL!",
         "#NULL!",
         "#NULL!",
         "#NULL!",
         "#NULL!",
         "#NULL!",
         "#NULL!",
         "#NULL!",
         "#NULL!",
         "#NULL!",
         "#NULL!",
         "#NULL!",
         "#NULL!",
         "#NULL!",
         "#NULL!",
         "#NULL!",
         "#NULL!",
         "#NULL!",
         "#NULL!",
         "#NULL!",
         "#NULL!",
         "#NULL!",
         "#NULL!",
         "#NULL!",
         "#NULL!",
         "#NULL!",
         "#NULL!",
         "#NULL!",
         "#NULL!",
         "#NULL!",
         "#NULL!",
         "#NULL!",
         "#NULL!",
         "#NULL!",
         "#NULL!",
         "#NULL!",
         "#NULL!",
         "#NULL!",
         "#NULL!",
         "#NULL!",
         "#NULL!",
         "#NULL!",
         "#NULL!",
         "#NULL!",
         "#NULL!",
         "#NULL!",
         "#NULL!",
         "#NULL!",
         "#NULL!",
         "#NULL!",
         "#NULL!",
         "#NULL!",
         "#NULL!",
         "#NULL!",
         "#NULL!",
         "#NULL!",
         "#NULL!",
         "#NULL!",
         "#NULL!",
         "#NULL!",
         "0",
         "0",
         "0",
         "0",
         "0",
         "0",
         "0",
         "0",
         "0",
         "0",
         "0",
         "0",
         "0",
         "0",
         "0",
         "0",
         "0",
         "0",
         "0",
         "0",
         "0",
         "0",
         "0",
         "0",
         "0",
         "0",
         "0",
         "0",
         "0",
         "0",
         "0",
         "0",
         "0",
         "0",
         "0",
         "0",
         "0",
         "0",
         "0",
         "0",
         "0",
         "0",
         "0",
         "0",
         "0",
         "0",
         "0",
         null,
         "#NULL!",
         "#NULL!",
         "#NULL!",
         "#NULL!",
         "#NULL!",
         "#NULL!",
         "#NULL!",
         "#NULL!",
         "#NULL!",
         "#NULL!",
         "#NULL!",
         "#NULL!",
         "#NULL!",
         "#NULL!",
         "#NULL!",
         "#NULL!",
         "#NULL!",
         "#NULL!",
         "#NULL!",
         "#NULL!",
         "0",
         "0",
         "0",
         "0",
         "0",
         "0",
         "0",
         "0",
         "#NULL!",
         "#NULL!",
         null,
         "#NULL!",
         null,
         "#NULL!",
         null,
         "#NULL!",
         null,
         "#NULL!",
         null,
         "#NULL!",
         null,
         "#NULL!",
         null,
         "#NULL!",
         "#NULL!",
         "#NULL!",
         null,
         "#NULL!",
         "#NULL!",
         "#NULL!",
         "#NULL!",
         "#NULL!",
         "#NULL!",
         "#NULL!",
         "#NULL!",
         "#NULL!",
         "#NULL!",
         "#NULL!",
         "#NULL!",
         "#NULL!",
         "#NULL!",
         "#NULL!",
         "#NULL!",
         null,
         "#NULL!",
         null,
         "#NULL!",
         "#NULL!",
         "#NULL!",
         "#NULL!",
         "#NULL!",
         "#NULL!",
         null,
         "#NULL!",
         "#NULL!",
         "#NULL!",
         "#NULL!",
         "#NULL!",
         "#NULL!",
         "0",
         "0",
         "0",
         "0",
         "0",
         "0",
         "0",
         "0",
         "0",
         "0",
         "0",
         "0",
         "0",
         "0",
         "0",
         "0",
         "0",
         "0",
         "0",
         "0",
         "0",
         "#NULL!",
         "#NULL!",
         null,
         "#NULL!",
         "#NULL!",
         "#NULL!",
         "#NULL!",
         "#NULL!",
         "#NULL!",
         "#NULL!",
         "#NULL!",
         "#NULL!",
         "#NULL!",
         "0",
         "0",
         "0",
         "0",
         "0",
         "0",
         "0",
         "0",
         "0",
         "#NULL!",
         "#NULL!",
         "#NULL!",
         null,
         "#NULL!",
         "#NULL!",
         "#NULL!",
         "#NULL!",
         "#NULL!",
         "#NULL!",
         "#NULL!",
         "#NULL!",
         "#NULL!",
         "0",
         "0",
         "0",
         "0",
         "0",
         "0",
         "0",
         "0",
         "0",
         "#NULL!",
         "#NULL!",
         "#NULL!",
         null,
         "#NULL!",
         null,
         "#NULL!",
         "#NULL!",
         "No",
         "No",
         "No",
         "No",
         "No",
         "#NULL!",
         null,
         "#NULL!",
         "#NULL!",
         null,
         "#NULL!",
         null,
         "#NULL!",
         "#NULL!",
         "#NULL!",
         null,
         "#NULL!",
         "#NULL!",
         "#NULL!",
         null,
         "#NULL!",
         "#NULL!",
         "#NULL!",
         null,
         "#NULL!",
         "#NULL!",
         "No",
         "#NULL!",
         null,
         "#NULL!",
         "#NULL!",
         "#NULL!",
         "#NULL!",
         "#NULL!",
         "#NULL!",
         "#NULL!",
         "#NULL!",
         "#NULL!",
         "#NULL!",
         "#NULL!",
         "#NULL!",
         null,
         "#NULL!",
         "#NULL!",
         null,
         "#NULL!",
         null,
         null,
         "#NULL!",
         null,
         "1",
         "1",
         "0",
         "0",
         "0",
         "0",
         "0",
         "0",
         "0",
         "0",
         "0",
         "0",
         "0",
         "0",
         "#NULL!",
         "#NULL!",
         "#NULL!",
         "#NULL!",
         "#NULL!",
         "#NULL!",
         "#NULL!",
         "#NULL!",
         "#NULL!",
         "#NULL!",
         "#NULL!",
         "#NULL!",
         "#NULL!",
         "#NULL!",
         "#NULL!",
         "#NULL!",
         "#NULL!",
         null,
         "#NULL!",
         null,
         "#NULL!",
         null,
         "#NULL!",
         null,
         "#NULL!",
         null,
         "#NULL!",
         null,
         "#NULL!",
         null,
         "1",
         "1",
         "No",
         "#NULL!",
         null,
         "#NULL!",
         "#NULL!",
         "#NULL!",
         "#NULL!",
         "#NULL!",
         "#NULL!",
         "#NULL!",
         "#NULL!",
         "#NULL!",
         "0",
         "0",
         "0",
         "#NULL!",
         "#NULL!",
         null,
         "#NULL!",
         null,
         "#NULL!",
         null,
         "#NULL!",
         null,
         "#NULL!",
         null,
         "#NULL!",
         "#NULL!",
         null,
         "1",
         "1",
         "I own a mobile that only I use/Nina simu ambayo ni mimi tu ninaitumia",
         "1",
         "1",
         "1",
         "#NULL!",
         "Daily/\"Kila siku\"",
         null,
         "On my own mobile phone/ Cellular tablet/Kwenye simu ya rununu/simu ya mkononi\"",
         null,
         "0",
         "0",
         "0",
         "1",
         "Okay/Fair/Average",
         "I can manage",
         "I can manage",
         "I can manage",
         "I can manage",
         "I can manage",
         "Rarely",
         "1",
         "12",
         "Mobile Money Agent (for depositing or withdrawing cash)/Wakala/ajenti wa pesa za",
         null,
         "Close enough to walk to and fro - No need to spend/\"Nikaribu pa kutosha kwenda n",
         null,
         "About 1  to 2 kilometers",
         null,
         "About 10 to 30 minutes",
         "1",
         "Yes/\"Ndio\"",
         "Return home (e.g. children to parents house, etc.)/Nilirejea nyumbani (kwa mfano",
         null,
         "Islam/Uislam",
         "Permanent building/Jengo la kudumu",
         null,
         "1",
         "3",
         "Constructed/Kujenga",
         "#NULL!",
         "Iron sheets/ Mabati",
         "Ceramic tiles",
         "Concrete/Concrete blocks/ Precast wall/ Kokoto/bloki za kokoto/ ukuta wa prikast",
         "Charcoal eg Jikokoa/makaa",
         "Bought/Kununua",
         null,
         "1",
         "0",
         "0",
         "0",
         "0",
         "0",
         null,
         "#NULL!",
         "Water Vendor",
         "Pit latrine covered Choo cha shimo kilichofunikwa",
         "No",
         "Burnt in open/Kuchomwa moto wazi",
         "0",
         "1",
         "0",
         "0",
         "0",
         "0",
         "0",
         "0",
         "0",
         "0",
         "0",
         "0",
         "0",
         "0",
         "0",
         "0",
         "0",
         "0",
         "0",
         "#NULL!",
         "#NULL!",
         "#NULL!",
         "#NULL!",
         "#NULL!",
         "Yes",
         "Yes",
         "Yes",
         "Yes",
         "Yes",
         "No",
         "#NULL!",
         "No",
         "#NULL!",
         "#NULL!",
         "#NULL!",
         "#NULL!",
         "#NULL!",
         "#NULL!",
         "#NULL!",
         "#NULL!",
         "#NULL!",
         "#NULL!",
         "#NULL!",
         "#NULL!",
         "#NULL!",
         "#NULL!",
         "#NULL!",
         null,
         null,
         null,
         null,
         "#NULL!",
         "#NULL!",
         "#NULL!",
         "#NULL!",
         null,
         null,
         "#NULL!",
         "#NULL!",
         "#NULL!",
         "#NULL!",
         "#NULL!",
         "#NULL!",
         "#NULL!",
         "#NULL!",
         "#NULL!",
         "#NULL!",
         "#NULL!",
         "#NULL!",
         "#NULL!",
         "#NULL!",
         "#NULL!",
         "#NULL!",
         "#NULL!",
         "#NULL!",
         "1",
         "1",
         "0",
         "70000",
         "3000",
         "12000",
         "700",
         "2800",
         "3000",
         "12000",
         "#NULL!",
         "4000",
         "22000",
         "7333",
         "10000",
         "1667",
         "#NULL!",
         "15000",
         "2500",
         "43033",
         "#NULL!",
         "1",
         "2024-07-2412:54:46",
         "1",
         "425",
         "Dependent",
         "Fourth",
         "Tertiary",
         "Married/Living with partner",
         "Has ID (National Identity Card (ID),Passport,Alien ID)",
         "500",
         "Non-usage",
         "Non-usage",
         "Non-usage",
         "Non-usage",
         "Non-usage",
         "Non-usage",
         "Non-usage",
         "Non-usage",
         "Non-usage",
         "Non-usage",
         "Non-usage",
         "Non-usage",
         "Non-usage",
         "0",
         "Non-usage",
         "Non-usage",
         "Non-usage",
         "Non-usage",
         "Usage",
         "Usage",
         "Non-usage",
         "Non-usage",
         "Non-usage",
         "Non-usage",
         "Usage",
         "Non-usage",
         "Usage",
         "Non-usage",
         "107141431",
         "3",
         "1",
         "Non-usage",
         "Non-usage",
         "Non-usage",
         "Non-usage",
         "Non-usage",
         "No",
         "Yes",
         "Usage",
         "Non-usage",
         "Non-usage",
         "Non-usage",
         "Non-usage",
         "Non-usage",
         "Non-usage",
         "Usage",
         "Usage",
         "Usage",
         "Yes",
         "Yes",
         "Usage",
         "Usage",
         "Usage",
         "Usage",
         "1",
         "No",
         "N0",
         "No",
         "N0",
         "0",
         "0",
         "0",
         "No",
         "No",
         "No",
         "No",
         "No",
         "No",
         "No",
         "Usage",
         "Usage",
         "Non-usage",
         "Non-usage",
         "Yes",
         "Yes",
         "Yes",
         "Formal Prudential",
         "1",
         "1",
         "Yes",
         "Yes",
         "Yes",
         "No",
         "Yes",
         "No",
         "No",
         "No",
         "No",
         "Non-usage",
         "No",
         "formal only",
         "Non-usage",
         "Non-usage",
         "Non-usage",
         "Non-usage",
         "Yes",
         "Yes",
         "Usage",
         "Usage",
         "Usage",
         "0",
         "0",
         "Affordability",
         "0",
         "Affordability",
         "Non-usage",
         "Non-usage",
         "Non-usage",
         "Usage",
         "Non-usage",
         "Non-usage",
         "Non-usage",
         "Non-usage",
         "Yes",
         "Yes",
         "Usage",
         "Non-usage",
         "Usage",
         "Non-usage",
         "Non-usage",
         "Non-usage",
         "Non-usage",
         "formal prudential, formal other and informal",
         "Never used",
         "Never used",
         "Never used",
         "Never used",
         "Never used",
         "Currently use",
         "Currently use",
         "Currently use",
         "Never used",
         "Never used",
         "Never used",
         "Never used",
         "Never used",
         "Never used",
         "No",
         "No",
         "Least Vulnerable",
         "Yes",
         "Yes",
         "No",
         "Yes",
         "Yes",
         "Yes",
         "Yes",
         "Yes",
         "Yes",
         "Yes",
         "Yes",
         "No",
         "No",
         "No",
         "No",
         "No",
         "No",
         "0",
         "0",
         "0",
         "0",
         "Medium",
         "Somewhat worried",
         "Very worried",
         "Somewhat confident",
         "Stayed the same",
         "Correct",
         "Correct",
         "Correct",
         "All correct",
         "Highly literate",
         "Correct",
         "#NULL!",
         "#NULL!",
         "#NULL!",
         "no",
         "no",
         "no",
         "no",
         "no",
         "no",
         "no",
         "no",
         "no",
         "no",
         "no",
         "no",
         "no",
         "no",
         "no",
         "no",
         "no",
         "no",
         "no",
         "no",
         "no",
         "no",
         "no",
         "yes",
         "no",
         "no",
         "no",
         "no",
         "no",
         "no",
         "no",
         "no",
         "no",
         "no",
         "no",
         "no",
         "no",
         "no",
         "no",
         "no",
         "no",
         "no",
         "no",
         "no",
         "no",
         "no",
         "no",
         "no",
         "no",
         "0",
         "0",
         "0",
         "0",
         "0",
         "0",
         "0",
         "0",
         "1",
         "0",
         "1",
         "0",
         "0",
         "0",
         "0",
         "0",
         "0",
         "0",
         "0",
         "0",
         "0",
         "0",
         "0",
         "0",
         "0",
         "0",
         "0",
         "0",
         "1",
         "0",
         "0",
         "0",
         "0",
         "0",
         "0",
         "0",
         "0",
         "0",
         "0",
         "0",
         "0",
         "0",
         "0",
         "0",
         "0",
         "3",
         "More than one",
         "Non Usage",
         "Usage",
         "Non Usage",
         "Non Usage",
         "#NULL!",
         "Non Usage",
         "Affordability",
         "Affordability",
         "Awareness",
         "#NULL!",
         "#NULL!",
         "Awareness",
         "Non Usage",
         "#NULL!",
         "#NULL!",
         "#NULL!",
         "#NULL!",
         "#NULL!",
         "#NULL!",
         "#NULL!",
         "#NULL!",
         "#NULL!",
         "#NULL!",
         "#NULL!",
         "#NULL!",
         "#NULL!",
         "#NULL!",
         "#NULL!",
         "#NULL!",
         "No",
         "No",
         "No",
         "No",
         "No",
         "#NULL!",
         "#NULL!",
         "#NULL!",
         "#NULL!",
         "#NULL!",
         "#NULL!",
         "#NULL!",
         "#NULL!",
         "#NULL!",
         "#NULL!",
         "#NULL!",
         "#NULL!",
         "#NULL!",
         "#NULL!",
         "#NULL!",
         "#NULL!",
         "#NULL!",
         "#NULL!",
         "#NULL!",
         "#NULL!",
         "#NULL!",
         "#NULL!",
         "#NULL!",
         "#NULL!",
         "#NULL!",
         "#NULL!",
         "#NULL!",
         "#NULL!",
         "#NULL!",
         "No",
         "No",
         "Yes",
         "No",
         "No",
         "Yes",
         "#NULL!",
         "#NULL!",
         "#NULL!",
         "#NULL!",
         "#NULL!",
         "#NULL!",
         "#NULL!",
         "#NULL!",
         "Satisfied",
         "#NULL!",
         "#NULL!",
         "#NULL!",
         "#NULL!",
         "#NULL!",
         "Satisfied",
         "#NULL!",
         "#NULL!",
         "#NULL!",
         "#NULL!",
         "#NULL!",
         "#NULL!",
         "#NULL!",
         "#NULL!",
         "#NULL!",
         "No",
         "#NULL!",
         "Never used",
         "Never used",
         "Without Disability",
         "-0.435423",
         "39.636586"
        ],
        [
         "1",
         "87-78-54-60",
         "000718d26f5942998522033a66594b4c",
         "Garissa",
         "223",
         "Urban",
         "3",
         "Household found with competent respondent",
         "Access granted",
         "completed",
         "Male",
         "11",
         "1",
         "2",
         "1",
         "English",
         null,
         "60",
         "Other relative",
         "60",
         "Female",
         "Other relative",
         null,
         "#NULL!",
         "Yes",
         "Yes",
         "Female",
         "Above 55",
         "Continued with interview",
         "11",
         "\"None \"",
         null,
         "Married/Living with partner",
         "8.0",
         null,
         "1",
         "Yes",
         "Yes - some difficulty",
         "No- no difficulty",
         "No- no difficulty",
         "No- no difficulty",
         "No- no difficulty",
         "No- no difficulty",
         "Health (yourself or family/ others)",
         "Not stated",
         "Not stated",
         "Disagree",
         "Disagree",
         "Agree",
         "Disagree",
         "No",
         "#NULL!",
         "Yes",
         "No",
         "No",
         "No",
         "Yes",
         "Sometimes",
         "Sometimes",
         "Could not afford/lack of money",
         null,
         "No",
         "I couldn't come up with the money",
         null,
         "#NULL!",
         "#NULL!",
         "#NULL!",
         "#NULL!",
         "No",
         "#NULL!",
         "No",
         "No",
         "No",
         "No",
         "No",
         "No",
         "No",
         "No",
         "No",
         "No",
         "Very worried",
         "Very worried",
         "Not at all",
         "Worsened",
         "1",
         "25",
         "Advice from friends / family/Colleagues/Peers",
         null,
         "No",
         "#NULL!",
         "#NULL!",
         null,
         "No",
         "More than KSh 1,000",
         "Less than last year July",
         "Invest in single assets",
         "\"Don't Know (DO NOT READ OUT)\"",
         "1",
         "0",
         "0",
         "0",
         "0",
         "0",
         "0",
         "0",
         "0",
         "0",
         "0",
         "1",
         "0",
         "0",
         null,
         "None of these",
         "#NULL!",
         "Yes",
         "No",
         "#NULL!",
         "#NULL!",
         "#NULL!",
         "#NULL!",
         "#NULL!",
         "#NULL!",
         "#NULL!",
         "#NULL!",
         "#NULL!",
         "#NULL!",
         "#NULL!",
         "#NULL!",
         "#NULL!",
         "#NULL!",
         "#NULL!",
         "#NULL!",
         "#NULL!",
         null,
         "#NULL!",
         "#NULL!",
         "#NULL!",
         "#NULL!",
         "#NULL!",
         "#NULL!",
         "#NULL!",
         "#NULL!",
         "#NULL!",
         "#NULL!",
         "#NULL!",
         "#NULL!",
         "#NULL!",
         "#NULL!",
         null,
         "#NULL!",
         "#NULL!",
         "#NULL!",
         "#NULL!",
         "#NULL!",
         "#NULL!",
         "#NULL!",
         "#NULL!",
         "#NULL!",
         "#NULL!",
         "#NULL!",
         "#NULL!",
         "#NULL!",
         "#NULL!",
         null,
         "#NULL!",
         "#NULL!",
         "#NULL!",
         "#NULL!",
         "#NULL!",
         "#NULL!",
         "#NULL!",
         "#NULL!",
         "#NULL!",
         "#NULL!",
         "#NULL!",
         "#NULL!",
         "#NULL!",
         "#NULL!",
         null,
         "#NULL!",
         "#NULL!",
         "#NULL!",
         "#NULL!",
         "#NULL!",
         "#NULL!",
         "#NULL!",
         "#NULL!",
         "#NULL!",
         "#NULL!",
         "#NULL!",
         "#NULL!",
         "#NULL!",
         "#NULL!",
         null,
         "#NULL!",
         "#NULL!",
         "#NULL!",
         "#NULL!",
         "#NULL!",
         "#NULL!",
         "#NULL!",
         "#NULL!",
         "#NULL!",
         "#NULL!",
         "#NULL!",
         "#NULL!",
         "#NULL!",
         "#NULL!",
         null,
         "#NULL!",
         "#NULL!",
         "#NULL!",
         "#NULL!",
         "#NULL!",
         "#NULL!",
         "#NULL!",
         "#NULL!",
         "#NULL!",
         "#NULL!",
         "#NULL!",
         "#NULL!",
         "#NULL!",
         "#NULL!",
         null,
         "#NULL!",
         "#NULL!",
         "#NULL!",
         "#NULL!",
         "#NULL!",
         "#NULL!",
         "#NULL!",
         "#NULL!",
         "#NULL!",
         "#NULL!",
         "#NULL!",
         "#NULL!",
         "#NULL!",
         "#NULL!",
         null,
         "#NULL!",
         "#NULL!",
         "#NULL!",
         "#NULL!",
         "#NULL!",
         "#NULL!",
         "#NULL!",
         "#NULL!",
         "#NULL!",
         "#NULL!",
         "#NULL!",
         "#NULL!",
         "#NULL!",
         "#NULL!",
         null,
         "#NULL!",
         "#NULL!",
         "#NULL!",
         "#NULL!",
         "#NULL!",
         "#NULL!",
         "#NULL!",
         "#NULL!",
         "#NULL!",
         "#NULL!",
         "#NULL!",
         "#NULL!",
         "#NULL!",
         "#NULL!",
         null,
         "#NULL!",
         null,
         "#NULL!",
         "#NULL!",
         "#NULL!",
         "#NULL!",
         "#NULL!",
         "#NULL!",
         "#NULL!",
         null,
         "#NULL!",
         null,
         "10000",
         "13000",
         "9500",
         "1",
         "6",
         "Currently use",
         "Never used",
         "Never used",
         "#NULL!",
         "#NULL!",
         "#NULL!",
         "#NULL!",
         "#NULL!",
         "#NULL!",
         "#NULL!",
         "#NULL!",
         "#NULL!",
         "#NULL!",
         "#NULL!",
         "#NULL!",
         "#NULL!",
         "#NULL!",
         "#NULL!",
         "#NULL!",
         "#NULL!",
         "#NULL!",
         "#NULL!",
         "#NULL!",
         "#NULL!",
         "#NULL!",
         "#NULL!",
         "#NULL!",
         "#NULL!",
         "#NULL!",
         "#NULL!",
         "#NULL!",
         "#NULL!",
         "#NULL!",
         "#NULL!",
         "#NULL!",
         "#NULL!",
         "#NULL!",
         "#NULL!",
         "#NULL!",
         "#NULL!",
         "#NULL!",
         "#NULL!",
         "#NULL!",
         "#NULL!",
         "#NULL!",
         "#NULL!",
         "#NULL!",
         "#NULL!",
         "#NULL!",
         "#NULL!",
         "#NULL!",
         "#NULL!",
         "#NULL!",
         "#NULL!",
         "#NULL!",
         "#NULL!",
         "#NULL!",
         "Never used",
         "Never used",
         "Never used",
         "Never used",
         "Never used",
         "Never used",
         "Never used",
         "Never used",
         "Never used",
         "Never used",
         "Never used",
         "Never used",
         "Never used",
         "Never used",
         "Never used",
         "Never used",
         "Never used",
         "Never used",
         "Never used",
         "Never used",
         "Never used",
         "Never used",
         "Never used",
         "Never used",
         "Never used",
         "Never used",
         "Never used",
         "Never used",
         "Never used",
         "Never used",
         "Never used",
         "Never used",
         "Never used",
         "Never used",
         "Never used",
         "Never used",
         "Never used",
         "Never used",
         "Never used",
         "Never used",
         "Never used",
         "Never used",
         "Never used",
         "Never used",
         "3",
         "Never used",
         "#NULL!",
         "#NULL!",
         "#NULL!",
         "#NULL!",
         "A bank",
         null,
         "Mobile money provider e.g Safaricom fuliza",
         null,
         "#NULL!",
         "#NULL!",
         "#NULL!",
         "#NULL!",
         "#NULL!",
         "#NULL!",
         "#NULL!",
         "#NULL!",
         "#NULL!",
         "#NULL!",
         "#NULL!",
         "#NULL!",
         "#NULL!",
         "1",
         "0",
         "0",
         "0",
         "0",
         "0",
         "0",
         "0",
         "0",
         "0",
         "0",
         null,
         "#NULL!",
         null,
         "Refused to Answer",
         "Refused to Answer",
         "#NULL!",
         "#NULL!",
         "Refused to Answer",
         "No",
         "No",
         "No",
         "No",
         "No",
         "#NULL!",
         "Refused to Answer",
         "#NULL!",
         "#NULL!",
         "#NULL!",
         "#NULL!",
         "#NULL!",
         "#NULL!",
         "#NULL!",
         "#NULL!",
         "#NULL!",
         "#NULL!",
         "Refused to Answer",
         "Refused to Answer",
         "Refused to Answer",
         "Refused to Answer",
         "Refused to Answer",
         "Refused to Answer",
         "No",
         "#NULL!",
         "#NULL!",
         "#NULL!",
         "#NULL!",
         "#NULL!",
         "#NULL!",
         "#NULL!",
         "#NULL!",
         "#NULL!",
         null,
         "1",
         "0",
         "0",
         "0",
         "0",
         "0",
         "0",
         null,
         "#NULL!",
         "#NULL!",
         "#NULL!",
         "#NULL!",
         "#NULL!",
         "#NULL!",
         "#NULL!",
         "#NULL!",
         "#NULL!",
         "#NULL!",
         null,
         "#NULL!",
         null,
         "#NULL!",
         null,
         "#NULL!",
         "#NULL!",
         "#NULL!",
         "#NULL!",
         "#NULL!",
         "#NULL!",
         "#NULL!",
         "#NULL!",
         "#NULL!",
         "#NULL!",
         "#NULL!",
         "#NULL!",
         "#NULL!",
         "#NULL!",
         "#NULL!",
         "#NULL!",
         "#NULL!",
         "#NULL!",
         "#NULL!",
         "#NULL!",
         "#NULL!",
         "#NULL!",
         "#NULL!",
         "#NULL!",
         "#NULL!",
         "#NULL!",
         "#NULL!",
         "#NULL!",
         "No",
         "#NULL!",
         "#NULL!",
         "#NULL!",
         "#NULL!",
         "#NULL!",
         "#NULL!",
         "#NULL!",
         "#NULL!",
         "#NULL!",
         "#NULL!",
         "#NULL!",
         "#NULL!",
         "#NULL!",
         "0",
         "0",
         "0",
         "0",
         "0",
         "0",
         "#NULL!",
         "#NULL!",
         "#NULL!",
         null,
         "#NULL!",
         "#NULL!",
         "#NULL!",
         "#NULL!",
         "#NULL!",
         "#NULL!",
         "#NULL!",
         "#NULL!",
         "#NULL!",
         "#NULL!",
         "#NULL!",
         "#NULL!",
         "#NULL!",
         "#NULL!",
         "#NULL!",
         "#NULL!",
         "#NULL!",
         null,
         "0",
         "0",
         "0",
         "0",
         "0",
         "0",
         "0",
         "1",
         "0",
         "0",
         "0",
         "0",
         null,
         "#NULL!",
         "#NULL!",
         "#NULL!",
         "#NULL!",
         "#NULL!",
         "#NULL!",
         "#NULL!",
         "#NULL!",
         "#NULL!",
         "#NULL!",
         null,
         "#NULL!",
         "#NULL!",
         "#NULL!",
         null,
         "#NULL!",
         null,
         "#NULL!",
         null,
         "#NULL!",
         null,
         "#NULL!",
         "#NULL!",
         "#NULL!",
         "#NULL!",
         "#NULL!",
         "#NULL!",
         "#NULL!",
         "#NULL!",
         null,
         "#NULL!",
         null,
         "#NULL!",
         null,
         "#NULL!",
         null,
         "#NULL!",
         "#NULL!",
         "#NULL!",
         "#NULL!",
         "#NULL!",
         "#NULL!",
         "#NULL!",
         "#NULL!",
         null,
         "#NULL!",
         null,
         "#NULL!",
         null,
         "#NULL!",
         null,
         "#NULL!",
         "#NULL!",
         "#NULL!",
         "#NULL!",
         "#NULL!",
         "#NULL!",
         "#NULL!",
         null,
         "#NULL!",
         null,
         "#NULL!",
         null,
         "#NULL!",
         "#NULL!",
         "#NULL!",
         "#NULL!",
         "#NULL!",
         "#NULL!",
         "#NULL!",
         null,
         "#NULL!",
         null,
         "#NULL!",
         "#NULL!",
         "#NULL!",
         "#NULL!",
         "#NULL!",
         "#NULL!",
         "#NULL!",
         "#NULL!",
         null,
         "#NULL!",
         "#NULL!",
         "#NULL!",
         "#NULL!",
         "#NULL!",
         "#NULL!",
         "#NULL!",
         null,
         "#NULL!",
         null,
         "#NULL!",
         null,
         "#NULL!",
         null,
         "#NULL!",
         "#NULL!",
         "#NULL!",
         "#NULL!",
         "#NULL!",
         "#NULL!",
         "#NULL!",
         "#NULL!",
         null,
         "#NULL!",
         null,
         "#NULL!",
         null,
         "#NULL!",
         null,
         "#NULL!",
         "#NULL!",
         "#NULL!",
         "#NULL!",
         "#NULL!",
         "#NULL!",
         "#NULL!",
         "#NULL!",
         null,
         "#NULL!",
         null,
         "#NULL!",
         null,
         "#NULL!",
         "#NULL!",
         "#NULL!",
         "#NULL!",
         "#NULL!",
         "#NULL!",
         "#NULL!",
         "#NULL!",
         null,
         "#NULL!",
         null,
         "#NULL!",
         null,
         "#NULL!",
         null,
         "#NULL!",
         "#NULL!",
         "#NULL!",
         "#NULL!",
         "#NULL!",
         "#NULL!",
         "#NULL!",
         "#NULL!",
         null,
         "#NULL!",
         null,
         "#NULL!",
         null,
         "#NULL!",
         null,
         "#NULL!",
         "#NULL!",
         "#NULL!",
         "#NULL!",
         "#NULL!",
         "#NULL!",
         "#NULL!",
         "#NULL!",
         null,
         "#NULL!",
         null,
         "#NULL!",
         null,
         "#NULL!",
         null,
         "#NULL!",
         "#NULL!",
         "#NULL!",
         "#NULL!",
         "#NULL!",
         "#NULL!",
         "#NULL!",
         "#NULL!",
         null,
         "#NULL!",
         null,
         "#NULL!",
         null,
         "#NULL!",
         "#NULL!",
         "#NULL!",
         "#NULL!",
         "#NULL!",
         "#NULL!",
         "#NULL!",
         "#NULL!",
         null,
         "#NULL!",
         null,
         "#NULL!",
         null,
         "#NULL!",
         "#NULL!",
         "#NULL!",
         "#NULL!",
         "#NULL!",
         "#NULL!",
         "#NULL!",
         "#NULL!",
         null,
         "#NULL!",
         null,
         "#NULL!",
         null,
         "#NULL!",
         "#NULL!",
         "#NULL!",
         "#NULL!",
         "#NULL!",
         "#NULL!",
         "#NULL!",
         "#NULL!",
         null,
         "#NULL!",
         null,
         "#NULL!",
         null,
         "#NULL!",
         null,
         "#NULL!",
         "#NULL!",
         "#NULL!",
         "#NULL!",
         "#NULL!",
         "#NULL!",
         "#NULL!",
         null,
         "#NULL!",
         null,
         "#NULL!",
         null,
         "#NULL!",
         "#NULL!",
         "#NULL!",
         "#NULL!",
         "#NULL!",
         "#NULL!",
         "#NULL!",
         null,
         "#NULL!",
         "#NULL!",
         "#NULL!",
         "#NULL!",
         "#NULL!",
         "#NULL!",
         "#NULL!",
         null,
         "#NULL!",
         null,
         "#NULL!",
         null,
         "#NULL!",
         "#NULL!",
         "#NULL!",
         "#NULL!",
         "#NULL!",
         "#NULL!",
         "#NULL!",
         null,
         "#NULL!",
         null,
         "#NULL!",
         null,
         "#NULL!",
         null,
         "#NULL!",
         "#NULL!",
         "#NULL!",
         "#NULL!",
         "#NULL!",
         "#NULL!",
         "#NULL!",
         "#NULL!",
         null,
         "#NULL!",
         null,
         "#NULL!",
         null,
         "#NULL!",
         null,
         "#NULL!",
         "#NULL!",
         "#NULL!",
         "#NULL!",
         "#NULL!",
         "#NULL!",
         "#NULL!",
         null,
         "#NULL!",
         "#NULL!",
         "#NULL!",
         "#NULL!",
         "#NULL!",
         "#NULL!",
         "#NULL!",
         "#NULL!",
         "#NULL!",
         "#NULL!",
         "#NULL!",
         "#NULL!",
         "#NULL!",
         "#NULL!",
         "#NULL!",
         "#NULL!",
         "#NULL!",
         "#NULL!",
         "#NULL!",
         "#NULL!",
         "#NULL!",
         "#NULL!",
         "#NULL!",
         "#NULL!",
         "#NULL!",
         "#NULL!",
         "#NULL!",
         "#NULL!",
         "#NULL!",
         "#NULL!",
         "#NULL!",
         "#NULL!",
         "#NULL!",
         "#NULL!",
         "#NULL!",
         "#NULL!",
         "#NULL!",
         "#NULL!",
         "#NULL!",
         "#NULL!",
         "#NULL!",
         "#NULL!",
         null,
         "#NULL!",
         null,
         "#NULL!",
         "#NULL!",
         "#NULL!",
         "#NULL!",
         "#NULL!",
         "#NULL!",
         "#NULL!",
         "#NULL!",
         "#NULL!",
         "#NULL!",
         "#NULL!",
         "#NULL!",
         "#NULL!",
         "#NULL!",
         "#NULL!",
         "#NULL!",
         "0",
         "0",
         "0",
         "0",
         "0",
         "0",
         "0",
         "0",
         "0",
         "0",
         "#NULL!",
         "#NULL!",
         "#NULL!",
         "#NULL!",
         "#NULL!",
         "#NULL!",
         "#NULL!",
         "#NULL!",
         "#NULL!",
         "No",
         "#NULL!",
         "#NULL!",
         "#NULL!",
         "#NULL!",
         "#NULL!",
         "#NULL!",
         "#NULL!",
         "#NULL!",
         "0",
         "0",
         "0",
         "0",
         "0",
         "0",
         null,
         "1",
         "0",
         "0",
         "0",
         "0",
         "0",
         "#NULL!",
         "0",
         "0",
         "0",
         null,
         "#NULL!",
         "#NULL!",
         "#NULL!",
         "#NULL!",
         "#NULL!",
         "#NULL!",
         "#NULL!",
         "0",
         "#NULL!",
         "#NULL!",
         "#NULL!",
         null,
         "#NULL!",
         null,
         "#NULL!",
         null,
         "#NULL!",
         null,
         "#NULL!",
         null,
         "#NULL!",
         null,
         "#NULL!",
         null,
         "#NULL!",
         null,
         "#NULL!",
         null,
         "#NULL!",
         null,
         "#NULL!",
         null,
         "#NULL!",
         null,
         "#NULL!",
         null,
         "#NULL!",
         null,
         "#NULL!",
         null,
         "#NULL!",
         null,
         "#NULL!",
         null,
         "#NULL!",
         null,
         "#NULL!",
         null,
         "#NULL!",
         null,
         "#NULL!",
         null,
         "#NULL!",
         null,
         "#NULL!",
         null,
         "#NULL!",
         null,
         "#NULL!",
         null,
         "#NULL!",
         null,
         "#NULL!",
         null,
         "#NULL!",
         null,
         "#NULL!",
         null,
         "#NULL!",
         null,
         "#NULL!",
         null,
         "#NULL!",
         null,
         "#NULL!",
         null,
         "#NULL!",
         null,
         "#NULL!",
         null,
         "#NULL!",
         null,
         "#NULL!",
         null,
         "#NULL!",
         null,
         "#NULL!",
         "#NULL!",
         "#NULL!",
         "#NULL!",
         "#NULL!",
         "#NULL!",
         "#NULL!",
         "#NULL!",
         "#NULL!",
         "#NULL!",
         "#NULL!",
         "#NULL!",
         null,
         "1",
         "0",
         "0",
         "0",
         "0",
         "0",
         "0",
         "0",
         "0",
         "0",
         "0",
         null,
         "#NULL!",
         "#NULL!",
         "#NULL!",
         "#NULL!",
         "#NULL!",
         "#NULL!",
         "#NULL!",
         "#NULL!",
         null,
         "#NULL!",
         null,
         "#NULL!",
         null,
         "#NULL!",
         null,
         "#NULL!",
         null,
         "#NULL!",
         null,
         "#NULL!",
         "#NULL!",
         "#NULL!",
         "#NULL!",
         "#NULL!",
         "#NULL!",
         "#NULL!",
         "#NULL!",
         "#NULL!",
         "#NULL!",
         "#NULL!",
         null,
         "#NULL!",
         "#NULL!",
         "#NULL!",
         "#NULL!",
         "#NULL!",
         "#NULL!",
         "#NULL!",
         "#NULL!",
         "#NULL!",
         "#NULL!",
         null,
         "#NULL!",
         "#NULL!",
         "#NULL!",
         "#NULL!",
         "#NULL!",
         "#NULL!",
         "#NULL!",
         "1",
         "1",
         "0",
         "0",
         "0",
         "0",
         "0",
         "0",
         "0",
         "0",
         "0",
         "0",
         "0",
         "0",
         "0",
         null,
         "Mobile money (Send money) (M-Pesa, Airtel Money,Tkash)",
         null,
         "1",
         "1",
         "0",
         "0",
         "0",
         "0",
         "0",
         "0",
         "0",
         "0",
         "0",
         "0",
         "0",
         "0",
         "0",
         null,
         "Mobile money (Send money) (M-Pesa, Airtel Money,Tkash)",
         null,
         "0",
         "0",
         "0",
         "0",
         "0",
         "0",
         "0",
         "0",
         "0",
         "0",
         "0",
         "1",
         "0",
         "0",
         "0",
         null,
         "Did not do this",
         null,
         "1",
         "1",
         "0",
         "0",
         "0",
         "0",
         "0",
         "0",
         "0",
         "0",
         "0",
         "0",
         "0",
         "0",
         "0",
         null,
         "Cash",
         null,
         "1",
         "1",
         "0",
         "0",
         "0",
         "0",
         "0",
         "0",
         "0",
         "0",
         "0",
         "0",
         "0",
         "0",
         "0",
         "0",
         null,
         "Mobile money (Send money) (M-Pesa, Airtel Money,Tkash)",
         null,
         "0",
         "0",
         "0",
         "0",
         "0",
         "0",
         "0",
         "0",
         "0",
         "0",
         "0",
         "0",
         "1",
         "0",
         "0",
         "0",
         null,
         "Did not do this",
         null,
         "1",
         "1",
         "0",
         "0",
         "0",
         "0",
         "0",
         "0",
         "0",
         "0",
         "0",
         "0",
         "0",
         "0",
         "0",
         "0",
         null,
         "Mobile money (Send money) (M-Pesa, Airtel Money,Tkash)",
         null,
         "0",
         "0",
         "0",
         "0",
         "0",
         "0",
         "0",
         "0",
         "0",
         "0",
         "0",
         "0",
         "1",
         "0",
         "0",
         "0",
         null,
         "Did not do this",
         null,
         "1",
         "1",
         "0",
         "0",
         "0",
         "0",
         "0",
         "0",
         "0",
         "0",
         "0",
         "0",
         "0",
         "0",
         "0",
         "0",
         null,
         "Cash",
         null,
         "Between half and quarter",
         "#NULL!",
         "#NULL!",
         "#NULL!",
         "#NULL!",
         "#NULL!",
         "#NULL!",
         "#NULL!",
         "#NULL!",
         "#NULL!",
         "#NULL!",
         "#NULL!",
         "#NULL!",
         "#NULL!",
         "#NULL!",
         "#NULL!",
         "#NULL!",
         "#NULL!",
         "#NULL!",
         "#NULL!",
         "#NULL!",
         "#NULL!",
         "#NULL!",
         "#NULL!",
         "#NULL!",
         "#NULL!",
         "#NULL!",
         "#NULL!",
         "#NULL!",
         "#NULL!",
         "#NULL!",
         "#NULL!",
         "#NULL!",
         "#NULL!",
         "#NULL!",
         "#NULL!",
         "#NULL!",
         "#NULL!",
         "#NULL!",
         "#NULL!",
         "#NULL!",
         "#NULL!",
         "#NULL!",
         "#NULL!",
         "#NULL!",
         "#NULL!",
         "#NULL!",
         "#NULL!",
         "#NULL!",
         "#NULL!",
         "#NULL!",
         "#NULL!",
         "#NULL!",
         "#NULL!",
         "#NULL!",
         "#NULL!",
         "#NULL!",
         "#NULL!",
         "#NULL!",
         "#NULL!",
         "#NULL!",
         "#NULL!",
         "#NULL!",
         "#NULL!",
         "#NULL!",
         "#NULL!",
         "#NULL!",
         "#NULL!",
         "#NULL!",
         "#NULL!",
         "#NULL!",
         "#NULL!",
         "#NULL!",
         "#NULL!",
         "#NULL!",
         "#NULL!",
         "#NULL!",
         "#NULL!",
         "#NULL!",
         "#NULL!",
         "#NULL!",
         "#NULL!",
         "#NULL!",
         "#NULL!",
         "#NULL!",
         "#NULL!",
         "#NULL!",
         "#NULL!",
         "#NULL!",
         "#NULL!",
         "#NULL!",
         "#NULL!",
         "#NULL!",
         "#NULL!",
         "#NULL!",
         "#NULL!",
         "#NULL!",
         "#NULL!",
         "#NULL!",
         "#NULL!",
         "#NULL!",
         "#NULL!",
         "#NULL!",
         "#NULL!",
         "#NULL!",
         "#NULL!",
         "#NULL!",
         "#NULL!",
         "#NULL!",
         "#NULL!",
         "#NULL!",
         "#NULL!",
         "#NULL!",
         "#NULL!",
         "#NULL!",
         "#NULL!",
         "#NULL!",
         "#NULL!",
         "#NULL!",
         "#NULL!",
         "#NULL!",
         "#NULL!",
         "#NULL!",
         "#NULL!",
         "#NULL!",
         "#NULL!",
         "#NULL!",
         "#NULL!",
         "#NULL!",
         "#NULL!",
         "#NULL!",
         "#NULL!",
         "#NULL!",
         "#NULL!",
         "#NULL!",
         "#NULL!",
         "#NULL!",
         "#NULL!",
         "#NULL!",
         "#NULL!",
         "#NULL!",
         "#NULL!",
         "#NULL!",
         "#NULL!",
         "#NULL!",
         "#NULL!",
         "#NULL!",
         "#NULL!",
         "#NULL!",
         "#NULL!",
         "#NULL!",
         "#NULL!",
         "#NULL!",
         "#NULL!",
         "#NULL!",
         "#NULL!",
         "#NULL!",
         "#NULL!",
         "#NULL!",
         "#NULL!",
         "#NULL!",
         "#NULL!",
         "#NULL!",
         "#NULL!",
         "#NULL!",
         "#NULL!",
         "#NULL!",
         "#NULL!",
         "#NULL!",
         "#NULL!",
         "#NULL!",
         "#NULL!",
         "#NULL!",
         "#NULL!",
         "#NULL!",
         "#NULL!",
         "#NULL!",
         "#NULL!",
         "#NULL!",
         "#NULL!",
         "#NULL!",
         "#NULL!",
         "#NULL!",
         "#NULL!",
         "#NULL!",
         "#NULL!",
         "#NULL!",
         "#NULL!",
         "#NULL!",
         "#NULL!",
         "#NULL!",
         "#NULL!",
         "#NULL!",
         "#NULL!",
         "#NULL!",
         "#NULL!",
         null,
         "#NULL!",
         "#NULL!",
         "#NULL!",
         null,
         "#NULL!",
         "#NULL!",
         "#NULL!",
         "#NULL!",
         "#NULL!",
         "#NULL!",
         "#NULL!",
         "#NULL!",
         "#NULL!",
         "#NULL!",
         "#NULL!",
         "#NULL!",
         "#NULL!",
         "#NULL!",
         "#NULL!",
         "#NULL!",
         "#NULL!",
         "#NULL!",
         "#NULL!",
         "#NULL!",
         "#NULL!",
         "#NULL!",
         "#NULL!",
         "#NULL!",
         "#NULL!",
         "#NULL!",
         "#NULL!",
         "#NULL!",
         "#NULL!",
         "#NULL!",
         "#NULL!",
         "#NULL!",
         "#NULL!",
         "#NULL!",
         "#NULL!",
         "#NULL!",
         "#NULL!",
         "#NULL!",
         "#NULL!",
         "#NULL!",
         "#NULL!",
         "#NULL!",
         "#NULL!",
         "#NULL!",
         "#NULL!",
         "#NULL!",
         "#NULL!",
         "#NULL!",
         "#NULL!",
         "#NULL!",
         "#NULL!",
         "#NULL!",
         "#NULL!",
         "#NULL!",
         "#NULL!",
         "#NULL!",
         "#NULL!",
         "#NULL!",
         "#NULL!",
         "#NULL!",
         "#NULL!",
         "#NULL!",
         "#NULL!",
         "#NULL!",
         "#NULL!",
         "#NULL!",
         "#NULL!",
         "#NULL!",
         "#NULL!",
         "#NULL!",
         "#NULL!",
         "#NULL!",
         "#NULL!",
         "#NULL!",
         "#NULL!",
         "#NULL!",
         "#NULL!",
         "#NULL!",
         "#NULL!",
         "#NULL!",
         "#NULL!",
         "#NULL!",
         "#NULL!",
         "#NULL!",
         "#NULL!",
         "#NULL!",
         "#NULL!",
         "#NULL!",
         "#NULL!",
         "#NULL!",
         "#NULL!",
         "#NULL!",
         "#NULL!",
         "#NULL!",
         "#NULL!",
         "#NULL!",
         "#NULL!",
         "#NULL!",
         "#NULL!",
         "#NULL!",
         "#NULL!",
         "#NULL!",
         "#NULL!",
         "#NULL!",
         "#NULL!",
         "#NULL!",
         "#NULL!",
         "#NULL!",
         "#NULL!",
         "#NULL!",
         "#NULL!",
         "#NULL!",
         "#NULL!",
         "#NULL!",
         "#NULL!",
         "#NULL!",
         "#NULL!",
         "#NULL!",
         "#NULL!",
         "#NULL!",
         "#NULL!",
         "#NULL!",
         "#NULL!",
         "#NULL!",
         "#NULL!",
         "#NULL!",
         "#NULL!",
         "#NULL!",
         "#NULL!",
         "#NULL!",
         "#NULL!",
         "#NULL!",
         "#NULL!",
         "#NULL!",
         "#NULL!",
         "#NULL!",
         "#NULL!",
         "#NULL!",
         "#NULL!",
         "#NULL!",
         "#NULL!",
         "#NULL!",
         "#NULL!",
         "#NULL!",
         "#NULL!",
         "#NULL!",
         "#NULL!",
         "#NULL!",
         "#NULL!",
         "#NULL!",
         "#NULL!",
         "#NULL!",
         "#NULL!",
         "#NULL!",
         "#NULL!",
         "#NULL!",
         "#NULL!",
         "#NULL!",
         "#NULL!",
         "#NULL!",
         "#NULL!",
         "#NULL!",
         "#NULL!",
         "#NULL!",
         "#NULL!",
         "#NULL!",
         "#NULL!",
         "#NULL!",
         "#NULL!",
         "#NULL!",
         "#NULL!",
         "#NULL!",
         "#NULL!",
         "#NULL!",
         "#NULL!",
         "#NULL!",
         "#NULL!",
         "#NULL!",
         "#NULL!",
         "#NULL!",
         "#NULL!",
         "#NULL!",
         "#NULL!",
         "#NULL!",
         "#NULL!",
         "#NULL!",
         "#NULL!",
         "#NULL!",
         "#NULL!",
         "#NULL!",
         "#NULL!",
         "#NULL!",
         "#NULL!",
         "#NULL!",
         "#NULL!",
         null,
         "#NULL!",
         "#NULL!",
         "#NULL!",
         "#NULL!",
         null,
         "No/Hapana",
         "1",
         "0",
         "0",
         "0",
         "0",
         "0",
         "0",
         "0",
         "0",
         "#NULL!",
         "0",
         "0",
         null,
         "1",
         "#NULL!",
         "#NULL!",
         "#NULL!",
         "#NULL!",
         "#NULL!",
         "#NULL!",
         "#NULL!",
         "#NULL!",
         "#NULL!",
         "#NULL!",
         "#NULL!",
         "#NULL!",
         "#NULL!",
         "#NULL!",
         "#NULL!",
         "#NULL!",
         "#NULL!",
         "#NULL!",
         "#NULL!",
         "#NULL!",
         "#NULL!",
         "#NULL!",
         "#NULL!",
         "#NULL!",
         "#NULL!",
         "#NULL!",
         "#NULL!",
         "#NULL!",
         "#NULL!",
         "#NULL!",
         "#NULL!",
         "#NULL!",
         "#NULL!",
         "#NULL!",
         "#NULL!",
         "#NULL!",
         "#NULL!",
         "#NULL!",
         "#NULL!",
         "#NULL!",
         "#NULL!",
         "#NULL!",
         "#NULL!",
         "#NULL!",
         "#NULL!",
         "#NULL!",
         "#NULL!",
         "#NULL!",
         "#NULL!",
         "#NULL!",
         "#NULL!",
         "#NULL!",
         "#NULL!",
         "#NULL!",
         "#NULL!",
         null,
         "#NULL!",
         null,
         "#NULL!",
         "#NULL!",
         "#NULL!",
         "#NULL!",
         "#NULL!",
         "#NULL!",
         "#NULL!",
         "#NULL!",
         "#NULL!",
         "#NULL!",
         "#NULL!",
         "#NULL!",
         "#NULL!",
         "#NULL!",
         "#NULL!",
         "#NULL!",
         "#NULL!",
         "#NULL!",
         "#NULL!",
         "#NULL!",
         "#NULL!",
         "#NULL!",
         "#NULL!",
         "#NULL!",
         "#NULL!",
         "#NULL!",
         "#NULL!",
         "#NULL!",
         "#NULL!",
         "#NULL!",
         "#NULL!",
         "#NULL!",
         "#NULL!",
         "#NULL!",
         "#NULL!",
         "#NULL!",
         "#NULL!",
         "#NULL!",
         "#NULL!",
         "#NULL!",
         "#NULL!",
         "#NULL!",
         "#NULL!",
         "#NULL!",
         "#NULL!",
         "#NULL!",
         "#NULL!",
         "#NULL!",
         "#NULL!",
         "#NULL!",
         "#NULL!",
         "#NULL!",
         "#NULL!",
         "#NULL!",
         "#NULL!",
         "#NULL!",
         "#NULL!",
         "#NULL!",
         "#NULL!",
         "#NULL!",
         "#NULL!",
         "#NULL!",
         "#NULL!",
         "#NULL!",
         "#NULL!",
         "#NULL!",
         "#NULL!",
         "#NULL!",
         "#NULL!",
         "#NULL!",
         "#NULL!",
         "#NULL!",
         "#NULL!",
         "#NULL!",
         "#NULL!",
         "#NULL!",
         "#NULL!",
         "#NULL!",
         "#NULL!",
         "#NULL!",
         "#NULL!",
         "#NULL!",
         "#NULL!",
         "#NULL!",
         "#NULL!",
         "#NULL!",
         "#NULL!",
         "#NULL!",
         "#NULL!",
         "#NULL!",
         "#NULL!",
         "#NULL!",
         "#NULL!",
         "#NULL!",
         "#NULL!",
         "#NULL!",
         "#NULL!",
         "#NULL!",
         "#NULL!",
         "#NULL!",
         "#NULL!",
         "#NULL!",
         "#NULL!",
         "#NULL!",
         "#NULL!",
         "#NULL!",
         "#NULL!",
         "#NULL!",
         "#NULL!",
         "#NULL!",
         "#NULL!",
         "#NULL!",
         "#NULL!",
         "#NULL!",
         "#NULL!",
         "#NULL!",
         "#NULL!",
         "#NULL!",
         "#NULL!",
         "#NULL!",
         "#NULL!",
         "#NULL!",
         "#NULL!",
         "#NULL!",
         "#NULL!",
         "#NULL!",
         "#NULL!",
         "#NULL!",
         "#NULL!",
         "#NULL!",
         "#NULL!",
         "#NULL!",
         "#NULL!",
         "#NULL!",
         "#NULL!",
         "#NULL!",
         "#NULL!",
         "#NULL!",
         "#NULL!",
         "#NULL!",
         "#NULL!",
         "#NULL!",
         "#NULL!",
         "#NULL!",
         "#NULL!",
         "#NULL!",
         "#NULL!",
         "#NULL!",
         "#NULL!",
         "#NULL!",
         "#NULL!",
         "#NULL!",
         "#NULL!",
         "#NULL!",
         "#NULL!",
         "#NULL!",
         "#NULL!",
         "#NULL!",
         "#NULL!",
         "#NULL!",
         "#NULL!",
         "#NULL!",
         "#NULL!",
         "#NULL!",
         "#NULL!",
         "#NULL!",
         "#NULL!",
         "#NULL!",
         "#NULL!",
         "#NULL!",
         "#NULL!",
         "#NULL!",
         "#NULL!",
         "#NULL!",
         "#NULL!",
         "#NULL!",
         "#NULL!",
         "#NULL!",
         "#NULL!",
         "#NULL!",
         "#NULL!",
         "#NULL!",
         "#NULL!",
         null,
         "#NULL!",
         "#NULL!",
         "#NULL!",
         "#NULL!",
         "#NULL!",
         "#NULL!",
         "#NULL!",
         "#NULL!",
         "#NULL!",
         "#NULL!",
         "#NULL!",
         "#NULL!",
         "#NULL!",
         null,
         "#NULL!",
         "#NULL!",
         "#NULL!",
         "#NULL!",
         "#NULL!",
         "#NULL!",
         "#NULL!",
         "#NULL!",
         "#NULL!",
         "#NULL!",
         "#NULL!",
         null,
         "#NULL!",
         "#NULL!",
         "#NULL!",
         "#NULL!",
         "#NULL!",
         "#NULL!",
         "#NULL!",
         "#NULL!",
         "#NULL!",
         "#NULL!",
         "#NULL!",
         "#NULL!",
         "#NULL!",
         "#NULL!",
         "#NULL!",
         "#NULL!",
         "#NULL!",
         "#NULL!",
         "#NULL!",
         "#NULL!",
         "#NULL!",
         "#NULL!",
         "#NULL!",
         "#NULL!",
         "#NULL!",
         "#NULL!",
         "#NULL!",
         "#NULL!",
         "#NULL!",
         "#NULL!",
         "#NULL!",
         "#NULL!",
         "#NULL!",
         "#NULL!",
         "#NULL!",
         "#NULL!",
         "#NULL!",
         "#NULL!",
         "#NULL!",
         "#NULL!",
         "#NULL!",
         "#NULL!",
         "#NULL!",
         "#NULL!",
         "#NULL!",
         "#NULL!",
         "#NULL!",
         "#NULL!",
         "#NULL!",
         "#NULL!",
         "#NULL!",
         "#NULL!",
         "#NULL!",
         "#NULL!",
         "#NULL!",
         "#NULL!",
         "#NULL!",
         "#NULL!",
         "#NULL!",
         "#NULL!",
         "#NULL!",
         "#NULL!",
         "#NULL!",
         "#NULL!",
         "#NULL!",
         "#NULL!",
         "#NULL!",
         "#NULL!",
         "#NULL!",
         "#NULL!",
         "#NULL!",
         "#NULL!",
         "#NULL!",
         "#NULL!",
         "#NULL!",
         "#NULL!",
         "#NULL!",
         "#NULL!",
         "#NULL!",
         "#NULL!",
         "#NULL!",
         "#NULL!",
         "#NULL!",
         "#NULL!",
         "#NULL!",
         "#NULL!",
         "#NULL!",
         "#NULL!",
         "#NULL!",
         "#NULL!",
         "#NULL!",
         "#NULL!",
         "#NULL!",
         "#NULL!",
         "#NULL!",
         "#NULL!",
         "#NULL!",
         "#NULL!",
         "#NULL!",
         "#NULL!",
         "#NULL!",
         null,
         "#NULL!",
         null,
         "#NULL!",
         "#NULL!",
         "#NULL!",
         "#NULL!",
         "#NULL!",
         "#NULL!",
         "#NULL!",
         "#NULL!",
         "#NULL!",
         null,
         "#NULL!",
         "#NULL!",
         "#NULL!",
         "#NULL!",
         "#NULL!",
         "#NULL!",
         "#NULL!",
         "#NULL!",
         "#NULL!",
         null,
         "#NULL!",
         "#NULL!",
         "#NULL!",
         "#NULL!",
         "#NULL!",
         "#NULL!",
         "#NULL!",
         "1",
         "#NULL!",
         "#NULL!",
         "#NULL!",
         "#NULL!",
         "#NULL!",
         "#NULL!",
         "#NULL!",
         "#NULL!",
         "#NULL!",
         "#NULL!",
         "#NULL!",
         "#NULL!",
         null,
         "Dont know about Saccos/Never heard about Saccos",
         null,
         "#NULL!",
         "#NULL!",
         "#NULL!",
         "#NULL!",
         "#NULL!",
         "#NULL!",
         "#NULL!",
         "#NULL!",
         "#NULL!",
         "#NULL!",
         "#NULL!",
         "#NULL!",
         "#NULL!",
         "#NULL!",
         "#NULL!",
         "#NULL!",
         "#NULL!",
         "#NULL!",
         "#NULL!",
         "#NULL!",
         "#NULL!",
         "#NULL!",
         "#NULL!",
         "#NULL!",
         "#NULL!",
         "#NULL!",
         "#NULL!",
         "#NULL!",
         "#NULL!",
         "#NULL!",
         "#NULL!",
         "#NULL!",
         "#NULL!",
         "#NULL!",
         "#NULL!",
         "#NULL!",
         "#NULL!",
         "#NULL!",
         "#NULL!",
         "#NULL!",
         "#NULL!",
         "#NULL!",
         "#NULL!",
         "#NULL!",
         "#NULL!",
         "#NULL!",
         "#NULL!",
         "#NULL!",
         "#NULL!",
         "#NULL!",
         "#NULL!",
         "#NULL!",
         "#NULL!",
         "#NULL!",
         "#NULL!",
         "#NULL!",
         "#NULL!",
         "#NULL!",
         "#NULL!",
         "#NULL!",
         "#NULL!",
         "#NULL!",
         "#NULL!",
         "#NULL!",
         "#NULL!",
         "#NULL!",
         "#NULL!",
         "#NULL!",
         "#NULL!",
         "#NULL!",
         "#NULL!",
         "#NULL!",
         "#NULL!",
         "#NULL!",
         "#NULL!",
         "#NULL!",
         "#NULL!",
         "#NULL!",
         "#NULL!",
         "#NULL!",
         "#NULL!",
         "#NULL!",
         "#NULL!",
         "#NULL!",
         "#NULL!",
         "#NULL!",
         "#NULL!",
         "#NULL!",
         "#NULL!",
         "#NULL!",
         "#NULL!",
         "#NULL!",
         "#NULL!",
         "#NULL!",
         "#NULL!",
         "#NULL!",
         "#NULL!",
         "#NULL!",
         "#NULL!",
         "#NULL!",
         "#NULL!",
         "#NULL!",
         "#NULL!",
         "#NULL!",
         "#NULL!",
         "#NULL!",
         "#NULL!",
         "#NULL!",
         "#NULL!",
         "#NULL!",
         "#NULL!",
         "#NULL!",
         "#NULL!",
         "#NULL!",
         "#NULL!",
         "#NULL!",
         "#NULL!",
         "#NULL!",
         "#NULL!",
         "#NULL!",
         "#NULL!",
         "#NULL!",
         "#NULL!",
         "#NULL!",
         "#NULL!",
         "#NULL!",
         "#NULL!",
         "#NULL!",
         "#NULL!",
         "#NULL!",
         "#NULL!",
         "#NULL!",
         "#NULL!",
         "#NULL!",
         "#NULL!",
         "#NULL!",
         "#NULL!",
         "#NULL!",
         "#NULL!",
         "#NULL!",
         "#NULL!",
         "#NULL!",
         "#NULL!",
         "#NULL!",
         "#NULL!",
         "#NULL!",
         "#NULL!",
         "#NULL!",
         "#NULL!",
         "#NULL!",
         "#NULL!",
         "#NULL!",
         "#NULL!",
         "#NULL!",
         "#NULL!",
         "#NULL!",
         "#NULL!",
         "#NULL!",
         "#NULL!",
         "#NULL!",
         "#NULL!",
         "#NULL!",
         "#NULL!",
         "#NULL!",
         "#NULL!",
         "#NULL!",
         "#NULL!",
         "#NULL!",
         "#NULL!",
         "#NULL!",
         "#NULL!",
         "#NULL!",
         "#NULL!",
         "#NULL!",
         "#NULL!",
         "#NULL!",
         "#NULL!",
         "#NULL!",
         "#NULL!",
         "#NULL!",
         "#NULL!",
         "#NULL!",
         "#NULL!",
         "#NULL!",
         "#NULL!",
         "#NULL!",
         "#NULL!",
         "#NULL!",
         "#NULL!",
         "#NULL!",
         "#NULL!",
         "#NULL!",
         "#NULL!",
         "#NULL!",
         "#NULL!",
         "#NULL!",
         "#NULL!",
         "#NULL!",
         "#NULL!",
         "#NULL!",
         null,
         "#NULL!",
         "#NULL!",
         "#NULL!",
         "#NULL!",
         "#NULL!",
         "#NULL!",
         "#NULL!",
         "#NULL!",
         "#NULL!",
         "#NULL!",
         "#NULL!",
         "#NULL!",
         "#NULL!",
         "#NULL!",
         null,
         "#NULL!",
         "#NULL!",
         "#NULL!",
         "#NULL!",
         "#NULL!",
         null,
         "#NULL!",
         "#NULL!",
         "#NULL!",
         "#NULL!",
         "#NULL!",
         "#NULL!",
         "#NULL!",
         "#NULL!",
         "#NULL!",
         "#NULL!",
         null,
         "#NULL!",
         "#NULL!",
         "#NULL!",
         "#NULL!",
         "#NULL!",
         "#NULL!",
         "#NULL!",
         "1",
         "1",
         "#NULL!",
         "#NULL!",
         "#NULL!",
         "#NULL!",
         "#NULL!",
         "#NULL!",
         "#NULL!",
         "#NULL!",
         "#NULL!",
         "#NULL!",
         "#NULL!",
         "#NULL!",
         null,
         "#NULL!",
         "#NULL!",
         "#NULL!",
         "#NULL!",
         "#NULL!",
         "#NULL!",
         "#NULL!",
         "#NULL!",
         "#NULL!",
         null,
         "1",
         "0",
         "0",
         "0",
         "0",
         "#NULL!",
         "0",
         "0",
         null,
         "1",
         "MPesa",
         null,
         "Weekly /Kila wiki",
         "No/ Hapana",
         "No/ Hapana",
         "No/ Hapana",
         "No/ Hapana",
         "No/ Hapana",
         "No/ Hapana",
         "#NULL!",
         "#NULL!",
         "#NULL!",
         "#NULL!",
         "#NULL!",
         "#NULL!",
         "#NULL!",
         "#NULL!",
         "#NULL!",
         null,
         "No, I did not have a complain",
         "#NULL!",
         "#NULL!",
         "#NULL!",
         "#NULL!",
         "#NULL!",
         "#NULL!",
         "#NULL!",
         "#NULL!",
         "#NULL!",
         null,
         "#NULL!",
         "Agree",
         "Agree",
         "Agree",
         "Agree",
         "Agree",
         "Agree",
         "No/ Hapana",
         "1",
         "0",
         "0",
         "0",
         "0",
         "0",
         "0",
         "0",
         "0",
         "0",
         "0",
         null,
         "#NULL!",
         "#NULL!",
         "#NULL!",
         "#NULL!",
         "#NULL!",
         "#NULL!",
         "#NULL!",
         "#NULL!",
         "#NULL!",
         "#NULL!",
         "0",
         "0",
         "0",
         "#NULL!",
         "#NULL!",
         null,
         "#NULL!",
         "#NULL!",
         "#NULL!",
         "#NULL!",
         "#NULL!",
         "#NULL!",
         "#NULL!",
         "#NULL!",
         "#NULL!",
         "0",
         "0",
         "#NULL!",
         "#NULL!",
         "#NULL!",
         null,
         "#NULL!",
         null,
         "#NULL!",
         "#NULL!",
         "#NULL!",
         "#NULL!",
         "#NULL!",
         "#NULL!",
         "#NULL!",
         "#NULL!",
         "#NULL!",
         "#NULL!",
         "#NULL!",
         "#NULL!",
         "#NULL!",
         "#NULL!",
         null,
         "#NULL!",
         "#NULL!",
         "#NULL!",
         "#NULL!",
         "#NULL!",
         "#NULL!",
         "#NULL!",
         "#NULL!",
         "#NULL!",
         "#NULL!",
         "#NULL!",
         null,
         "#NULL!",
         "#NULL!",
         "#NULL!",
         "#NULL!",
         "#NULL!",
         "#NULL!",
         "#NULL!",
         "No",
         "1",
         "0",
         "0",
         "0",
         "0",
         "0",
         "0",
         "0",
         "0",
         "0",
         "0",
         "0",
         "0",
         "0",
         null,
         "#NULL!",
         "#NULL!",
         "#NULL!",
         "#NULL!",
         "#NULL!",
         "#NULL!",
         "#NULL!",
         "#NULL!",
         "#NULL!",
         "0",
         "0",
         "0",
         "0",
         "0",
         "#NULL!",
         "#NULL!",
         null,
         "1",
         "2",
         "#NULL!",
         "#NULL!",
         "#NULL!",
         "#NULL!",
         "#NULL!",
         "#NULL!",
         "#NULL!",
         "#NULL!",
         "#NULL!",
         null,
         "#NULL!",
         null,
         "#NULL!",
         null,
         "#NULL!",
         null,
         "#NULL!",
         "#NULL!",
         "#NULL!",
         "#NULL!",
         "#NULL!",
         "#NULL!",
         "#NULL!",
         "#NULL!",
         "#NULL!",
         "#NULL!",
         "#NULL!",
         "#NULL!",
         "#NULL!",
         "#NULL!",
         "#NULL!",
         "#NULL!",
         "#NULL!",
         "#NULL!",
         "#NULL!",
         null,
         "#NULL!",
         "#NULL!",
         "#NULL!",
         "#NULL!",
         "#NULL!",
         "#NULL!",
         "#NULL!",
         "#NULL!",
         null,
         "#NULL!",
         "#NULL!",
         "#NULL!",
         "#NULL!",
         "#NULL!",
         "#NULL!",
         "#NULL!",
         "#NULL!",
         "#NULL!",
         "#NULL!",
         "#NULL!",
         "#NULL!",
         "#NULL!",
         "#NULL!",
         "#NULL!",
         "No",
         "#NULL!",
         "#NULL!",
         "#NULL!",
         "#NULL!",
         "#NULL!",
         "#NULL!",
         "#NULL!",
         "#NULL!",
         "#NULL!",
         "#NULL!",
         "#NULL!",
         "#NULL!",
         "#NULL!",
         "#NULL!",
         "#NULL!",
         "#NULL!",
         "#NULL!",
         null,
         "#NULL!",
         null,
         "#NULL!",
         "#NULL!",
         "#NULL!",
         "#NULL!",
         "#NULL!",
         "#NULL!",
         "#NULL!",
         "#NULL!",
         "#NULL!",
         "#NULL!",
         "#NULL!",
         "#NULL!",
         "#NULL!",
         "#NULL!",
         "#NULL!",
         "0",
         "0",
         "0",
         "0",
         "0",
         "#NULL!",
         "#NULL!",
         null,
         "No",
         "#NULL!",
         "#NULL!",
         null,
         "1",
         "2",
         "#NULL!",
         "#NULL!",
         "#NULL!",
         "#NULL!",
         "#NULL!",
         "#NULL!",
         "#NULL!",
         "#NULL!",
         "#NULL!",
         "#NULL!",
         "#NULL!",
         "#NULL!",
         "#NULL!",
         "#NULL!",
         "#NULL!",
         "#NULL!",
         "#NULL!",
         null,
         null,
         "#NULL!",
         "#NULL!",
         "#NULL!",
         null,
         "#NULL!",
         "#NULL!",
         "#NULL!",
         "#NULL!",
         "#NULL!",
         "#NULL!",
         "#NULL!",
         "#NULL!",
         "#NULL!",
         "#NULL!",
         "#NULL!",
         "#NULL!",
         "#NULL!",
         "#NULL!",
         "#NULL!",
         "#NULL!",
         "#NULL!",
         "#NULL!",
         "#NULL!",
         "#NULL!",
         "0",
         "0",
         "0",
         "0",
         "0",
         "0",
         "0",
         "0",
         "0",
         "#NULL!",
         "#NULL!",
         "#NULL!",
         null,
         "#NULL!",
         "#NULL!",
         "#NULL!",
         "#NULL!",
         "#NULL!",
         "#NULL!",
         "#NULL!",
         "#NULL!",
         "#NULL!",
         null,
         "#NULL!",
         null,
         "#NULL!",
         null,
         "#NULL!",
         "#NULL!",
         "#NULL!",
         "#NULL!",
         "#NULL!",
         "#NULL!",
         "#NULL!",
         "#NULL!",
         "#NULL!",
         "#NULL!",
         "#NULL!",
         "#NULL!",
         null,
         "#NULL!",
         null,
         "#NULL!",
         null,
         "#NULL!",
         "#NULL!",
         null,
         "#NULL!",
         null,
         "#NULL!",
         "#NULL!",
         "#NULL!",
         "#NULL!",
         "#NULL!",
         "#NULL!",
         "#NULL!",
         null,
         "#NULL!",
         "#NULL!",
         "#NULL!",
         "#NULL!",
         "#NULL!",
         "#NULL!",
         "#NULL!",
         "#NULL!",
         "#NULL!",
         "#NULL!",
         "#NULL!",
         "#NULL!",
         "#NULL!",
         "#NULL!",
         "#NULL!",
         "#NULL!",
         "#NULL!",
         "#NULL!",
         "#NULL!",
         "#NULL!",
         "#NULL!",
         "#NULL!",
         "#NULL!",
         "#NULL!",
         "#NULL!",
         "#NULL!",
         "#NULL!",
         "#NULL!",
         null,
         "#NULL!",
         "#NULL!",
         "#NULL!",
         "#NULL!",
         "#NULL!",
         "#NULL!",
         "#NULL!",
         "#NULL!",
         "#NULL!",
         "#NULL!",
         "#NULL!",
         "#NULL!",
         "#NULL!",
         "#NULL!",
         "#NULL!",
         "#NULL!",
         null,
         "#NULL!",
         "#NULL!",
         "#NULL!",
         "#NULL!",
         "#NULL!",
         "#NULL!",
         "#NULL!",
         "#NULL!",
         "#NULL!",
         "#NULL!",
         "#NULL!",
         "#NULL!",
         "0",
         "0",
         "0",
         "0",
         "#NULL!",
         "#NULL!",
         "#NULL!",
         null,
         "#NULL!",
         "#NULL!",
         "#NULL!",
         "#NULL!",
         "#NULL!",
         "#NULL!",
         "#NULL!",
         "#NULL!",
         "0",
         "0",
         "0",
         "0",
         "0",
         "0",
         "0",
         "#NULL!",
         "#NULL!",
         "#NULL!",
         null,
         "#NULL!",
         "#NULL!",
         "2",
         "Acres",
         "0",
         "0",
         "1",
         "0",
         "0",
         "0",
         "0",
         "0",
         "0",
         "0",
         "0",
         "0",
         "0",
         "0",
         "0",
         "1",
         "0",
         "0",
         "0",
         "0",
         "0",
         "0",
         "0",
         "0",
         "0",
         "0",
         "0",
         "0",
         "0",
         "0",
         "0",
         "0",
         "0",
         "0",
         "0",
         "0",
         "0",
         "0",
         "0",
         "0",
         "0",
         "0",
         "0",
         "0",
         "0",
         "0",
         "0",
         "0",
         "0",
         "0",
         "0",
         "0",
         "0",
         "0",
         "0",
         "0",
         "0",
         "0",
         "1",
         "0",
         "0",
         "0",
         "0",
         "0",
         "0",
         "0",
         "1",
         "0",
         "0",
         "0",
         "0",
         "0",
         "0",
         "0",
         "1",
         "0",
         "0",
         "0",
         "0",
         "0",
         "0",
         "0",
         "0",
         "0",
         "0",
         "0",
         "0",
         "0",
         "0",
         "0",
         "0",
         "0",
         "0",
         "0",
         "0",
         "0",
         "0",
         "0",
         "0",
         "0",
         "0",
         "0",
         "0",
         "0",
         "0",
         "0",
         "0",
         "0",
         "0",
         "0",
         "0",
         "0",
         "0",
         "0",
         "0",
         "0",
         "0",
         "0",
         "0",
         "0",
         "0",
         "0",
         "0",
         "0",
         "0",
         "0",
         "0",
         "0",
         "0",
         "0",
         "0",
         "0",
         "0",
         "0",
         "0",
         "0",
         "0",
         "0",
         "0",
         "0",
         "0",
         "0",
         "0",
         "0",
         "0",
         "0",
         "0",
         "0",
         "0",
         null,
         "Maize",
         "0",
         "1",
         "0",
         "0",
         "0",
         "0",
         "0",
         "0",
         "0",
         "0",
         "0",
         "0",
         "0",
         "0",
         "0",
         "0",
         "0",
         "0",
         "0",
         "0",
         "0",
         "0",
         "0",
         "0",
         "0",
         "0",
         "0",
         "0",
         "0",
         null,
         "#NULL!",
         null,
         "Income from farming reinvested",
         null,
         "#NULL!",
         null,
         "#NULL!",
         null,
         "Convenient/Fast /Easy to access/use/no collateral",
         null,
         "Buying livestock",
         null,
         "No",
         "No",
         "Sell in a market centre/market places",
         null,
         "1",
         "1",
         "0",
         "0",
         "0",
         "0",
         "0",
         "0",
         "0",
         "0",
         "0",
         "0",
         "0",
         "0",
         "0",
         "0",
         null,
         "Cash",
         null,
         "0",
         "0",
         "0",
         "0",
         "#NULL!",
         "#NULL!",
         null,
         "No",
         "#NULL!",
         "#NULL!",
         "#NULL!",
         "#NULL!",
         "#NULL!",
         "0",
         "0",
         "0",
         "0",
         "0",
         "0",
         "0",
         "0",
         "0",
         "0",
         "0",
         "0",
         "0",
         "0",
         "0",
         "0",
         "0",
         "0",
         "0",
         "0",
         "0",
         "#NULL!",
         "#NULL!",
         null,
         "Jointly (with another household member(s) not spouse)",
         "Jointly (with spouse)",
         "Worsened",
         "#NULL!",
         "#NULL!",
         "#NULL!",
         "#NULL!",
         "#NULL!",
         "#NULL!",
         "#NULL!",
         "0",
         "0",
         "0",
         "0",
         "0",
         "0",
         "0",
         "0",
         "0",
         "#NULL!",
         "#NULL!",
         "#NULL!",
         null,
         "0",
         "0",
         "0",
         "0",
         "0",
         "0",
         "1",
         "0",
         "0",
         "0",
         "0",
         "0",
         "0",
         "0",
         "0",
         "0",
         "0",
         "0",
         "0",
         "0",
         "0",
         null,
         "I farm mainly to meet my day-day needs/feed my family",
         null,
         "1",
         "22",
         "No",
         "No",
         "No",
         "No",
         "No",
         "#NULL!",
         null,
         "#NULL!",
         "#NULL!",
         null,
         "#NULL!",
         null,
         "#NULL!",
         "#NULL!",
         "#NULL!",
         null,
         "#NULL!",
         "#NULL!",
         "#NULL!",
         null,
         "#NULL!",
         "#NULL!",
         "#NULL!",
         null,
         "#NULL!",
         "#NULL!",
         "No",
         "#NULL!",
         null,
         "#NULL!",
         "#NULL!",
         "#NULL!",
         "#NULL!",
         "#NULL!",
         "#NULL!",
         "#NULL!",
         "#NULL!",
         "#NULL!",
         "#NULL!",
         "#NULL!",
         "#NULL!",
         null,
         "#NULL!",
         "#NULL!",
         null,
         "#NULL!",
         null,
         null,
         "#NULL!",
         null,
         "1",
         "1",
         "0",
         "0",
         "0",
         "0",
         "0",
         "0",
         "0",
         "0",
         "0",
         "0",
         "0",
         "0",
         "#NULL!",
         "#NULL!",
         "#NULL!",
         "#NULL!",
         "#NULL!",
         "#NULL!",
         "#NULL!",
         "#NULL!",
         "#NULL!",
         "#NULL!",
         "#NULL!",
         "#NULL!",
         "#NULL!",
         "#NULL!",
         "#NULL!",
         "#NULL!",
         "#NULL!",
         null,
         "#NULL!",
         null,
         "#NULL!",
         null,
         "#NULL!",
         null,
         "#NULL!",
         null,
         "#NULL!",
         null,
         "#NULL!",
         null,
         "1",
         "1",
         "No",
         "#NULL!",
         null,
         "#NULL!",
         "#NULL!",
         "#NULL!",
         "#NULL!",
         "#NULL!",
         "#NULL!",
         "#NULL!",
         "#NULL!",
         "#NULL!",
         "0",
         "0",
         "0",
         "#NULL!",
         "#NULL!",
         null,
         "#NULL!",
         null,
         "#NULL!",
         null,
         "#NULL!",
         null,
         "#NULL!",
         null,
         "#NULL!",
         "#NULL!",
         null,
         "1",
         "1",
         "I own a mobile that only I use/Nina simu ambayo ni mimi tu ninaitumia",
         "0",
         "0",
         "0",
         "1",
         "Never/Situmii\"",
         null,
         "#NULL!",
         null,
         "#NULL!",
         "#NULL!",
         "#NULL!",
         "#NULL!",
         "#NULL!",
         "I have no idea/I dont know",
         "I have no idea/I dont know",
         "I have no idea/I dont know",
         "I have no idea/I dont know",
         "I have no idea/I dont know",
         "Don't Know",
         "1",
         "9",
         "Mobile Money Agent (for depositing or withdrawing cash)/Wakala/ajenti wa pesa za",
         null,
         "Close enough to walk to and fro - No need to spend/\"Nikaribu pa kutosha kwenda n",
         null,
         "About 1  to 2 kilometers",
         null,
         "Under 10 minutes",
         "1",
         "No/\"la\"",
         "#NULL!",
         null,
         "Islam/Uislam",
         "Temporary/Jengo la muda",
         null,
         "2",
         "1",
         "Constructed/Kujenga",
         "#NULL!",
         "Iron sheets/ Mabati",
         "Earth/sand/ Ardhi/mchanga",
         "Stone with mud/ Mawe yaliyo na matope",
         "Firewood and other raw wood/Moto wa kuni na kuni mbichi zinginezo/bidhaa za maja",
         "Bought/Kununua",
         null,
         "1",
         "0",
         "0",
         "0",
         "0",
         "0",
         null,
         "#NULL!",
         "Protected Well",
         "Pit Latrine uncovered/ Choo cha shimo kisichofunikwa",
         "Yes",
         "Burnt in open/Kuchomwa moto wazi",
         "1",
         "0",
         "0",
         "0",
         "0",
         "0",
         "0",
         "0",
         "0",
         "0",
         "0",
         "0",
         "0",
         "0",
         "0",
         "0",
         "0",
         "0",
         "0",
         "2",
         "5",
         "2",
         "2",
         "0",
         "No",
         "No",
         "Yes",
         "No",
         "Yes",
         "No",
         "#NULL!",
         "No",
         "#NULL!",
         "#NULL!",
         "#NULL!",
         "#NULL!",
         "#NULL!",
         "#NULL!",
         "#NULL!",
         "#NULL!",
         "#NULL!",
         "#NULL!",
         "#NULL!",
         "#NULL!",
         "#NULL!",
         "#NULL!",
         "#NULL!",
         null,
         null,
         null,
         null,
         "#NULL!",
         "#NULL!",
         "#NULL!",
         "#NULL!",
         null,
         null,
         "#NULL!",
         "#NULL!",
         "#NULL!",
         "#NULL!",
         "#NULL!",
         "#NULL!",
         "#NULL!",
         "#NULL!",
         "#NULL!",
         "#NULL!",
         "#NULL!",
         "#NULL!",
         "#NULL!",
         "#NULL!",
         "#NULL!",
         "#NULL!",
         "#NULL!",
         "#NULL!",
         "1",
         "0",
         "0",
         "19000",
         "2000",
         "8000",
         "40",
         "160",
         "1000",
         "4000",
         "#NULL!",
         "2000",
         "7000",
         "2333",
         "2000",
         "333",
         "#NULL!",
         "2000",
         "333",
         "11373",
         "#NULL!",
         "1",
         "2024-07-3110:52:12",
         "1",
         "29",
         "Other",
         "Second",
         null,
         "Married/Living with partner",
         "Has ID (National Identity Card (ID),Passport,Alien ID)",
         "139",
         "Non-usage",
         "Non-usage",
         "Non-usage",
         "Non-usage",
         "Non-usage",
         "Non-usage",
         "Non-usage",
         "Non-usage",
         "Non-usage",
         "Non-usage",
         "Non-usage",
         "Non-usage",
         "Non-usage",
         "0",
         "Non-usage",
         "Non-usage",
         "Non-usage",
         "Non-usage",
         "Usage",
         "Non-usage",
         "Non-usage",
         "Non-usage",
         "Non-usage",
         "Non-usage",
         "Non-usage",
         "Non-usage",
         "Non-usage",
         "Non-usage",
         "10712933",
         "3",
         "1",
         "Non-usage",
         "Non-usage",
         "Non-usage",
         "Non-usage",
         "Non-usage",
         "No",
         "Yes",
         "Usage",
         "Non-usage",
         "Non-usage",
         "Non-usage",
         "Non-usage",
         "Non-usage",
         "Non-usage",
         "Usage",
         "Usage",
         "Usage",
         "Yes",
         "Yes",
         "Non-usage",
         "Non-usage",
         "Non-usage",
         "Non-usage",
         "1",
         "No",
         "N0",
         "No",
         "N0",
         "0",
         "0",
         "0",
         "No",
         "No",
         "No",
         "No",
         "No",
         "No",
         "No",
         "Non-usage",
         "Usage",
         "Non-usage",
         "Non-usage",
         "Yes",
         "Yes",
         "No",
         "Formal Non-Prudential",
         "2",
         "1",
         "Yes",
         "No",
         "No",
         "No",
         "No",
         "No",
         "No",
         "No",
         "No",
         "Non-usage",
         "No",
         "formal only",
         "Non-usage",
         "Non-usage",
         "Non-usage",
         "Non-usage",
         "Yes",
         "Yes",
         "Non-usage",
         "Non-usage",
         "Non-usage",
         "0",
         "0",
         "Affordability",
         "Religion",
         "Affordability",
         "Non-usage",
         "Non-usage",
         "Non-usage",
         "Non-usage",
         "Non-usage",
         "Non-usage",
         "Non-usage",
         "Non-usage",
         "Yes",
         "Yes",
         "Usage",
         "Non-usage",
         "Usage",
         "Non-usage",
         "Non-usage",
         "Non-usage",
         "Non-usage",
         "formal other only",
         "Never used",
         "Never used",
         "Never used",
         "Never used",
         "Never used",
         "Never used",
         "Never used",
         "Currently use",
         "Never used",
         "Never used",
         "Never used",
         "Never used",
         "Never used",
         "Never used",
         "No",
         "No",
         "Vulnerable",
         "Yes",
         "No",
         "No",
         "No",
         "Yes",
         "Yes",
         "Yes",
         "No",
         "No",
         "Yes",
         "No",
         "No",
         "No",
         "No",
         "No",
         "No",
         "No",
         "0",
         "0",
         "0",
         "0",
         "Low",
         "Very worried",
         "Very worried",
         "Not at all confident",
         "Worsened",
         "Correct",
         "Correct",
         "Wrong",
         "Two correct",
         "Literate",
         "Cannot read and incorrect",
         "#NULL!",
         "#NULL!",
         "#NULL!",
         "no",
         "no",
         "no",
         "no",
         "no",
         "no",
         "no",
         "no",
         "no",
         "no",
         "no",
         "no",
         "no",
         "no",
         "no",
         "no",
         "no",
         "no",
         "no",
         "no",
         "no",
         "no",
         "no",
         "no",
         "no",
         "no",
         "no",
         "no",
         "no",
         "no",
         "no",
         "no",
         "no",
         "no",
         "no",
         "no",
         "no",
         "no",
         "no",
         "no",
         "no",
         "no",
         "no",
         "no",
         "no",
         "no",
         "no",
         "no",
         "no",
         "0",
         "0",
         "0",
         "0",
         "0",
         "0",
         "0",
         "0",
         "1",
         "0",
         "0",
         "0",
         "0",
         "0",
         "0",
         "0",
         "0",
         "0",
         "0",
         "0",
         "0",
         "0",
         "0",
         "0",
         "0",
         "0",
         "0",
         "0",
         "0",
         "0",
         "0",
         "0",
         "0",
         "0",
         "0",
         "0",
         "0",
         "0",
         "0",
         "0",
         "0",
         "0",
         "0",
         "0",
         "0",
         "1",
         "One",
         "Non Usage",
         "Non Usage",
         "Non Usage",
         "Non Usage",
         "#NULL!",
         "Non Usage",
         "Affordability",
         "Affordability",
         "Affordability",
         "Affordability",
         "Affordability",
         "Awareness",
         "Non Usage",
         "#NULL!",
         "#NULL!",
         "#NULL!",
         "#NULL!",
         "#NULL!",
         "#NULL!",
         "#NULL!",
         "#NULL!",
         "#NULL!",
         "#NULL!",
         "#NULL!",
         "#NULL!",
         "#NULL!",
         "#NULL!",
         "#NULL!",
         "#NULL!",
         "#NULL!",
         "#NULL!",
         "#NULL!",
         "#NULL!",
         "#NULL!",
         "#NULL!",
         "#NULL!",
         "#NULL!",
         "#NULL!",
         "#NULL!",
         "#NULL!",
         "#NULL!",
         "#NULL!",
         "#NULL!",
         "#NULL!",
         "#NULL!",
         "#NULL!",
         "#NULL!",
         "#NULL!",
         "#NULL!",
         "#NULL!",
         "#NULL!",
         "#NULL!",
         "#NULL!",
         "#NULL!",
         "#NULL!",
         "#NULL!",
         "#NULL!",
         "#NULL!",
         "#NULL!",
         "#NULL!",
         "#NULL!",
         "#NULL!",
         "#NULL!",
         "No",
         "No",
         "No",
         "No",
         "No",
         "No",
         "#NULL!",
         "#NULL!",
         "#NULL!",
         "#NULL!",
         "#NULL!",
         "#NULL!",
         "#NULL!",
         "#NULL!",
         "#NULL!",
         "#NULL!",
         "#NULL!",
         "#NULL!",
         "#NULL!",
         "#NULL!",
         "Satisfied",
         "#NULL!",
         "#NULL!",
         "#NULL!",
         "#NULL!",
         "#NULL!",
         "#NULL!",
         "#NULL!",
         "#NULL!",
         "#NULL!",
         "No",
         "#NULL!",
         "Never used",
         "Never used",
         "Without Disability",
         "0.058794",
         "40.305006"
        ],
        [
         "2",
         "32-71-19-84",
         "0008721681d2468aa1ef456bba4475dc",
         "Busia",
         "1514",
         "Urban",
         "3",
         "Household found with competent respondent",
         "Access granted",
         "completed",
         "Female",
         "2",
         "1",
         "1",
         "1",
         "Swahili",
         null,
         "35",
         "Head of household",
         "35",
         "Female",
         "Head of household",
         "Upper primary",
         "#NULL!",
         "Yes",
         "Yes",
         "Female",
         "26-35",
         "Continued with interview",
         "2",
         "\"Primary completed\"",
         null,
         "Divorced/separated",
         "5.0",
         "1",
         "5",
         "No",
         "No- no difficulty",
         "No- no difficulty",
         "No- no difficulty",
         "No- no difficulty",
         "No- no difficulty",
         "No- no difficulty",
         "Educating yourself or your family",
         "Self",
         "Self",
         "Agree",
         "Agree",
         "Agree",
         "Disagree",
         "No",
         "#NULL!",
         "No",
         "Yes",
         "Yes",
         "No",
         "Yes",
         "Sometimes",
         "Never",
         "#NULL!",
         null,
         "Yes",
         "I couldn't come up with the money",
         null,
         "#NULL!",
         "#NULL!",
         "#NULL!",
         "#NULL!",
         "#NULL!",
         "No",
         "No",
         "No",
         "No",
         "No",
         "No",
         "yes",
         "No",
         "No",
         "No",
         "yes",
         "Somewhat worried",
         "Somewhat worried",
         "Somewhat",
         "Improved",
         "1",
         "24",
         "Information from mainstream media / advertisement (newspaper, radio,TV, , billbo",
         null,
         "No",
         "#NULL!",
         "#NULL!",
         null,
         "No",
         "More than KSh 1,000",
         "Less than last year July",
         "Invest in multiple assets",
         "\"IF = KSh 10: then correct \"",
         "1",
         "0",
         "0",
         "1",
         "0",
         "0",
         "0",
         "0",
         "0",
         "0",
         "0",
         "0",
         "0",
         "0",
         null,
         "Casual worker/Seasonal Worker",
         "#NULL!",
         "No",
         "No",
         "#NULL!",
         "#NULL!",
         "#NULL!",
         "#NULL!",
         "#NULL!",
         "#NULL!",
         "#NULL!",
         "#NULL!",
         "#NULL!",
         "#NULL!",
         "#NULL!",
         "#NULL!",
         "#NULL!",
         "#NULL!",
         "#NULL!",
         "#NULL!",
         "#NULL!",
         null,
         "#NULL!",
         "#NULL!",
         "#NULL!",
         "#NULL!",
         "#NULL!",
         "#NULL!",
         "#NULL!",
         "#NULL!",
         "#NULL!",
         "#NULL!",
         "#NULL!",
         "#NULL!",
         "#NULL!",
         "#NULL!",
         null,
         "#NULL!",
         "#NULL!",
         "#NULL!",
         "#NULL!",
         "#NULL!",
         "#NULL!",
         "#NULL!",
         "#NULL!",
         "#NULL!",
         "#NULL!",
         "#NULL!",
         "#NULL!",
         "#NULL!",
         "#NULL!",
         null,
         "#NULL!",
         "#NULL!",
         "#NULL!",
         "#NULL!",
         "#NULL!",
         "#NULL!",
         "#NULL!",
         "#NULL!",
         "#NULL!",
         "#NULL!",
         "#NULL!",
         "#NULL!",
         "#NULL!",
         "#NULL!",
         null,
         "#NULL!",
         "#NULL!",
         "#NULL!",
         "#NULL!",
         "#NULL!",
         "#NULL!",
         "#NULL!",
         "#NULL!",
         "#NULL!",
         "#NULL!",
         "#NULL!",
         "#NULL!",
         "#NULL!",
         "#NULL!",
         null,
         "#NULL!",
         "#NULL!",
         "#NULL!",
         "#NULL!",
         "#NULL!",
         "#NULL!",
         "#NULL!",
         "#NULL!",
         "#NULL!",
         "#NULL!",
         "#NULL!",
         "#NULL!",
         "#NULL!",
         "#NULL!",
         null,
         "#NULL!",
         "#NULL!",
         "#NULL!",
         "#NULL!",
         "#NULL!",
         "#NULL!",
         "#NULL!",
         "#NULL!",
         "#NULL!",
         "#NULL!",
         "#NULL!",
         "#NULL!",
         "#NULL!",
         "#NULL!",
         null,
         "#NULL!",
         "#NULL!",
         "#NULL!",
         "#NULL!",
         "#NULL!",
         "#NULL!",
         "#NULL!",
         "#NULL!",
         "#NULL!",
         "#NULL!",
         "#NULL!",
         "#NULL!",
         "#NULL!",
         "#NULL!",
         null,
         "#NULL!",
         "#NULL!",
         "#NULL!",
         "#NULL!",
         "#NULL!",
         "#NULL!",
         "#NULL!",
         "#NULL!",
         "#NULL!",
         "#NULL!",
         "#NULL!",
         "#NULL!",
         "#NULL!",
         "#NULL!",
         null,
         "#NULL!",
         "#NULL!",
         "#NULL!",
         "#NULL!",
         "#NULL!",
         "#NULL!",
         "#NULL!",
         "#NULL!",
         "#NULL!",
         "#NULL!",
         "#NULL!",
         "#NULL!",
         "#NULL!",
         "#NULL!",
         null,
         "#NULL!",
         "household",
         "Activities of households as employers of domestic personnel",
         "#NULL!",
         "#NULL!",
         "#NULL!",
         "#NULL!",
         "#NULL!",
         "#NULL!",
         null,
         "#NULL!",
         null,
         "3000",
         "3000",
         "1000",
         "1",
         "8",
         "Currently use",
         "Currently use",
         "Never used",
         "#NULL!",
         "#NULL!",
         "#NULL!",
         "#NULL!",
         "#NULL!",
         "#NULL!",
         "#NULL!",
         "#NULL!",
         "#NULL!",
         "#NULL!",
         "#NULL!",
         "#NULL!",
         "#NULL!",
         "#NULL!",
         "#NULL!",
         "#NULL!",
         "#NULL!",
         "#NULL!",
         "#NULL!",
         "#NULL!",
         "#NULL!",
         "#NULL!",
         "#NULL!",
         "#NULL!",
         "#NULL!",
         "#NULL!",
         "#NULL!",
         "#NULL!",
         "#NULL!",
         "#NULL!",
         "#NULL!",
         "#NULL!",
         "#NULL!",
         "#NULL!",
         "#NULL!",
         "#NULL!",
         "#NULL!",
         "#NULL!",
         "#NULL!",
         "#NULL!",
         "#NULL!",
         "#NULL!",
         "#NULL!",
         "#NULL!",
         "#NULL!",
         "#NULL!",
         "#NULL!",
         "#NULL!",
         "#NULL!",
         "#NULL!",
         "#NULL!",
         "#NULL!",
         "#NULL!",
         "#NULL!",
         "Never used",
         "Currently use",
         "Never used",
         "Never used",
         "Currently use",
         "Never used",
         "Never used",
         "Currently use",
         "Never used",
         "Never used",
         "Never used",
         "Never used",
         "Never used",
         "Never used",
         "Never used",
         "Never used",
         "Used to use",
         "Never used",
         "Never used",
         "Never used",
         "Never used",
         "Never used",
         "Never used",
         "Never used",
         "Never used",
         "Never used",
         "Never used",
         "Never used",
         "Never used",
         "Never used",
         "Never used",
         "Never used",
         "Never used",
         "Never used",
         "Never used",
         "Never used",
         "Never used",
         "Never used",
         "Never used",
         "Never used",
         "Never used",
         "Never used",
         "Never used",
         "Never used",
         "3",
         "Never used",
         "No",
         "#NULL!",
         "#NULL!",
         "#NULL!",
         "Mobile banking provider",
         null,
         "Don't know",
         null,
         "#NULL!",
         "#NULL!",
         "#NULL!",
         "#NULL!",
         "#NULL!",
         "#NULL!",
         "#NULL!",
         "#NULL!",
         "#NULL!",
         "#NULL!",
         "#NULL!",
         "#NULL!",
         "#NULL!",
         "1",
         "0",
         "0",
         "0",
         "0",
         "0",
         "0",
         "0",
         "0",
         "0",
         "0",
         null,
         "#NULL!",
         null,
         "Refused to Answer",
         "Refused to Answer",
         "#NULL!",
         "#NULL!",
         "Refused to Answer",
         "No",
         "No",
         "No",
         "No",
         "No",
         "#NULL!",
         "Refused to Answer",
         "#NULL!",
         "#NULL!",
         "#NULL!",
         "#NULL!",
         "#NULL!",
         "#NULL!",
         "#NULL!",
         "#NULL!",
         "#NULL!",
         "#NULL!",
         "Refused to Answer",
         "Refused to Answer",
         "Refused to Answer",
         "Refused to Answer",
         "Refused to Answer",
         "Refused to Answer",
         "No",
         "#NULL!",
         "#NULL!",
         "#NULL!",
         "#NULL!",
         "#NULL!",
         "#NULL!",
         "#NULL!",
         "#NULL!",
         "#NULL!",
         null,
         "1",
         "0",
         "0",
         "0",
         "0",
         "0",
         "0",
         null,
         "#NULL!",
         "#NULL!",
         "#NULL!",
         "#NULL!",
         "#NULL!",
         "#NULL!",
         "#NULL!",
         "#NULL!",
         "#NULL!",
         "#NULL!",
         null,
         "#NULL!",
         null,
         "#NULL!",
         null,
         "#NULL!",
         "#NULL!",
         "#NULL!",
         "#NULL!",
         "#NULL!",
         "#NULL!",
         "#NULL!",
         "#NULL!",
         "#NULL!",
         "#NULL!",
         "#NULL!",
         "#NULL!",
         "#NULL!",
         "#NULL!",
         "#NULL!",
         "#NULL!",
         "#NULL!",
         "#NULL!",
         "#NULL!",
         "#NULL!",
         "#NULL!",
         "#NULL!",
         "#NULL!",
         "#NULL!",
         "#NULL!",
         "#NULL!",
         "#NULL!",
         "#NULL!",
         "No",
         "#NULL!",
         "#NULL!",
         "#NULL!",
         "#NULL!",
         "#NULL!",
         "#NULL!",
         "#NULL!",
         "#NULL!",
         "#NULL!",
         "#NULL!",
         "#NULL!",
         "#NULL!",
         "#NULL!",
         "0",
         "0",
         "0",
         "0",
         "0",
         "0",
         "#NULL!",
         "#NULL!",
         "#NULL!",
         null,
         "#NULL!",
         "#NULL!",
         "#NULL!",
         "#NULL!",
         "#NULL!",
         "#NULL!",
         "#NULL!",
         "#NULL!",
         "#NULL!",
         "#NULL!",
         "#NULL!",
         "#NULL!",
         "#NULL!",
         "#NULL!",
         "#NULL!",
         "#NULL!",
         "#NULL!",
         null,
         "#NULL!",
         "#NULL!",
         "#NULL!",
         "#NULL!",
         "#NULL!",
         "#NULL!",
         "#NULL!",
         "#NULL!",
         "0",
         "#NULL!",
         "#NULL!",
         "#NULL!",
         null,
         "#NULL!",
         "#NULL!",
         "#NULL!",
         "#NULL!",
         "#NULL!",
         "#NULL!",
         "#NULL!",
         "#NULL!",
         "#NULL!",
         "#NULL!",
         null,
         "#NULL!",
         "#NULL!",
         "#NULL!",
         null,
         "#NULL!",
         null,
         "#NULL!",
         null,
         "#NULL!",
         null,
         "#NULL!",
         "#NULL!",
         "#NULL!",
         "#NULL!",
         "#NULL!",
         "#NULL!",
         "#NULL!",
         "#NULL!",
         null,
         "#NULL!",
         null,
         "#NULL!",
         null,
         "#NULL!",
         null,
         "#NULL!",
         "#NULL!",
         "#NULL!",
         "#NULL!",
         "#NULL!",
         "#NULL!",
         "#NULL!",
         "#NULL!",
         null,
         "#NULL!",
         null,
         "#NULL!",
         null,
         "#NULL!",
         null,
         "#NULL!",
         "#NULL!",
         "#NULL!",
         "#NULL!",
         "#NULL!",
         "#NULL!",
         "#NULL!",
         null,
         "#NULL!",
         null,
         "#NULL!",
         null,
         "#NULL!",
         "#NULL!",
         "#NULL!",
         "#NULL!",
         "#NULL!",
         "#NULL!",
         "#NULL!",
         null,
         "#NULL!",
         null,
         "#NULL!",
         "#NULL!",
         "#NULL!",
         "#NULL!",
         "#NULL!",
         "#NULL!",
         "#NULL!",
         "#NULL!",
         null,
         "#NULL!",
         "#NULL!",
         "#NULL!",
         "#NULL!",
         "#NULL!",
         "#NULL!",
         "#NULL!",
         null,
         "#NULL!",
         null,
         "#NULL!",
         null,
         "#NULL!",
         null,
         "#NULL!",
         "#NULL!",
         "#NULL!",
         "#NULL!",
         "#NULL!",
         "#NULL!",
         "#NULL!",
         "#NULL!",
         null,
         "#NULL!",
         null,
         "#NULL!",
         null,
         "#NULL!",
         null,
         "#NULL!",
         "#NULL!",
         "#NULL!",
         "#NULL!",
         "#NULL!",
         "#NULL!",
         "#NULL!",
         "#NULL!",
         null,
         "#NULL!",
         null,
         "#NULL!",
         null,
         "#NULL!",
         "#NULL!",
         "#NULL!",
         "#NULL!",
         "#NULL!",
         "#NULL!",
         "#NULL!",
         "#NULL!",
         null,
         "#NULL!",
         null,
         "#NULL!",
         null,
         "#NULL!",
         null,
         "#NULL!",
         "#NULL!",
         "#NULL!",
         "#NULL!",
         "#NULL!",
         "#NULL!",
         "#NULL!",
         "#NULL!",
         null,
         "#NULL!",
         null,
         "#NULL!",
         null,
         "#NULL!",
         null,
         "#NULL!",
         "#NULL!",
         "#NULL!",
         "#NULL!",
         "#NULL!",
         "#NULL!",
         "#NULL!",
         "#NULL!",
         null,
         "#NULL!",
         null,
         "#NULL!",
         null,
         "#NULL!",
         null,
         "#NULL!",
         "#NULL!",
         "#NULL!",
         "#NULL!",
         "#NULL!",
         "#NULL!",
         "#NULL!",
         "#NULL!",
         null,
         "#NULL!",
         null,
         "#NULL!",
         null,
         "#NULL!",
         "#NULL!",
         "#NULL!",
         "#NULL!",
         "#NULL!",
         "#NULL!",
         "#NULL!",
         "#NULL!",
         null,
         "#NULL!",
         null,
         "#NULL!",
         null,
         "#NULL!",
         "#NULL!",
         "#NULL!",
         "#NULL!",
         "#NULL!",
         "#NULL!",
         "#NULL!",
         "#NULL!",
         null,
         "#NULL!",
         null,
         "#NULL!",
         null,
         "#NULL!",
         "#NULL!",
         "#NULL!",
         "#NULL!",
         "#NULL!",
         "#NULL!",
         "#NULL!",
         "#NULL!",
         null,
         "#NULL!",
         null,
         "#NULL!",
         null,
         "#NULL!",
         null,
         "#NULL!",
         "#NULL!",
         "#NULL!",
         "#NULL!",
         "#NULL!",
         "#NULL!",
         "#NULL!",
         null,
         "#NULL!",
         null,
         "#NULL!",
         null,
         "#NULL!",
         "#NULL!",
         "#NULL!",
         "#NULL!",
         "#NULL!",
         "#NULL!",
         "#NULL!",
         null,
         "#NULL!",
         "#NULL!",
         "#NULL!",
         "#NULL!",
         "#NULL!",
         "#NULL!",
         "#NULL!",
         null,
         "#NULL!",
         null,
         "#NULL!",
         null,
         "#NULL!",
         "#NULL!",
         "#NULL!",
         "#NULL!",
         "#NULL!",
         "#NULL!",
         "#NULL!",
         null,
         "#NULL!",
         null,
         "#NULL!",
         null,
         "#NULL!",
         null,
         "#NULL!",
         "#NULL!",
         "#NULL!",
         "#NULL!",
         "#NULL!",
         "#NULL!",
         "#NULL!",
         "#NULL!",
         null,
         "#NULL!",
         null,
         "#NULL!",
         null,
         "#NULL!",
         null,
         "#NULL!",
         "#NULL!",
         "#NULL!",
         "#NULL!",
         "#NULL!",
         "#NULL!",
         "#NULL!",
         null,
         "#NULL!",
         "#NULL!",
         "#NULL!",
         "#NULL!",
         "#NULL!",
         "#NULL!",
         "#NULL!",
         "#NULL!",
         "#NULL!",
         "#NULL!",
         "#NULL!",
         "#NULL!",
         "#NULL!",
         "#NULL!",
         "#NULL!",
         "#NULL!",
         "#NULL!",
         "#NULL!",
         "#NULL!",
         "#NULL!",
         "#NULL!",
         "#NULL!",
         "#NULL!",
         "#NULL!",
         "#NULL!",
         "#NULL!",
         "#NULL!",
         "#NULL!",
         "#NULL!",
         "#NULL!",
         "#NULL!",
         "#NULL!",
         "#NULL!",
         "#NULL!",
         "#NULL!",
         "#NULL!",
         "#NULL!",
         "#NULL!",
         "#NULL!",
         "#NULL!",
         "#NULL!",
         "#NULL!",
         null,
         "#NULL!",
         null,
         "#NULL!",
         "#NULL!",
         "#NULL!",
         "#NULL!",
         "#NULL!",
         "#NULL!",
         "#NULL!",
         "#NULL!",
         "#NULL!",
         "#NULL!",
         "#NULL!",
         "#NULL!",
         "#NULL!",
         "#NULL!",
         "#NULL!",
         "#NULL!",
         "0",
         "0",
         "1",
         "0",
         "0",
         "0",
         "0",
         "0",
         "0",
         "0",
         "#NULL!",
         "#NULL!",
         "0",
         "#NULL!",
         "#NULL!",
         "#NULL!",
         "#NULL!",
         "#NULL!",
         "#NULL!",
         "No",
         "#NULL!",
         "#NULL!",
         "#NULL!",
         "#NULL!",
         "#NULL!",
         "#NULL!",
         "#NULL!",
         "#NULL!",
         "0",
         "1",
         "0",
         "0",
         "0",
         "0",
         null,
         "#NULL!",
         "#NULL!",
         "#NULL!",
         "#NULL!",
         "#NULL!",
         "#NULL!",
         "#NULL!",
         "#NULL!",
         "#NULL!",
         "#NULL!",
         null,
         "#NULL!",
         "#NULL!",
         "#NULL!",
         "#NULL!",
         "#NULL!",
         "#NULL!",
         "#NULL!",
         "0",
         "#NULL!",
         "#NULL!",
         "#NULL!",
         null,
         "#NULL!",
         null,
         "#NULL!",
         null,
         "#NULL!",
         null,
         "#NULL!",
         null,
         "#NULL!",
         null,
         "#NULL!",
         null,
         "Education",
         null,
         "Convenient",
         null,
         "Irregularly/ Whenever I get money",
         null,
         "#NULL!",
         null,
         "#NULL!",
         null,
         "#NULL!",
         null,
         "#NULL!",
         null,
         "#NULL!",
         null,
         "#NULL!",
         null,
         "Education",
         null,
         "Secure/trustworthy",
         null,
         "Monthly",
         null,
         "#NULL!",
         null,
         "#NULL!",
         null,
         "#NULL!",
         null,
         "#NULL!",
         null,
         "#NULL!",
         null,
         "#NULL!",
         null,
         "#NULL!",
         null,
         "#NULL!",
         null,
         "#NULL!",
         null,
         "#NULL!",
         null,
         "#NULL!",
         null,
         "#NULL!",
         null,
         "#NULL!",
         null,
         "#NULL!",
         null,
         "#NULL!",
         null,
         "#NULL!",
         null,
         "#NULL!",
         null,
         "#NULL!",
         null,
         "Mobile banking Platform",
         null,
         "#NULL!",
         "#NULL!",
         "#NULL!",
         "#NULL!",
         "#NULL!",
         "#NULL!",
         "#NULL!",
         "#NULL!",
         "#NULL!",
         "#NULL!",
         "#NULL!",
         "#NULL!",
         null,
         "0",
         "1",
         "0",
         "0",
         "0",
         "0",
         "0",
         "0",
         "0",
         "0",
         "0",
         null,
         "#NULL!",
         "#NULL!",
         "#NULL!",
         "#NULL!",
         "#NULL!",
         "#NULL!",
         "#NULL!",
         "#NULL!",
         null,
         "#NULL!",
         null,
         "#NULL!",
         null,
         "#NULL!",
         null,
         "#NULL!",
         null,
         "#NULL!",
         null,
         "#NULL!",
         "#NULL!",
         "#NULL!",
         "#NULL!",
         "#NULL!",
         "#NULL!",
         "#NULL!",
         "#NULL!",
         "#NULL!",
         "#NULL!",
         "#NULL!",
         null,
         "#NULL!",
         "#NULL!",
         "#NULL!",
         "#NULL!",
         "#NULL!",
         "#NULL!",
         "#NULL!",
         "#NULL!",
         "#NULL!",
         "#NULL!",
         null,
         "#NULL!",
         "#NULL!",
         "#NULL!",
         "#NULL!",
         "#NULL!",
         "#NULL!",
         "#NULL!",
         "1",
         "0",
         "0",
         "0",
         "0",
         "0",
         "0",
         "0",
         "0",
         "0",
         "0",
         "0",
         "0",
         "0",
         "0",
         null,
         "Cash",
         null,
         "0",
         "1",
         "0",
         "0",
         "0",
         "0",
         "0",
         "0",
         "0",
         "0",
         "0",
         "0",
         "0",
         "0",
         "0",
         null,
         "Mobile money (Send money) (M-Pesa, Airtel Money,Tkash)",
         null,
         "0",
         "0",
         "0",
         "0",
         "0",
         "0",
         "0",
         "0",
         "0",
         "0",
         "0",
         "1",
         "0",
         "0",
         "0",
         null,
         "Did not do this",
         null,
         "1",
         "0",
         "0",
         "0",
         "0",
         "0",
         "0",
         "0",
         "0",
         "0",
         "0",
         "0",
         "0",
         "0",
         "0",
         null,
         "Cash",
         null,
         "0",
         "1",
         "0",
         "0",
         "0",
         "0",
         "0",
         "0",
         "0",
         "0",
         "0",
         "0",
         "0",
         "0",
         "0",
         "0",
         null,
         "Mobile money (Send money) (M-Pesa, Airtel Money,Tkash)",
         null,
         "0",
         "0",
         "0",
         "0",
         "0",
         "0",
         "0",
         "0",
         "0",
         "0",
         "0",
         "0",
         "1",
         "0",
         "0",
         "0",
         null,
         "Did not do this",
         null,
         "0",
         "1",
         "0",
         "0",
         "0",
         "0",
         "0",
         "0",
         "0",
         "0",
         "0",
         "0",
         "0",
         "0",
         "0",
         "0",
         null,
         "Mobile money (Send money) (M-Pesa, Airtel Money,Tkash)",
         null,
         "0",
         "0",
         "0",
         "0",
         "0",
         "0",
         "0",
         "0",
         "0",
         "0",
         "0",
         "0",
         "1",
         "0",
         "0",
         "0",
         null,
         "Did not do this",
         null,
         "1",
         "0",
         "0",
         "0",
         "0",
         "0",
         "0",
         "0",
         "0",
         "0",
         "0",
         "0",
         "0",
         "0",
         "0",
         "0",
         null,
         "Cash",
         null,
         "Three quarters or more",
         "#NULL!",
         "#NULL!",
         "#NULL!",
         "#NULL!",
         "#NULL!",
         "#NULL!",
         "#NULL!",
         "#NULL!",
         "#NULL!",
         "#NULL!",
         "#NULL!",
         "#NULL!",
         "#NULL!",
         "#NULL!",
         "#NULL!",
         "#NULL!",
         "#NULL!",
         "#NULL!",
         "#NULL!",
         "#NULL!",
         "#NULL!",
         "#NULL!",
         "#NULL!",
         "#NULL!",
         "#NULL!",
         "#NULL!",
         "#NULL!",
         "#NULL!",
         "#NULL!",
         "#NULL!",
         "#NULL!",
         "#NULL!",
         "#NULL!",
         "#NULL!",
         "#NULL!",
         "#NULL!",
         "#NULL!",
         "#NULL!",
         "#NULL!",
         "#NULL!",
         "#NULL!",
         "#NULL!",
         "#NULL!",
         "#NULL!",
         "#NULL!",
         "#NULL!",
         "#NULL!",
         "#NULL!",
         "#NULL!",
         "#NULL!",
         "#NULL!",
         "#NULL!",
         "#NULL!",
         "#NULL!",
         "#NULL!",
         "#NULL!",
         "#NULL!",
         "#NULL!",
         "#NULL!",
         "#NULL!",
         "#NULL!",
         "#NULL!",
         "#NULL!",
         "#NULL!",
         "#NULL!",
         "#NULL!",
         "#NULL!",
         "#NULL!",
         "#NULL!",
         "#NULL!",
         "#NULL!",
         "#NULL!",
         "#NULL!",
         "#NULL!",
         "#NULL!",
         "#NULL!",
         "#NULL!",
         "#NULL!",
         "#NULL!",
         "#NULL!",
         "#NULL!",
         "#NULL!",
         "#NULL!",
         "#NULL!",
         "#NULL!",
         "#NULL!",
         "#NULL!",
         "#NULL!",
         "#NULL!",
         "#NULL!",
         "#NULL!",
         "#NULL!",
         "#NULL!",
         "#NULL!",
         "#NULL!",
         "#NULL!",
         "#NULL!",
         "#NULL!",
         "#NULL!",
         "#NULL!",
         "#NULL!",
         "#NULL!",
         "#NULL!",
         "#NULL!",
         "#NULL!",
         "#NULL!",
         "#NULL!",
         "#NULL!",
         "#NULL!",
         "#NULL!",
         "#NULL!",
         "#NULL!",
         "#NULL!",
         "#NULL!",
         "#NULL!",
         "#NULL!",
         "#NULL!",
         "#NULL!",
         "#NULL!",
         "#NULL!",
         "#NULL!",
         "#NULL!",
         "#NULL!",
         "#NULL!",
         "#NULL!",
         "#NULL!",
         "#NULL!",
         "#NULL!",
         "#NULL!",
         "#NULL!",
         "#NULL!",
         "#NULL!",
         "#NULL!",
         "#NULL!",
         "#NULL!",
         "#NULL!",
         "#NULL!",
         "#NULL!",
         "#NULL!",
         "#NULL!",
         "#NULL!",
         "#NULL!",
         "#NULL!",
         "#NULL!",
         "#NULL!",
         "#NULL!",
         "#NULL!",
         "#NULL!",
         "#NULL!",
         "#NULL!",
         "#NULL!",
         "#NULL!",
         "#NULL!",
         "#NULL!",
         "#NULL!",
         "#NULL!",
         "#NULL!",
         "#NULL!",
         "#NULL!",
         "#NULL!",
         "#NULL!",
         "#NULL!",
         "#NULL!",
         "#NULL!",
         "#NULL!",
         "#NULL!",
         "#NULL!",
         "#NULL!",
         "#NULL!",
         "#NULL!",
         "#NULL!",
         "#NULL!",
         "#NULL!",
         "#NULL!",
         "#NULL!",
         "#NULL!",
         "#NULL!",
         "#NULL!",
         "#NULL!",
         "#NULL!",
         "#NULL!",
         "#NULL!",
         "#NULL!",
         "#NULL!",
         "#NULL!",
         "#NULL!",
         "#NULL!",
         "#NULL!",
         "#NULL!",
         "#NULL!",
         "#NULL!",
         "#NULL!",
         "#NULL!",
         "#NULL!",
         "#NULL!",
         null,
         "#NULL!",
         "#NULL!",
         "#NULL!",
         null,
         "#NULL!",
         "#NULL!",
         "#NULL!",
         "#NULL!",
         "#NULL!",
         "#NULL!",
         "#NULL!",
         "#NULL!",
         "#NULL!",
         "#NULL!",
         "#NULL!",
         "#NULL!",
         "#NULL!",
         "#NULL!",
         "#NULL!",
         "#NULL!",
         "#NULL!",
         "#NULL!",
         "#NULL!",
         "#NULL!",
         "#NULL!",
         "#NULL!",
         "#NULL!",
         "#NULL!",
         "#NULL!",
         "#NULL!",
         "#NULL!",
         "#NULL!",
         "#NULL!",
         "#NULL!",
         "#NULL!",
         "#NULL!",
         "#NULL!",
         "#NULL!",
         "#NULL!",
         "#NULL!",
         "#NULL!",
         "#NULL!",
         "#NULL!",
         "#NULL!",
         "#NULL!",
         "#NULL!",
         "#NULL!",
         "#NULL!",
         "#NULL!",
         "#NULL!",
         "#NULL!",
         "#NULL!",
         "#NULL!",
         "#NULL!",
         "#NULL!",
         "#NULL!",
         "#NULL!",
         "#NULL!",
         "#NULL!",
         "#NULL!",
         "#NULL!",
         "#NULL!",
         "#NULL!",
         "#NULL!",
         "#NULL!",
         "#NULL!",
         "#NULL!",
         "#NULL!",
         "#NULL!",
         "#NULL!",
         "#NULL!",
         "#NULL!",
         "#NULL!",
         "#NULL!",
         "#NULL!",
         "#NULL!",
         "#NULL!",
         "#NULL!",
         "#NULL!",
         "#NULL!",
         "#NULL!",
         "#NULL!",
         "#NULL!",
         "#NULL!",
         "#NULL!",
         "#NULL!",
         "#NULL!",
         "#NULL!",
         "#NULL!",
         "#NULL!",
         "#NULL!",
         "#NULL!",
         "#NULL!",
         "#NULL!",
         "#NULL!",
         "#NULL!",
         "#NULL!",
         "#NULL!",
         "#NULL!",
         "#NULL!",
         "#NULL!",
         "#NULL!",
         "#NULL!",
         "#NULL!",
         "#NULL!",
         "#NULL!",
         "#NULL!",
         "#NULL!",
         "#NULL!",
         "#NULL!",
         "#NULL!",
         "#NULL!",
         "#NULL!",
         "#NULL!",
         "#NULL!",
         "#NULL!",
         "#NULL!",
         "#NULL!",
         "#NULL!",
         "#NULL!",
         "#NULL!",
         "#NULL!",
         "#NULL!",
         "#NULL!",
         "#NULL!",
         "#NULL!",
         "#NULL!",
         "#NULL!",
         "#NULL!",
         "#NULL!",
         "#NULL!",
         "#NULL!",
         "#NULL!",
         "#NULL!",
         "#NULL!",
         "#NULL!",
         "#NULL!",
         "#NULL!",
         "#NULL!",
         "#NULL!",
         "#NULL!",
         "#NULL!",
         "#NULL!",
         "#NULL!",
         "#NULL!",
         "#NULL!",
         "#NULL!",
         "#NULL!",
         "#NULL!",
         "#NULL!",
         "#NULL!",
         "#NULL!",
         "#NULL!",
         "#NULL!",
         "#NULL!",
         "#NULL!",
         "#NULL!",
         "#NULL!",
         "#NULL!",
         "#NULL!",
         "#NULL!",
         "#NULL!",
         "#NULL!",
         "#NULL!",
         "#NULL!",
         "#NULL!",
         "#NULL!",
         "#NULL!",
         "#NULL!",
         "#NULL!",
         "#NULL!",
         "#NULL!",
         "#NULL!",
         "#NULL!",
         "#NULL!",
         "#NULL!",
         "#NULL!",
         "#NULL!",
         "#NULL!",
         "#NULL!",
         "#NULL!",
         "#NULL!",
         "#NULL!",
         "#NULL!",
         "#NULL!",
         "#NULL!",
         "#NULL!",
         "#NULL!",
         "#NULL!",
         "#NULL!",
         "#NULL!",
         "#NULL!",
         "#NULL!",
         "#NULL!",
         "#NULL!",
         "#NULL!",
         "#NULL!",
         "#NULL!",
         "#NULL!",
         null,
         "#NULL!",
         "#NULL!",
         "#NULL!",
         "#NULL!",
         null,
         "No/Hapana",
         "1",
         "0",
         "0",
         "0",
         "0",
         "0",
         "0",
         "0",
         "#NULL!",
         "0",
         "0",
         "0",
         null,
         "1",
         "#NULL!",
         "#NULL!",
         "#NULL!",
         "#NULL!",
         "#NULL!",
         "#NULL!",
         "#NULL!",
         "#NULL!",
         "#NULL!",
         "#NULL!",
         "#NULL!",
         "#NULL!",
         "#NULL!",
         "#NULL!",
         "#NULL!",
         "#NULL!",
         "#NULL!",
         "#NULL!",
         "#NULL!",
         "#NULL!",
         "#NULL!",
         "#NULL!",
         "#NULL!",
         "#NULL!",
         "#NULL!",
         "#NULL!",
         "#NULL!",
         "#NULL!",
         "#NULL!",
         "#NULL!",
         "#NULL!",
         "#NULL!",
         "#NULL!",
         "#NULL!",
         "#NULL!",
         "#NULL!",
         "#NULL!",
         "#NULL!",
         "#NULL!",
         "#NULL!",
         "#NULL!",
         "#NULL!",
         "#NULL!",
         "#NULL!",
         "#NULL!",
         "#NULL!",
         "#NULL!",
         "#NULL!",
         "#NULL!",
         "#NULL!",
         "#NULL!",
         "#NULL!",
         "#NULL!",
         "#NULL!",
         "#NULL!",
         null,
         "#NULL!",
         null,
         "#NULL!",
         "#NULL!",
         "#NULL!",
         "#NULL!",
         "#NULL!",
         "#NULL!",
         "#NULL!",
         "#NULL!",
         "#NULL!",
         "#NULL!",
         "#NULL!",
         "#NULL!",
         "#NULL!",
         "#NULL!",
         "#NULL!",
         "#NULL!",
         "#NULL!",
         "#NULL!",
         "#NULL!",
         "#NULL!",
         "#NULL!",
         "#NULL!",
         "#NULL!",
         "#NULL!",
         "#NULL!",
         "#NULL!",
         "#NULL!",
         "#NULL!",
         "#NULL!",
         "#NULL!",
         "#NULL!",
         "#NULL!",
         "#NULL!",
         "#NULL!",
         "#NULL!",
         "#NULL!",
         "#NULL!",
         "#NULL!",
         "#NULL!",
         "#NULL!",
         "#NULL!",
         "#NULL!",
         "#NULL!",
         "#NULL!",
         "#NULL!",
         "#NULL!",
         "#NULL!",
         "#NULL!",
         "#NULL!",
         "#NULL!",
         "#NULL!",
         "#NULL!",
         "#NULL!",
         "#NULL!",
         "#NULL!",
         "#NULL!",
         "#NULL!",
         "#NULL!",
         "#NULL!",
         "#NULL!",
         "#NULL!",
         "#NULL!",
         "#NULL!",
         "#NULL!",
         "#NULL!",
         "#NULL!",
         "#NULL!",
         "#NULL!",
         "#NULL!",
         "#NULL!",
         "#NULL!",
         "#NULL!",
         "#NULL!",
         "#NULL!",
         "#NULL!",
         "#NULL!",
         "#NULL!",
         "#NULL!",
         "#NULL!",
         "#NULL!",
         "#NULL!",
         "#NULL!",
         "#NULL!",
         "#NULL!",
         "#NULL!",
         "#NULL!",
         "#NULL!",
         "#NULL!",
         "#NULL!",
         "#NULL!",
         "#NULL!",
         "#NULL!",
         "#NULL!",
         "#NULL!",
         "#NULL!",
         "#NULL!",
         "#NULL!",
         "#NULL!",
         "#NULL!",
         "#NULL!",
         "#NULL!",
         "#NULL!",
         "#NULL!",
         "#NULL!",
         "#NULL!",
         "#NULL!",
         "#NULL!",
         "#NULL!",
         "#NULL!",
         "#NULL!",
         "#NULL!",
         "#NULL!",
         "#NULL!",
         "#NULL!",
         "#NULL!",
         "#NULL!",
         "#NULL!",
         "#NULL!",
         "#NULL!",
         "#NULL!",
         "#NULL!",
         "#NULL!",
         "#NULL!",
         "#NULL!",
         "#NULL!",
         "#NULL!",
         "#NULL!",
         "#NULL!",
         "#NULL!",
         "#NULL!",
         "#NULL!",
         "#NULL!",
         "#NULL!",
         "#NULL!",
         "#NULL!",
         "#NULL!",
         "#NULL!",
         "#NULL!",
         "#NULL!",
         "#NULL!",
         "#NULL!",
         "#NULL!",
         "#NULL!",
         "#NULL!",
         "#NULL!",
         "#NULL!",
         "#NULL!",
         "#NULL!",
         "#NULL!",
         "#NULL!",
         "#NULL!",
         "#NULL!",
         "#NULL!",
         "#NULL!",
         "#NULL!",
         "#NULL!",
         "#NULL!",
         "#NULL!",
         "#NULL!",
         "#NULL!",
         "#NULL!",
         "#NULL!",
         "#NULL!",
         "#NULL!",
         "#NULL!",
         "#NULL!",
         "#NULL!",
         "#NULL!",
         "#NULL!",
         "#NULL!",
         "#NULL!",
         "#NULL!",
         "#NULL!",
         "#NULL!",
         "#NULL!",
         "#NULL!",
         "#NULL!",
         "#NULL!",
         "#NULL!",
         "#NULL!",
         "#NULL!",
         "#NULL!",
         "#NULL!",
         null,
         "#NULL!",
         "#NULL!",
         "#NULL!",
         "#NULL!",
         "#NULL!",
         "#NULL!",
         "#NULL!",
         "#NULL!",
         "#NULL!",
         "#NULL!",
         "#NULL!",
         "#NULL!",
         "#NULL!",
         null,
         "#NULL!",
         "#NULL!",
         "#NULL!",
         "#NULL!",
         "#NULL!",
         "#NULL!",
         "#NULL!",
         "#NULL!",
         "#NULL!",
         "#NULL!",
         "#NULL!",
         null,
         "#NULL!",
         "#NULL!",
         "#NULL!",
         "#NULL!",
         "#NULL!",
         "#NULL!",
         "#NULL!",
         "#NULL!",
         "#NULL!",
         "#NULL!",
         "#NULL!",
         "#NULL!",
         "#NULL!",
         "#NULL!",
         "#NULL!",
         "#NULL!",
         "#NULL!",
         "#NULL!",
         "#NULL!",
         "#NULL!",
         "#NULL!",
         "#NULL!",
         "#NULL!",
         "#NULL!",
         "#NULL!",
         "#NULL!",
         "#NULL!",
         "#NULL!",
         "#NULL!",
         "#NULL!",
         "#NULL!",
         "#NULL!",
         "#NULL!",
         "#NULL!",
         "#NULL!",
         "#NULL!",
         "#NULL!",
         "#NULL!",
         "#NULL!",
         "#NULL!",
         "#NULL!",
         "#NULL!",
         "#NULL!",
         "#NULL!",
         "#NULL!",
         "#NULL!",
         "#NULL!",
         "#NULL!",
         "#NULL!",
         "#NULL!",
         "#NULL!",
         "#NULL!",
         "#NULL!",
         "#NULL!",
         "#NULL!",
         "#NULL!",
         "#NULL!",
         "#NULL!",
         "#NULL!",
         "#NULL!",
         "#NULL!",
         "#NULL!",
         "#NULL!",
         "#NULL!",
         "#NULL!",
         "#NULL!",
         "#NULL!",
         "#NULL!",
         "#NULL!",
         "#NULL!",
         "#NULL!",
         "#NULL!",
         "#NULL!",
         "#NULL!",
         "#NULL!",
         "#NULL!",
         "#NULL!",
         "#NULL!",
         "#NULL!",
         "#NULL!",
         "#NULL!",
         "#NULL!",
         "#NULL!",
         "#NULL!",
         "#NULL!",
         "#NULL!",
         "#NULL!",
         "#NULL!",
         "#NULL!",
         "#NULL!",
         "#NULL!",
         "#NULL!",
         "#NULL!",
         "#NULL!",
         "#NULL!",
         "#NULL!",
         "#NULL!",
         "#NULL!",
         "#NULL!",
         "#NULL!",
         "#NULL!",
         null,
         "#NULL!",
         null,
         "#NULL!",
         "#NULL!",
         "#NULL!",
         "#NULL!",
         "#NULL!",
         "#NULL!",
         "#NULL!",
         "#NULL!",
         "#NULL!",
         null,
         "#NULL!",
         "#NULL!",
         "#NULL!",
         "#NULL!",
         "#NULL!",
         "#NULL!",
         "#NULL!",
         "#NULL!",
         "#NULL!",
         null,
         "#NULL!",
         "#NULL!",
         "#NULL!",
         "#NULL!",
         "#NULL!",
         "#NULL!",
         "#NULL!",
         "1",
         "#NULL!",
         "#NULL!",
         "#NULL!",
         "#NULL!",
         "#NULL!",
         "#NULL!",
         "#NULL!",
         "#NULL!",
         "#NULL!",
         "#NULL!",
         "#NULL!",
         "#NULL!",
         null,
         "Dont know about Saccos/Never heard about Saccos",
         null,
         "#NULL!",
         "#NULL!",
         "#NULL!",
         "#NULL!",
         "#NULL!",
         "#NULL!",
         "#NULL!",
         "#NULL!",
         "#NULL!",
         "#NULL!",
         "#NULL!",
         "#NULL!",
         "#NULL!",
         "#NULL!",
         "#NULL!",
         "#NULL!",
         "#NULL!",
         "#NULL!",
         "#NULL!",
         "#NULL!",
         "#NULL!",
         "#NULL!",
         "#NULL!",
         "#NULL!",
         "#NULL!",
         "#NULL!",
         "#NULL!",
         "#NULL!",
         "#NULL!",
         "#NULL!",
         "#NULL!",
         "#NULL!",
         "#NULL!",
         "#NULL!",
         "#NULL!",
         "#NULL!",
         "#NULL!",
         "#NULL!",
         "#NULL!",
         "#NULL!",
         "#NULL!",
         "#NULL!",
         "#NULL!",
         "#NULL!",
         "#NULL!",
         "#NULL!",
         "#NULL!",
         "#NULL!",
         "#NULL!",
         "#NULL!",
         "#NULL!",
         "#NULL!",
         "#NULL!",
         "#NULL!",
         "#NULL!",
         "#NULL!",
         "#NULL!",
         "#NULL!",
         "#NULL!",
         "#NULL!",
         "#NULL!",
         "#NULL!",
         "#NULL!",
         "#NULL!",
         "#NULL!",
         "#NULL!",
         "#NULL!",
         "#NULL!",
         "#NULL!",
         "#NULL!",
         "#NULL!",
         "#NULL!",
         "#NULL!",
         "#NULL!",
         "#NULL!",
         "#NULL!",
         "#NULL!",
         "#NULL!",
         "#NULL!",
         "#NULL!",
         "#NULL!",
         "#NULL!",
         "#NULL!",
         "#NULL!",
         "#NULL!",
         "#NULL!",
         "#NULL!",
         "#NULL!",
         "#NULL!",
         "#NULL!",
         "#NULL!",
         "#NULL!",
         "#NULL!",
         "#NULL!",
         "#NULL!",
         "#NULL!",
         "#NULL!",
         "#NULL!",
         "#NULL!",
         "#NULL!",
         "#NULL!",
         "#NULL!",
         "#NULL!",
         "#NULL!",
         "#NULL!",
         "#NULL!",
         "#NULL!",
         "#NULL!",
         "#NULL!",
         "#NULL!",
         "#NULL!",
         "#NULL!",
         "#NULL!",
         "#NULL!",
         "#NULL!",
         "#NULL!",
         "#NULL!",
         "#NULL!",
         "#NULL!",
         "#NULL!",
         "#NULL!",
         "#NULL!",
         "#NULL!",
         "#NULL!",
         "#NULL!",
         "#NULL!",
         "#NULL!",
         "#NULL!",
         "#NULL!",
         "#NULL!",
         "#NULL!",
         "#NULL!",
         "#NULL!",
         "#NULL!",
         "#NULL!",
         "#NULL!",
         "#NULL!",
         "#NULL!",
         "#NULL!",
         "#NULL!",
         "#NULL!",
         "#NULL!",
         "#NULL!",
         "#NULL!",
         "#NULL!",
         "#NULL!",
         "#NULL!",
         "#NULL!",
         "#NULL!",
         "#NULL!",
         "#NULL!",
         "#NULL!",
         "#NULL!",
         "#NULL!",
         "#NULL!",
         "#NULL!",
         "#NULL!",
         "#NULL!",
         "#NULL!",
         "#NULL!",
         "#NULL!",
         "#NULL!",
         "#NULL!",
         "#NULL!",
         "#NULL!",
         "#NULL!",
         "#NULL!",
         "#NULL!",
         "#NULL!",
         "#NULL!",
         "#NULL!",
         "#NULL!",
         "#NULL!",
         "#NULL!",
         "#NULL!",
         "#NULL!",
         "#NULL!",
         "#NULL!",
         "#NULL!",
         "#NULL!",
         "#NULL!",
         "#NULL!",
         "#NULL!",
         "#NULL!",
         "#NULL!",
         "#NULL!",
         "#NULL!",
         "#NULL!",
         "#NULL!",
         "#NULL!",
         "#NULL!",
         "#NULL!",
         "#NULL!",
         "#NULL!",
         "#NULL!",
         "#NULL!",
         "#NULL!",
         "#NULL!",
         "#NULL!",
         "#NULL!",
         null,
         "#NULL!",
         "#NULL!",
         "#NULL!",
         "#NULL!",
         "#NULL!",
         "#NULL!",
         "#NULL!",
         "#NULL!",
         "#NULL!",
         "#NULL!",
         "#NULL!",
         "#NULL!",
         "#NULL!",
         "#NULL!",
         null,
         "#NULL!",
         "#NULL!",
         "#NULL!",
         "#NULL!",
         "#NULL!",
         null,
         "#NULL!",
         "#NULL!",
         "#NULL!",
         "#NULL!",
         "#NULL!",
         "#NULL!",
         "#NULL!",
         "#NULL!",
         "#NULL!",
         "#NULL!",
         null,
         "#NULL!",
         "#NULL!",
         "#NULL!",
         "#NULL!",
         "#NULL!",
         "#NULL!",
         "#NULL!",
         "1",
         "1",
         "#NULL!",
         "#NULL!",
         "#NULL!",
         "#NULL!",
         "#NULL!",
         "#NULL!",
         "#NULL!",
         "#NULL!",
         "#NULL!",
         "#NULL!",
         "#NULL!",
         "#NULL!",
         null,
         "#NULL!",
         "#NULL!",
         "#NULL!",
         "#NULL!",
         "#NULL!",
         "#NULL!",
         "#NULL!",
         "#NULL!",
         "#NULL!",
         null,
         "1",
         "0",
         "0",
         "0",
         "#NULL!",
         "0",
         "0",
         "0",
         null,
         "2",
         "MPesa",
         null,
         "Daily /Mara moja kwa siku",
         "No/ Hapana",
         "No/ Hapana",
         "No/ Hapana",
         "No/ Hapana",
         "No/ Hapana",
         "No/ Hapana",
         "#NULL!",
         "#NULL!",
         "#NULL!",
         "#NULL!",
         "#NULL!",
         "#NULL!",
         "#NULL!",
         "#NULL!",
         "#NULL!",
         null,
         "No, I did not have a complain",
         "#NULL!",
         "#NULL!",
         "#NULL!",
         "#NULL!",
         "#NULL!",
         "#NULL!",
         "#NULL!",
         "#NULL!",
         "#NULL!",
         null,
         "#NULL!",
         "Agree",
         "Agree",
         "Agree",
         "Agree",
         "Agree",
         "Agree",
         "#NULL!",
         "#NULL!",
         "#NULL!",
         "#NULL!",
         "#NULL!",
         "#NULL!",
         "#NULL!",
         "#NULL!",
         "#NULL!",
         "#NULL!",
         "#NULL!",
         "#NULL!",
         null,
         "#NULL!",
         "#NULL!",
         "#NULL!",
         "#NULL!",
         "#NULL!",
         "#NULL!",
         "#NULL!",
         "#NULL!",
         "#NULL!",
         "#NULL!",
         "0",
         "0",
         "0",
         "#NULL!",
         "#NULL!",
         null,
         "1",
         "0",
         "0",
         "0",
         "0",
         "0",
         "0",
         "0",
         "0",
         "0",
         "0",
         "0",
         "0",
         "0",
         null,
         "MShwari",
         null,
         "Yes/ Ndio",
         "Monthly /Kila wiki",
         "No/ Hapana",
         "No/ Hapana",
         "No/ Hapana",
         "No/ Hapana",
         "#NULL!",
         "#NULL!",
         "#NULL!",
         "#NULL!",
         "#NULL!",
         "#NULL!",
         "#NULL!",
         "#NULL!",
         null,
         "No, I did not have a compliant",
         "#NULL!",
         "#NULL!",
         "#NULL!",
         "#NULL!",
         "#NULL!",
         "#NULL!",
         "#NULL!",
         "#NULL!",
         "#NULL!",
         "#NULL!",
         null,
         "#NULL!",
         "Agree",
         "Agree",
         "Agree",
         "Agree",
         "Agree",
         "Agree",
         "#NULL!",
         "#NULL!",
         "#NULL!",
         "#NULL!",
         "#NULL!",
         "#NULL!",
         "#NULL!",
         "#NULL!",
         "0",
         "0",
         "0",
         "0",
         "0",
         "#NULL!",
         "#NULL!",
         null,
         "#NULL!",
         "#NULL!",
         "#NULL!",
         "#NULL!",
         "#NULL!",
         "#NULL!",
         "#NULL!",
         "#NULL!",
         "#NULL!",
         "0",
         "0",
         "0",
         "0",
         "0",
         "#NULL!",
         "#NULL!",
         null,
         "1",
         "15",
         "2",
         "0",
         "1",
         "0",
         "0",
         "0",
         "0",
         "0",
         "0",
         null,
         "We collect money and give to each member a lump sum (pot) or gift in turn",
         null,
         "Weekly",
         null,
         "Cash (e.g. at group meetings)",
         null,
         "0",
         "0",
         "0",
         "0",
         "0",
         "0",
         "0",
         "0",
         "1",
         "0",
         "No",
         "#NULL!",
         "#NULL!",
         "#NULL!",
         "#NULL!",
         "#NULL!",
         "#NULL!",
         "#NULL!",
         "#NULL!",
         null,
         "No",
         "#NULL!",
         "#NULL!",
         "#NULL!",
         "#NULL!",
         "#NULL!",
         "#NULL!",
         "#NULL!",
         null,
         "No",
         "No",
         "No",
         "No",
         "No",
         "No",
         "No",
         "Agree",
         "Agree",
         "Agree",
         "Agree",
         "Agree",
         "Agree",
         "10",
         "2000",
         "No",
         "#NULL!",
         "#NULL!",
         "#NULL!",
         "#NULL!",
         "#NULL!",
         "#NULL!",
         "#NULL!",
         "#NULL!",
         "#NULL!",
         "#NULL!",
         "#NULL!",
         "#NULL!",
         "#NULL!",
         "#NULL!",
         "#NULL!",
         "#NULL!",
         "#NULL!",
         null,
         "#NULL!",
         null,
         "#NULL!",
         "#NULL!",
         "#NULL!",
         "#NULL!",
         "#NULL!",
         "#NULL!",
         "#NULL!",
         "#NULL!",
         "#NULL!",
         "#NULL!",
         "#NULL!",
         "#NULL!",
         "#NULL!",
         "#NULL!",
         "#NULL!",
         "0",
         "0",
         "0",
         "0",
         "0",
         "#NULL!",
         "#NULL!",
         null,
         "Yes",
         "1-3 times",
         "Cash",
         null,
         "1",
         "4",
         "#NULL!",
         "#NULL!",
         "#NULL!",
         "#NULL!",
         "#NULL!",
         "#NULL!",
         "#NULL!",
         "#NULL!",
         "#NULL!",
         "#NULL!",
         "#NULL!",
         "#NULL!",
         "#NULL!",
         "#NULL!",
         "#NULL!",
         "#NULL!",
         "#NULL!",
         null,
         null,
         "#NULL!",
         "#NULL!",
         "#NULL!",
         null,
         "#NULL!",
         "#NULL!",
         "#NULL!",
         "#NULL!",
         "#NULL!",
         "#NULL!",
         "#NULL!",
         "#NULL!",
         "#NULL!",
         "#NULL!",
         "#NULL!",
         "#NULL!",
         "#NULL!",
         "#NULL!",
         "#NULL!",
         "#NULL!",
         "#NULL!",
         "#NULL!",
         "#NULL!",
         "#NULL!",
         "0",
         "0",
         "0",
         "0",
         "0",
         "0",
         "0",
         "0",
         "0",
         "#NULL!",
         "#NULL!",
         "#NULL!",
         null,
         "#NULL!",
         "#NULL!",
         "#NULL!",
         "#NULL!",
         "#NULL!",
         "#NULL!",
         "#NULL!",
         "#NULL!",
         "#NULL!",
         null,
         "#NULL!",
         null,
         "#NULL!",
         null,
         "#NULL!",
         "#NULL!",
         "#NULL!",
         "#NULL!",
         "#NULL!",
         "#NULL!",
         "#NULL!",
         "#NULL!",
         "#NULL!",
         "#NULL!",
         "#NULL!",
         "#NULL!",
         null,
         "#NULL!",
         null,
         "#NULL!",
         null,
         "#NULL!",
         "#NULL!",
         null,
         "#NULL!",
         null,
         "#NULL!",
         "#NULL!",
         "#NULL!",
         "#NULL!",
         "#NULL!",
         "#NULL!",
         "#NULL!",
         null,
         "#NULL!",
         "#NULL!",
         "#NULL!",
         "#NULL!",
         "#NULL!",
         "#NULL!",
         "#NULL!",
         "#NULL!",
         "#NULL!",
         "#NULL!",
         "#NULL!",
         "#NULL!",
         "#NULL!",
         "#NULL!",
         "#NULL!",
         "#NULL!",
         "#NULL!",
         "#NULL!",
         "#NULL!",
         "#NULL!",
         "#NULL!",
         "#NULL!",
         "#NULL!",
         "#NULL!",
         "#NULL!",
         "#NULL!",
         "#NULL!",
         "#NULL!",
         null,
         "#NULL!",
         "#NULL!",
         "#NULL!",
         "#NULL!",
         "#NULL!",
         "#NULL!",
         "#NULL!",
         "#NULL!",
         "#NULL!",
         "#NULL!",
         "#NULL!",
         "#NULL!",
         "#NULL!",
         "#NULL!",
         "#NULL!",
         "#NULL!",
         null,
         "#NULL!",
         "#NULL!",
         "#NULL!",
         "#NULL!",
         "#NULL!",
         "#NULL!",
         "#NULL!",
         "#NULL!",
         "#NULL!",
         "#NULL!",
         "#NULL!",
         "#NULL!",
         "0",
         "0",
         "0",
         "0",
         "#NULL!",
         "#NULL!",
         "#NULL!",
         null,
         "#NULL!",
         "#NULL!",
         "#NULL!",
         "#NULL!",
         "#NULL!",
         "#NULL!",
         "#NULL!",
         "#NULL!",
         "0",
         "0",
         "0",
         "0",
         "0",
         "0",
         "0",
         "#NULL!",
         "#NULL!",
         "#NULL!",
         null,
         "#NULL!",
         "#NULL!",
         "#NULL!",
         "#NULL!",
         "#NULL!",
         "#NULL!",
         "#NULL!",
         "#NULL!",
         "#NULL!",
         "#NULL!",
         "#NULL!",
         "#NULL!",
         "#NULL!",
         "#NULL!",
         "#NULL!",
         "#NULL!",
         "#NULL!",
         "#NULL!",
         "#NULL!",
         "#NULL!",
         "#NULL!",
         "#NULL!",
         "#NULL!",
         "#NULL!",
         "#NULL!",
         "#NULL!",
         "#NULL!",
         "#NULL!",
         "#NULL!",
         "#NULL!",
         "#NULL!",
         "#NULL!",
         "#NULL!",
         "#NULL!",
         "#NULL!",
         "#NULL!",
         "#NULL!",
         "#NULL!",
         "#NULL!",
         "#NULL!",
         "#NULL!",
         "#NULL!",
         "#NULL!",
         "#NULL!",
         "#NULL!",
         "#NULL!",
         "#NULL!",
         "#NULL!",
         "#NULL!",
         "#NULL!",
         "#NULL!",
         "#NULL!",
         "#NULL!",
         "#NULL!",
         "#NULL!",
         "#NULL!",
         "#NULL!",
         "#NULL!",
         "#NULL!",
         "#NULL!",
         "#NULL!",
         "#NULL!",
         "#NULL!",
         "#NULL!",
         "#NULL!",
         "#NULL!",
         "#NULL!",
         "#NULL!",
         "#NULL!",
         "#NULL!",
         "#NULL!",
         "#NULL!",
         "#NULL!",
         "#NULL!",
         "#NULL!",
         "#NULL!",
         "#NULL!",
         "#NULL!",
         "#NULL!",
         "#NULL!",
         "#NULL!",
         "#NULL!",
         "#NULL!",
         "#NULL!",
         "#NULL!",
         "#NULL!",
         "#NULL!",
         "#NULL!",
         "#NULL!",
         "#NULL!",
         "#NULL!",
         "#NULL!",
         "#NULL!",
         "#NULL!",
         "#NULL!",
         "#NULL!",
         "#NULL!",
         "#NULL!",
         "#NULL!",
         "#NULL!",
         "#NULL!",
         "#NULL!",
         "#NULL!",
         "#NULL!",
         "#NULL!",
         "#NULL!",
         "0",
         "0",
         "0",
         "0",
         "0",
         "0",
         "0",
         "0",
         "0",
         "0",
         "0",
         "0",
         "0",
         "0",
         "0",
         "0",
         "0",
         "0",
         "0",
         "0",
         "0",
         "0",
         "0",
         "0",
         "0",
         "0",
         "0",
         "0",
         "0",
         "0",
         "0",
         "0",
         "0",
         "0",
         "0",
         "0",
         "0",
         "0",
         "0",
         "0",
         "0",
         "0",
         "0",
         "0",
         "0",
         "0",
         "0",
         null,
         "#NULL!",
         "#NULL!",
         "#NULL!",
         "#NULL!",
         "#NULL!",
         "#NULL!",
         "#NULL!",
         "#NULL!",
         "#NULL!",
         "#NULL!",
         "#NULL!",
         "#NULL!",
         "#NULL!",
         "#NULL!",
         "#NULL!",
         "#NULL!",
         "#NULL!",
         "#NULL!",
         "#NULL!",
         "#NULL!",
         "0",
         "0",
         "0",
         "0",
         "0",
         "0",
         "0",
         "0",
         "#NULL!",
         "#NULL!",
         null,
         "#NULL!",
         null,
         "#NULL!",
         null,
         "#NULL!",
         null,
         "#NULL!",
         null,
         "#NULL!",
         null,
         "#NULL!",
         null,
         "#NULL!",
         "#NULL!",
         "#NULL!",
         null,
         "#NULL!",
         "#NULL!",
         "#NULL!",
         "#NULL!",
         "#NULL!",
         "#NULL!",
         "#NULL!",
         "#NULL!",
         "#NULL!",
         "#NULL!",
         "#NULL!",
         "#NULL!",
         "#NULL!",
         "#NULL!",
         "#NULL!",
         "#NULL!",
         null,
         "#NULL!",
         null,
         "#NULL!",
         "#NULL!",
         "#NULL!",
         "#NULL!",
         "#NULL!",
         "#NULL!",
         null,
         "#NULL!",
         "#NULL!",
         "#NULL!",
         "#NULL!",
         "#NULL!",
         "#NULL!",
         "0",
         "0",
         "0",
         "0",
         "0",
         "0",
         "0",
         "0",
         "0",
         "0",
         "0",
         "0",
         "0",
         "0",
         "0",
         "0",
         "0",
         "0",
         "0",
         "0",
         "0",
         "#NULL!",
         "#NULL!",
         null,
         "#NULL!",
         "#NULL!",
         "#NULL!",
         "#NULL!",
         "#NULL!",
         "#NULL!",
         "#NULL!",
         "#NULL!",
         "#NULL!",
         "#NULL!",
         "0",
         "0",
         "0",
         "0",
         "0",
         "0",
         "0",
         "0",
         "0",
         "#NULL!",
         "#NULL!",
         "#NULL!",
         null,
         "#NULL!",
         "#NULL!",
         "#NULL!",
         "#NULL!",
         "#NULL!",
         "#NULL!",
         "#NULL!",
         "#NULL!",
         "#NULL!",
         "0",
         "0",
         "0",
         "0",
         "0",
         "0",
         "0",
         "0",
         "0",
         "#NULL!",
         "#NULL!",
         "#NULL!",
         null,
         "#NULL!",
         null,
         "#NULL!",
         "#NULL!",
         "Yes",
         "No",
         "No",
         "No",
         "No",
         "Loans/credit",
         null,
         "Loan / credits from supplier/seller (Mikopo / mikopo kutoka kwa muuzaji)",
         "#NULL!",
         null,
         "#NULL!",
         null,
         "#NULL!",
         "#NULL!",
         "#NULL!",
         null,
         "#NULL!",
         "#NULL!",
         "#NULL!",
         null,
         "#NULL!",
         "#NULL!",
         "#NULL!",
         null,
         "#NULL!",
         "#NULL!",
         "No",
         "#NULL!",
         null,
         "#NULL!",
         "#NULL!",
         "#NULL!",
         "#NULL!",
         "#NULL!",
         "#NULL!",
         "#NULL!",
         "#NULL!",
         "#NULL!",
         "#NULL!",
         "#NULL!",
         "#NULL!",
         null,
         "#NULL!",
         "#NULL!",
         null,
         "#NULL!",
         null,
         null,
         "#NULL!",
         null,
         "1",
         "1",
         "0",
         "0",
         "0",
         "0",
         "1",
         "0",
         "0",
         "0",
         "0",
         "0",
         "0",
         "0",
         "Death of main income earner/family member",
         "0",
         "1",
         "0",
         "0",
         "0",
         "0",
         "0",
         "0",
         "0",
         "0",
         "0",
         "0",
         "#NULL!",
         "#NULL!",
         "#NULL!",
         "#NULL!",
         null,
         "Got assistance / gift from friends / family / community (which you did not have",
         null,
         "#NULL!",
         null,
         "#NULL!",
         null,
         "#NULL!",
         null,
         "This was the only option I had/no other choice",
         null,
         "#NULL!",
         null,
         "1",
         "5",
         "No",
         "#NULL!",
         null,
         "#NULL!",
         "#NULL!",
         "#NULL!",
         "#NULL!",
         "#NULL!",
         "#NULL!",
         "#NULL!",
         "#NULL!",
         "#NULL!",
         "0",
         "0",
         "0",
         "#NULL!",
         "#NULL!",
         null,
         "#NULL!",
         null,
         "#NULL!",
         null,
         "#NULL!",
         null,
         "#NULL!",
         null,
         "#NULL!",
         "#NULL!",
         null,
         "1",
         "1",
         "I own a mobile that only I use/Nina simu ambayo ni mimi tu ninaitumia",
         "0",
         "0",
         "0",
         "1",
         "Never/Situmii\"",
         null,
         "On a friend or neighbourâ€™s computer/tablet where I did not pay/\"Kwenye kompyut",
         null,
         "#NULL!",
         "#NULL!",
         "#NULL!",
         "#NULL!",
         "Strong",
         "I have no idea/I dont know",
         "I can manage",
         "I can manage",
         "I can manage",
         "I have no idea/I dont know",
         "Never",
         "1",
         "11",
         "Mobile Money Agent (for depositing or withdrawing cash)/Wakala/ajenti wa pesa za",
         null,
         "Close enough to walk to and fro - No need to spend/\"Nikaribu pa kutosha kwenda n",
         null,
         "Under 1 Kilometer",
         null,
         "Under 10 minutes",
         "1",
         "Yes/\"Ndio\"",
         "Relocated for permanent work (self or household)/Nilihama Nilibadilisha makao kw",
         null,
         "Christianity/Ukristo",
         "Permanent building/Jengo la kudumu",
         null,
         "2",
         "1",
         "Rented /Leased/Kukodisha",
         "Individual/Mtu binafsi",
         "Iron sheets/ Mabati",
         "Concrete/ Cement/Terrazo/ Kokoto/simiti/Terrazo",
         "Concrete/Concrete blocks/ Precast wall/ Kokoto/bloki za kokoto/ ukuta wa prikast",
         "LPG (gas)/Gesi",
         "#NULL!",
         null,
         "#NULL!",
         "#NULL!",
         "#NULL!",
         "#NULL!",
         "#NULL!",
         "#NULL!",
         null,
         "No",
         "Public tap/Standpipe",
         "Pit latrine covered Choo cha shimo kilichofunikwa",
         "Yes",
         "Burnt in open/Kuchomwa moto wazi",
         "1",
         "1",
         "1",
         "0",
         "0",
         "0",
         "0",
         "0",
         "0",
         "0",
         "0",
         "0",
         "0",
         "0",
         "0",
         "0",
         "0",
         "0",
         "0",
         "#NULL!",
         "#NULL!",
         "#NULL!",
         "#NULL!",
         "#NULL!",
         "Yes",
         "Yes",
         "Yes",
         "Yes",
         "Yes",
         "No",
         "#NULL!",
         "No",
         "#NULL!",
         "#NULL!",
         "#NULL!",
         "#NULL!",
         "#NULL!",
         "#NULL!",
         "#NULL!",
         "#NULL!",
         "#NULL!",
         "#NULL!",
         "#NULL!",
         "#NULL!",
         "#NULL!",
         "#NULL!",
         "#NULL!",
         null,
         null,
         null,
         null,
         "#NULL!",
         "#NULL!",
         "#NULL!",
         "#NULL!",
         null,
         null,
         "#NULL!",
         "#NULL!",
         "#NULL!",
         "#NULL!",
         "#NULL!",
         "#NULL!",
         "#NULL!",
         "#NULL!",
         "#NULL!",
         "#NULL!",
         "#NULL!",
         "#NULL!",
         "#NULL!",
         "#NULL!",
         "#NULL!",
         "#NULL!",
         "#NULL!",
         "#NULL!",
         "1",
         "0",
         "0",
         "14000",
         "3000",
         "12000",
         "500",
         "2000",
         "#NULL!",
         "#NULL!",
         "2000",
         "#NULL!",
         "46000",
         "15333",
         "#NULL!",
         "#NULL!",
         "#NULL!",
         "#NULL!",
         "#NULL!",
         "20833",
         "#NULL!",
         "1",
         "2024-08-0316:33:19",
         "1",
         "172",
         "Casual Worker",
         "Fourth",
         "Primary",
         "Divorced/separated",
         "Has ID (National Identity Card (ID),Passport,Alien ID)",
         "412",
         "Non-usage",
         "Non-usage",
         "Non-usage",
         "Non-usage",
         "Non-usage",
         "Non-usage",
         "Non-usage",
         "Usage",
         "Non-usage",
         "Non-usage",
         "Non-usage",
         "Non-usage",
         "Non-usage",
         "2",
         "Usage",
         "Non-usage",
         "Non-usage",
         "Non-usage",
         "Usage",
         "Usage",
         "Usage",
         "Usage",
         "Usage",
         "Non-usage",
         "Non-usage",
         "Non-usage",
         "Non-usage",
         "Non-usage",
         "140173183",
         "1",
         "1",
         "Non-usage",
         "Non-usage",
         "Non-usage",
         "Non-usage",
         "Usage",
         "No",
         "Yes",
         "Usage",
         "Usage",
         "Non-usage",
         "Non-usage",
         "Non-usage",
         "Usage",
         "Non-usage",
         "Usage",
         "Usage",
         "Usage",
         "Yes",
         "Yes",
         "Usage",
         "Usage",
         "Non-usage",
         "Non-usage",
         "1",
         "No",
         "N0",
         "No",
         "N0",
         "0",
         "0",
         "0",
         "No",
         "No",
         "No",
         "No",
         "No",
         "No",
         "No",
         "Usage",
         "Usage",
         "Non-usage",
         "Non-usage",
         "Yes",
         "Yes",
         "Yes",
         "Formal Prudential",
         "1",
         "1",
         "Yes",
         "Yes",
         "Yes",
         "No",
         "Yes",
         "Yes",
         "No",
         "No",
         "No",
         "Non-usage",
         "Yes",
         "formal only",
         "Non-usage",
         "Non-usage",
         "Non-usage",
         "Non-usage",
         "Yes",
         "Yes",
         "Usage",
         "Non-usage",
         "Non-usage",
         "0",
         "0",
         "Relevance/Suitability",
         "0",
         "Affordability",
         "Non-usage",
         "Non-usage",
         "Non-usage",
         "Non-usage",
         "Non-usage",
         "Non-usage",
         "Non-usage",
         "Non-usage",
         "Yes",
         "Yes",
         "Usage",
         "Non-usage",
         "Usage",
         "Non-usage",
         "Non-usage",
         "Usage",
         "Non-usage",
         "formal prudential, formal other and informal",
         "Currently use",
         "Never used",
         "Never used",
         "Never used",
         "Never used",
         "Currently use",
         "Never used",
         "Currently use",
         "Never used",
         "Never used",
         "Currently use",
         "Never used",
         "Never used",
         "Never used",
         "Yes",
         "Yes",
         "Least Vulnerable",
         "Yes",
         "Yes",
         "No",
         "Yes",
         "No",
         "No",
         "Yes",
         "No",
         "No",
         "No",
         "No",
         "No",
         "No",
         "Yes",
         "No",
         "Yes",
         "Yes",
         "0",
         "0",
         "0",
         "0",
         "Medium",
         "Somewhat worried",
         "Somewhat worried",
         "Somewhat confident",
         "Improved",
         "Correct",
         "Correct",
         "Correct",
         "All correct",
         "Highly literate",
         "Correct",
         "#NULL!",
         "Informal",
         "#NULL!",
         "no",
         "no",
         "yes",
         "no",
         "no",
         "no",
         "no",
         "no",
         "no",
         "no",
         "no",
         "yes",
         "yes",
         "no",
         "no",
         "no",
         "no",
         "no",
         "no",
         "no",
         "no",
         "no",
         "no",
         "no",
         "no",
         "no",
         "no",
         "no",
         "no",
         "no",
         "no",
         "no",
         "no",
         "no",
         "no",
         "no",
         "no",
         "no",
         "no",
         "no",
         "no",
         "no",
         "no",
         "no",
         "no",
         "no",
         "no",
         "no",
         "no",
         "0",
         "0",
         "1",
         "0",
         "0",
         "1",
         "0",
         "0",
         "1",
         "1",
         "0",
         "0",
         "1",
         "0",
         "0",
         "0",
         "0",
         "0",
         "0",
         "0",
         "0",
         "0",
         "0",
         "0",
         "0",
         "0",
         "0",
         "0",
         "0",
         "0",
         "0",
         "0",
         "0",
         "0",
         "0",
         "0",
         "0",
         "0",
         "0",
         "0",
         "0",
         "0",
         "0",
         "0",
         "0",
         "5",
         "More than one",
         "Usage",
         "Non Usage",
         "Non Usage",
         "Non Usage",
         "2 groups",
         "Non Usage",
         "#NULL!",
         "Affordability",
         "Awareness",
         "Affordability",
         "Affordability",
         "Awareness",
         "Non Usage",
         "#NULL!",
         "#NULL!",
         "#NULL!",
         "#NULL!",
         "#NULL!",
         "#NULL!",
         "#NULL!",
         "#NULL!",
         "#NULL!",
         "#NULL!",
         "#NULL!",
         "#NULL!",
         "#NULL!",
         "#NULL!",
         "#NULL!",
         "#NULL!",
         "#NULL!",
         "#NULL!",
         "#NULL!",
         "#NULL!",
         "#NULL!",
         "#NULL!",
         "#NULL!",
         "#NULL!",
         "#NULL!",
         "#NULL!",
         "#NULL!",
         "#NULL!",
         "#NULL!",
         "#NULL!",
         "#NULL!",
         "#NULL!",
         "#NULL!",
         "#NULL!",
         "#NULL!",
         "#NULL!",
         "#NULL!",
         "#NULL!",
         "#NULL!",
         "#NULL!",
         "#NULL!",
         "#NULL!",
         "#NULL!",
         "#NULL!",
         "#NULL!",
         "#NULL!",
         "#NULL!",
         "#NULL!",
         "#NULL!",
         "#NULL!",
         "No",
         "No",
         "No",
         "No",
         "No",
         "No",
         "No",
         "No",
         "No",
         "No",
         "No",
         "#NULL!",
         "#NULL!",
         "#NULL!",
         "#NULL!",
         "#NULL!",
         "#NULL!",
         "#NULL!",
         "#NULL!",
         "#NULL!",
         "Satisfied",
         "Satisfied",
         "#NULL!",
         "#NULL!",
         "#NULL!",
         "#NULL!",
         "#NULL!",
         "#NULL!",
         "#NULL!",
         "#NULL!",
         "No",
         "#NULL!",
         "Never used",
         "Never used",
         "Without Disability",
         "0.636836",
         "34.27739"
        ],
        [
         "3",
         "48-18-78-99",
         "00099e961d49470585c1a7f49fa3b7fb",
         "Kiambu",
         "796",
         "Urban",
         "3",
         "Household found with competent respondent",
         "Access granted",
         "completed",
         "Male",
         "1",
         "1",
         "1",
         "0",
         "English",
         null,
         "24",
         "Head of household",
         "24",
         "Male",
         "Head of household",
         "\"Secondary/High school",
         "Does not attend",
         "Yes",
         "Yes",
         "Male",
         "18-25",
         "Continued with interview",
         "1",
         "\"Some secondary\"",
         null,
         "Single/Never Married",
         null,
         "#NULL!",
         "#NULL!",
         "No",
         "No- no difficulty",
         "No- no difficulty",
         "No- no difficulty",
         "No- no difficulty",
         "No- no difficulty",
         "No- no difficulty",
         "Getting a job/developing your career",
         "Self",
         "Self",
         "Disagree",
         "Disagree",
         "Agree",
         "Disagree",
         "Yes",
         "1-2 times",
         "#NULL!",
         "Yes",
         "Yes",
         "No",
         "Yes",
         "Not Applicable",
         "Sometimes",
         "Medicines unavailable,",
         null,
         "Yes",
         "From my regular income eg. business/employement",
         null,
         "#NULL!",
         "#NULL!",
         "Very Difficult",
         "I could not come up with the money",
         "#NULL!",
         "No",
         "No",
         "No",
         "No",
         "No",
         "No",
         "No",
         "No",
         "No",
         "No",
         "No",
         "Very worried",
         "Very worried",
         "Very confident",
         "Improved",
         "1",
         "27",
         "Nobody else / nothing else / my own personal experience",
         null,
         "Yes",
         "600",
         "A mobile money account (e.g. MPesa, Airtel Money)",
         null,
         "Yes",
         "More than KSh 1,000",
         "Less than last year July",
         "Invest in multiple assets",
         "\"IF = KSh 10: then correct \"",
         "1",
         "0",
         "0",
         "1",
         "0",
         "0",
         "0",
         "0",
         "0",
         "0",
         "0",
         "0",
         "0",
         "0",
         null,
         "Casual worker/Seasonal Worker",
         "#NULL!",
         "No",
         "No",
         "#NULL!",
         "#NULL!",
         "#NULL!",
         "#NULL!",
         "#NULL!",
         "#NULL!",
         "#NULL!",
         "#NULL!",
         "#NULL!",
         "#NULL!",
         "#NULL!",
         "#NULL!",
         "#NULL!",
         "#NULL!",
         "#NULL!",
         "#NULL!",
         "#NULL!",
         null,
         "#NULL!",
         "#NULL!",
         "#NULL!",
         "#NULL!",
         "#NULL!",
         "#NULL!",
         "#NULL!",
         "#NULL!",
         "#NULL!",
         "#NULL!",
         "#NULL!",
         "#NULL!",
         "#NULL!",
         "#NULL!",
         null,
         "#NULL!",
         "#NULL!",
         "#NULL!",
         "#NULL!",
         "#NULL!",
         "#NULL!",
         "#NULL!",
         "#NULL!",
         "#NULL!",
         "#NULL!",
         "#NULL!",
         "#NULL!",
         "#NULL!",
         "#NULL!",
         null,
         "#NULL!",
         "#NULL!",
         "#NULL!",
         "#NULL!",
         "#NULL!",
         "#NULL!",
         "#NULL!",
         "#NULL!",
         "#NULL!",
         "#NULL!",
         "#NULL!",
         "#NULL!",
         "#NULL!",
         "#NULL!",
         null,
         "#NULL!",
         "#NULL!",
         "#NULL!",
         "#NULL!",
         "#NULL!",
         "#NULL!",
         "#NULL!",
         "#NULL!",
         "#NULL!",
         "#NULL!",
         "#NULL!",
         "#NULL!",
         "#NULL!",
         "#NULL!",
         null,
         "#NULL!",
         "#NULL!",
         "#NULL!",
         "#NULL!",
         "#NULL!",
         "#NULL!",
         "#NULL!",
         "#NULL!",
         "#NULL!",
         "#NULL!",
         "#NULL!",
         "#NULL!",
         "#NULL!",
         "#NULL!",
         null,
         "#NULL!",
         "#NULL!",
         "#NULL!",
         "#NULL!",
         "#NULL!",
         "#NULL!",
         "#NULL!",
         "#NULL!",
         "#NULL!",
         "#NULL!",
         "#NULL!",
         "#NULL!",
         "#NULL!",
         "#NULL!",
         null,
         "#NULL!",
         "#NULL!",
         "#NULL!",
         "#NULL!",
         "#NULL!",
         "#NULL!",
         "#NULL!",
         "#NULL!",
         "#NULL!",
         "#NULL!",
         "#NULL!",
         "#NULL!",
         "#NULL!",
         "#NULL!",
         null,
         "#NULL!",
         "#NULL!",
         "#NULL!",
         "#NULL!",
         "#NULL!",
         "#NULL!",
         "#NULL!",
         "#NULL!",
         "#NULL!",
         "#NULL!",
         "#NULL!",
         "#NULL!",
         "#NULL!",
         "#NULL!",
         null,
         "#NULL!",
         "#NULL!",
         "#NULL!",
         "#NULL!",
         "#NULL!",
         "#NULL!",
         "#NULL!",
         "#NULL!",
         "#NULL!",
         "#NULL!",
         "#NULL!",
         "#NULL!",
         "#NULL!",
         "#NULL!",
         null,
         "#NULL!",
         "Construction worker",
         "Construction of all types of residential buildings",
         "#NULL!",
         "#NULL!",
         "#NULL!",
         "#NULL!",
         "#NULL!",
         "#NULL!",
         null,
         "#NULL!",
         null,
         "10000",
         "19000",
         "7000",
         "1",
         "8",
         "Currently use",
         "Used to use",
         "Never used",
         "#NULL!",
         "#NULL!",
         "#NULL!",
         "#NULL!",
         "#NULL!",
         "#NULL!",
         "#NULL!",
         "#NULL!",
         "#NULL!",
         "#NULL!",
         "#NULL!",
         "#NULL!",
         "#NULL!",
         "#NULL!",
         "#NULL!",
         "#NULL!",
         "#NULL!",
         "#NULL!",
         "#NULL!",
         "#NULL!",
         "#NULL!",
         "#NULL!",
         "#NULL!",
         "#NULL!",
         "#NULL!",
         "#NULL!",
         "#NULL!",
         "#NULL!",
         "#NULL!",
         "#NULL!",
         "#NULL!",
         "#NULL!",
         "#NULL!",
         "#NULL!",
         "#NULL!",
         "#NULL!",
         "#NULL!",
         "#NULL!",
         "#NULL!",
         "#NULL!",
         "#NULL!",
         "#NULL!",
         "#NULL!",
         "#NULL!",
         "#NULL!",
         "#NULL!",
         "#NULL!",
         "#NULL!",
         "#NULL!",
         "#NULL!",
         "#NULL!",
         "#NULL!",
         "#NULL!",
         "#NULL!",
         "Never used",
         "Never used",
         "Never used",
         "Never used",
         "Used to use",
         "Currently use",
         "Never used",
         "Never used",
         "Never used",
         "Never used",
         "Never used",
         "Never used",
         "Never used",
         "Never used",
         "Never used",
         "Never used",
         "Never used",
         "Never used",
         "Never used",
         "Never used",
         "Never used",
         "Never used",
         "Never used",
         "Never used",
         "Currently use",
         "Never used",
         "Never used",
         "Never used",
         "Currently use",
         "Never used",
         "Never used",
         "Never used",
         "Never used",
         "Never used",
         "Never used",
         "Never used",
         "Never used",
         "Never used",
         "Never used",
         "Never used",
         "Never used",
         "Never used",
         "Never used",
         "Never used",
         "3",
         "Never used",
         "#NULL!",
         "#NULL!",
         "#NULL!",
         "#NULL!",
         "Mobile money provider e.g Safaricom fuliza",
         null,
         "A bank",
         null,
         "#NULL!",
         "#NULL!",
         "#NULL!",
         "#NULL!",
         "#NULL!",
         "#NULL!",
         "#NULL!",
         "#NULL!",
         "#NULL!",
         "#NULL!",
         "#NULL!",
         "#NULL!",
         "#NULL!",
         "0",
         "1",
         "0",
         "0",
         "0",
         "0",
         "0",
         "0",
         "0",
         "0",
         "0",
         null,
         "#NULL!",
         null,
         "Refused to Answer",
         "Refused to Answer",
         "#NULL!",
         "#NULL!",
         "Refused to Answer",
         "No",
         "No",
         "No",
         "No",
         "No",
         "#NULL!",
         "Refused to Answer",
         "#NULL!",
         "#NULL!",
         "#NULL!",
         "#NULL!",
         "#NULL!",
         "#NULL!",
         "#NULL!",
         "#NULL!",
         "#NULL!",
         "#NULL!",
         "Refused to Answer",
         "Refused to Answer",
         "Refused to Answer",
         "Refused to Answer",
         "Refused to Answer",
         "Refused to Answer",
         "No",
         "#NULL!",
         "#NULL!",
         "#NULL!",
         "#NULL!",
         "#NULL!",
         "#NULL!",
         "#NULL!",
         "#NULL!",
         "#NULL!",
         null,
         "1",
         "1",
         "0",
         "0",
         "0",
         "0",
         "0",
         null,
         "#NULL!",
         "#NULL!",
         "#NULL!",
         "#NULL!",
         "#NULL!",
         "#NULL!",
         "#NULL!",
         "#NULL!",
         "#NULL!",
         "#NULL!",
         null,
         "#NULL!",
         null,
         "#NULL!",
         null,
         "#NULL!",
         "#NULL!",
         "#NULL!",
         "#NULL!",
         "#NULL!",
         "#NULL!",
         "#NULL!",
         "#NULL!",
         "#NULL!",
         "#NULL!",
         "#NULL!",
         "#NULL!",
         "#NULL!",
         "#NULL!",
         "#NULL!",
         "#NULL!",
         "#NULL!",
         "#NULL!",
         "#NULL!",
         "#NULL!",
         "#NULL!",
         "#NULL!",
         "#NULL!",
         "#NULL!",
         "#NULL!",
         "#NULL!",
         "#NULL!",
         "#NULL!",
         "No",
         "#NULL!",
         "#NULL!",
         "#NULL!",
         "#NULL!",
         "#NULL!",
         "#NULL!",
         "#NULL!",
         "#NULL!",
         "#NULL!",
         "#NULL!",
         "#NULL!",
         "#NULL!",
         "#NULL!",
         "0",
         "0",
         "0",
         "0",
         "0",
         "0",
         "#NULL!",
         "#NULL!",
         "#NULL!",
         null,
         "#NULL!",
         "#NULL!",
         "#NULL!",
         "#NULL!",
         "#NULL!",
         "#NULL!",
         "#NULL!",
         "#NULL!",
         "#NULL!",
         "#NULL!",
         "#NULL!",
         "#NULL!",
         "#NULL!",
         "#NULL!",
         "#NULL!",
         "#NULL!",
         "#NULL!",
         null,
         "#NULL!",
         "#NULL!",
         "#NULL!",
         "#NULL!",
         "#NULL!",
         "#NULL!",
         "#NULL!",
         "#NULL!",
         "0",
         "#NULL!",
         "#NULL!",
         "#NULL!",
         null,
         "#NULL!",
         "#NULL!",
         "#NULL!",
         "#NULL!",
         "#NULL!",
         "#NULL!",
         "#NULL!",
         "#NULL!",
         "#NULL!",
         "#NULL!",
         null,
         "#NULL!",
         "#NULL!",
         "#NULL!",
         null,
         "#NULL!",
         null,
         "#NULL!",
         null,
         "#NULL!",
         null,
         "#NULL!",
         "#NULL!",
         "#NULL!",
         "#NULL!",
         "#NULL!",
         "#NULL!",
         "#NULL!",
         "#NULL!",
         null,
         "#NULL!",
         null,
         "#NULL!",
         null,
         "#NULL!",
         null,
         "#NULL!",
         "#NULL!",
         "#NULL!",
         "#NULL!",
         "#NULL!",
         "#NULL!",
         "#NULL!",
         "#NULL!",
         null,
         "#NULL!",
         null,
         "#NULL!",
         null,
         "#NULL!",
         null,
         "#NULL!",
         "#NULL!",
         "#NULL!",
         "#NULL!",
         "#NULL!",
         "#NULL!",
         "#NULL!",
         null,
         "#NULL!",
         null,
         "#NULL!",
         null,
         "#NULL!",
         "#NULL!",
         "#NULL!",
         "#NULL!",
         "#NULL!",
         "#NULL!",
         "#NULL!",
         null,
         "#NULL!",
         null,
         "#NULL!",
         "#NULL!",
         "#NULL!",
         "#NULL!",
         "#NULL!",
         "#NULL!",
         "#NULL!",
         "#NULL!",
         null,
         "#NULL!",
         "#NULL!",
         "#NULL!",
         "#NULL!",
         "#NULL!",
         "#NULL!",
         "#NULL!",
         null,
         "#NULL!",
         null,
         "#NULL!",
         null,
         "#NULL!",
         null,
         "#NULL!",
         "#NULL!",
         "#NULL!",
         "#NULL!",
         "#NULL!",
         "#NULL!",
         "#NULL!",
         "#NULL!",
         null,
         "#NULL!",
         null,
         "#NULL!",
         null,
         "#NULL!",
         null,
         "#NULL!",
         "#NULL!",
         "#NULL!",
         "#NULL!",
         "#NULL!",
         "#NULL!",
         "#NULL!",
         "#NULL!",
         null,
         "#NULL!",
         null,
         "#NULL!",
         null,
         "#NULL!",
         "#NULL!",
         "#NULL!",
         "#NULL!",
         "#NULL!",
         "#NULL!",
         "#NULL!",
         "#NULL!",
         null,
         "#NULL!",
         null,
         "#NULL!",
         null,
         "#NULL!",
         null,
         "#NULL!",
         "#NULL!",
         "#NULL!",
         "#NULL!",
         "#NULL!",
         "#NULL!",
         "#NULL!",
         "#NULL!",
         null,
         "#NULL!",
         null,
         "#NULL!",
         null,
         "#NULL!",
         null,
         "#NULL!",
         "#NULL!",
         "#NULL!",
         "#NULL!",
         "#NULL!",
         "#NULL!",
         "#NULL!",
         "#NULL!",
         null,
         "#NULL!",
         null,
         "#NULL!",
         null,
         "#NULL!",
         null,
         "#NULL!",
         "#NULL!",
         "#NULL!",
         "#NULL!",
         "#NULL!",
         "1",
         "1",
         "To meet day today household needs",
         null,
         "Havent yet started to repay",
         null,
         "#NULL!",
         null,
         "500",
         "475",
         "More than 1 year ago",
         "In one month",
         "440",
         "#NULL!",
         "#NULL!",
         "#NULL!",
         null,
         "#NULL!",
         null,
         "#NULL!",
         null,
         "#NULL!",
         "#NULL!",
         "#NULL!",
         "#NULL!",
         "#NULL!",
         "#NULL!",
         "#NULL!",
         "#NULL!",
         null,
         "#NULL!",
         null,
         "#NULL!",
         null,
         "#NULL!",
         "#NULL!",
         "#NULL!",
         "#NULL!",
         "#NULL!",
         "#NULL!",
         "#NULL!",
         "#NULL!",
         null,
         "#NULL!",
         null,
         "#NULL!",
         null,
         "#NULL!",
         null,
         "#NULL!",
         "#NULL!",
         "#NULL!",
         "#NULL!",
         "#NULL!",
         "6",
         "To meet day today household needs",
         null,
         "Irregularly/ Whenever I get money/ Whenever I get money",
         null,
         "Cash",
         null,
         "400",
         "400",
         "In the last month",
         "In one week",
         "400",
         "#NULL!",
         "#NULL!",
         null,
         "#NULL!",
         "#NULL!",
         "#NULL!",
         "#NULL!",
         "#NULL!",
         "#NULL!",
         "#NULL!",
         null,
         "#NULL!",
         null,
         "#NULL!",
         null,
         "#NULL!",
         "#NULL!",
         "#NULL!",
         "#NULL!",
         "#NULL!",
         "#NULL!",
         "#NULL!",
         null,
         "#NULL!",
         null,
         "#NULL!",
         null,
         "#NULL!",
         null,
         "#NULL!",
         "#NULL!",
         "#NULL!",
         "#NULL!",
         "#NULL!",
         "#NULL!",
         "#NULL!",
         "#NULL!",
         null,
         "#NULL!",
         null,
         "#NULL!",
         null,
         "#NULL!",
         null,
         "#NULL!",
         "#NULL!",
         "#NULL!",
         "#NULL!",
         "#NULL!",
         "Taking goods and services on credit from a shopkeeper",
         "Easy to use / make repayments",
         null,
         "670",
         "No",
         "#NULL!",
         "#NULL!",
         "#NULL!",
         "#NULL!",
         "#NULL!",
         "#NULL!",
         "#NULL!",
         "#NULL!",
         "#NULL!",
         "0",
         "1",
         "0",
         "0",
         "0",
         "0",
         "0",
         "0",
         "Didn't pay at all",
         "0",
         "0",
         "0",
         "0",
         "0",
         "0",
         "0",
         "0",
         "0",
         "0",
         "0",
         "0",
         "0",
         "0",
         "0",
         "0",
         "0",
         "0",
         "0",
         "0",
         "1",
         "0",
         null,
         "All of my money went to basic needs such as food or utility bills",
         null,
         "1",
         "0",
         "0",
         "1",
         "0",
         "0",
         "0",
         "0",
         "0",
         "0",
         "0",
         "0",
         "0",
         "0",
         "0",
         "0",
         "0",
         "0",
         "0",
         "0",
         "0",
         "0",
         "0",
         "0",
         "0",
         "0",
         "#NULL!",
         "#NULL!",
         "#NULL!",
         "#NULL!",
         "#NULL!",
         "#NULL!",
         "#NULL!",
         "#NULL!",
         "#NULL!",
         "No",
         "#NULL!",
         "#NULL!",
         "#NULL!",
         "#NULL!",
         "#NULL!",
         "#NULL!",
         "#NULL!",
         "#NULL!",
         "0",
         "0",
         "0",
         "0",
         "0",
         "0",
         null,
         "#NULL!",
         "#NULL!",
         "#NULL!",
         "#NULL!",
         "#NULL!",
         "#NULL!",
         "#NULL!",
         "#NULL!",
         "#NULL!",
         "#NULL!",
         null,
         "#NULL!",
         "#NULL!",
         "#NULL!",
         "#NULL!",
         "#NULL!",
         "#NULL!",
         "#NULL!",
         "0",
         "#NULL!",
         "#NULL!",
         "#NULL!",
         null,
         "#NULL!",
         null,
         "#NULL!",
         null,
         "#NULL!",
         null,
         "#NULL!",
         null,
         "#NULL!",
         null,
         "#NULL!",
         null,
         "#NULL!",
         null,
         "#NULL!",
         null,
         "#NULL!",
         null,
         "Day to day needs",
         null,
         "Convenient",
         null,
         "Irregularly/ Whenever I get money",
         null,
         "#NULL!",
         null,
         "#NULL!",
         null,
         "#NULL!",
         null,
         "#NULL!",
         null,
         "#NULL!",
         null,
         "#NULL!",
         null,
         "#NULL!",
         null,
         "#NULL!",
         null,
         "#NULL!",
         null,
         "#NULL!",
         null,
         "#NULL!",
         null,
         "#NULL!",
         null,
         "#NULL!",
         null,
         "#NULL!",
         null,
         "#NULL!",
         null,
         "#NULL!",
         null,
         "#NULL!",
         null,
         "#NULL!",
         null,
         "#NULL!",
         null,
         "#NULL!",
         null,
         "#NULL!",
         null,
         "#NULL!",
         null,
         "#NULL!",
         null,
         "#NULL!",
         null,
         "Mobile money provider",
         null,
         "#NULL!",
         "#NULL!",
         "#NULL!",
         "#NULL!",
         "#NULL!",
         "#NULL!",
         "#NULL!",
         "#NULL!",
         "#NULL!",
         "#NULL!",
         "#NULL!",
         "#NULL!",
         null,
         "1",
         "1",
         "0",
         "0",
         "0",
         "0",
         "0",
         "0",
         "0",
         "0",
         "0",
         null,
         "#NULL!",
         "#NULL!",
         "#NULL!",
         "#NULL!",
         "#NULL!",
         "#NULL!",
         "#NULL!",
         "#NULL!",
         null,
         "#NULL!",
         null,
         "#NULL!",
         null,
         "#NULL!",
         null,
         "#NULL!",
         null,
         "#NULL!",
         null,
         "#NULL!",
         "#NULL!",
         "#NULL!",
         "#NULL!",
         "#NULL!",
         "#NULL!",
         "#NULL!",
         "#NULL!",
         "#NULL!",
         "#NULL!",
         "#NULL!",
         null,
         "#NULL!",
         "#NULL!",
         "#NULL!",
         "#NULL!",
         "#NULL!",
         "#NULL!",
         "#NULL!",
         "#NULL!",
         "#NULL!",
         "#NULL!",
         null,
         "#NULL!",
         "#NULL!",
         "#NULL!",
         "#NULL!",
         "#NULL!",
         "#NULL!",
         "#NULL!",
         "1",
         "1",
         "0",
         "0",
         "0",
         "0",
         "0",
         "0",
         "0",
         "0",
         "0",
         "0",
         "0",
         "0",
         "0",
         null,
         "Mobile money (Send money) (M-Pesa, Airtel Money,Tkash)",
         null,
         "0",
         "0",
         "0",
         "0",
         "0",
         "0",
         "0",
         "0",
         "0",
         "0",
         "0",
         "1",
         "0",
         "0",
         "0",
         null,
         "Did not do this",
         null,
         "0",
         "0",
         "0",
         "0",
         "0",
         "0",
         "0",
         "0",
         "0",
         "0",
         "0",
         "1",
         "0",
         "0",
         "0",
         null,
         "Did not do this",
         null,
         "1",
         "1",
         "0",
         "0",
         "0",
         "0",
         "0",
         "0",
         "0",
         "0",
         "0",
         "0",
         "0",
         "0",
         "0",
         null,
         "Cash",
         null,
         "1",
         "1",
         "0",
         "0",
         "0",
         "0",
         "0",
         "0",
         "0",
         "0",
         "0",
         "0",
         "0",
         "0",
         "0",
         "0",
         null,
         "Cash",
         null,
         "0",
         "0",
         "0",
         "0",
         "0",
         "0",
         "0",
         "0",
         "0",
         "0",
         "0",
         "0",
         "1",
         "0",
         "0",
         "0",
         null,
         "Did not do this",
         null,
         "1",
         "1",
         "0",
         "0",
         "0",
         "0",
         "0",
         "0",
         "0",
         "0",
         "0",
         "0",
         "0",
         "0",
         "0",
         "0",
         null,
         "Cash",
         null,
         "0",
         "0",
         "0",
         "0",
         "0",
         "0",
         "0",
         "0",
         "0",
         "0",
         "0",
         "0",
         "1",
         "0",
         "0",
         "0",
         null,
         "Did not do this",
         null,
         "0",
         "0",
         "0",
         "0",
         "0",
         "0",
         "0",
         "0",
         "0",
         "0",
         "0",
         "0",
         "1",
         "0",
         "0",
         "0",
         null,
         "Did not do this",
         null,
         "Half or more",
         "#NULL!",
         "#NULL!",
         "#NULL!",
         "#NULL!",
         "#NULL!",
         "#NULL!",
         "#NULL!",
         "#NULL!",
         "#NULL!",
         "#NULL!",
         "#NULL!",
         "#NULL!",
         "#NULL!",
         "#NULL!",
         "#NULL!",
         "#NULL!",
         "#NULL!",
         "#NULL!",
         "#NULL!",
         "#NULL!",
         "#NULL!",
         "#NULL!",
         "#NULL!",
         "#NULL!",
         "#NULL!",
         "#NULL!",
         "#NULL!",
         "#NULL!",
         "#NULL!",
         "#NULL!",
         "#NULL!",
         "#NULL!",
         "#NULL!",
         "#NULL!",
         "#NULL!",
         "#NULL!",
         "#NULL!",
         "#NULL!",
         "#NULL!",
         "#NULL!",
         "#NULL!",
         "#NULL!",
         "#NULL!",
         "#NULL!",
         "#NULL!",
         "#NULL!",
         "#NULL!",
         "#NULL!",
         "#NULL!",
         "#NULL!",
         "#NULL!",
         "#NULL!",
         "#NULL!",
         "#NULL!",
         "#NULL!",
         "#NULL!",
         "#NULL!",
         "#NULL!",
         "#NULL!",
         "#NULL!",
         "#NULL!",
         "#NULL!",
         "#NULL!",
         "#NULL!",
         "#NULL!",
         "#NULL!",
         "#NULL!",
         "#NULL!",
         "#NULL!",
         "#NULL!",
         "#NULL!",
         "#NULL!",
         "#NULL!",
         "#NULL!",
         "#NULL!",
         "#NULL!",
         "#NULL!",
         "#NULL!",
         "#NULL!",
         "#NULL!",
         "#NULL!",
         "#NULL!",
         "#NULL!",
         "#NULL!",
         "#NULL!",
         "#NULL!",
         "#NULL!",
         "#NULL!",
         "#NULL!",
         "#NULL!",
         "#NULL!",
         "#NULL!",
         "#NULL!",
         "#NULL!",
         "#NULL!",
         "#NULL!",
         "#NULL!",
         "#NULL!",
         "#NULL!",
         "#NULL!",
         "#NULL!",
         "#NULL!",
         "#NULL!",
         "#NULL!",
         "#NULL!",
         "#NULL!",
         "#NULL!",
         "#NULL!",
         "#NULL!",
         "#NULL!",
         "#NULL!",
         "#NULL!",
         "#NULL!",
         "#NULL!",
         "#NULL!",
         "#NULL!",
         "#NULL!",
         "#NULL!",
         "#NULL!",
         "#NULL!",
         "#NULL!",
         "#NULL!",
         "#NULL!",
         "#NULL!",
         "#NULL!",
         "#NULL!",
         "#NULL!",
         "#NULL!",
         "#NULL!",
         "#NULL!",
         "#NULL!",
         "#NULL!",
         "#NULL!",
         "#NULL!",
         "#NULL!",
         "#NULL!",
         "#NULL!",
         "#NULL!",
         "#NULL!",
         "#NULL!",
         "#NULL!",
         "#NULL!",
         "#NULL!",
         "#NULL!",
         "#NULL!",
         "#NULL!",
         "#NULL!",
         "#NULL!",
         "#NULL!",
         "#NULL!",
         "#NULL!",
         "#NULL!",
         "#NULL!",
         "#NULL!",
         "#NULL!",
         "#NULL!",
         "#NULL!",
         "#NULL!",
         "#NULL!",
         "#NULL!",
         "#NULL!",
         "#NULL!",
         "#NULL!",
         "#NULL!",
         "#NULL!",
         "#NULL!",
         "#NULL!",
         "#NULL!",
         "#NULL!",
         "#NULL!",
         "#NULL!",
         "#NULL!",
         "#NULL!",
         "#NULL!",
         "#NULL!",
         "#NULL!",
         "#NULL!",
         "#NULL!",
         "#NULL!",
         "#NULL!",
         "#NULL!",
         "#NULL!",
         "#NULL!",
         "#NULL!",
         "#NULL!",
         "#NULL!",
         "#NULL!",
         "#NULL!",
         "#NULL!",
         "#NULL!",
         "#NULL!",
         "#NULL!",
         "#NULL!",
         "#NULL!",
         "#NULL!",
         null,
         "#NULL!",
         "#NULL!",
         "#NULL!",
         null,
         "#NULL!",
         "#NULL!",
         "#NULL!",
         "#NULL!",
         "#NULL!",
         "#NULL!",
         "#NULL!",
         "#NULL!",
         "#NULL!",
         "#NULL!",
         "#NULL!",
         "#NULL!",
         "#NULL!",
         "#NULL!",
         "#NULL!",
         "#NULL!",
         "#NULL!",
         "#NULL!",
         "#NULL!",
         "#NULL!",
         "#NULL!",
         "#NULL!",
         "#NULL!",
         "#NULL!",
         "#NULL!",
         "#NULL!",
         "#NULL!",
         "#NULL!",
         "#NULL!",
         "#NULL!",
         "#NULL!",
         "#NULL!",
         "#NULL!",
         "#NULL!",
         "#NULL!",
         "#NULL!",
         "#NULL!",
         "#NULL!",
         "#NULL!",
         "#NULL!",
         "#NULL!",
         "#NULL!",
         "#NULL!",
         "#NULL!",
         "#NULL!",
         "#NULL!",
         "#NULL!",
         "#NULL!",
         "#NULL!",
         "#NULL!",
         "#NULL!",
         "#NULL!",
         "#NULL!",
         "#NULL!",
         "#NULL!",
         "#NULL!",
         "#NULL!",
         "#NULL!",
         "#NULL!",
         "#NULL!",
         "#NULL!",
         "#NULL!",
         "#NULL!",
         "#NULL!",
         "#NULL!",
         "#NULL!",
         "#NULL!",
         "#NULL!",
         "#NULL!",
         "#NULL!",
         "#NULL!",
         "#NULL!",
         "#NULL!",
         "#NULL!",
         "#NULL!",
         "#NULL!",
         "#NULL!",
         "#NULL!",
         "#NULL!",
         "#NULL!",
         "#NULL!",
         "#NULL!",
         "#NULL!",
         "#NULL!",
         "#NULL!",
         "#NULL!",
         "#NULL!",
         "#NULL!",
         "#NULL!",
         "#NULL!",
         "#NULL!",
         "#NULL!",
         "#NULL!",
         "#NULL!",
         "#NULL!",
         "#NULL!",
         "#NULL!",
         "#NULL!",
         "#NULL!",
         "#NULL!",
         "#NULL!",
         "#NULL!",
         "#NULL!",
         "#NULL!",
         "#NULL!",
         "#NULL!",
         "#NULL!",
         "#NULL!",
         "#NULL!",
         "#NULL!",
         "#NULL!",
         "#NULL!",
         "#NULL!",
         "#NULL!",
         "#NULL!",
         "#NULL!",
         "#NULL!",
         "#NULL!",
         "#NULL!",
         "#NULL!",
         "#NULL!",
         "#NULL!",
         "#NULL!",
         "#NULL!",
         "#NULL!",
         "#NULL!",
         "#NULL!",
         "#NULL!",
         "#NULL!",
         "#NULL!",
         "#NULL!",
         "#NULL!",
         "#NULL!",
         "#NULL!",
         "#NULL!",
         "#NULL!",
         "#NULL!",
         "#NULL!",
         "#NULL!",
         "#NULL!",
         "#NULL!",
         "#NULL!",
         "#NULL!",
         "#NULL!",
         "#NULL!",
         "#NULL!",
         "#NULL!",
         "#NULL!",
         "#NULL!",
         "#NULL!",
         "#NULL!",
         "#NULL!",
         "#NULL!",
         "#NULL!",
         "#NULL!",
         "#NULL!",
         "#NULL!",
         "#NULL!",
         "#NULL!",
         "#NULL!",
         "#NULL!",
         "#NULL!",
         "#NULL!",
         "#NULL!",
         "#NULL!",
         "#NULL!",
         "#NULL!",
         "#NULL!",
         "#NULL!",
         "#NULL!",
         "#NULL!",
         "#NULL!",
         "#NULL!",
         "#NULL!",
         "#NULL!",
         "#NULL!",
         "#NULL!",
         "#NULL!",
         "#NULL!",
         "#NULL!",
         "#NULL!",
         "#NULL!",
         "#NULL!",
         "#NULL!",
         "#NULL!",
         "#NULL!",
         "#NULL!",
         "#NULL!",
         "#NULL!",
         "#NULL!",
         "#NULL!",
         "#NULL!",
         "#NULL!",
         "#NULL!",
         "#NULL!",
         null,
         "#NULL!",
         "#NULL!",
         "#NULL!",
         "#NULL!",
         null,
         "No/Hapana",
         "1",
         "0",
         "0",
         "0",
         "0",
         "0",
         "0",
         "0",
         "#NULL!",
         "0",
         "0",
         "0",
         null,
         "1",
         "#NULL!",
         "#NULL!",
         "#NULL!",
         "#NULL!",
         "#NULL!",
         "#NULL!",
         "#NULL!",
         "#NULL!",
         "#NULL!",
         "#NULL!",
         "#NULL!",
         "#NULL!",
         "#NULL!",
         "#NULL!",
         "#NULL!",
         "#NULL!",
         "#NULL!",
         "#NULL!",
         "#NULL!",
         "#NULL!",
         "#NULL!",
         "#NULL!",
         "#NULL!",
         "#NULL!",
         "#NULL!",
         "#NULL!",
         "#NULL!",
         "#NULL!",
         "#NULL!",
         "#NULL!",
         "#NULL!",
         "#NULL!",
         "#NULL!",
         "#NULL!",
         "#NULL!",
         "#NULL!",
         "#NULL!",
         "#NULL!",
         "#NULL!",
         "#NULL!",
         "#NULL!",
         "#NULL!",
         "#NULL!",
         "#NULL!",
         "#NULL!",
         "#NULL!",
         "#NULL!",
         "#NULL!",
         "#NULL!",
         "#NULL!",
         "#NULL!",
         "#NULL!",
         "#NULL!",
         "#NULL!",
         "#NULL!",
         null,
         "#NULL!",
         null,
         "#NULL!",
         "#NULL!",
         "#NULL!",
         "#NULL!",
         "#NULL!",
         "#NULL!",
         "#NULL!",
         "#NULL!",
         "#NULL!",
         "#NULL!",
         "#NULL!",
         "#NULL!",
         "#NULL!",
         "#NULL!",
         "#NULL!",
         "#NULL!",
         "#NULL!",
         "#NULL!",
         "#NULL!",
         "#NULL!",
         "#NULL!",
         "#NULL!",
         "#NULL!",
         "#NULL!",
         "#NULL!",
         "#NULL!",
         "#NULL!",
         "#NULL!",
         "#NULL!",
         "#NULL!",
         "#NULL!",
         "#NULL!",
         "#NULL!",
         "#NULL!",
         "#NULL!",
         "#NULL!",
         "#NULL!",
         "#NULL!",
         "#NULL!",
         "#NULL!",
         "#NULL!",
         "#NULL!",
         "#NULL!",
         "#NULL!",
         "#NULL!",
         "#NULL!",
         "#NULL!",
         "#NULL!",
         "#NULL!",
         "#NULL!",
         "#NULL!",
         "#NULL!",
         "#NULL!",
         "#NULL!",
         "#NULL!",
         "#NULL!",
         "#NULL!",
         "#NULL!",
         "#NULL!",
         "#NULL!",
         "#NULL!",
         "#NULL!",
         "#NULL!",
         "#NULL!",
         "#NULL!",
         "#NULL!",
         "#NULL!",
         "#NULL!",
         "#NULL!",
         "#NULL!",
         "#NULL!",
         "#NULL!",
         "#NULL!",
         "#NULL!",
         "#NULL!",
         "#NULL!",
         "#NULL!",
         "#NULL!",
         "#NULL!",
         "#NULL!",
         "#NULL!",
         "#NULL!",
         "#NULL!",
         "#NULL!",
         "#NULL!",
         "#NULL!",
         "#NULL!",
         "#NULL!",
         "#NULL!",
         "#NULL!",
         "#NULL!",
         "#NULL!",
         "#NULL!",
         "#NULL!",
         "#NULL!",
         "#NULL!",
         "#NULL!",
         "#NULL!",
         "#NULL!",
         "#NULL!",
         "#NULL!",
         "#NULL!",
         "#NULL!",
         "#NULL!",
         "#NULL!",
         "#NULL!",
         "#NULL!",
         "#NULL!",
         "#NULL!",
         "#NULL!",
         "#NULL!",
         "#NULL!",
         "#NULL!",
         "#NULL!",
         "#NULL!",
         "#NULL!",
         "#NULL!",
         "#NULL!",
         "#NULL!",
         "#NULL!",
         "#NULL!",
         "#NULL!",
         "#NULL!",
         "#NULL!",
         "#NULL!",
         "#NULL!",
         "#NULL!",
         "#NULL!",
         "#NULL!",
         "#NULL!",
         "#NULL!",
         "#NULL!",
         "#NULL!",
         "#NULL!",
         "#NULL!",
         "#NULL!",
         "#NULL!",
         "#NULL!",
         "#NULL!",
         "#NULL!",
         "#NULL!",
         "#NULL!",
         "#NULL!",
         "#NULL!",
         "#NULL!",
         "#NULL!",
         "#NULL!",
         "#NULL!",
         "#NULL!",
         "#NULL!",
         "#NULL!",
         "#NULL!",
         "#NULL!",
         "#NULL!",
         "#NULL!",
         "#NULL!",
         "#NULL!",
         "#NULL!",
         "#NULL!",
         "#NULL!",
         "#NULL!",
         "#NULL!",
         "#NULL!",
         "#NULL!",
         "#NULL!",
         "#NULL!",
         "#NULL!",
         "#NULL!",
         "#NULL!",
         "#NULL!",
         "#NULL!",
         "#NULL!",
         "#NULL!",
         "#NULL!",
         "#NULL!",
         "#NULL!",
         "#NULL!",
         "#NULL!",
         "#NULL!",
         "#NULL!",
         "#NULL!",
         "#NULL!",
         "#NULL!",
         null,
         "#NULL!",
         "#NULL!",
         "#NULL!",
         "#NULL!",
         "#NULL!",
         "#NULL!",
         "#NULL!",
         "#NULL!",
         "#NULL!",
         "#NULL!",
         "#NULL!",
         "#NULL!",
         "#NULL!",
         null,
         "#NULL!",
         "#NULL!",
         "#NULL!",
         "#NULL!",
         "#NULL!",
         "#NULL!",
         "#NULL!",
         "#NULL!",
         "#NULL!",
         "#NULL!",
         "#NULL!",
         null,
         "#NULL!",
         "#NULL!",
         "#NULL!",
         "#NULL!",
         "#NULL!",
         "#NULL!",
         "#NULL!",
         "#NULL!",
         "#NULL!",
         "#NULL!",
         "#NULL!",
         "#NULL!",
         "#NULL!",
         "#NULL!",
         "#NULL!",
         "#NULL!",
         "#NULL!",
         "#NULL!",
         "#NULL!",
         "#NULL!",
         "#NULL!",
         "#NULL!",
         "#NULL!",
         "#NULL!",
         "#NULL!",
         "#NULL!",
         "#NULL!",
         "#NULL!",
         "#NULL!",
         "#NULL!",
         "#NULL!",
         "#NULL!",
         "#NULL!",
         "#NULL!",
         "#NULL!",
         "#NULL!",
         "#NULL!",
         "#NULL!",
         "#NULL!",
         "#NULL!",
         "#NULL!",
         "#NULL!",
         "#NULL!",
         "#NULL!",
         "#NULL!",
         "#NULL!",
         "#NULL!",
         "#NULL!",
         "#NULL!",
         "#NULL!",
         "#NULL!",
         "#NULL!",
         "#NULL!",
         "#NULL!",
         "#NULL!",
         "#NULL!",
         "#NULL!",
         "#NULL!",
         "#NULL!",
         "#NULL!",
         "#NULL!",
         "#NULL!",
         "#NULL!",
         "#NULL!",
         "#NULL!",
         "#NULL!",
         "#NULL!",
         "#NULL!",
         "#NULL!",
         "#NULL!",
         "#NULL!",
         "#NULL!",
         "#NULL!",
         "#NULL!",
         "#NULL!",
         "#NULL!",
         "#NULL!",
         "#NULL!",
         "#NULL!",
         "#NULL!",
         "#NULL!",
         "#NULL!",
         "#NULL!",
         "#NULL!",
         "#NULL!",
         "#NULL!",
         "#NULL!",
         "#NULL!",
         "#NULL!",
         "#NULL!",
         "#NULL!",
         "#NULL!",
         "#NULL!",
         "#NULL!",
         "#NULL!",
         "#NULL!",
         "#NULL!",
         "#NULL!",
         "#NULL!",
         "#NULL!",
         "#NULL!",
         null,
         "#NULL!",
         null,
         "#NULL!",
         "#NULL!",
         "#NULL!",
         "#NULL!",
         "#NULL!",
         "#NULL!",
         "#NULL!",
         "#NULL!",
         "#NULL!",
         null,
         "#NULL!",
         "#NULL!",
         "#NULL!",
         "#NULL!",
         "#NULL!",
         "#NULL!",
         "#NULL!",
         "#NULL!",
         "#NULL!",
         null,
         "#NULL!",
         "#NULL!",
         "#NULL!",
         "#NULL!",
         "#NULL!",
         "#NULL!",
         "#NULL!",
         "1",
         "#NULL!",
         "#NULL!",
         "#NULL!",
         "#NULL!",
         "#NULL!",
         "#NULL!",
         "#NULL!",
         "#NULL!",
         "#NULL!",
         "#NULL!",
         "#NULL!",
         "#NULL!",
         null,
         "Can't afford to open/maintain a SACCO account",
         "I don't have money to save.",
         "#NULL!",
         "#NULL!",
         "#NULL!",
         "#NULL!",
         "#NULL!",
         "#NULL!",
         "#NULL!",
         "#NULL!",
         "#NULL!",
         "#NULL!",
         "#NULL!",
         "#NULL!",
         "#NULL!",
         "#NULL!",
         "#NULL!",
         "#NULL!",
         "#NULL!",
         "#NULL!",
         "#NULL!",
         "#NULL!",
         "#NULL!",
         "#NULL!",
         "#NULL!",
         "#NULL!",
         "#NULL!",
         "#NULL!",
         "#NULL!",
         "#NULL!",
         "#NULL!",
         "#NULL!",
         "#NULL!",
         "#NULL!",
         "#NULL!",
         "#NULL!",
         "#NULL!",
         "#NULL!",
         "#NULL!",
         "#NULL!",
         "#NULL!",
         "#NULL!",
         "#NULL!",
         "#NULL!",
         "#NULL!",
         "#NULL!",
         "#NULL!",
         "#NULL!",
         "#NULL!",
         "#NULL!",
         "#NULL!",
         "#NULL!",
         "#NULL!",
         "#NULL!",
         "#NULL!",
         "#NULL!",
         "#NULL!",
         "#NULL!",
         "#NULL!",
         "#NULL!",
         "#NULL!",
         "#NULL!",
         "#NULL!",
         "#NULL!",
         "#NULL!",
         "#NULL!",
         "#NULL!",
         "#NULL!",
         "#NULL!",
         "#NULL!",
         "#NULL!",
         "#NULL!",
         "#NULL!",
         "#NULL!",
         "#NULL!",
         "#NULL!",
         "#NULL!",
         "#NULL!",
         "#NULL!",
         "#NULL!",
         "#NULL!",
         "#NULL!",
         "#NULL!",
         "#NULL!",
         "#NULL!",
         "#NULL!",
         "#NULL!",
         "#NULL!",
         "#NULL!",
         "#NULL!",
         "#NULL!",
         "#NULL!",
         "#NULL!",
         "#NULL!",
         "#NULL!",
         "#NULL!",
         "#NULL!",
         "#NULL!",
         "#NULL!",
         "#NULL!",
         "#NULL!",
         "#NULL!",
         "#NULL!",
         "#NULL!",
         "#NULL!",
         "#NULL!",
         "#NULL!",
         "#NULL!",
         "#NULL!",
         "#NULL!",
         "#NULL!",
         "#NULL!",
         "#NULL!",
         "#NULL!",
         "#NULL!",
         "#NULL!",
         "#NULL!",
         "#NULL!",
         "#NULL!",
         "#NULL!",
         "#NULL!",
         "#NULL!",
         "#NULL!",
         "#NULL!",
         "#NULL!",
         "#NULL!",
         "#NULL!",
         "#NULL!",
         "#NULL!",
         "#NULL!",
         "#NULL!",
         "#NULL!",
         "#NULL!",
         "#NULL!",
         "#NULL!",
         "#NULL!",
         "#NULL!",
         "#NULL!",
         "#NULL!",
         "#NULL!",
         "#NULL!",
         "#NULL!",
         "#NULL!",
         "#NULL!",
         "#NULL!",
         "#NULL!",
         "#NULL!",
         "#NULL!",
         "#NULL!",
         "#NULL!",
         "#NULL!",
         "#NULL!",
         "#NULL!",
         "#NULL!",
         "#NULL!",
         "#NULL!",
         "#NULL!",
         "#NULL!",
         "#NULL!",
         "#NULL!",
         "#NULL!",
         "#NULL!",
         "#NULL!",
         "#NULL!",
         "#NULL!",
         "#NULL!",
         "#NULL!",
         "#NULL!",
         "#NULL!",
         "#NULL!",
         "#NULL!",
         "#NULL!",
         "#NULL!",
         "#NULL!",
         "#NULL!",
         "#NULL!",
         "#NULL!",
         "#NULL!",
         "#NULL!",
         "#NULL!",
         "#NULL!",
         "#NULL!",
         "#NULL!",
         "#NULL!",
         "#NULL!",
         "#NULL!",
         "#NULL!",
         "#NULL!",
         "#NULL!",
         "#NULL!",
         "#NULL!",
         "#NULL!",
         "#NULL!",
         "#NULL!",
         "#NULL!",
         "#NULL!",
         "#NULL!",
         "#NULL!",
         "#NULL!",
         "#NULL!",
         "#NULL!",
         "#NULL!",
         null,
         "#NULL!",
         "#NULL!",
         "#NULL!",
         "#NULL!",
         "#NULL!",
         "#NULL!",
         "#NULL!",
         "#NULL!",
         "#NULL!",
         "#NULL!",
         "#NULL!",
         "#NULL!",
         "#NULL!",
         "#NULL!",
         null,
         "#NULL!",
         "#NULL!",
         "#NULL!",
         "#NULL!",
         "#NULL!",
         null,
         "#NULL!",
         "#NULL!",
         "#NULL!",
         "#NULL!",
         "#NULL!",
         "#NULL!",
         "#NULL!",
         "#NULL!",
         "#NULL!",
         "#NULL!",
         null,
         "#NULL!",
         "#NULL!",
         "#NULL!",
         "#NULL!",
         "#NULL!",
         "#NULL!",
         "#NULL!",
         "1",
         "2",
         "#NULL!",
         "#NULL!",
         "#NULL!",
         "#NULL!",
         "#NULL!",
         "#NULL!",
         "#NULL!",
         "#NULL!",
         "#NULL!",
         "#NULL!",
         "#NULL!",
         "#NULL!",
         null,
         "#NULL!",
         "#NULL!",
         "#NULL!",
         "#NULL!",
         "#NULL!",
         "#NULL!",
         "#NULL!",
         "#NULL!",
         "#NULL!",
         null,
         "1",
         "0",
         "0",
         "0",
         "#NULL!",
         "0",
         "0",
         "0",
         null,
         "1",
         "MPesa",
         null,
         "Weekly /Kila wiki",
         "No/ Hapana",
         "No/ Hapana",
         "No/ Hapana",
         "No/ Hapana",
         "No/ Hapana",
         "No/ Hapana",
         "#NULL!",
         "#NULL!",
         "#NULL!",
         "#NULL!",
         "#NULL!",
         "#NULL!",
         "#NULL!",
         "#NULL!",
         "#NULL!",
         null,
         "No, I did not have a complain",
         "#NULL!",
         "#NULL!",
         "#NULL!",
         "#NULL!",
         "#NULL!",
         "#NULL!",
         "#NULL!",
         "#NULL!",
         "#NULL!",
         null,
         "#NULL!",
         "Agree",
         "Agree",
         "Agree",
         "Agree",
         "Agree",
         "Agree",
         "No/ Hapana",
         "#NULL!",
         "#NULL!",
         "#NULL!",
         "#NULL!",
         "#NULL!",
         "#NULL!",
         "#NULL!",
         "#NULL!",
         "#NULL!",
         "#NULL!",
         "#NULL!",
         null,
         "0",
         "0",
         "1",
         "0",
         "0",
         "0",
         "0",
         "0",
         "0",
         "1",
         "0",
         "1",
         "0",
         "0",
         "0",
         "My mobile banking provider refused to give me a loan.",
         "#NULL!",
         "#NULL!",
         "#NULL!",
         "#NULL!",
         "#NULL!",
         "#NULL!",
         "#NULL!",
         "#NULL!",
         "#NULL!",
         "0",
         "0",
         "#NULL!",
         "#NULL!",
         "#NULL!",
         null,
         "#NULL!",
         null,
         "#NULL!",
         "#NULL!",
         "#NULL!",
         "#NULL!",
         "#NULL!",
         "#NULL!",
         "#NULL!",
         "#NULL!",
         "#NULL!",
         "#NULL!",
         "#NULL!",
         "#NULL!",
         "#NULL!",
         "#NULL!",
         null,
         "#NULL!",
         "#NULL!",
         "#NULL!",
         "#NULL!",
         "#NULL!",
         "#NULL!",
         "#NULL!",
         "#NULL!",
         "#NULL!",
         "#NULL!",
         "#NULL!",
         null,
         "#NULL!",
         "#NULL!",
         "#NULL!",
         "#NULL!",
         "#NULL!",
         "#NULL!",
         "#NULL!",
         "No",
         "1",
         "0",
         "0",
         "0",
         "0",
         "0",
         "0",
         "0",
         "0",
         "0",
         "0",
         "0",
         "0",
         "0",
         null,
         "#NULL!",
         "#NULL!",
         "#NULL!",
         "#NULL!",
         "#NULL!",
         "#NULL!",
         "#NULL!",
         "#NULL!",
         "#NULL!",
         "0",
         "0",
         "0",
         "0",
         "0",
         "#NULL!",
         "#NULL!",
         null,
         "1",
         "3",
         "#NULL!",
         "#NULL!",
         "#NULL!",
         "#NULL!",
         "#NULL!",
         "#NULL!",
         "#NULL!",
         "#NULL!",
         "#NULL!",
         null,
         "#NULL!",
         null,
         "#NULL!",
         null,
         "#NULL!",
         null,
         "#NULL!",
         "#NULL!",
         "#NULL!",
         "#NULL!",
         "#NULL!",
         "#NULL!",
         "#NULL!",
         "#NULL!",
         "#NULL!",
         "#NULL!",
         "#NULL!",
         "#NULL!",
         "#NULL!",
         "#NULL!",
         "#NULL!",
         "#NULL!",
         "#NULL!",
         "#NULL!",
         "#NULL!",
         null,
         "#NULL!",
         "#NULL!",
         "#NULL!",
         "#NULL!",
         "#NULL!",
         "#NULL!",
         "#NULL!",
         "#NULL!",
         null,
         "#NULL!",
         "#NULL!",
         "#NULL!",
         "#NULL!",
         "#NULL!",
         "#NULL!",
         "#NULL!",
         "#NULL!",
         "#NULL!",
         "#NULL!",
         "#NULL!",
         "#NULL!",
         "#NULL!",
         "#NULL!",
         "#NULL!",
         "No",
         "#NULL!",
         "#NULL!",
         "#NULL!",
         "#NULL!",
         "#NULL!",
         "#NULL!",
         "#NULL!",
         "#NULL!",
         "#NULL!",
         "#NULL!",
         "#NULL!",
         "#NULL!",
         "#NULL!",
         "#NULL!",
         "#NULL!",
         "#NULL!",
         "#NULL!",
         null,
         "#NULL!",
         null,
         "#NULL!",
         "#NULL!",
         "#NULL!",
         "#NULL!",
         "#NULL!",
         "#NULL!",
         "#NULL!",
         "#NULL!",
         "#NULL!",
         "#NULL!",
         "#NULL!",
         "#NULL!",
         "#NULL!",
         "#NULL!",
         "#NULL!",
         "0",
         "0",
         "0",
         "0",
         "0",
         "#NULL!",
         "#NULL!",
         null,
         "No",
         "#NULL!",
         "#NULL!",
         null,
         "1",
         "2",
         "#NULL!",
         "#NULL!",
         "#NULL!",
         "#NULL!",
         "#NULL!",
         "#NULL!",
         "#NULL!",
         "#NULL!",
         "#NULL!",
         "#NULL!",
         "#NULL!",
         "#NULL!",
         "#NULL!",
         "#NULL!",
         "#NULL!",
         "#NULL!",
         "#NULL!",
         null,
         null,
         "#NULL!",
         "#NULL!",
         "#NULL!",
         null,
         "#NULL!",
         "#NULL!",
         "#NULL!",
         "#NULL!",
         "#NULL!",
         "#NULL!",
         "#NULL!",
         "#NULL!",
         "#NULL!",
         "#NULL!",
         "#NULL!",
         "#NULL!",
         "#NULL!",
         "#NULL!",
         "#NULL!",
         "#NULL!",
         "#NULL!",
         "#NULL!",
         "#NULL!",
         "#NULL!",
         "0",
         "0",
         "0",
         "0",
         "0",
         "0",
         "0",
         "0",
         "0",
         "#NULL!",
         "#NULL!",
         "#NULL!",
         null,
         "#NULL!",
         "#NULL!",
         "#NULL!",
         "#NULL!",
         "#NULL!",
         "#NULL!",
         "#NULL!",
         "#NULL!",
         "#NULL!",
         null,
         "#NULL!",
         null,
         "#NULL!",
         null,
         "#NULL!",
         "#NULL!",
         "#NULL!",
         "#NULL!",
         "#NULL!",
         "#NULL!",
         "#NULL!",
         "#NULL!",
         "#NULL!",
         "#NULL!",
         "#NULL!",
         "#NULL!",
         null,
         "#NULL!",
         null,
         "#NULL!",
         null,
         "#NULL!",
         "#NULL!",
         null,
         "#NULL!",
         null,
         "#NULL!",
         "#NULL!",
         "#NULL!",
         "#NULL!",
         "#NULL!",
         "#NULL!",
         "#NULL!",
         null,
         "#NULL!",
         "#NULL!",
         "#NULL!",
         "#NULL!",
         "#NULL!",
         "#NULL!",
         "#NULL!",
         "#NULL!",
         "#NULL!",
         "#NULL!",
         "#NULL!",
         "#NULL!",
         "#NULL!",
         "#NULL!",
         "#NULL!",
         "#NULL!",
         "#NULL!",
         "#NULL!",
         "#NULL!",
         "#NULL!",
         "#NULL!",
         "#NULL!",
         "#NULL!",
         "#NULL!",
         "#NULL!",
         "#NULL!",
         "#NULL!",
         "#NULL!",
         null,
         "#NULL!",
         "#NULL!",
         "#NULL!",
         "#NULL!",
         "#NULL!",
         "#NULL!",
         "#NULL!",
         "#NULL!",
         "#NULL!",
         "#NULL!",
         "#NULL!",
         "#NULL!",
         "#NULL!",
         "#NULL!",
         "#NULL!",
         "#NULL!",
         null,
         "#NULL!",
         "#NULL!",
         "#NULL!",
         "#NULL!",
         "#NULL!",
         "#NULL!",
         "#NULL!",
         "#NULL!",
         "#NULL!",
         "#NULL!",
         "#NULL!",
         "#NULL!",
         "0",
         "0",
         "0",
         "0",
         "#NULL!",
         "#NULL!",
         "#NULL!",
         null,
         "#NULL!",
         "#NULL!",
         "#NULL!",
         "#NULL!",
         "#NULL!",
         "#NULL!",
         "#NULL!",
         "#NULL!",
         "0",
         "0",
         "0",
         "0",
         "0",
         "0",
         "0",
         "#NULL!",
         "#NULL!",
         "#NULL!",
         null,
         "#NULL!",
         "#NULL!",
         "#NULL!",
         "#NULL!",
         "#NULL!",
         "#NULL!",
         "#NULL!",
         "#NULL!",
         "#NULL!",
         "#NULL!",
         "#NULL!",
         "#NULL!",
         "#NULL!",
         "#NULL!",
         "#NULL!",
         "#NULL!",
         "#NULL!",
         "#NULL!",
         "#NULL!",
         "#NULL!",
         "#NULL!",
         "#NULL!",
         "#NULL!",
         "#NULL!",
         "#NULL!",
         "#NULL!",
         "#NULL!",
         "#NULL!",
         "#NULL!",
         "#NULL!",
         "#NULL!",
         "#NULL!",
         "#NULL!",
         "#NULL!",
         "#NULL!",
         "#NULL!",
         "#NULL!",
         "#NULL!",
         "#NULL!",
         "#NULL!",
         "#NULL!",
         "#NULL!",
         "#NULL!",
         "#NULL!",
         "#NULL!",
         "#NULL!",
         "#NULL!",
         "#NULL!",
         "#NULL!",
         "#NULL!",
         "#NULL!",
         "#NULL!",
         "#NULL!",
         "#NULL!",
         "#NULL!",
         "#NULL!",
         "#NULL!",
         "#NULL!",
         "#NULL!",
         "#NULL!",
         "#NULL!",
         "#NULL!",
         "#NULL!",
         "#NULL!",
         "#NULL!",
         "#NULL!",
         "#NULL!",
         "#NULL!",
         "#NULL!",
         "#NULL!",
         "#NULL!",
         "#NULL!",
         "#NULL!",
         "#NULL!",
         "#NULL!",
         "#NULL!",
         "#NULL!",
         "#NULL!",
         "#NULL!",
         "#NULL!",
         "#NULL!",
         "#NULL!",
         "#NULL!",
         "#NULL!",
         "#NULL!",
         "#NULL!",
         "#NULL!",
         "#NULL!",
         "#NULL!",
         "#NULL!",
         "#NULL!",
         "#NULL!",
         "#NULL!",
         "#NULL!",
         "#NULL!",
         "#NULL!",
         "#NULL!",
         "#NULL!",
         "#NULL!",
         "#NULL!",
         "#NULL!",
         "#NULL!",
         "#NULL!",
         "#NULL!",
         "#NULL!",
         "#NULL!",
         "0",
         "0",
         "0",
         "0",
         "0",
         "0",
         "0",
         "0",
         "0",
         "0",
         "0",
         "0",
         "0",
         "0",
         "0",
         "0",
         "0",
         "0",
         "0",
         "0",
         "0",
         "0",
         "0",
         "0",
         "0",
         "0",
         "0",
         "0",
         "0",
         "0",
         "0",
         "0",
         "0",
         "0",
         "0",
         "0",
         "0",
         "0",
         "0",
         "0",
         "0",
         "0",
         "0",
         "0",
         "0",
         "0",
         "0",
         null,
         "#NULL!",
         "#NULL!",
         "#NULL!",
         "#NULL!",
         "#NULL!",
         "#NULL!",
         "#NULL!",
         "#NULL!",
         "#NULL!",
         "#NULL!",
         "#NULL!",
         "#NULL!",
         "#NULL!",
         "#NULL!",
         "#NULL!",
         "#NULL!",
         "#NULL!",
         "#NULL!",
         "#NULL!",
         "#NULL!",
         "0",
         "0",
         "0",
         "0",
         "0",
         "0",
         "0",
         "0",
         "#NULL!",
         "#NULL!",
         null,
         "#NULL!",
         null,
         "#NULL!",
         null,
         "#NULL!",
         null,
         "#NULL!",
         null,
         "#NULL!",
         null,
         "#NULL!",
         null,
         "#NULL!",
         "#NULL!",
         "#NULL!",
         null,
         "#NULL!",
         "#NULL!",
         "#NULL!",
         "#NULL!",
         "#NULL!",
         "#NULL!",
         "#NULL!",
         "#NULL!",
         "#NULL!",
         "#NULL!",
         "#NULL!",
         "#NULL!",
         "#NULL!",
         "#NULL!",
         "#NULL!",
         "#NULL!",
         null,
         "#NULL!",
         null,
         "#NULL!",
         "#NULL!",
         "#NULL!",
         "#NULL!",
         "#NULL!",
         "#NULL!",
         null,
         "#NULL!",
         "#NULL!",
         "#NULL!",
         "#NULL!",
         "#NULL!",
         "#NULL!",
         "0",
         "0",
         "0",
         "0",
         "0",
         "0",
         "0",
         "0",
         "0",
         "0",
         "0",
         "0",
         "0",
         "0",
         "0",
         "0",
         "0",
         "0",
         "0",
         "0",
         "0",
         "#NULL!",
         "#NULL!",
         null,
         "#NULL!",
         "#NULL!",
         "#NULL!",
         "#NULL!",
         "#NULL!",
         "#NULL!",
         "#NULL!",
         "#NULL!",
         "#NULL!",
         "#NULL!",
         "0",
         "0",
         "0",
         "0",
         "0",
         "0",
         "0",
         "0",
         "0",
         "#NULL!",
         "#NULL!",
         "#NULL!",
         null,
         "#NULL!",
         "#NULL!",
         "#NULL!",
         "#NULL!",
         "#NULL!",
         "#NULL!",
         "#NULL!",
         "#NULL!",
         "#NULL!",
         "0",
         "0",
         "0",
         "0",
         "0",
         "0",
         "0",
         "0",
         "0",
         "#NULL!",
         "#NULL!",
         "#NULL!",
         null,
         "#NULL!",
         null,
         "#NULL!",
         "#NULL!",
         "No",
         "No",
         "No",
         "No",
         "No",
         "#NULL!",
         null,
         "#NULL!",
         "#NULL!",
         null,
         "#NULL!",
         null,
         "#NULL!",
         "#NULL!",
         "#NULL!",
         null,
         "#NULL!",
         "#NULL!",
         "#NULL!",
         null,
         "#NULL!",
         "#NULL!",
         "#NULL!",
         null,
         "#NULL!",
         "#NULL!",
         "Yes",
         "Once a month",
         null,
         "0",
         "0",
         "0",
         "0",
         "1",
         "0",
         "0",
         "0",
         "0",
         "0",
         "0",
         "0",
         null,
         "Loans/credit/borrow",
         "Got goods/items on credit",
         null,
         "#NULL!",
         null,
         null,
         "Convenient/Fast /Easy to access/use",
         null,
         "1",
         "6",
         "0",
         "0",
         "0",
         "0",
         "0",
         "0",
         "0",
         "0",
         "0",
         "0",
         "0",
         "0",
         "#NULL!",
         "#NULL!",
         "#NULL!",
         "#NULL!",
         "#NULL!",
         "#NULL!",
         "#NULL!",
         "#NULL!",
         "#NULL!",
         "#NULL!",
         "#NULL!",
         "#NULL!",
         "#NULL!",
         "#NULL!",
         "#NULL!",
         "#NULL!",
         "#NULL!",
         null,
         "#NULL!",
         null,
         "#NULL!",
         null,
         "#NULL!",
         null,
         "#NULL!",
         null,
         "#NULL!",
         null,
         "#NULL!",
         null,
         "1",
         "1",
         "Yes",
         "Start or expand a business",
         null,
         "1",
         "0",
         "0",
         "0",
         "0",
         "0",
         "0",
         "0",
         "0",
         "0",
         "0",
         "0",
         "0",
         "0",
         null,
         "Worked more / got additional jobs/farmed additional land",
         null,
         "#NULL!",
         null,
         "#NULL!",
         null,
         "This was the only option I had/no other choice",
         null,
         "Yes",
         "A major accident or injury",
         null,
         "1",
         "7",
         "I own a mobile that only I use/Nina simu ambayo ni mimi tu ninaitumia",
         "0",
         "0",
         "0",
         "1",
         "Weekly/Kila wiki\"",
         null,
         "On a friend or neighbourâ€™s computer/tablet where I did not pay/\"Kwenye kompyut",
         null,
         "0",
         "0",
         "0",
         "0",
         "Strong",
         "I have no idea/I dont know",
         "I can manage with ease",
         "I can manage with ease",
         "I can manage",
         "I have no idea/I dont know",
         "Often",
         "1",
         "12",
         "Mobile Money Agent (for depositing or withdrawing cash)/Wakala/ajenti wa pesa za",
         null,
         "Close enough to walk to and fro - No need to spend/\"Nikaribu pa kutosha kwenda n",
         null,
         "Under 1 Kilometer",
         null,
         "Under 10 minutes",
         "1",
         "No/\"la\"",
         "#NULL!",
         null,
         "Christianity/Ukristo",
         "Semi - permanent/Jengo ambalo sio la kudumu sana",
         null,
         "1",
         "1",
         "Rented /Leased/Kukodisha",
         "Individual/Mtu binafsi",
         "Iron sheets/ Mabati",
         "Concrete/ Cement/Terrazo/ Kokoto/simiti/Terrazo",
         "Iron sheets/ Mabati",
         "LPG (gas)/Gesi",
         "#NULL!",
         null,
         "#NULL!",
         "#NULL!",
         "#NULL!",
         "#NULL!",
         "#NULL!",
         "#NULL!",
         null,
         "No",
         "Piped to yard/plot",
         "Pit latrine covered Choo cha shimo kilichofunikwa",
         "Yes",
         "Burnt in a pit/Kuchomwa shimoni",
         "1",
         "0",
         "1",
         "0",
         "0",
         "0",
         "0",
         "0",
         "0",
         "0",
         "0",
         "0",
         "0",
         "0",
         "0",
         "0",
         "0",
         "0",
         "0",
         "#NULL!",
         "#NULL!",
         "#NULL!",
         "#NULL!",
         "#NULL!",
         "No",
         "Yes",
         "Yes",
         "Yes",
         "No",
         "Yes",
         "Rental Agreement",
         "Yes",
         "0",
         "0",
         "0",
         "0",
         "0",
         "0",
         "0",
         "1",
         "0",
         "0",
         "0",
         "0",
         "0",
         "0",
         "0",
         null,
         null,
         "Tenancy",
         "Renting.",
         "Rental Agreement",
         "No",
         "No",
         "Leasehold",
         null,
         null,
         "0",
         "0",
         "0",
         "0",
         "0",
         "0",
         "0",
         "0",
         "0",
         "0",
         "0",
         "0",
         "0",
         "0",
         "1",
         "#NULL!",
         "1",
         "0",
         "1",
         "0",
         "0",
         "7500",
         "1050",
         "4200",
         "100",
         "400",
         "400",
         "1600",
         "1800",
         "100",
         "#NULL!",
         "#NULL!",
         "2500",
         "417",
         "1000",
         "#NULL!",
         "#NULL!",
         "6950",
         "#NULL!",
         "1",
         "2024-09-2015:30:56",
         "1",
         "668",
         "Casual Worker",
         "Middle",
         "Secondary",
         "Single/Never Married",
         "Has ID (National Identity Card (ID),Passport,Alien ID)",
         "2323",
         "Non-usage",
         "Non-usage",
         "Non-usage",
         "Non-usage",
         "Non-usage",
         "Non-usage",
         "Non-usage",
         "Non-usage",
         "Non-usage",
         "Non-usage",
         "Non-usage",
         "Non-usage",
         "Non-usage",
         "0",
         "Non-usage",
         "Non-usage",
         "Usage",
         "Non-usage",
         "Usage",
         "Usage",
         "Usage",
         "Usage",
         "Non-usage",
         "Non-usage",
         "Usage",
         "Usage",
         "Usage",
         "Usage",
         "122137153",
         "1",
         "1",
         "Non-usage",
         "Non-usage",
         "Non-usage",
         "Usage",
         "Usage",
         "Yes",
         "Yes",
         "Usage",
         "Usage",
         "Non-usage",
         "Usage",
         "Non-usage",
         "Usage",
         "Non-usage",
         "Usage",
         "Usage",
         "Usage",
         "Yes",
         "Yes",
         "Non-usage",
         "Non-usage",
         "Non-usage",
         "Non-usage",
         "1",
         "No",
         "N0",
         "No",
         "N0",
         "0",
         "0",
         "0",
         "No",
         "No",
         "No",
         "No",
         "No",
         "No",
         "No",
         "Non-usage",
         "Usage",
         "Usage",
         "Usage",
         "Yes",
         "Yes",
         "Yes",
         "Formal Non-Prudential",
         "2",
         "1",
         "No",
         "No",
         "No",
         "No",
         "No",
         "No",
         "No",
         "No",
         "No",
         "Non-usage",
         "No",
         "formal only",
         "Non-usage",
         "Non-usage",
         "Non-usage",
         "Non-usage",
         "Yes",
         "Yes",
         "Non-usage",
         "Non-usage",
         "Non-usage",
         "0",
         "0",
         "Other",
         "0",
         "Awareness",
         "Non-usage",
         "Non-usage",
         "Non-usage",
         "Usage",
         "Non-usage",
         "Non-usage",
         "Non-usage",
         "Usage",
         "Yes",
         "Yes",
         "Usage",
         "Usage",
         "Usage",
         "Usage",
         "Non-usage",
         "Usage",
         "Non-usage",
         "formal other and informal",
         "Used to use",
         "Never used",
         "Never used",
         "Never used",
         "Never used",
         "Used to use",
         "Never used",
         "Currently use",
         "Never used",
         "Never used",
         "Never used",
         "Never used",
         "Currently use",
         "Never used",
         "No",
         "No",
         "Vulnerable",
         "No",
         "No",
         "No",
         "No",
         "No",
         "No",
         "Yes",
         "No",
         "No",
         "No",
         "Yes",
         "No",
         "No",
         "No",
         "No",
         "No",
         "No",
         "0",
         "0",
         "0",
         "0",
         "Low",
         "Very worried",
         "Very worried",
         "Very confident",
         "Improved",
         "Correct",
         "Correct",
         "Correct",
         "All correct",
         "Highly literate",
         "Correct",
         "Informal",
         "#NULL!",
         "Personal",
         "yes",
         "no",
         "no",
         "no",
         "no",
         "no",
         "no",
         "no",
         "no",
         "no",
         "no",
         "yes",
         "no",
         "no",
         "no",
         "no",
         "no",
         "no",
         "no",
         "no",
         "no",
         "no",
         "no",
         "yes",
         "no",
         "no",
         "no",
         "no",
         "no",
         "no",
         "no",
         "no",
         "no",
         "no",
         "no",
         "no",
         "no",
         "no",
         "no",
         "no",
         "no",
         "no",
         "no",
         "no",
         "no",
         "no",
         "no",
         "no",
         "no",
         "0",
         "0",
         "0",
         "1",
         "0",
         "0",
         "0",
         "0",
         "1",
         "0",
         "0",
         "0",
         "0",
         "0",
         "0",
         "0",
         "0",
         "0",
         "0",
         "0",
         "0",
         "0",
         "0",
         "0",
         "0",
         "1",
         "0",
         "0",
         "1",
         "0",
         "0",
         "0",
         "0",
         "0",
         "0",
         "0",
         "0",
         "0",
         "0",
         "0",
         "0",
         "0",
         "0",
         "0",
         "0",
         "4",
         "More than one",
         "Non Usage",
         "Usage",
         "Non Usage",
         "Non Usage",
         "#NULL!",
         "Non Usage",
         "#NULL!",
         "Awareness",
         "Awareness",
         "Affordability",
         "Affordability",
         "Affordability",
         "Non Usage",
         "#NULL!",
         "#NULL!",
         "#NULL!",
         "#NULL!",
         "#NULL!",
         "#NULL!",
         "#NULL!",
         "#NULL!",
         "#NULL!",
         "#NULL!",
         "#NULL!",
         "#NULL!",
         "#NULL!",
         "#NULL!",
         "#NULL!",
         "#NULL!",
         "#NULL!",
         "#NULL!",
         "#NULL!",
         "#NULL!",
         "#NULL!",
         "#NULL!",
         "#NULL!",
         "#NULL!",
         "#NULL!",
         "#NULL!",
         "#NULL!",
         "#NULL!",
         "#NULL!",
         "#NULL!",
         "#NULL!",
         "#NULL!",
         "#NULL!",
         "#NULL!",
         "#NULL!",
         "#NULL!",
         "#NULL!",
         "#NULL!",
         "#NULL!",
         "#NULL!",
         "#NULL!",
         "#NULL!",
         "#NULL!",
         "#NULL!",
         "#NULL!",
         "#NULL!",
         "#NULL!",
         "#NULL!",
         "#NULL!",
         "#NULL!",
         "No",
         "No",
         "No",
         "No",
         "No",
         "No",
         "#NULL!",
         "#NULL!",
         "#NULL!",
         "#NULL!",
         "#NULL!",
         "#NULL!",
         "#NULL!",
         "#NULL!",
         "#NULL!",
         "#NULL!",
         "#NULL!",
         "#NULL!",
         "#NULL!",
         "#NULL!",
         "Satisfied",
         "#NULL!",
         "#NULL!",
         "#NULL!",
         "#NULL!",
         "#NULL!",
         "#NULL!",
         "#NULL!",
         "#NULL!",
         "#NULL!",
         "No",
         "#NULL!",
         "Never used",
         "Never used",
         "Without Disability",
         "-1.251917",
         "36.719076"
        ],
        [
         "4",
         "50-82-98-89",
         "000bb72e959b4dd48443da902c01e920",
         "Murang'a",
         "763",
         "Urban",
         "16",
         "Household found with competent respondent",
         "Access granted",
         "completed",
         "Female",
         "1",
         "1",
         "1",
         "1",
         "Swahili",
         null,
         "20",
         "Head of household",
         "20",
         "Female",
         "Head of household",
         "\"Post Secondary education",
         "\"Post Secondary education",
         "Yes",
         "Yes",
         "Female",
         "18-25",
         "Continued with interview",
         "1",
         "Some technical training after secondary school",
         null,
         "Single/Never Married",
         null,
         "#NULL!",
         "#NULL!",
         "No",
         "No- no difficulty",
         "No- no difficulty",
         "No- no difficulty",
         "No- no difficulty",
         "No- no difficulty",
         "No- no difficulty",
         "Health (yourself or family/ others)",
         "Self",
         "Self",
         "Agree",
         "Disagree",
         "Agree",
         "Disagree",
         "No",
         "#NULL!",
         "No",
         "No",
         "No",
         "Doesn't apply",
         "No",
         "Not Applicable",
         "Never",
         "#NULL!",
         null,
         "I don't owe money",
         "Borrowing",
         null,
         "Loan from family/friend/neighbour",
         "#NULL!",
         "Somewhat diffucult",
         "Very Difficult",
         "#NULL!",
         "Yes",
         "No",
         "No",
         "No",
         "No",
         "No",
         "No",
         "No",
         "No",
         "No",
         "No",
         "Not worried at all",
         "Not worried at all",
         "Not at all",
         "Improved",
         "1",
         "27",
         "Advice from friends / family/Colleagues/Peers",
         null,
         "No",
         "#NULL!",
         "#NULL!",
         null,
         "No",
         "More than KSh 1,000",
         "Less than last year July",
         "Invest in multiple assets",
         "\"IF = KSh 10: then correct \"",
         "1",
         "0",
         "0",
         "0",
         "0",
         "0",
         "0",
         "0",
         "0",
         "1",
         "0",
         "0",
         "0",
         "0",
         null,
         "support from family / friends / spouse",
         "Within Kenya",
         "No",
         "No",
         "#NULL!",
         "#NULL!",
         "#NULL!",
         "#NULL!",
         "#NULL!",
         "#NULL!",
         "#NULL!",
         "#NULL!",
         "#NULL!",
         "#NULL!",
         "#NULL!",
         "#NULL!",
         "#NULL!",
         "#NULL!",
         "#NULL!",
         "#NULL!",
         "#NULL!",
         null,
         "#NULL!",
         "#NULL!",
         "#NULL!",
         "#NULL!",
         "#NULL!",
         "#NULL!",
         "#NULL!",
         "#NULL!",
         "#NULL!",
         "#NULL!",
         "#NULL!",
         "#NULL!",
         "#NULL!",
         "#NULL!",
         null,
         "#NULL!",
         "#NULL!",
         "#NULL!",
         "#NULL!",
         "#NULL!",
         "#NULL!",
         "#NULL!",
         "#NULL!",
         "#NULL!",
         "#NULL!",
         "#NULL!",
         "#NULL!",
         "#NULL!",
         "#NULL!",
         null,
         "#NULL!",
         "#NULL!",
         "#NULL!",
         "#NULL!",
         "#NULL!",
         "#NULL!",
         "#NULL!",
         "#NULL!",
         "#NULL!",
         "#NULL!",
         "#NULL!",
         "#NULL!",
         "#NULL!",
         "#NULL!",
         null,
         "#NULL!",
         "#NULL!",
         "#NULL!",
         "#NULL!",
         "#NULL!",
         "#NULL!",
         "#NULL!",
         "#NULL!",
         "#NULL!",
         "#NULL!",
         "#NULL!",
         "#NULL!",
         "#NULL!",
         "#NULL!",
         null,
         "#NULL!",
         "#NULL!",
         "#NULL!",
         "#NULL!",
         "#NULL!",
         "#NULL!",
         "#NULL!",
         "#NULL!",
         "#NULL!",
         "#NULL!",
         "#NULL!",
         "#NULL!",
         "#NULL!",
         "#NULL!",
         null,
         "#NULL!",
         "#NULL!",
         "#NULL!",
         "#NULL!",
         "#NULL!",
         "#NULL!",
         "#NULL!",
         "#NULL!",
         "#NULL!",
         "#NULL!",
         "#NULL!",
         "#NULL!",
         "#NULL!",
         "#NULL!",
         null,
         "#NULL!",
         "#NULL!",
         "#NULL!",
         "#NULL!",
         "#NULL!",
         "#NULL!",
         "#NULL!",
         "#NULL!",
         "#NULL!",
         "#NULL!",
         "#NULL!",
         "#NULL!",
         "#NULL!",
         "#NULL!",
         null,
         "#NULL!",
         "#NULL!",
         "#NULL!",
         "#NULL!",
         "#NULL!",
         "#NULL!",
         "#NULL!",
         "#NULL!",
         "#NULL!",
         "#NULL!",
         "#NULL!",
         "#NULL!",
         "#NULL!",
         "#NULL!",
         null,
         "#NULL!",
         "#NULL!",
         "#NULL!",
         "#NULL!",
         "#NULL!",
         "#NULL!",
         "#NULL!",
         "#NULL!",
         "#NULL!",
         "#NULL!",
         "#NULL!",
         "#NULL!",
         "#NULL!",
         "#NULL!",
         null,
         "#NULL!",
         null,
         "#NULL!",
         "#NULL!",
         "#NULL!",
         "#NULL!",
         "#NULL!",
         "#NULL!",
         "#NULL!",
         null,
         "#NULL!",
         null,
         "10000",
         "25000",
         "3000",
         "1",
         "7",
         "Currently use",
         "Currently use",
         "Currently use",
         "KCB Bank Ltd",
         "#NULL!",
         "#NULL!",
         "#NULL!",
         "#NULL!",
         "#NULL!",
         "#NULL!",
         "#NULL!",
         "#NULL!",
         "#NULL!",
         "#NULL!",
         "#NULL!",
         "#NULL!",
         "#NULL!",
         "#NULL!",
         "#NULL!",
         "#NULL!",
         "#NULL!",
         "#NULL!",
         "#NULL!",
         "#NULL!",
         "#NULL!",
         "#NULL!",
         "#NULL!",
         "#NULL!",
         "#NULL!",
         "#NULL!",
         "#NULL!",
         "#NULL!",
         "#NULL!",
         "#NULL!",
         "#NULL!",
         "#NULL!",
         "#NULL!",
         "#NULL!",
         "#NULL!",
         "#NULL!",
         "#NULL!",
         "#NULL!",
         "#NULL!",
         "#NULL!",
         "#NULL!",
         "#NULL!",
         "#NULL!",
         "#NULL!",
         "#NULL!",
         "#NULL!",
         "#NULL!",
         "#NULL!",
         "#NULL!",
         "#NULL!",
         "#NULL!",
         "#NULL!",
         "#NULL!",
         "Never used",
         "Never used",
         "Used to use",
         "Never used",
         "Currently use",
         "Never used",
         "Never used",
         "Never used",
         "Never used",
         "Never used",
         "Never used",
         "Never used",
         "Never used",
         "Never used",
         "Never used",
         "Never used",
         "Never used",
         "Never used",
         "Never used",
         "Never used",
         "Never used",
         "Never used",
         "Never used",
         "Currently use",
         "Used to use",
         "Never used",
         "Used to use",
         "Never used",
         "Never used",
         "Never used",
         "Never used",
         "Never used",
         "Never used",
         "Never used",
         "Never used",
         "Never used",
         "Never used",
         "Never used",
         "Never used",
         "Never used",
         "Never used",
         "Never used",
         "Never used",
         "Never used",
         "3",
         "Never used",
         "#NULL!",
         "#NULL!",
         "#NULL!",
         "No",
         "Mobile banking provider",
         null,
         "Mobile banking provider",
         null,
         "#NULL!",
         "#NULL!",
         "#NULL!",
         "#NULL!",
         "#NULL!",
         "#NULL!",
         "#NULL!",
         "#NULL!",
         "#NULL!",
         "#NULL!",
         "#NULL!",
         "#NULL!",
         "#NULL!",
         "1",
         "0",
         "0",
         "0",
         "0",
         "0",
         "0",
         "0",
         "0",
         "0",
         "0",
         null,
         "#NULL!",
         null,
         "Refused to Answer",
         "Refused to Answer",
         "#NULL!",
         "#NULL!",
         "Refused to Answer",
         "No",
         "No",
         "No",
         "No",
         "No",
         "#NULL!",
         "Refused to Answer",
         "#NULL!",
         "#NULL!",
         "#NULL!",
         "#NULL!",
         "#NULL!",
         "#NULL!",
         "#NULL!",
         "#NULL!",
         "#NULL!",
         "#NULL!",
         "Refused to Answer",
         "Refused to Answer",
         "Refused to Answer",
         "Refused to Answer",
         "Refused to Answer",
         "Refused to Answer",
         "Yes",
         "#NULL!",
         "#NULL!",
         "#NULL!",
         "#NULL!",
         "#NULL!",
         "#NULL!",
         "#NULL!",
         "#NULL!",
         "#NULL!",
         null,
         "1",
         "0",
         "0",
         "0",
         "0",
         "0",
         "0",
         null,
         "#NULL!",
         "#NULL!",
         "#NULL!",
         "#NULL!",
         "#NULL!",
         "#NULL!",
         "#NULL!",
         "#NULL!",
         "#NULL!",
         "#NULL!",
         null,
         "#NULL!",
         null,
         "#NULL!",
         null,
         "#NULL!",
         "#NULL!",
         "#NULL!",
         "#NULL!",
         "#NULL!",
         "#NULL!",
         "#NULL!",
         "#NULL!",
         "#NULL!",
         "#NULL!",
         "#NULL!",
         "#NULL!",
         "#NULL!",
         "#NULL!",
         "#NULL!",
         "#NULL!",
         "#NULL!",
         "#NULL!",
         "#NULL!",
         "#NULL!",
         "#NULL!",
         "#NULL!",
         "#NULL!",
         "#NULL!",
         "#NULL!",
         "#NULL!",
         "#NULL!",
         "#NULL!",
         "No",
         "#NULL!",
         "#NULL!",
         "#NULL!",
         "#NULL!",
         "#NULL!",
         "#NULL!",
         "#NULL!",
         "#NULL!",
         "#NULL!",
         "#NULL!",
         "#NULL!",
         "#NULL!",
         "#NULL!",
         "0",
         "0",
         "0",
         "0",
         "0",
         "0",
         "#NULL!",
         "#NULL!",
         "#NULL!",
         null,
         "#NULL!",
         "#NULL!",
         "#NULL!",
         "#NULL!",
         "#NULL!",
         "#NULL!",
         "#NULL!",
         "#NULL!",
         "#NULL!",
         "#NULL!",
         "#NULL!",
         "#NULL!",
         "#NULL!",
         "#NULL!",
         "#NULL!",
         "#NULL!",
         "#NULL!",
         null,
         "#NULL!",
         "#NULL!",
         "#NULL!",
         "#NULL!",
         "#NULL!",
         "#NULL!",
         "#NULL!",
         "#NULL!",
         "0",
         "#NULL!",
         "#NULL!",
         "#NULL!",
         null,
         "#NULL!",
         "#NULL!",
         "#NULL!",
         "#NULL!",
         "#NULL!",
         "#NULL!",
         "#NULL!",
         "#NULL!",
         "#NULL!",
         "#NULL!",
         null,
         "#NULL!",
         "#NULL!",
         "#NULL!",
         null,
         "#NULL!",
         null,
         "#NULL!",
         null,
         "#NULL!",
         null,
         "#NULL!",
         "#NULL!",
         "#NULL!",
         "#NULL!",
         "#NULL!",
         "#NULL!",
         "#NULL!",
         "#NULL!",
         null,
         "#NULL!",
         null,
         "#NULL!",
         null,
         "#NULL!",
         null,
         "#NULL!",
         "#NULL!",
         "#NULL!",
         "#NULL!",
         "#NULL!",
         "#NULL!",
         "#NULL!",
         "#NULL!",
         null,
         "#NULL!",
         null,
         "#NULL!",
         null,
         "#NULL!",
         null,
         "#NULL!",
         "#NULL!",
         "#NULL!",
         "#NULL!",
         "#NULL!",
         "#NULL!",
         "#NULL!",
         null,
         "#NULL!",
         null,
         "#NULL!",
         null,
         "#NULL!",
         "#NULL!",
         "#NULL!",
         "#NULL!",
         "#NULL!",
         "#NULL!",
         "#NULL!",
         null,
         "#NULL!",
         null,
         "#NULL!",
         "#NULL!",
         "#NULL!",
         "#NULL!",
         "#NULL!",
         "#NULL!",
         "#NULL!",
         "#NULL!",
         null,
         "#NULL!",
         "#NULL!",
         "#NULL!",
         "#NULL!",
         "#NULL!",
         "#NULL!",
         "#NULL!",
         null,
         "#NULL!",
         null,
         "#NULL!",
         null,
         "#NULL!",
         null,
         "#NULL!",
         "#NULL!",
         "#NULL!",
         "#NULL!",
         "#NULL!",
         "#NULL!",
         "#NULL!",
         "#NULL!",
         null,
         "#NULL!",
         null,
         "#NULL!",
         null,
         "#NULL!",
         null,
         "#NULL!",
         "#NULL!",
         "#NULL!",
         "#NULL!",
         "#NULL!",
         "#NULL!",
         "#NULL!",
         "#NULL!",
         null,
         "#NULL!",
         null,
         "#NULL!",
         null,
         "#NULL!",
         "#NULL!",
         "#NULL!",
         "#NULL!",
         "#NULL!",
         "#NULL!",
         "#NULL!",
         "#NULL!",
         null,
         "#NULL!",
         null,
         "#NULL!",
         null,
         "#NULL!",
         null,
         "#NULL!",
         "#NULL!",
         "#NULL!",
         "#NULL!",
         "#NULL!",
         "#NULL!",
         "#NULL!",
         "#NULL!",
         null,
         "#NULL!",
         null,
         "#NULL!",
         null,
         "#NULL!",
         null,
         "#NULL!",
         "#NULL!",
         "#NULL!",
         "#NULL!",
         "#NULL!",
         "1",
         "1",
         "For education for self or others within household",
         null,
         "No collateral needed",
         null,
         "Haven't yet started to repay",
         null,
         "#NULL!",
         null,
         "150000",
         "50000",
         "More than 1 year ago",
         "In more than one year",
         "50000",
         "#NULL!",
         "#NULL!",
         "#NULL!",
         null,
         "#NULL!",
         null,
         "#NULL!",
         null,
         "#NULL!",
         "#NULL!",
         "#NULL!",
         "#NULL!",
         "#NULL!",
         "#NULL!",
         "#NULL!",
         "#NULL!",
         null,
         "#NULL!",
         null,
         "#NULL!",
         null,
         "#NULL!",
         "#NULL!",
         "#NULL!",
         "#NULL!",
         "#NULL!",
         "#NULL!",
         "#NULL!",
         "#NULL!",
         null,
         "#NULL!",
         null,
         "#NULL!",
         null,
         "#NULL!",
         "#NULL!",
         "#NULL!",
         "#NULL!",
         "#NULL!",
         "#NULL!",
         "#NULL!",
         "#NULL!",
         null,
         "#NULL!",
         null,
         "#NULL!",
         null,
         "#NULL!",
         null,
         "#NULL!",
         "#NULL!",
         "#NULL!",
         "#NULL!",
         "#NULL!",
         "#NULL!",
         "#NULL!",
         null,
         "#NULL!",
         null,
         "#NULL!",
         null,
         "#NULL!",
         "#NULL!",
         "#NULL!",
         "#NULL!",
         "#NULL!",
         "#NULL!",
         "#NULL!",
         null,
         "#NULL!",
         "#NULL!",
         "#NULL!",
         "#NULL!",
         "#NULL!",
         "#NULL!",
         "#NULL!",
         null,
         "#NULL!",
         null,
         "#NULL!",
         null,
         "#NULL!",
         "#NULL!",
         "#NULL!",
         "#NULL!",
         "#NULL!",
         "#NULL!",
         "#NULL!",
         null,
         "#NULL!",
         null,
         "#NULL!",
         null,
         "#NULL!",
         null,
         "#NULL!",
         "#NULL!",
         "#NULL!",
         "#NULL!",
         "#NULL!",
         "#NULL!",
         "#NULL!",
         "#NULL!",
         null,
         "#NULL!",
         null,
         "#NULL!",
         null,
         "#NULL!",
         null,
         "#NULL!",
         "#NULL!",
         "#NULL!",
         "#NULL!",
         "#NULL!",
         "Loan from a government institution for education, agriculture or a development l",
         "The features are suited to my needs",
         null,
         "#NULL!",
         "No",
         "#NULL!",
         "#NULL!",
         "#NULL!",
         "#NULL!",
         "#NULL!",
         "#NULL!",
         "#NULL!",
         "#NULL!",
         "#NULL!",
         "0",
         "0",
         "0",
         "0",
         "0",
         "0",
         "0",
         "0",
         "I did not default/always pay on time",
         "#NULL!",
         "#NULL!",
         "#NULL!",
         "#NULL!",
         "#NULL!",
         "#NULL!",
         "#NULL!",
         "#NULL!",
         "#NULL!",
         "#NULL!",
         "#NULL!",
         "#NULL!",
         "#NULL!",
         "#NULL!",
         "#NULL!",
         "#NULL!",
         "#NULL!",
         "#NULL!",
         "#NULL!",
         "#NULL!",
         "#NULL!",
         "#NULL!",
         null,
         "#NULL!",
         null,
         "#NULL!",
         "#NULL!",
         "#NULL!",
         "#NULL!",
         "#NULL!",
         "#NULL!",
         "#NULL!",
         "#NULL!",
         "#NULL!",
         "#NULL!",
         "#NULL!",
         "#NULL!",
         "#NULL!",
         "#NULL!",
         "#NULL!",
         "#NULL!",
         "0",
         "0",
         "0",
         "0",
         "0",
         "0",
         "0",
         "0",
         "0",
         "0",
         "#NULL!",
         "#NULL!",
         "#NULL!",
         "#NULL!",
         "#NULL!",
         "#NULL!",
         "#NULL!",
         "#NULL!",
         "#NULL!",
         "No",
         "#NULL!",
         "#NULL!",
         "#NULL!",
         "#NULL!",
         "#NULL!",
         "#NULL!",
         "#NULL!",
         "#NULL!",
         "0",
         "0",
         "0",
         "0",
         "0",
         "0",
         null,
         "#NULL!",
         "#NULL!",
         "#NULL!",
         "#NULL!",
         "#NULL!",
         "#NULL!",
         "#NULL!",
         "#NULL!",
         "#NULL!",
         "#NULL!",
         null,
         "#NULL!",
         "#NULL!",
         "#NULL!",
         "#NULL!",
         "#NULL!",
         "#NULL!",
         "#NULL!",
         "0",
         "#NULL!",
         "#NULL!",
         "#NULL!",
         null,
         "#NULL!",
         null,
         "#NULL!",
         null,
         "#NULL!",
         null,
         "#NULL!",
         null,
         "#NULL!",
         null,
         "#NULL!",
         null,
         "access to credit/grow limit",
         "access to loans",
         "Convenient",
         null,
         "Irregularly/ Whenever I get money",
         null,
         "#NULL!",
         null,
         "#NULL!",
         null,
         "#NULL!",
         null,
         "#NULL!",
         null,
         "#NULL!",
         null,
         "#NULL!",
         null,
         "#NULL!",
         null,
         "#NULL!",
         null,
         "#NULL!",
         null,
         "#NULL!",
         null,
         "#NULL!",
         null,
         "#NULL!",
         null,
         "#NULL!",
         null,
         "#NULL!",
         null,
         "#NULL!",
         null,
         "#NULL!",
         null,
         "#NULL!",
         null,
         "#NULL!",
         null,
         "#NULL!",
         null,
         "#NULL!",
         null,
         "#NULL!",
         null,
         "#NULL!",
         null,
         "#NULL!",
         null,
         "#NULL!",
         null,
         "#NULL!",
         null,
         "#NULL!",
         null,
         "#NULL!",
         null,
         "Mobile banking Platform",
         null,
         "#NULL!",
         "#NULL!",
         "#NULL!",
         "#NULL!",
         "#NULL!",
         "#NULL!",
         "#NULL!",
         "#NULL!",
         "#NULL!",
         "#NULL!",
         "#NULL!",
         "#NULL!",
         null,
         "1",
         "0",
         "0",
         "0",
         "0",
         "0",
         "0",
         "0",
         "0",
         "0",
         "0",
         null,
         "#NULL!",
         "#NULL!",
         "#NULL!",
         "#NULL!",
         "#NULL!",
         "#NULL!",
         "#NULL!",
         "#NULL!",
         null,
         "#NULL!",
         null,
         "#NULL!",
         null,
         "#NULL!",
         null,
         "#NULL!",
         null,
         "#NULL!",
         null,
         "#NULL!",
         "#NULL!",
         "#NULL!",
         "#NULL!",
         "#NULL!",
         "#NULL!",
         "#NULL!",
         "#NULL!",
         "#NULL!",
         "#NULL!",
         "#NULL!",
         null,
         "#NULL!",
         "#NULL!",
         "#NULL!",
         "#NULL!",
         "#NULL!",
         "#NULL!",
         "#NULL!",
         "#NULL!",
         "#NULL!",
         "#NULL!",
         null,
         "#NULL!",
         "#NULL!",
         "#NULL!",
         "#NULL!",
         "#NULL!",
         "#NULL!",
         "#NULL!",
         "0",
         "1",
         "0",
         "0",
         "0",
         "0",
         "0",
         "0",
         "0",
         "0",
         "0",
         "0",
         "0",
         "0",
         "0",
         null,
         "Mobile money (Send money) (M-Pesa, Airtel Money,Tkash)",
         null,
         "0",
         "0",
         "0",
         "0",
         "0",
         "0",
         "0",
         "0",
         "0",
         "0",
         "0",
         "1",
         "0",
         "0",
         "0",
         null,
         "Did not do this",
         null,
         "0",
         "0",
         "0",
         "0",
         "0",
         "0",
         "0",
         "0",
         "0",
         "0",
         "0",
         "1",
         "0",
         "0",
         "0",
         null,
         "Did not do this",
         null,
         "1",
         "1",
         "1",
         "1",
         "1",
         "0",
         "0",
         "0",
         "0",
         "0",
         "0",
         "0",
         "0",
         "0",
         "0",
         null,
         "Mobile money (Send money) (M-Pesa, Airtel Money,Tkash)",
         null,
         "1",
         "1",
         "0",
         "0",
         "0",
         "0",
         "0",
         "0",
         "0",
         "0",
         "0",
         "0",
         "0",
         "0",
         "0",
         "0",
         null,
         "Mobile money (Send money) (M-Pesa, Airtel Money,Tkash)",
         null,
         "0",
         "0",
         "0",
         "0",
         "0",
         "0",
         "0",
         "0",
         "0",
         "0",
         "0",
         "0",
         "1",
         "0",
         "0",
         "0",
         null,
         "Did not do this",
         null,
         "0",
         "1",
         "0",
         "0",
         "0",
         "0",
         "0",
         "0",
         "0",
         "0",
         "0",
         "0",
         "0",
         "0",
         "0",
         "0",
         null,
         "Mobile money (Send money) (M-Pesa, Airtel Money,Tkash)",
         null,
         "0",
         "0",
         "0",
         "0",
         "0",
         "0",
         "0",
         "0",
         "0",
         "0",
         "0",
         "0",
         "1",
         "0",
         "0",
         "0",
         null,
         "Did not do this",
         null,
         "0",
         "0",
         "0",
         "0",
         "0",
         "0",
         "0",
         "0",
         "0",
         "0",
         "0",
         "0",
         "1",
         "0",
         "0",
         "0",
         null,
         "Did not do this",
         null,
         "Less than a quarter",
         "#NULL!",
         "#NULL!",
         "#NULL!",
         "#NULL!",
         "#NULL!",
         "#NULL!",
         "#NULL!",
         "#NULL!",
         "#NULL!",
         "#NULL!",
         "#NULL!",
         "#NULL!",
         "#NULL!",
         "#NULL!",
         "#NULL!",
         "#NULL!",
         "#NULL!",
         "#NULL!",
         "#NULL!",
         "#NULL!",
         "#NULL!",
         "#NULL!",
         "#NULL!",
         "#NULL!",
         "#NULL!",
         "#NULL!",
         "#NULL!",
         "#NULL!",
         "#NULL!",
         "#NULL!",
         "#NULL!",
         "#NULL!",
         "#NULL!",
         "#NULL!",
         "#NULL!",
         "#NULL!",
         "#NULL!",
         "#NULL!",
         "#NULL!",
         "#NULL!",
         "#NULL!",
         "#NULL!",
         "#NULL!",
         "#NULL!",
         "#NULL!",
         "#NULL!",
         "#NULL!",
         "#NULL!",
         "#NULL!",
         "#NULL!",
         "#NULL!",
         "#NULL!",
         "#NULL!",
         "#NULL!",
         "#NULL!",
         "#NULL!",
         "#NULL!",
         "#NULL!",
         "#NULL!",
         "#NULL!",
         "#NULL!",
         "#NULL!",
         "#NULL!",
         "#NULL!",
         "#NULL!",
         "#NULL!",
         "#NULL!",
         "#NULL!",
         "#NULL!",
         "#NULL!",
         "#NULL!",
         "#NULL!",
         "#NULL!",
         "#NULL!",
         "#NULL!",
         "#NULL!",
         "#NULL!",
         "#NULL!",
         "#NULL!",
         "#NULL!",
         "#NULL!",
         "#NULL!",
         "#NULL!",
         "#NULL!",
         "#NULL!",
         "#NULL!",
         "#NULL!",
         "#NULL!",
         "#NULL!",
         "#NULL!",
         "#NULL!",
         "#NULL!",
         "#NULL!",
         "#NULL!",
         "#NULL!",
         "#NULL!",
         "#NULL!",
         "#NULL!",
         "#NULL!",
         "#NULL!",
         "#NULL!",
         "#NULL!",
         "#NULL!",
         "#NULL!",
         "#NULL!",
         "#NULL!",
         "#NULL!",
         "#NULL!",
         "#NULL!",
         "#NULL!",
         "#NULL!",
         "#NULL!",
         "#NULL!",
         "#NULL!",
         "#NULL!",
         "#NULL!",
         "#NULL!",
         "#NULL!",
         "#NULL!",
         "#NULL!",
         "#NULL!",
         "#NULL!",
         "#NULL!",
         "#NULL!",
         "#NULL!",
         "#NULL!",
         "#NULL!",
         "#NULL!",
         "#NULL!",
         "#NULL!",
         "#NULL!",
         "#NULL!",
         "#NULL!",
         "#NULL!",
         "#NULL!",
         "#NULL!",
         "#NULL!",
         "#NULL!",
         "#NULL!",
         "#NULL!",
         "#NULL!",
         "#NULL!",
         "#NULL!",
         "#NULL!",
         "#NULL!",
         "#NULL!",
         "#NULL!",
         "#NULL!",
         "#NULL!",
         "#NULL!",
         "#NULL!",
         "#NULL!",
         "#NULL!",
         "#NULL!",
         "#NULL!",
         "#NULL!",
         "#NULL!",
         "#NULL!",
         "#NULL!",
         "#NULL!",
         "#NULL!",
         "#NULL!",
         "#NULL!",
         "#NULL!",
         "#NULL!",
         "#NULL!",
         "#NULL!",
         "#NULL!",
         "#NULL!",
         "#NULL!",
         "#NULL!",
         "#NULL!",
         "#NULL!",
         "#NULL!",
         "#NULL!",
         "#NULL!",
         "#NULL!",
         "#NULL!",
         "#NULL!",
         "#NULL!",
         "#NULL!",
         "#NULL!",
         "#NULL!",
         "#NULL!",
         "#NULL!",
         "#NULL!",
         "#NULL!",
         "#NULL!",
         "#NULL!",
         "#NULL!",
         "#NULL!",
         "#NULL!",
         "#NULL!",
         "#NULL!",
         "#NULL!",
         null,
         "#NULL!",
         "#NULL!",
         "#NULL!",
         null,
         "#NULL!",
         "#NULL!",
         "#NULL!",
         "#NULL!",
         "#NULL!",
         "#NULL!",
         "#NULL!",
         "#NULL!",
         "#NULL!",
         "#NULL!",
         "#NULL!",
         "#NULL!",
         "#NULL!",
         "#NULL!",
         "#NULL!",
         "#NULL!",
         "#NULL!",
         "#NULL!",
         "#NULL!",
         "#NULL!",
         "#NULL!",
         "#NULL!",
         "#NULL!",
         "#NULL!",
         "#NULL!",
         "#NULL!",
         "#NULL!",
         "#NULL!",
         "#NULL!",
         "#NULL!",
         "#NULL!",
         "#NULL!",
         "#NULL!",
         "#NULL!",
         "#NULL!",
         "#NULL!",
         "#NULL!",
         "#NULL!",
         "#NULL!",
         "#NULL!",
         "#NULL!",
         "#NULL!",
         "#NULL!",
         "#NULL!",
         "#NULL!",
         "#NULL!",
         "#NULL!",
         "#NULL!",
         "#NULL!",
         "#NULL!",
         "#NULL!",
         "#NULL!",
         "#NULL!",
         "#NULL!",
         "#NULL!",
         "#NULL!",
         "#NULL!",
         "#NULL!",
         "#NULL!",
         "#NULL!",
         "#NULL!",
         "#NULL!",
         "#NULL!",
         "#NULL!",
         "#NULL!",
         "#NULL!",
         "#NULL!",
         "#NULL!",
         "#NULL!",
         "#NULL!",
         "#NULL!",
         "#NULL!",
         "#NULL!",
         "#NULL!",
         "#NULL!",
         "#NULL!",
         "#NULL!",
         "#NULL!",
         "#NULL!",
         "#NULL!",
         "#NULL!",
         "#NULL!",
         "#NULL!",
         "#NULL!",
         "#NULL!",
         "#NULL!",
         "#NULL!",
         "#NULL!",
         "#NULL!",
         "#NULL!",
         "#NULL!",
         "#NULL!",
         "#NULL!",
         "#NULL!",
         "#NULL!",
         "#NULL!",
         "#NULL!",
         "#NULL!",
         "#NULL!",
         "#NULL!",
         "#NULL!",
         "#NULL!",
         "#NULL!",
         "#NULL!",
         "#NULL!",
         "#NULL!",
         "#NULL!",
         "#NULL!",
         "#NULL!",
         "#NULL!",
         "#NULL!",
         "#NULL!",
         "#NULL!",
         "#NULL!",
         "#NULL!",
         "#NULL!",
         "#NULL!",
         "#NULL!",
         "#NULL!",
         "#NULL!",
         "#NULL!",
         "#NULL!",
         "#NULL!",
         "#NULL!",
         "#NULL!",
         "#NULL!",
         "#NULL!",
         "#NULL!",
         "#NULL!",
         "#NULL!",
         "#NULL!",
         "#NULL!",
         "#NULL!",
         "#NULL!",
         "#NULL!",
         "#NULL!",
         "#NULL!",
         "#NULL!",
         "#NULL!",
         "#NULL!",
         "#NULL!",
         "#NULL!",
         "#NULL!",
         "#NULL!",
         "#NULL!",
         "#NULL!",
         "#NULL!",
         "#NULL!",
         "#NULL!",
         "#NULL!",
         "#NULL!",
         "#NULL!",
         "#NULL!",
         "#NULL!",
         "#NULL!",
         "#NULL!",
         "#NULL!",
         "#NULL!",
         "#NULL!",
         "#NULL!",
         "#NULL!",
         "#NULL!",
         "#NULL!",
         "#NULL!",
         "#NULL!",
         "#NULL!",
         "#NULL!",
         "#NULL!",
         "#NULL!",
         "#NULL!",
         "#NULL!",
         "#NULL!",
         "#NULL!",
         "#NULL!",
         "#NULL!",
         "#NULL!",
         "#NULL!",
         "#NULL!",
         "#NULL!",
         "#NULL!",
         "#NULL!",
         "#NULL!",
         "#NULL!",
         "#NULL!",
         "#NULL!",
         "#NULL!",
         "#NULL!",
         "#NULL!",
         "#NULL!",
         "#NULL!",
         "#NULL!",
         "#NULL!",
         "#NULL!",
         "#NULL!",
         "#NULL!",
         null,
         "#NULL!",
         "#NULL!",
         "#NULL!",
         "#NULL!",
         null,
         "#NULL!",
         "#NULL!",
         "#NULL!",
         "#NULL!",
         "#NULL!",
         "#NULL!",
         "#NULL!",
         "#NULL!",
         "#NULL!",
         "#NULL!",
         "#NULL!",
         "#NULL!",
         "#NULL!",
         null,
         "1",
         "#NULL!",
         "#NULL!",
         "#NULL!",
         "#NULL!",
         "#NULL!",
         "#NULL!",
         "#NULL!",
         "#NULL!",
         "#NULL!",
         "#NULL!",
         "#NULL!",
         "#NULL!",
         "#NULL!",
         "#NULL!",
         "#NULL!",
         "#NULL!",
         "#NULL!",
         "#NULL!",
         "#NULL!",
         "#NULL!",
         "#NULL!",
         "#NULL!",
         "#NULL!",
         "#NULL!",
         "#NULL!",
         "#NULL!",
         "#NULL!",
         "#NULL!",
         "#NULL!",
         "#NULL!",
         "#NULL!",
         "#NULL!",
         "#NULL!",
         "#NULL!",
         "#NULL!",
         "#NULL!",
         "#NULL!",
         "#NULL!",
         "#NULL!",
         "#NULL!",
         "#NULL!",
         "#NULL!",
         "#NULL!",
         "#NULL!",
         "#NULL!",
         "#NULL!",
         "#NULL!",
         "#NULL!",
         "#NULL!",
         "#NULL!",
         "#NULL!",
         "#NULL!",
         "#NULL!",
         "#NULL!",
         "#NULL!",
         null,
         "#NULL!",
         null,
         "0",
         "0",
         "0",
         "0",
         "0",
         "0",
         "0",
         "0",
         "0",
         "0",
         "0",
         "0",
         "0",
         "0",
         "0",
         "0",
         "0",
         "0",
         "0",
         "0",
         "0",
         "0",
         "0",
         "1",
         "0",
         "0",
         "0",
         "0",
         "0",
         "0",
         "0",
         "0",
         "0",
         "0",
         "0",
         "0",
         "0",
         "0",
         "0",
         "0",
         "0",
         "0",
         "0",
         "0",
         "0",
         "0",
         "0",
         "0",
         "0",
         "0",
         "0",
         "0",
         "0",
         "0",
         "#NULL!",
         "#NULL!",
         "#NULL!",
         "#NULL!",
         "#NULL!",
         "#NULL!",
         "#NULL!",
         "#NULL!",
         "#NULL!",
         "#NULL!",
         "#NULL!",
         "#NULL!",
         "#NULL!",
         "#NULL!",
         "#NULL!",
         "#NULL!",
         "#NULL!",
         "#NULL!",
         "#NULL!",
         "#NULL!",
         "#NULL!",
         "#NULL!",
         "#NULL!",
         "#NULL!",
         "#NULL!",
         "#NULL!",
         "#NULL!",
         "#NULL!",
         "#NULL!",
         "#NULL!",
         "#NULL!",
         "#NULL!",
         "#NULL!",
         "#NULL!",
         "#NULL!",
         "#NULL!",
         "#NULL!",
         "#NULL!",
         "#NULL!",
         "#NULL!",
         "#NULL!",
         "#NULL!",
         "#NULL!",
         "#NULL!",
         "#NULL!",
         "#NULL!",
         "#NULL!",
         "#NULL!",
         "#NULL!",
         "#NULL!",
         "#NULL!",
         "#NULL!",
         "#NULL!",
         "#NULL!",
         "#NULL!",
         "#NULL!",
         "#NULL!",
         "#NULL!",
         "#NULL!",
         "#NULL!",
         "#NULL!",
         "#NULL!",
         "#NULL!",
         "1",
         "No/Hapana",
         "No/Hapana",
         "#NULL!",
         "#NULL!",
         "#NULL!",
         "#NULL!",
         "#NULL!",
         "#NULL!",
         "#NULL!",
         "#NULL!",
         "#NULL!",
         "#NULL!",
         "#NULL!",
         "#NULL!",
         "#NULL!",
         "#NULL!",
         "#NULL!",
         "#NULL!",
         "#NULL!",
         "#NULL!",
         "#NULL!",
         "#NULL!",
         "#NULL!",
         "#NULL!",
         "#NULL!",
         "#NULL!",
         "#NULL!",
         "#NULL!",
         "#NULL!",
         "#NULL!",
         "#NULL!",
         "#NULL!",
         "#NULL!",
         "#NULL!",
         "#NULL!",
         "#NULL!",
         "#NULL!",
         "#NULL!",
         "#NULL!",
         "#NULL!",
         "#NULL!",
         "#NULL!",
         "#NULL!",
         "#NULL!",
         "#NULL!",
         "#NULL!",
         "#NULL!",
         "#NULL!",
         "#NULL!",
         "#NULL!",
         "Yes/Ndio",
         "Once every 3 months/Mara moja kwa miezi",
         "0",
         "0",
         "0",
         "1",
         "0",
         "0",
         "0",
         "0",
         "0",
         "0",
         "0",
         "0",
         "0",
         null,
         "Via mobile banking (Apps)/Kupitia benki ya simu ya mkononi",
         "No/Hapana",
         "No/Hapana",
         "No/Hapana",
         "No/Hapana",
         "#NULL!",
         "#NULL!",
         "#NULL!",
         "#NULL!",
         "#NULL!",
         "#NULL!",
         "#NULL!",
         "#NULL!",
         null,
         "No i did NOT have a complaint",
         "#NULL!",
         "#NULL!",
         "#NULL!",
         "#NULL!",
         "#NULL!",
         "#NULL!",
         "#NULL!",
         "#NULL!",
         "#NULL!",
         "#NULL!",
         null,
         "#NULL!",
         "Agree",
         "Disagree",
         "Agree",
         "Agree",
         "Agree",
         "Agree",
         "#NULL!",
         "#NULL!",
         "#NULL!",
         "#NULL!",
         "#NULL!",
         "#NULL!",
         "#NULL!",
         "#NULL!",
         "#NULL!",
         "#NULL!",
         "#NULL!",
         "#NULL!",
         "#NULL!",
         "#NULL!",
         "#NULL!",
         "#NULL!",
         "#NULL!",
         "#NULL!",
         "#NULL!",
         "#NULL!",
         "#NULL!",
         "#NULL!",
         "#NULL!",
         "#NULL!",
         "#NULL!",
         "#NULL!",
         "#NULL!",
         "#NULL!",
         "#NULL!",
         "#NULL!",
         "#NULL!",
         "#NULL!",
         "#NULL!",
         "#NULL!",
         "#NULL!",
         "#NULL!",
         "#NULL!",
         "#NULL!",
         "#NULL!",
         "#NULL!",
         "#NULL!",
         "#NULL!",
         "#NULL!",
         "#NULL!",
         "#NULL!",
         "#NULL!",
         "#NULL!",
         "#NULL!",
         "#NULL!",
         "#NULL!",
         "#NULL!",
         "#NULL!",
         "#NULL!",
         "#NULL!",
         "#NULL!",
         "#NULL!",
         "#NULL!",
         "#NULL!",
         "#NULL!",
         "#NULL!",
         "#NULL!",
         "#NULL!",
         "#NULL!",
         "#NULL!",
         "#NULL!",
         "#NULL!",
         "#NULL!",
         "#NULL!",
         "#NULL!",
         "#NULL!",
         "#NULL!",
         "#NULL!",
         "#NULL!",
         "#NULL!",
         "#NULL!",
         "#NULL!",
         "#NULL!",
         "#NULL!",
         "#NULL!",
         "#NULL!",
         "#NULL!",
         "#NULL!",
         "#NULL!",
         "#NULL!",
         "#NULL!",
         "#NULL!",
         "#NULL!",
         "#NULL!",
         "#NULL!",
         "#NULL!",
         "#NULL!",
         "#NULL!",
         "#NULL!",
         "#NULL!",
         null,
         "#NULL!",
         null,
         "#NULL!",
         "#NULL!",
         "#NULL!",
         "#NULL!",
         "#NULL!",
         "#NULL!",
         "#NULL!",
         "#NULL!",
         "#NULL!",
         null,
         "#NULL!",
         "#NULL!",
         "#NULL!",
         "#NULL!",
         "#NULL!",
         "#NULL!",
         "#NULL!",
         "#NULL!",
         "#NULL!",
         null,
         "#NULL!",
         "#NULL!",
         "#NULL!",
         "#NULL!",
         "#NULL!",
         "#NULL!",
         "#NULL!",
         "1",
         "#NULL!",
         "#NULL!",
         "#NULL!",
         "#NULL!",
         "#NULL!",
         "#NULL!",
         "#NULL!",
         "#NULL!",
         "#NULL!",
         "#NULL!",
         "#NULL!",
         "#NULL!",
         null,
         "Can't afford to open/maintain a SACCO account",
         null,
         "#NULL!",
         "#NULL!",
         "#NULL!",
         "#NULL!",
         "#NULL!",
         "#NULL!",
         "#NULL!",
         "#NULL!",
         "#NULL!",
         "#NULL!",
         "#NULL!",
         "#NULL!",
         "#NULL!",
         "#NULL!",
         "#NULL!",
         "#NULL!",
         "#NULL!",
         "#NULL!",
         "#NULL!",
         "#NULL!",
         "#NULL!",
         "#NULL!",
         "#NULL!",
         "#NULL!",
         "#NULL!",
         "#NULL!",
         "#NULL!",
         "#NULL!",
         "#NULL!",
         "#NULL!",
         "#NULL!",
         "#NULL!",
         "#NULL!",
         "#NULL!",
         "#NULL!",
         "#NULL!",
         "#NULL!",
         "#NULL!",
         "#NULL!",
         "#NULL!",
         "#NULL!",
         "#NULL!",
         "#NULL!",
         "#NULL!",
         "#NULL!",
         "#NULL!",
         "#NULL!",
         "#NULL!",
         "#NULL!",
         "#NULL!",
         "#NULL!",
         "#NULL!",
         "#NULL!",
         "#NULL!",
         "#NULL!",
         "#NULL!",
         "#NULL!",
         "#NULL!",
         "#NULL!",
         "#NULL!",
         "#NULL!",
         "#NULL!",
         "#NULL!",
         "#NULL!",
         "#NULL!",
         "#NULL!",
         "#NULL!",
         "#NULL!",
         "#NULL!",
         "#NULL!",
         "#NULL!",
         "#NULL!",
         "#NULL!",
         "#NULL!",
         "#NULL!",
         "#NULL!",
         "#NULL!",
         "#NULL!",
         "#NULL!",
         "#NULL!",
         "#NULL!",
         "#NULL!",
         "#NULL!",
         "#NULL!",
         "#NULL!",
         "#NULL!",
         "#NULL!",
         "#NULL!",
         "#NULL!",
         "#NULL!",
         "#NULL!",
         "#NULL!",
         "#NULL!",
         "#NULL!",
         "#NULL!",
         "#NULL!",
         "#NULL!",
         "#NULL!",
         "#NULL!",
         "#NULL!",
         "#NULL!",
         "#NULL!",
         "#NULL!",
         "#NULL!",
         "#NULL!",
         "#NULL!",
         "#NULL!",
         "#NULL!",
         "#NULL!",
         "#NULL!",
         "#NULL!",
         "#NULL!",
         "#NULL!",
         "#NULL!",
         "#NULL!",
         "#NULL!",
         "#NULL!",
         "#NULL!",
         "#NULL!",
         "#NULL!",
         "#NULL!",
         "#NULL!",
         "#NULL!",
         "#NULL!",
         "#NULL!",
         "#NULL!",
         "#NULL!",
         "#NULL!",
         "#NULL!",
         "#NULL!",
         "#NULL!",
         "#NULL!",
         "#NULL!",
         "#NULL!",
         "#NULL!",
         "#NULL!",
         "#NULL!",
         "#NULL!",
         "#NULL!",
         "#NULL!",
         "#NULL!",
         "#NULL!",
         "#NULL!",
         "#NULL!",
         "#NULL!",
         "#NULL!",
         "#NULL!",
         "#NULL!",
         "#NULL!",
         "#NULL!",
         "#NULL!",
         "#NULL!",
         "#NULL!",
         "#NULL!",
         "#NULL!",
         "#NULL!",
         "#NULL!",
         "#NULL!",
         "#NULL!",
         "#NULL!",
         "#NULL!",
         "#NULL!",
         "#NULL!",
         "#NULL!",
         "#NULL!",
         "#NULL!",
         "#NULL!",
         "#NULL!",
         "#NULL!",
         "#NULL!",
         "#NULL!",
         "#NULL!",
         "#NULL!",
         "#NULL!",
         "#NULL!",
         "#NULL!",
         "#NULL!",
         "#NULL!",
         "#NULL!",
         "#NULL!",
         "#NULL!",
         "#NULL!",
         "#NULL!",
         "#NULL!",
         "#NULL!",
         "#NULL!",
         "#NULL!",
         "#NULL!",
         "#NULL!",
         "#NULL!",
         "#NULL!",
         "#NULL!",
         "#NULL!",
         "#NULL!",
         "#NULL!",
         "#NULL!",
         "#NULL!",
         "#NULL!",
         "#NULL!",
         "#NULL!",
         null,
         "#NULL!",
         "#NULL!",
         "#NULL!",
         "#NULL!",
         "#NULL!",
         "#NULL!",
         "#NULL!",
         "#NULL!",
         "#NULL!",
         "#NULL!",
         "#NULL!",
         "#NULL!",
         "#NULL!",
         "#NULL!",
         null,
         "#NULL!",
         "#NULL!",
         "#NULL!",
         "#NULL!",
         "#NULL!",
         null,
         "#NULL!",
         "#NULL!",
         "#NULL!",
         "#NULL!",
         "#NULL!",
         "#NULL!",
         "#NULL!",
         "#NULL!",
         "#NULL!",
         "#NULL!",
         null,
         "#NULL!",
         "#NULL!",
         "#NULL!",
         "#NULL!",
         "#NULL!",
         "#NULL!",
         "#NULL!",
         "1",
         "1",
         "#NULL!",
         "#NULL!",
         "#NULL!",
         "#NULL!",
         "#NULL!",
         "#NULL!",
         "#NULL!",
         "#NULL!",
         "#NULL!",
         "#NULL!",
         "#NULL!",
         "#NULL!",
         null,
         "#NULL!",
         "#NULL!",
         "#NULL!",
         "#NULL!",
         "#NULL!",
         "#NULL!",
         "#NULL!",
         "#NULL!",
         "#NULL!",
         null,
         "1",
         "1",
         "0",
         "0",
         "#NULL!",
         "0",
         "0",
         "0",
         null,
         "1",
         "MPesa",
         null,
         "Daily /Mara moja kwa siku",
         "No/ Hapana",
         "Yes/ Ndio",
         "Yes/ Ndio",
         "No/ Hapana",
         "No/ Hapana",
         "No/ Hapana",
         "0",
         "0",
         "0",
         "0",
         "1",
         "#NULL!",
         "0",
         "0",
         "0",
         null,
         "Yes, I had a complaint and not registered",
         "#NULL!",
         "#NULL!",
         "#NULL!",
         "#NULL!",
         "#NULL!",
         "#NULL!",
         "#NULL!",
         "#NULL!",
         "#NULL!",
         null,
         "#NULL!",
         "Agree",
         "Disagree",
         "Agree",
         "Agree",
         "Agree",
         "Agree",
         "#NULL!",
         "#NULL!",
         "#NULL!",
         "#NULL!",
         "#NULL!",
         "#NULL!",
         "#NULL!",
         "#NULL!",
         "#NULL!",
         "#NULL!",
         "#NULL!",
         "#NULL!",
         null,
         "#NULL!",
         "#NULL!",
         "#NULL!",
         "#NULL!",
         "#NULL!",
         "#NULL!",
         "#NULL!",
         "#NULL!",
         "#NULL!",
         "#NULL!",
         "0",
         "0",
         "0",
         "#NULL!",
         "#NULL!",
         null,
         "1",
         "0",
         "0",
         "0",
         "0",
         "0",
         "0",
         "0",
         "0",
         "0",
         "0",
         "0",
         "0",
         "0",
         null,
         "MShwari",
         null,
         "Yes/ Ndio",
         "Monthly /Kila wiki",
         "No/ Hapana",
         "No/ Hapana",
         "No/ Hapana",
         "No/ Hapana",
         "#NULL!",
         "#NULL!",
         "#NULL!",
         "#NULL!",
         "#NULL!",
         "#NULL!",
         "#NULL!",
         "#NULL!",
         null,
         "No, I did not have a compliant",
         "#NULL!",
         "#NULL!",
         "#NULL!",
         "#NULL!",
         "#NULL!",
         "#NULL!",
         "#NULL!",
         "#NULL!",
         "#NULL!",
         "#NULL!",
         null,
         "#NULL!",
         "Agree",
         "Disagree",
         "Agree",
         "Agree",
         "Agree",
         "Agree",
         "No",
         "0",
         "0",
         "1",
         "1",
         "0",
         "0",
         "0",
         "0",
         "0",
         "0",
         "0",
         "0",
         "0",
         "0",
         null,
         "#NULL!",
         "#NULL!",
         "#NULL!",
         "#NULL!",
         "#NULL!",
         "#NULL!",
         "#NULL!",
         "#NULL!",
         "#NULL!",
         "0",
         "0",
         "0",
         "0",
         "0",
         "#NULL!",
         "#NULL!",
         null,
         "1",
         "15",
         "#NULL!",
         "#NULL!",
         "#NULL!",
         "#NULL!",
         "#NULL!",
         "#NULL!",
         "#NULL!",
         "#NULL!",
         "#NULL!",
         null,
         "#NULL!",
         null,
         "#NULL!",
         null,
         "#NULL!",
         null,
         "#NULL!",
         "#NULL!",
         "#NULL!",
         "#NULL!",
         "#NULL!",
         "#NULL!",
         "#NULL!",
         "#NULL!",
         "#NULL!",
         "#NULL!",
         "#NULL!",
         "#NULL!",
         "#NULL!",
         "#NULL!",
         "#NULL!",
         "#NULL!",
         "#NULL!",
         "#NULL!",
         "#NULL!",
         null,
         "#NULL!",
         "#NULL!",
         "#NULL!",
         "#NULL!",
         "#NULL!",
         "#NULL!",
         "#NULL!",
         "#NULL!",
         null,
         "#NULL!",
         "#NULL!",
         "#NULL!",
         "#NULL!",
         "#NULL!",
         "#NULL!",
         "#NULL!",
         "#NULL!",
         "#NULL!",
         "#NULL!",
         "#NULL!",
         "#NULL!",
         "#NULL!",
         "#NULL!",
         "#NULL!",
         "Yes",
         "Both",
         "0",
         "0",
         "0",
         "0",
         "0",
         "0",
         "0",
         "0",
         "1",
         "0",
         "0",
         "0",
         "0",
         "0",
         "0",
         "0",
         null,
         "Through a mobile money account",
         null,
         "0",
         "0",
         "1",
         "0",
         "0",
         "0",
         "0",
         "0",
         "1",
         "0",
         "0",
         "0",
         "0",
         "0",
         "0",
         "0",
         "0",
         "0",
         "0",
         "0",
         "0",
         "0",
         null,
         "No",
         "#NULL!",
         "#NULL!",
         null,
         "1",
         "6",
         "#NULL!",
         "#NULL!",
         "#NULL!",
         "#NULL!",
         "#NULL!",
         "#NULL!",
         "#NULL!",
         "#NULL!",
         "#NULL!",
         "#NULL!",
         "#NULL!",
         "#NULL!",
         "#NULL!",
         "#NULL!",
         "#NULL!",
         "#NULL!",
         "#NULL!",
         null,
         null,
         "#NULL!",
         "#NULL!",
         "#NULL!",
         null,
         "#NULL!",
         "#NULL!",
         "#NULL!",
         "#NULL!",
         "#NULL!",
         "#NULL!",
         "#NULL!",
         "#NULL!",
         "#NULL!",
         "#NULL!",
         "#NULL!",
         "#NULL!",
         "#NULL!",
         "#NULL!",
         "#NULL!",
         "#NULL!",
         "#NULL!",
         "#NULL!",
         "#NULL!",
         "#NULL!",
         "0",
         "0",
         "0",
         "0",
         "0",
         "0",
         "0",
         "0",
         "0",
         "#NULL!",
         "#NULL!",
         "#NULL!",
         null,
         "#NULL!",
         "#NULL!",
         "#NULL!",
         "#NULL!",
         "#NULL!",
         "#NULL!",
         "#NULL!",
         "#NULL!",
         "#NULL!",
         null,
         "#NULL!",
         null,
         "#NULL!",
         null,
         "#NULL!",
         "#NULL!",
         "#NULL!",
         "#NULL!",
         "#NULL!",
         "#NULL!",
         "#NULL!",
         "#NULL!",
         "#NULL!",
         "#NULL!",
         "#NULL!",
         "#NULL!",
         null,
         "#NULL!",
         null,
         "#NULL!",
         null,
         "#NULL!",
         "#NULL!",
         null,
         "#NULL!",
         null,
         "#NULL!",
         "#NULL!",
         "#NULL!",
         "#NULL!",
         "#NULL!",
         "#NULL!",
         "#NULL!",
         null,
         "#NULL!",
         "#NULL!",
         "#NULL!",
         "#NULL!",
         "#NULL!",
         "#NULL!",
         "#NULL!",
         "#NULL!",
         "#NULL!",
         "#NULL!",
         "#NULL!",
         "#NULL!",
         "#NULL!",
         "#NULL!",
         "#NULL!",
         "#NULL!",
         "#NULL!",
         "#NULL!",
         "#NULL!",
         "#NULL!",
         "#NULL!",
         "#NULL!",
         "#NULL!",
         "#NULL!",
         "#NULL!",
         "#NULL!",
         "#NULL!",
         "#NULL!",
         null,
         "#NULL!",
         "#NULL!",
         "#NULL!",
         "#NULL!",
         "#NULL!",
         "#NULL!",
         "#NULL!",
         "#NULL!",
         "#NULL!",
         "#NULL!",
         "#NULL!",
         "#NULL!",
         "#NULL!",
         "#NULL!",
         "#NULL!",
         "#NULL!",
         null,
         "#NULL!",
         "#NULL!",
         "#NULL!",
         "#NULL!",
         "#NULL!",
         "#NULL!",
         "#NULL!",
         "#NULL!",
         "#NULL!",
         "#NULL!",
         "#NULL!",
         "#NULL!",
         "0",
         "0",
         "0",
         "0",
         "#NULL!",
         "#NULL!",
         "#NULL!",
         null,
         "#NULL!",
         "#NULL!",
         "#NULL!",
         "#NULL!",
         "#NULL!",
         "#NULL!",
         "#NULL!",
         "#NULL!",
         "0",
         "0",
         "0",
         "0",
         "0",
         "0",
         "0",
         "#NULL!",
         "#NULL!",
         "#NULL!",
         null,
         "#NULL!",
         "#NULL!",
         "#NULL!",
         "#NULL!",
         "#NULL!",
         "#NULL!",
         "#NULL!",
         "#NULL!",
         "#NULL!",
         "#NULL!",
         "#NULL!",
         "#NULL!",
         "#NULL!",
         "#NULL!",
         "#NULL!",
         "#NULL!",
         "#NULL!",
         "#NULL!",
         "#NULL!",
         "#NULL!",
         "#NULL!",
         "#NULL!",
         "#NULL!",
         "#NULL!",
         "#NULL!",
         "#NULL!",
         "#NULL!",
         "#NULL!",
         "#NULL!",
         "#NULL!",
         "#NULL!",
         "#NULL!",
         "#NULL!",
         "#NULL!",
         "#NULL!",
         "#NULL!",
         "#NULL!",
         "#NULL!",
         "#NULL!",
         "#NULL!",
         "#NULL!",
         "#NULL!",
         "#NULL!",
         "#NULL!",
         "#NULL!",
         "#NULL!",
         "#NULL!",
         "#NULL!",
         "#NULL!",
         "#NULL!",
         "#NULL!",
         "#NULL!",
         "#NULL!",
         "#NULL!",
         "#NULL!",
         "#NULL!",
         "#NULL!",
         "#NULL!",
         "#NULL!",
         "#NULL!",
         "#NULL!",
         "#NULL!",
         "#NULL!",
         "#NULL!",
         "#NULL!",
         "#NULL!",
         "#NULL!",
         "#NULL!",
         "#NULL!",
         "#NULL!",
         "#NULL!",
         "#NULL!",
         "#NULL!",
         "#NULL!",
         "#NULL!",
         "#NULL!",
         "#NULL!",
         "#NULL!",
         "#NULL!",
         "#NULL!",
         "#NULL!",
         "#NULL!",
         "#NULL!",
         "#NULL!",
         "#NULL!",
         "#NULL!",
         "#NULL!",
         "#NULL!",
         "#NULL!",
         "#NULL!",
         "#NULL!",
         "#NULL!",
         "#NULL!",
         "#NULL!",
         "#NULL!",
         "#NULL!",
         "#NULL!",
         "#NULL!",
         "#NULL!",
         "#NULL!",
         "#NULL!",
         "#NULL!",
         "#NULL!",
         "#NULL!",
         "#NULL!",
         "#NULL!",
         "0",
         "0",
         "0",
         "0",
         "0",
         "0",
         "0",
         "0",
         "0",
         "0",
         "0",
         "0",
         "0",
         "0",
         "0",
         "0",
         "0",
         "0",
         "0",
         "0",
         "0",
         "0",
         "0",
         "0",
         "0",
         "0",
         "0",
         "0",
         "0",
         "0",
         "0",
         "0",
         "0",
         "0",
         "0",
         "0",
         "0",
         "0",
         "0",
         "0",
         "0",
         "0",
         "0",
         "0",
         "0",
         "0",
         "0",
         null,
         "#NULL!",
         "#NULL!",
         "#NULL!",
         "#NULL!",
         "#NULL!",
         "#NULL!",
         "#NULL!",
         "#NULL!",
         "#NULL!",
         "#NULL!",
         "#NULL!",
         "#NULL!",
         "#NULL!",
         "#NULL!",
         "#NULL!",
         "#NULL!",
         "#NULL!",
         "#NULL!",
         "#NULL!",
         "#NULL!",
         "0",
         "0",
         "0",
         "0",
         "0",
         "0",
         "0",
         "0",
         "#NULL!",
         "#NULL!",
         null,
         "#NULL!",
         null,
         "#NULL!",
         null,
         "#NULL!",
         null,
         "#NULL!",
         null,
         "#NULL!",
         null,
         "#NULL!",
         null,
         "#NULL!",
         "#NULL!",
         "#NULL!",
         null,
         "#NULL!",
         "#NULL!",
         "#NULL!",
         "#NULL!",
         "#NULL!",
         "#NULL!",
         "#NULL!",
         "#NULL!",
         "#NULL!",
         "#NULL!",
         "#NULL!",
         "#NULL!",
         "#NULL!",
         "#NULL!",
         "#NULL!",
         "#NULL!",
         null,
         "#NULL!",
         null,
         "#NULL!",
         "#NULL!",
         "#NULL!",
         "#NULL!",
         "#NULL!",
         "#NULL!",
         null,
         "#NULL!",
         "#NULL!",
         "#NULL!",
         "#NULL!",
         "#NULL!",
         "#NULL!",
         "0",
         "0",
         "0",
         "0",
         "0",
         "0",
         "0",
         "0",
         "0",
         "0",
         "0",
         "0",
         "0",
         "0",
         "0",
         "0",
         "0",
         "0",
         "0",
         "0",
         "0",
         "#NULL!",
         "#NULL!",
         null,
         "#NULL!",
         "#NULL!",
         "#NULL!",
         "#NULL!",
         "#NULL!",
         "#NULL!",
         "#NULL!",
         "#NULL!",
         "#NULL!",
         "#NULL!",
         "0",
         "0",
         "0",
         "0",
         "0",
         "0",
         "0",
         "0",
         "0",
         "#NULL!",
         "#NULL!",
         "#NULL!",
         null,
         "#NULL!",
         "#NULL!",
         "#NULL!",
         "#NULL!",
         "#NULL!",
         "#NULL!",
         "#NULL!",
         "#NULL!",
         "#NULL!",
         "0",
         "0",
         "0",
         "0",
         "0",
         "0",
         "0",
         "0",
         "0",
         "#NULL!",
         "#NULL!",
         "#NULL!",
         null,
         "#NULL!",
         null,
         "#NULL!",
         "#NULL!",
         "No",
         "No",
         "No",
         "No",
         "No",
         "#NULL!",
         null,
         "#NULL!",
         "#NULL!",
         null,
         "#NULL!",
         null,
         "#NULL!",
         "#NULL!",
         "#NULL!",
         null,
         "#NULL!",
         "#NULL!",
         "#NULL!",
         null,
         "#NULL!",
         "#NULL!",
         "#NULL!",
         null,
         "#NULL!",
         "#NULL!",
         "Yes",
         "Once a month",
         null,
         "0",
         "1",
         "0",
         "1",
         "1",
         "1",
         "0",
         "0",
         "0",
         "0",
         "0",
         "0",
         null,
         "Cut back on expenses/ adjust consumption patterns",
         "#NULL!",
         null,
         "#NULL!",
         null,
         null,
         "Cheap / affordable / lowest fees",
         null,
         "1",
         "5",
         "0",
         "0",
         "0",
         "0",
         "0",
         "0",
         "0",
         "0",
         "0",
         "0",
         "0",
         "0",
         "#NULL!",
         "#NULL!",
         "#NULL!",
         "#NULL!",
         "#NULL!",
         "#NULL!",
         "#NULL!",
         "#NULL!",
         "#NULL!",
         "#NULL!",
         "#NULL!",
         "#NULL!",
         "#NULL!",
         "#NULL!",
         "#NULL!",
         "#NULL!",
         "#NULL!",
         null,
         "#NULL!",
         null,
         "#NULL!",
         null,
         "#NULL!",
         null,
         "#NULL!",
         null,
         "#NULL!",
         null,
         "#NULL!",
         null,
         "1",
         "1",
         "No",
         "#NULL!",
         null,
         "#NULL!",
         "#NULL!",
         "#NULL!",
         "#NULL!",
         "#NULL!",
         "#NULL!",
         "#NULL!",
         "#NULL!",
         "#NULL!",
         "0",
         "0",
         "0",
         "#NULL!",
         "#NULL!",
         null,
         "#NULL!",
         null,
         "#NULL!",
         null,
         "#NULL!",
         null,
         "#NULL!",
         null,
         "#NULL!",
         "#NULL!",
         null,
         "1",
         "1",
         "I own a mobile that only I use/Nina simu ambayo ni mimi tu ninaitumia",
         "1",
         "1",
         "1",
         "#NULL!",
         "Daily/\"Kila siku\"",
         null,
         "On my own mobile phone/ Cellular tablet/Kwenye simu ya rununu/simu ya mkononi\"",
         null,
         "1",
         "1",
         "1",
         "1",
         "Strong",
         "I can manage with ease",
         "I can manage with ease",
         "I can manage with ease",
         "I can manage with ease",
         "I can manage with ease",
         "Rarely",
         "1",
         "12",
         "Mobile Money Agent (for depositing or withdrawing cash)/Wakala/ajenti wa pesa za",
         null,
         "Close enough to walk to and fro - No need to spend/\"Nikaribu pa kutosha kwenda n",
         null,
         "Under 1 Kilometer",
         null,
         "Under 10 minutes",
         "1",
         "No/\"la\"",
         "#NULL!",
         null,
         "Christianity/Ukristo",
         "Permanent building/Jengo la kudumu",
         null,
         "1",
         "1",
         "Rented /Leased/Kukodisha",
         "Individual/Mtu binafsi",
         "Iron sheets/ Mabati",
         "Ceramic tiles",
         "Stone with fuchsia/cement/ simiti iliyo na fuchsia/simiti",
         "LPG (gas)/Gesi",
         "#NULL!",
         null,
         "#NULL!",
         "#NULL!",
         "#NULL!",
         "#NULL!",
         "#NULL!",
         "#NULL!",
         null,
         "No",
         "Piped to yard/plot",
         "Septic tank Tanki ya septik",
         "Yes",
         "Collected by County Government/Inakusanywa na Serikali ya Kaunti",
         "0",
         "0",
         "0",
         "0",
         "0",
         "1",
         "0",
         "0",
         "0",
         "0",
         "0",
         "0",
         "0",
         "0",
         "0",
         "0",
         "0",
         "0",
         "0",
         "#NULL!",
         "#NULL!",
         "#NULL!",
         "#NULL!",
         "#NULL!",
         "Yes",
         "Yes",
         "Yes",
         "Yes",
         "No",
         "No",
         "#NULL!",
         "No",
         "#NULL!",
         "#NULL!",
         "#NULL!",
         "#NULL!",
         "#NULL!",
         "#NULL!",
         "#NULL!",
         "#NULL!",
         "#NULL!",
         "#NULL!",
         "#NULL!",
         "#NULL!",
         "#NULL!",
         "#NULL!",
         "#NULL!",
         null,
         null,
         null,
         null,
         "#NULL!",
         "#NULL!",
         "#NULL!",
         "#NULL!",
         null,
         null,
         "#NULL!",
         "#NULL!",
         "#NULL!",
         "#NULL!",
         "#NULL!",
         "#NULL!",
         "#NULL!",
         "#NULL!",
         "#NULL!",
         "#NULL!",
         "#NULL!",
         "#NULL!",
         "#NULL!",
         "#NULL!",
         "#NULL!",
         "#NULL!",
         "#NULL!",
         "#NULL!",
         "1",
         "0",
         "0",
         "6000",
         "1000",
         "4000",
         "700",
         "2800",
         "#NULL!",
         "#NULL!",
         "3000",
         "#NULL!",
         "#NULL!",
         "#NULL!",
         "5000",
         "833",
         "1000",
         "3000",
         "500",
         "13700",
         "#NULL!",
         "1",
         "2024-08-1109:52:48",
         "1",
         "332",
         "Dependent",
         "Highest",
         "Secondary",
         "Single/Never Married",
         "Has ID (National Identity Card (ID),Passport,Alien ID)",
         "476",
         "Non-usage",
         "Non-usage",
         "Non-usage",
         "Non-usage",
         "Non-usage",
         "Non-usage",
         "Non-usage",
         "Usage",
         "Non-usage",
         "Non-usage",
         "Non-usage",
         "Non-usage",
         "Non-usage",
         "0",
         "Non-usage",
         "Non-usage",
         "Non-usage",
         "Non-usage",
         "Usage",
         "Non-usage",
         "Usage",
         "Usage",
         "Non-usage",
         "Non-usage",
         "Usage",
         "Usage",
         "Non-usage",
         "Usage",
         "121193116",
         "1",
         "1",
         "Non-usage",
         "Non-usage",
         "Non-usage",
         "Non-usage",
         "Usage",
         "No",
         "Yes",
         "Usage",
         "Usage",
         "Non-usage",
         "Non-usage",
         "Usage",
         "Usage",
         "Usage",
         "Usage",
         "Usage",
         "Usage",
         "Yes",
         "Yes",
         "Usage",
         "Usage",
         "Usage",
         "Usage",
         "1",
         "No",
         "N0",
         "No",
         "N0",
         "0",
         "0",
         "0",
         "No",
         "No",
         "No",
         "No",
         "No",
         "No",
         "No",
         "Usage",
         "Usage",
         "Usage",
         "Usage",
         "Yes",
         "Yes",
         "No",
         "Formal Prudential",
         "1",
         "1",
         "No",
         "Yes",
         "Yes",
         "Yes",
         "No",
         "No",
         "No",
         "Yes",
         "No",
         "Non-usage",
         "No",
         "formal only",
         "Non-usage",
         "Non-usage",
         "Non-usage",
         "Non-usage",
         "Yes",
         "Yes",
         "Usage",
         "Usage",
         "Usage",
         "0",
         "0",
         "Relevance/Suitability",
         "0",
         "Affordability",
         "Non-usage",
         "Non-usage",
         "Non-usage",
         "Usage",
         "Non-usage",
         "Non-usage",
         "Non-usage",
         "Non-usage",
         "Yes",
         "Yes",
         "Usage",
         "Non-usage",
         "Usage",
         "Non-usage",
         "Usage",
         "Usage",
         "Usage",
         "formal prudential and formal other",
         "Currently use",
         "Never used",
         "Never used",
         "Never used",
         "Never used",
         "Currently use",
         "Currently use",
         "Currently use",
         "Never used",
         "Never used",
         "Never used",
         "Never used",
         "Used to use",
         "Never used",
         "No",
         "No",
         "Least Vulnerable",
         "Yes",
         "Yes",
         "No",
         "Yes",
         "Yes",
         "Yes",
         "Yes",
         "Yes",
         "Yes",
         "Yes",
         "Yes",
         "Yes",
         "Yes",
         "No",
         "No",
         "No",
         "No",
         "0",
         "0",
         "0",
         "1",
         "High",
         "Not worried at all",
         "Not worried at all",
         "Not at all confident",
         "Improved",
         "Correct",
         "Correct",
         "Correct",
         "All correct",
         "Highly literate",
         "Correct",
         "Personal",
         "#NULL!",
         "#NULL!",
         "no",
         "no",
         "no",
         "no",
         "no",
         "no",
         "no",
         "no",
         "no",
         "no",
         "no",
         "yes",
         "no",
         "no",
         "no",
         "no",
         "no",
         "no",
         "no",
         "no",
         "no",
         "yes",
         "no",
         "no",
         "no",
         "no",
         "no",
         "no",
         "no",
         "no",
         "no",
         "no",
         "no",
         "no",
         "no",
         "no",
         "no",
         "no",
         "no",
         "no",
         "no",
         "no",
         "no",
         "no",
         "no",
         "no",
         "no",
         "no",
         "no",
         "0",
         "0",
         "1",
         "0",
         "0",
         "0",
         "0",
         "0",
         "1",
         "1",
         "1",
         "0",
         "0",
         "0",
         "0",
         "0",
         "0",
         "0",
         "0",
         "0",
         "0",
         "0",
         "0",
         "0",
         "1",
         "0",
         "0",
         "0",
         "0",
         "0",
         "0",
         "0",
         "0",
         "0",
         "0",
         "0",
         "0",
         "0",
         "0",
         "0",
         "0",
         "0",
         "0",
         "0",
         "0",
         "5",
         "More than one",
         "Non Usage",
         "Non Usage",
         "Non Usage",
         "Non Usage",
         "#NULL!",
         "Non Usage",
         "#NULL!",
         "Affordability",
         "Affordability",
         "#NULL!",
         "#NULL!",
         "Affordability",
         "Non Usage",
         "#NULL!",
         "#NULL!",
         "#NULL!",
         "#NULL!",
         "#NULL!",
         "#NULL!",
         "#NULL!",
         "#NULL!",
         "#NULL!",
         "#NULL!",
         "#NULL!",
         "#NULL!",
         "#NULL!",
         "#NULL!",
         "#NULL!",
         "#NULL!",
         "No",
         "No",
         "No",
         "No",
         "No",
         "#NULL!",
         "#NULL!",
         "#NULL!",
         "#NULL!",
         "#NULL!",
         "#NULL!",
         "#NULL!",
         "#NULL!",
         "#NULL!",
         "#NULL!",
         "#NULL!",
         "#NULL!",
         "#NULL!",
         "#NULL!",
         "#NULL!",
         "#NULL!",
         "#NULL!",
         "#NULL!",
         "#NULL!",
         "#NULL!",
         "#NULL!",
         "#NULL!",
         "#NULL!",
         "#NULL!",
         "#NULL!",
         "#NULL!",
         "#NULL!",
         "#NULL!",
         "#NULL!",
         "No",
         "Yes",
         "Yes",
         "No",
         "No",
         "Yes",
         "No",
         "No",
         "No",
         "No",
         "No",
         "#NULL!",
         "#NULL!",
         "#NULL!",
         "Satisfied",
         "#NULL!",
         "#NULL!",
         "#NULL!",
         "#NULL!",
         "#NULL!",
         "Satisfied",
         "Satisfied",
         "#NULL!",
         "#NULL!",
         "#NULL!",
         "#NULL!",
         "#NULL!",
         "#NULL!",
         "#NULL!",
         "#NULL!",
         "No",
         "Yes",
         "Never used",
         "Never used",
         "Without Disability",
         "-0.79582",
         "37.131085"
        ]
       ],
       "shape": {
        "columns": 3816,
        "rows": 5
       }
      },
      "text/html": [
       "<div>\n",
       "<style scoped>\n",
       "    .dataframe tbody tr th:only-of-type {\n",
       "        vertical-align: middle;\n",
       "    }\n",
       "\n",
       "    .dataframe tbody tr th {\n",
       "        vertical-align: top;\n",
       "    }\n",
       "\n",
       "    .dataframe thead th {\n",
       "        text-align: right;\n",
       "    }\n",
       "</style>\n",
       "<table border=\"1\" class=\"dataframe\">\n",
       "  <thead>\n",
       "    <tr style=\"text-align: right;\">\n",
       "      <th></th>\n",
       "      <th>interview__key</th>\n",
       "      <th>interview__id</th>\n",
       "      <th>county</th>\n",
       "      <th>A07</th>\n",
       "      <th>A08</th>\n",
       "      <th>A10</th>\n",
       "      <th>Interview_Status</th>\n",
       "      <th>A9i</th>\n",
       "      <th>Z1</th>\n",
       "      <th>A13</th>\n",
       "      <th>...</th>\n",
       "      <th>sacco_redress</th>\n",
       "      <th>mobilemoney_redress</th>\n",
       "      <th>mobilebank_redress</th>\n",
       "      <th>not_registered_mmoney_24</th>\n",
       "      <th>using_someone_acc</th>\n",
       "      <th>insurance_including_NHIF_use</th>\n",
       "      <th>All_Insurance_excluding_NHIF_use</th>\n",
       "      <th>PWD</th>\n",
       "      <th>Latitude</th>\n",
       "      <th>Longitude</th>\n",
       "    </tr>\n",
       "  </thead>\n",
       "  <tbody>\n",
       "    <tr>\n",
       "      <th>0</th>\n",
       "      <td>21-61-43-44</td>\n",
       "      <td>00005e63e7424aa19e63adb071955233</td>\n",
       "      <td>Garissa</td>\n",
       "      <td>225</td>\n",
       "      <td>Urban</td>\n",
       "      <td>1</td>\n",
       "      <td>Household found with competent respondent</td>\n",
       "      <td>Access granted</td>\n",
       "      <td>completed</td>\n",
       "      <td>Male</td>\n",
       "      <td>...</td>\n",
       "      <td>#NULL!</td>\n",
       "      <td>#NULL!</td>\n",
       "      <td>#NULL!</td>\n",
       "      <td>No</td>\n",
       "      <td>#NULL!</td>\n",
       "      <td>Never used</td>\n",
       "      <td>Never used</td>\n",
       "      <td>Without Disability</td>\n",
       "      <td>-0.435423</td>\n",
       "      <td>39.636586</td>\n",
       "    </tr>\n",
       "    <tr>\n",
       "      <th>1</th>\n",
       "      <td>87-78-54-60</td>\n",
       "      <td>000718d26f5942998522033a66594b4c</td>\n",
       "      <td>Garissa</td>\n",
       "      <td>223</td>\n",
       "      <td>Urban</td>\n",
       "      <td>3</td>\n",
       "      <td>Household found with competent respondent</td>\n",
       "      <td>Access granted</td>\n",
       "      <td>completed</td>\n",
       "      <td>Male</td>\n",
       "      <td>...</td>\n",
       "      <td>#NULL!</td>\n",
       "      <td>#NULL!</td>\n",
       "      <td>#NULL!</td>\n",
       "      <td>No</td>\n",
       "      <td>#NULL!</td>\n",
       "      <td>Never used</td>\n",
       "      <td>Never used</td>\n",
       "      <td>Without Disability</td>\n",
       "      <td>0.058794</td>\n",
       "      <td>40.305006</td>\n",
       "    </tr>\n",
       "    <tr>\n",
       "      <th>2</th>\n",
       "      <td>32-71-19-84</td>\n",
       "      <td>0008721681d2468aa1ef456bba4475dc</td>\n",
       "      <td>Busia</td>\n",
       "      <td>1514</td>\n",
       "      <td>Urban</td>\n",
       "      <td>3</td>\n",
       "      <td>Household found with competent respondent</td>\n",
       "      <td>Access granted</td>\n",
       "      <td>completed</td>\n",
       "      <td>Female</td>\n",
       "      <td>...</td>\n",
       "      <td>#NULL!</td>\n",
       "      <td>#NULL!</td>\n",
       "      <td>#NULL!</td>\n",
       "      <td>No</td>\n",
       "      <td>#NULL!</td>\n",
       "      <td>Never used</td>\n",
       "      <td>Never used</td>\n",
       "      <td>Without Disability</td>\n",
       "      <td>0.636836</td>\n",
       "      <td>34.277390</td>\n",
       "    </tr>\n",
       "    <tr>\n",
       "      <th>3</th>\n",
       "      <td>48-18-78-99</td>\n",
       "      <td>00099e961d49470585c1a7f49fa3b7fb</td>\n",
       "      <td>Kiambu</td>\n",
       "      <td>796</td>\n",
       "      <td>Urban</td>\n",
       "      <td>3</td>\n",
       "      <td>Household found with competent respondent</td>\n",
       "      <td>Access granted</td>\n",
       "      <td>completed</td>\n",
       "      <td>Male</td>\n",
       "      <td>...</td>\n",
       "      <td>#NULL!</td>\n",
       "      <td>#NULL!</td>\n",
       "      <td>#NULL!</td>\n",
       "      <td>No</td>\n",
       "      <td>#NULL!</td>\n",
       "      <td>Never used</td>\n",
       "      <td>Never used</td>\n",
       "      <td>Without Disability</td>\n",
       "      <td>-1.251917</td>\n",
       "      <td>36.719076</td>\n",
       "    </tr>\n",
       "    <tr>\n",
       "      <th>4</th>\n",
       "      <td>50-82-98-89</td>\n",
       "      <td>000bb72e959b4dd48443da902c01e920</td>\n",
       "      <td>Murang'a</td>\n",
       "      <td>763</td>\n",
       "      <td>Urban</td>\n",
       "      <td>16</td>\n",
       "      <td>Household found with competent respondent</td>\n",
       "      <td>Access granted</td>\n",
       "      <td>completed</td>\n",
       "      <td>Female</td>\n",
       "      <td>...</td>\n",
       "      <td>#NULL!</td>\n",
       "      <td>#NULL!</td>\n",
       "      <td>#NULL!</td>\n",
       "      <td>No</td>\n",
       "      <td>Yes</td>\n",
       "      <td>Never used</td>\n",
       "      <td>Never used</td>\n",
       "      <td>Without Disability</td>\n",
       "      <td>-0.795820</td>\n",
       "      <td>37.131085</td>\n",
       "    </tr>\n",
       "  </tbody>\n",
       "</table>\n",
       "<p>5 rows × 3816 columns</p>\n",
       "</div>"
      ],
      "text/plain": [
       "  interview__key                     interview__id    county   A07    A08  \\\n",
       "0    21-61-43-44  00005e63e7424aa19e63adb071955233   Garissa   225  Urban   \n",
       "1    87-78-54-60  000718d26f5942998522033a66594b4c   Garissa   223  Urban   \n",
       "2    32-71-19-84  0008721681d2468aa1ef456bba4475dc     Busia  1514  Urban   \n",
       "3    48-18-78-99  00099e961d49470585c1a7f49fa3b7fb    Kiambu   796  Urban   \n",
       "4    50-82-98-89  000bb72e959b4dd48443da902c01e920  Murang'a   763  Urban   \n",
       "\n",
       "   A10                           Interview_Status             A9i         Z1  \\\n",
       "0    1  Household found with competent respondent  Access granted  completed   \n",
       "1    3  Household found with competent respondent  Access granted  completed   \n",
       "2    3  Household found with competent respondent  Access granted  completed   \n",
       "3    3  Household found with competent respondent  Access granted  completed   \n",
       "4   16  Household found with competent respondent  Access granted  completed   \n",
       "\n",
       "      A13  ...  sacco_redress  mobilemoney_redress  mobilebank_redress  \\\n",
       "0    Male  ...         #NULL!               #NULL!              #NULL!   \n",
       "1    Male  ...         #NULL!               #NULL!              #NULL!   \n",
       "2  Female  ...         #NULL!               #NULL!              #NULL!   \n",
       "3    Male  ...         #NULL!               #NULL!              #NULL!   \n",
       "4  Female  ...         #NULL!               #NULL!              #NULL!   \n",
       "\n",
       "   not_registered_mmoney_24 using_someone_acc insurance_including_NHIF_use  \\\n",
       "0                        No            #NULL!                   Never used   \n",
       "1                        No            #NULL!                   Never used   \n",
       "2                        No            #NULL!                   Never used   \n",
       "3                        No            #NULL!                   Never used   \n",
       "4                        No               Yes                   Never used   \n",
       "\n",
       "   All_Insurance_excluding_NHIF_use                 PWD  Latitude  Longitude  \n",
       "0                        Never used  Without Disability -0.435423  39.636586  \n",
       "1                        Never used  Without Disability  0.058794  40.305006  \n",
       "2                        Never used  Without Disability  0.636836  34.277390  \n",
       "3                        Never used  Without Disability -1.251917  36.719076  \n",
       "4                        Never used  Without Disability -0.795820  37.131085  \n",
       "\n",
       "[5 rows x 3816 columns]"
      ]
     },
     "execution_count": 18,
     "metadata": {},
     "output_type": "execute_result"
    }
   ],
   "source": [
    "df.info()\n",
    "df.head()"
   ]
  },
  {
   "cell_type": "code",
   "execution_count": 19,
   "id": "84d002b6",
   "metadata": {},
   "outputs": [
    {
     "data": {
      "application/vnd.microsoft.datawrangler.viewer.v0+json": {
       "columns": [
        {
         "name": "index",
         "rawType": "int64",
         "type": "integer"
        },
        {
         "name": "county",
         "rawType": "object",
         "type": "string"
        },
        {
         "name": "A08",
         "rawType": "object",
         "type": "string"
        },
        {
         "name": "A13",
         "rawType": "object",
         "type": "string"
        },
        {
         "name": "A15a",
         "rawType": "object",
         "type": "string"
        },
        {
         "name": "A14iv_e",
         "rawType": "object",
         "type": "unknown"
        },
        {
         "name": "B3D__2_1",
         "rawType": "object",
         "type": "string"
        },
        {
         "name": "B3D__3_1",
         "rawType": "object",
         "type": "string"
        }
       ],
       "ref": "34481abf-55cb-41f2-967e-8e72b8678b34",
       "rows": [
        [
         "0",
         "Garissa",
         "Urban",
         "Male",
         "English",
         "\"Post Secondary education",
         "#NULL!",
         "#NULL!"
        ],
        [
         "1",
         "Garissa",
         "Urban",
         "Male",
         "English",
         null,
         "#NULL!",
         "#NULL!"
        ],
        [
         "2",
         "Busia",
         "Urban",
         "Female",
         "Swahili",
         "Upper primary",
         "#NULL!",
         "#NULL!"
        ],
        [
         "3",
         "Kiambu",
         "Urban",
         "Male",
         "English",
         "\"Secondary/High school",
         "#NULL!",
         "#NULL!"
        ],
        [
         "4",
         "Murang'a",
         "Urban",
         "Female",
         "Swahili",
         "\"Post Secondary education",
         "#NULL!",
         "#NULL!"
        ]
       ],
       "shape": {
        "columns": 7,
        "rows": 5
       }
      },
      "text/html": [
       "<div>\n",
       "<style scoped>\n",
       "    .dataframe tbody tr th:only-of-type {\n",
       "        vertical-align: middle;\n",
       "    }\n",
       "\n",
       "    .dataframe tbody tr th {\n",
       "        vertical-align: top;\n",
       "    }\n",
       "\n",
       "    .dataframe thead th {\n",
       "        text-align: right;\n",
       "    }\n",
       "</style>\n",
       "<table border=\"1\" class=\"dataframe\">\n",
       "  <thead>\n",
       "    <tr style=\"text-align: right;\">\n",
       "      <th></th>\n",
       "      <th>county</th>\n",
       "      <th>A08</th>\n",
       "      <th>A13</th>\n",
       "      <th>A15a</th>\n",
       "      <th>A14iv_e</th>\n",
       "      <th>B3D__2_1</th>\n",
       "      <th>B3D__3_1</th>\n",
       "    </tr>\n",
       "  </thead>\n",
       "  <tbody>\n",
       "    <tr>\n",
       "      <th>0</th>\n",
       "      <td>Garissa</td>\n",
       "      <td>Urban</td>\n",
       "      <td>Male</td>\n",
       "      <td>English</td>\n",
       "      <td>\"Post Secondary education</td>\n",
       "      <td>#NULL!</td>\n",
       "      <td>#NULL!</td>\n",
       "    </tr>\n",
       "    <tr>\n",
       "      <th>1</th>\n",
       "      <td>Garissa</td>\n",
       "      <td>Urban</td>\n",
       "      <td>Male</td>\n",
       "      <td>English</td>\n",
       "      <td>NaN</td>\n",
       "      <td>#NULL!</td>\n",
       "      <td>#NULL!</td>\n",
       "    </tr>\n",
       "    <tr>\n",
       "      <th>2</th>\n",
       "      <td>Busia</td>\n",
       "      <td>Urban</td>\n",
       "      <td>Female</td>\n",
       "      <td>Swahili</td>\n",
       "      <td>Upper primary</td>\n",
       "      <td>#NULL!</td>\n",
       "      <td>#NULL!</td>\n",
       "    </tr>\n",
       "    <tr>\n",
       "      <th>3</th>\n",
       "      <td>Kiambu</td>\n",
       "      <td>Urban</td>\n",
       "      <td>Male</td>\n",
       "      <td>English</td>\n",
       "      <td>\"Secondary/High school</td>\n",
       "      <td>#NULL!</td>\n",
       "      <td>#NULL!</td>\n",
       "    </tr>\n",
       "    <tr>\n",
       "      <th>4</th>\n",
       "      <td>Murang'a</td>\n",
       "      <td>Urban</td>\n",
       "      <td>Female</td>\n",
       "      <td>Swahili</td>\n",
       "      <td>\"Post Secondary education</td>\n",
       "      <td>#NULL!</td>\n",
       "      <td>#NULL!</td>\n",
       "    </tr>\n",
       "  </tbody>\n",
       "</table>\n",
       "</div>"
      ],
      "text/plain": [
       "     county    A08     A13     A15a                    A14iv_e B3D__2_1  \\\n",
       "0   Garissa  Urban    Male  English  \"Post Secondary education   #NULL!   \n",
       "1   Garissa  Urban    Male  English                        NaN   #NULL!   \n",
       "2     Busia  Urban  Female  Swahili              Upper primary   #NULL!   \n",
       "3    Kiambu  Urban    Male  English     \"Secondary/High school   #NULL!   \n",
       "4  Murang'a  Urban  Female  Swahili  \"Post Secondary education   #NULL!   \n",
       "\n",
       "  B3D__3_1  \n",
       "0   #NULL!  \n",
       "1   #NULL!  \n",
       "2   #NULL!  \n",
       "3   #NULL!  \n",
       "4   #NULL!  "
      ]
     },
     "execution_count": 19,
     "metadata": {},
     "output_type": "execute_result"
    }
   ],
   "source": [
    "df = df[['county', 'A08', 'A13', 'A15a', 'A14iv_e', 'B3D__2_1', 'B3D__3_1']]\n",
    "df.head()"
   ]
  },
  {
   "cell_type": "code",
   "execution_count": 32,
   "id": "bcaab73f",
   "metadata": {},
   "outputs": [
    {
     "data": {
      "application/vnd.microsoft.datawrangler.viewer.v0+json": {
       "columns": [
        {
         "name": "index",
         "rawType": "int64",
         "type": "integer"
        },
        {
         "name": "county",
         "rawType": "object",
         "type": "string"
        },
        {
         "name": "Rural/Urban",
         "rawType": "object",
         "type": "string"
        },
        {
         "name": "Gender",
         "rawType": "object",
         "type": "string"
        },
        {
         "name": "Language",
         "rawType": "object",
         "type": "string"
        },
        {
         "name": "Education",
         "rawType": "object",
         "type": "string"
        },
        {
         "name": "Mobile Money: Personal Account",
         "rawType": "object",
         "type": "string"
        },
        {
         "name": "Bank Account: Business Account",
         "rawType": "object",
         "type": "string"
        }
       ],
       "ref": "b5adfed2-83eb-4430-8fa7-88184e0521c4",
       "rows": [
        [
         "0",
         "Garissa",
         "Urban",
         "Male",
         "English",
         "\"Post Secondary education",
         "#NULL!",
         "#NULL!"
        ],
        [
         "1",
         "Garissa",
         "Urban",
         "Male",
         "English",
         "Upper primary",
         "#NULL!",
         "#NULL!"
        ],
        [
         "2",
         "Busia",
         "Urban",
         "Female",
         "Swahili",
         "Upper primary",
         "#NULL!",
         "#NULL!"
        ],
        [
         "3",
         "Kiambu",
         "Urban",
         "Male",
         "English",
         "\"Secondary/High school",
         "#NULL!",
         "#NULL!"
        ],
        [
         "4",
         "Murang'a",
         "Urban",
         "Female",
         "Swahili",
         "\"Post Secondary education",
         "#NULL!",
         "#NULL!"
        ]
       ],
       "shape": {
        "columns": 7,
        "rows": 5
       }
      },
      "text/html": [
       "<div>\n",
       "<style scoped>\n",
       "    .dataframe tbody tr th:only-of-type {\n",
       "        vertical-align: middle;\n",
       "    }\n",
       "\n",
       "    .dataframe tbody tr th {\n",
       "        vertical-align: top;\n",
       "    }\n",
       "\n",
       "    .dataframe thead th {\n",
       "        text-align: right;\n",
       "    }\n",
       "</style>\n",
       "<table border=\"1\" class=\"dataframe\">\n",
       "  <thead>\n",
       "    <tr style=\"text-align: right;\">\n",
       "      <th></th>\n",
       "      <th>county</th>\n",
       "      <th>Rural/Urban</th>\n",
       "      <th>Gender</th>\n",
       "      <th>Language</th>\n",
       "      <th>Education</th>\n",
       "      <th>Mobile Money: Personal Account</th>\n",
       "      <th>Bank Account: Business Account</th>\n",
       "    </tr>\n",
       "  </thead>\n",
       "  <tbody>\n",
       "    <tr>\n",
       "      <th>0</th>\n",
       "      <td>Garissa</td>\n",
       "      <td>Urban</td>\n",
       "      <td>Male</td>\n",
       "      <td>English</td>\n",
       "      <td>\"Post Secondary education</td>\n",
       "      <td>#NULL!</td>\n",
       "      <td>#NULL!</td>\n",
       "    </tr>\n",
       "    <tr>\n",
       "      <th>1</th>\n",
       "      <td>Garissa</td>\n",
       "      <td>Urban</td>\n",
       "      <td>Male</td>\n",
       "      <td>English</td>\n",
       "      <td>Upper primary</td>\n",
       "      <td>#NULL!</td>\n",
       "      <td>#NULL!</td>\n",
       "    </tr>\n",
       "    <tr>\n",
       "      <th>2</th>\n",
       "      <td>Busia</td>\n",
       "      <td>Urban</td>\n",
       "      <td>Female</td>\n",
       "      <td>Swahili</td>\n",
       "      <td>Upper primary</td>\n",
       "      <td>#NULL!</td>\n",
       "      <td>#NULL!</td>\n",
       "    </tr>\n",
       "    <tr>\n",
       "      <th>3</th>\n",
       "      <td>Kiambu</td>\n",
       "      <td>Urban</td>\n",
       "      <td>Male</td>\n",
       "      <td>English</td>\n",
       "      <td>\"Secondary/High school</td>\n",
       "      <td>#NULL!</td>\n",
       "      <td>#NULL!</td>\n",
       "    </tr>\n",
       "    <tr>\n",
       "      <th>4</th>\n",
       "      <td>Murang'a</td>\n",
       "      <td>Urban</td>\n",
       "      <td>Female</td>\n",
       "      <td>Swahili</td>\n",
       "      <td>\"Post Secondary education</td>\n",
       "      <td>#NULL!</td>\n",
       "      <td>#NULL!</td>\n",
       "    </tr>\n",
       "  </tbody>\n",
       "</table>\n",
       "</div>"
      ],
      "text/plain": [
       "     county Rural/Urban  Gender Language                  Education  \\\n",
       "0   Garissa       Urban    Male  English  \"Post Secondary education   \n",
       "1   Garissa       Urban    Male  English              Upper primary   \n",
       "2     Busia       Urban  Female  Swahili              Upper primary   \n",
       "3    Kiambu       Urban    Male  English     \"Secondary/High school   \n",
       "4  Murang'a       Urban  Female  Swahili  \"Post Secondary education   \n",
       "\n",
       "  Mobile Money: Personal Account Bank Account: Business Account  \n",
       "0                         #NULL!                         #NULL!  \n",
       "1                         #NULL!                         #NULL!  \n",
       "2                         #NULL!                         #NULL!  \n",
       "3                         #NULL!                         #NULL!  \n",
       "4                         #NULL!                         #NULL!  "
      ]
     },
     "execution_count": 32,
     "metadata": {},
     "output_type": "execute_result"
    }
   ],
   "source": [
    "df = df.rename(columns={\n",
    "    'A08': 'Rural/Urban',\n",
    "    'A13': 'Gender',\n",
    "    'A15a': 'Language',\n",
    "    'A14iv_e': 'Education',\n",
    "    'B3D__2_1': 'Mobile Money: Personal Account',\n",
    "    'B3D__3_1': 'Bank Account: Business Account'\n",
    "})\n",
    "df.head()"
   ]
  },
  {
   "cell_type": "code",
   "execution_count": 23,
   "id": "bc7ec0ed",
   "metadata": {},
   "outputs": [
    {
     "name": "stdout",
     "output_type": "stream",
     "text": [
      "county                               0\n",
      "Rural/Urban                          0\n",
      "Gender                               0\n",
      "Language                             0\n",
      "Education                         3013\n",
      "Mobile Money: Personal Account       0\n",
      "Bank Account: Business Account       0\n",
      "dtype: int64\n"
     ]
    }
   ],
   "source": [
    "missing_values = df.isnull().sum()\n",
    "print(missing_values)"
   ]
  },
  {
   "cell_type": "markdown",
   "id": "6c3ab439",
   "metadata": {},
   "source": [
    "#### Education column has 3013 missing values out of 20871. Fill these missing values with the mode. "
   ]
  },
  {
   "cell_type": "code",
   "execution_count": 31,
   "id": "3885c28f",
   "metadata": {},
   "outputs": [
    {
     "data": {
      "text/plain": [
       "0"
      ]
     },
     "execution_count": 31,
     "metadata": {},
     "output_type": "execute_result"
    }
   ],
   "source": [
    "education_mode = df['Education'].mode()[0]\n",
    "df['Education'] = df['Education'].fillna(education_mode)\n",
    "df['Education'].isnull().sum()"
   ]
  },
  {
   "cell_type": "code",
   "execution_count": 33,
   "id": "158511f5",
   "metadata": {},
   "outputs": [
    {
     "name": "stdout",
     "output_type": "stream",
     "text": [
      "county                            0\n",
      "Rural/Urban                       0\n",
      "Gender                            0\n",
      "Language                          0\n",
      "Education                         0\n",
      "Mobile Money: Personal Account    0\n",
      "Bank Account: Business Account    0\n",
      "dtype: int64\n"
     ]
    }
   ],
   "source": [
    "missing_values = df.isnull().sum()\n",
    "print(missing_values)"
   ]
  },
  {
   "cell_type": "code",
   "execution_count": 42,
   "id": "8b256abe",
   "metadata": {},
   "outputs": [
    {
     "name": "stdout",
     "output_type": "stream",
     "text": [
      "county                            object\n",
      "Rural/Urban                       object\n",
      "Gender                            object\n",
      "Language                          object\n",
      "Education                         object\n",
      "Mobile Money: Personal Account    object\n",
      "Bank Account: Business Account    object\n",
      "dtype: object\n"
     ]
    }
   ],
   "source": [
    "print(df.dtypes)"
   ]
  }
 ],
 "metadata": {
  "kernelspec": {
   "display_name": "base",
   "language": "python",
   "name": "python3"
  },
  "language_info": {
   "codemirror_mode": {
    "name": "ipython",
    "version": 3
   },
   "file_extension": ".py",
   "mimetype": "text/x-python",
   "name": "python",
   "nbconvert_exporter": "python",
   "pygments_lexer": "ipython3",
   "version": "3.12.3"
  }
 },
 "nbformat": 4,
 "nbformat_minor": 5
}
